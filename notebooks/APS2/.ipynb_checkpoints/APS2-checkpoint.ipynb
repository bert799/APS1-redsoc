{
 "cells": [
  {
   "cell_type": "markdown",
   "id": "ecc54b70",
   "metadata": {},
   "source": [
    "<h1>Redes Sociais: APS 2</h1>\n",
    "\n",
    "<h3>Professor: Marcelo Hashimoto</h3>\n",
    "\n",
    "<h3>Alunos: Bernardo Capoferri, Nicolas Queiroga e Raphael Lahiry<h3>"
   ]
  },
  {
   "cell_type": "markdown",
   "id": "b01624c0",
   "metadata": {},
   "source": [
    "<h1>Carregando o Grafo</h1>"
   ]
  },
  {
   "cell_type": "code",
   "execution_count": null,
   "id": "18158bc0",
   "metadata": {},
   "outputs": [],
   "source": [
    "# Importando bibliotecas necessárias para a construção de grafos\n",
    "import netpixi\n",
    "import graph_tool.topology\n",
    "from netpixi.integration.gt import *\n",
    "from regression.integration.gt import *"
   ]
  },
  {
   "cell_type": "markdown",
   "id": "2d159727",
   "metadata": {},
   "source": [
    "<h1>Reduzindo o Grafo a uma Componente e posicionando os vértices baseado em force-directed graph drawing</h1>"
   ]
  },
  {
   "cell_type": "markdown",
   "id": "7ba0c58e",
   "metadata": {},
   "source": [
    "## Criando Grafo da maior componente"
   ]
  },
  {
   "cell_type": "code",
   "execution_count": null,
   "id": "76f92e43",
   "metadata": {},
   "outputs": [],
   "source": [
    "g = gt_load('graph_us_roads.net.gz');"
   ]
  },
  {
   "cell_type": "code",
   "execution_count": null,
   "id": "79474776",
   "metadata": {},
   "outputs": [],
   "source": [
    "g = gt_clean(g)\n",
    "\n",
    "m = gt_draw.sfdp_layout(g)\n",
    "gt_move(g, m)\n",
    "gt_save(g, 'graph_us_roads_component.net.gz')\n",
    "r = netpixi.render('graph_us_roads_component.net.gz')"
   ]
  },
  {
   "cell_type": "markdown",
   "id": "70270bef",
   "metadata": {},
   "source": [
    "## Criando segunda maior componente\n",
    "\n",
    "Devido a limitações de renderização foi necessário escolher uma componente menor para poder visualizar os dados calculados."
   ]
  },
  {
   "cell_type": "markdown",
   "id": "4e69a395",
   "metadata": {},
   "source": [
    "### Criando uma lista que classifica a qual componente cada vértice pertence"
   ]
  },
  {
   "cell_type": "code",
   "execution_count": null,
   "id": "d04f4b95",
   "metadata": {},
   "outputs": [],
   "source": [
    "comp, hist = graph_tool.topology.label_components(g, directed=False)"
   ]
  },
  {
   "cell_type": "markdown",
   "id": "e6442c18",
   "metadata": {},
   "source": [
    "### Selecionando segundo maior componente do grafo para visualização e salvando-o para um arquivo .net.gz"
   ]
  },
  {
   "cell_type": "code",
   "execution_count": null,
   "id": "7923ad2c",
   "metadata": {},
   "outputs": [],
   "source": [
    "sum_dic = {}\n",
    "for node in comp.a:\n",
    "    if node not in sum_dic:\n",
    "        sum_dic[node] = 1\n",
    "    else:\n",
    "        sum_dic[node] += 1\n",
    "\n",
    "componente = sorted(sum_dic, key=sum_dic.get)[-2]"
   ]
  },
  {
   "cell_type": "code",
   "execution_count": null,
   "id": "f6f9fe2a",
   "metadata": {},
   "outputs": [],
   "source": [
    "# Leitura e do arquivo e construção do grafo\n",
    "\n",
    "graph_us_roads_component_menor = Graph(directed=False) # grafo não-dirigido\n",
    "\n",
    "with open('./road-usroads.mtx') as file:\n",
    "    \n",
    "    # Pula primeiras 14 linhas para chegar nas linhas com os dados do grafo\n",
    "    for i in range(14):\n",
    "        next(file)\n",
    "        \n",
    "    graph_data = file.readline().split()\n",
    "    n_nodes = int(graph_data[1])\n",
    "    n_edges = int(graph_data[2])\n",
    "    \n",
    "    \n",
    "    # Adicionando vétices ao grafo\n",
    "    for i in range(n_nodes):\n",
    "        if comp.a[i] == componente:\n",
    "            graph_us_roads_component_menor.add_vertex(i+1)\n",
    "    \n",
    "    # Adicionando arestas ao grafo\n",
    "    for edges in file:\n",
    "        edge_data = edges.split()\n",
    "        if comp.a[int(edge_data[0])-1] == componente and comp.a[int(edge_data[1])-1] == componente:\n",
    "            graph_us_roads_component_menor.add_edge(int(edge_data[0]), int(edge_data[1]))\n",
    "\n",
    "print('Número de vértices do grafo:', graph_us_roads_component_menor.num_vertices())\n",
    "print('Número de arestas do grafo:', graph_us_roads_component_menor.num_edges())"
   ]
  },
  {
   "cell_type": "code",
   "execution_count": null,
   "id": "6dda275c",
   "metadata": {},
   "outputs": [],
   "source": [
    "m = gt_draw.sfdp_layout(graph_us_roads_component_menor)\n",
    "gt_move(graph_us_roads_component_menor, m)\n",
    "gt_save(graph_us_roads_component_menor, 'graph_us_roads_component_menor.net.gz')"
   ]
  },
  {
   "cell_type": "code",
   "execution_count": null,
   "id": "80427e45",
   "metadata": {},
   "outputs": [],
   "source": [
    "g = gt_load(\"graph_us_roads_component.net.gz\")\n",
    "g_menor = gt_load(\"graph_us_roads_component_menor.net.gz\")"
   ]
  },
  {
   "cell_type": "code",
   "execution_count": null,
   "id": "dcdeaf12",
   "metadata": {},
   "outputs": [],
   "source": [
    "print('Número de vértices do grafo:', g.num_vertices())\n",
    "print('Número de arestas do grafo:', g.num_edges())"
   ]
  },
  {
   "cell_type": "markdown",
   "id": "3bdd98f7",
   "metadata": {},
   "source": [
    "<h1>Questões</h1>"
   ]
  },
  {
   "cell_type": "markdown",
   "id": "104871d2",
   "metadata": {},
   "source": [
    "<h2>a. O que os vértices da rede representam?</h2>"
   ]
  },
  {
   "cell_type": "markdown",
   "id": "1c76c1dd",
   "metadata": {},
   "source": [
    "<h1>Carregando o Grafo</h1>"
   ]
  },
  {
   "cell_type": "markdown",
   "id": "463a9099",
   "metadata": {},
   "source": [
    "Os vértices da rede representam ruas dos Estados Unidos."
   ]
  },
  {
   "cell_type": "markdown",
   "id": "34886662",
   "metadata": {},
   "source": [
    "<h2>b. O que as arestas da rede representam?</h2>"
   ]
  },
  {
   "cell_type": "markdown",
   "id": "d6faa5a1",
   "metadata": {},
   "source": [
    "As arestas da rede indicam conexões entre ruas dos Estados Unidos."
   ]
  },
  {
   "cell_type": "markdown",
   "id": "5ecb9c20",
   "metadata": {},
   "source": [
    "<h2>c. O que os grupos formados pela tarefa 4 representam?</h2>"
   ]
  },
  {
   "cell_type": "markdown",
   "id": "c04d0327",
   "metadata": {},
   "source": [
    "Os grupos formados pela tarefa 4 representam uma grande densidade de ruas que se conectam, muito possivelmente configurando um região urbana."
   ]
  },
  {
   "cell_type": "markdown",
   "id": "f1bf5abe",
   "metadata": {},
   "source": [
    "<h1>Métricas</h1>"
   ]
  },
  {
   "cell_type": "markdown",
   "id": "51994fd2",
   "metadata": {},
   "source": [
    "<h2>Centralidade Degree</h2>"
   ]
  },
  {
   "cell_type": "markdown",
   "id": "f21c7fa8",
   "metadata": {},
   "source": [
    "<h3>a. Calculando a Métrica</h3>"
   ]
  },
  {
   "cell_type": "code",
   "execution_count": null,
   "id": "ecac5cd0",
   "metadata": {},
   "outputs": [],
   "source": [
    "dc = gt_total_degree(g)\n",
    "dc_menor = gt_total_degree(g_menor)"
   ]
  },
  {
   "cell_type": "code",
   "execution_count": null,
   "id": "878158db",
   "metadata": {},
   "outputs": [],
   "source": [
    "g.add_vp('degree', dc)\n",
    "g_menor.add_vp('degree', dc_menor)"
   ]
  },
  {
   "cell_type": "code",
   "execution_count": null,
   "id": "dc01d32c",
   "metadata": {},
   "outputs": [],
   "source": [
    "gt_save(g_menor, 'graph_degree_component_menor.net.gz')\n",
    "gt_save(g, 'graph_degree_component.net.gz')"
   ]
  },
  {
   "cell_type": "code",
   "execution_count": null,
   "id": "9a24ad38",
   "metadata": {},
   "outputs": [],
   "source": [
    "g = gt_load('graph_degree_component.net.gz')"
   ]
  },
  {
   "cell_type": "code",
   "execution_count": null,
   "id": "ef28a944",
   "metadata": {},
   "outputs": [],
   "source": [
    "data = gt_data(g).sort_values(by=\"degree\", ascending=True)\n",
    "data"
   ]
  },
  {
   "cell_type": "markdown",
   "id": "4a287c6d",
   "metadata": {},
   "source": [
    "<h3>b. Chamando o método vertex_scale da netpixi para usar a métrica como referência para os tamanhos dos vértices</h3>"
   ]
  },
  {
   "cell_type": "code",
   "execution_count": null,
   "id": "940d64ee",
   "metadata": {},
   "outputs": [],
   "source": [
    "r = netpixi.render('graph_degree_component_menor.net.gz', infinite=True)"
   ]
  },
  {
   "cell_type": "code",
   "execution_count": null,
   "id": "b153ea35",
   "metadata": {},
   "outputs": [],
   "source": [
    "r.vertex_scale('degree', 10, 50)"
   ]
  },
  {
   "cell_type": "markdown",
   "id": "b4217e89",
   "metadata": {},
   "source": [
    "<h3>c. Salvando uma imagem que mostre com clareza essas diferenças de tamanho</h3>"
   ]
  },
  {
   "cell_type": "markdown",
   "id": "48f3b780",
   "metadata": {},
   "source": [
    "<h3>d.1. A métrica representa algum conceito? Se sim, qual?</h3>"
   ]
  },
  {
   "cell_type": "markdown",
   "id": "420e5f3f",
   "metadata": {},
   "source": [
    "A métrica degree nos fala quantas arestas estão conectadas à um vértice. No nosso caso, o degree de um vértice representaria a quantidade de ruas ligadas a ele."
   ]
  },
  {
   "cell_type": "markdown",
   "id": "5bbc2f92",
   "metadata": {},
   "source": [
    "<h3>d.2. Os maiores vértices (considerando a tarefa 6b) parecem estar em posições interessantes? Quais?</h3>"
   ]
  },
  {
   "cell_type": "markdown",
   "id": "4d69ce74",
   "metadata": {},
   "source": [
    "Sim. Representando as ruas com maiores conexões, os maiores vértices parecem estar localizados ou em clusters de vértices, ou seja, agrupamentos mais densos de ruas, ou em regiões de conexão entre outros clusters."
   ]
  },
  {
   "cell_type": "markdown",
   "id": "b75eb375",
   "metadata": {},
   "source": [
    "<h2>Centralidade Betweenness</h2>"
   ]
  },
  {
   "cell_type": "markdown",
   "id": "5000c921",
   "metadata": {},
   "source": [
    "<h3>a. Calculando a Métrica</h3>"
   ]
  },
  {
   "cell_type": "code",
   "execution_count": null,
   "id": "001152a2",
   "metadata": {},
   "outputs": [],
   "source": [
    "from graph_tool import centrality\n",
    "g = gt_load(\"graph_us_roads_component.net.gz\")\n",
    "g_menor = gt_load(\"graph_us_roads_component_menor.net.gz\")\n",
    "\n",
    "bc, _ = centrality.betweenness(g)\n",
    "bc_menor, _ = centrality.betweenness(g_menor)"
   ]
  },
  {
   "cell_type": "code",
   "execution_count": null,
   "id": "3b47723b",
   "metadata": {},
   "outputs": [],
   "source": [
    "g.add_vp('betweenness', bc)\n",
    "g_menor.add_vp('betweenness', bc_menor)"
   ]
  },
  {
   "cell_type": "code",
   "execution_count": null,
   "id": "76755840",
   "metadata": {},
   "outputs": [],
   "source": [
    "gt_save(g_menor, 'graph_betweeness_component_menor.net.gz')\n",
    "gt_save(g, 'graph_betweeness_component.net.gz')"
   ]
  },
  {
   "cell_type": "code",
   "execution_count": null,
   "id": "36c83120",
   "metadata": {},
   "outputs": [],
   "source": [
    "g = gt_load('graph_betweeness_component.net.gz')"
   ]
  },
  {
   "cell_type": "code",
   "execution_count": null,
   "id": "ad8a05a1",
   "metadata": {},
   "outputs": [],
   "source": [
    "data = gt_data(g).sort_values(by=\"betweenness\", ascending=False)\n",
    "data"
   ]
  },
  {
   "cell_type": "markdown",
   "id": "6af34c9d",
   "metadata": {},
   "source": [
    "<h3>b. Chamando o método vertex_scale da netpixi para usar a métrica como referência para os tamanhos dos vértices</h3>"
   ]
  },
  {
   "cell_type": "code",
   "execution_count": null,
   "id": "acb94cb8",
   "metadata": {},
   "outputs": [],
   "source": [
    "r = netpixi.render('graph_betweeness_component_menor.net.gz', infinite=True)"
   ]
  },
  {
   "cell_type": "code",
   "execution_count": null,
   "id": "5f2c19c6",
   "metadata": {},
   "outputs": [],
   "source": [
    "r.vertex_scale('betweenness', 10, 50)"
   ]
  },
  {
   "cell_type": "markdown",
   "id": "615cb4b0",
   "metadata": {},
   "source": [
    "<h3>c. Salvando uma imagem que mostre com clareza essas diferenças de tamanho</h3>"
   ]
  },
  {
   "cell_type": "markdown",
   "id": "dd54075b",
   "metadata": {},
   "source": [
    "<h3>d.1. A métrica representa algum conceito? Se sim, qual?</h3>"
   ]
  },
  {
   "cell_type": "markdown",
   "id": "5e97f082",
   "metadata": {},
   "source": [
    "A métrica representa a soma das proporções de geodésicas que passam pelo nosso vértice. Uma geodésica de um vértice X para um vértice Y é o caminho de menor comprimento possível. No caso da nossa rede, um vértice com um betweenness alto representa uma rua de posição central na infraestrutura como avenidas, já que, pela sua centralidade ela fica relativamente próxima de todas as outras ruas, sendo necessário que passem por elas."
   ]
  },
  {
   "cell_type": "markdown",
   "id": "e71f2056",
   "metadata": {},
   "source": [
    "<h3>d.2. Os maiores vértices (considerando a tarefa 6b) parecem estar em posições interessantes? Quais?</h3>"
   ]
  },
  {
   "cell_type": "markdown",
   "id": "4c3c8b82",
   "metadata": {},
   "source": [
    "Os maiores vértices da visualização do grafo encontram-se nas fronteiras laterais e percorrendo canais centrais no grafo, assemelhando-se às veias do corpo humano se ramificando à outras veias/vasos."
   ]
  },
  {
   "cell_type": "markdown",
   "id": "fa59c6dd",
   "metadata": {},
   "source": [
    "<h2>Centralidade Closeness</h2>"
   ]
  },
  {
   "cell_type": "markdown",
   "id": "d98ca9d3",
   "metadata": {},
   "source": [
    "<h3>a. Calculando a Métrica</h3>"
   ]
  },
  {
   "cell_type": "code",
   "execution_count": null,
   "id": "7ab6fb35",
   "metadata": {},
   "outputs": [],
   "source": [
    "from graph_tool import centrality\n",
    "g = gt_load(\"graph_us_roads_component.net.gz\")\n",
    "g_menor = gt_load(\"graph_us_roads_component_menor.net.gz\")\n",
    "\n",
    "cc = centrality.closeness(g)\n",
    "cc_menor = centrality.closeness(g_menor)"
   ]
  },
  {
   "cell_type": "code",
   "execution_count": null,
   "id": "98056a13",
   "metadata": {},
   "outputs": [],
   "source": [
    "g.add_vp('closeness', cc)\n",
    "g_menor.add_vp('closeness', cc_menor)"
   ]
  },
  {
   "cell_type": "code",
   "execution_count": null,
   "id": "0f952abf",
   "metadata": {},
   "outputs": [],
   "source": [
    "gt_save(g_menor, 'graph_closeness_component_menor.net.gz')\n",
    "gt_save(g, 'graph_closeness_component.net.gz')"
   ]
  },
  {
   "cell_type": "code",
   "execution_count": null,
   "id": "63a2ba2b",
   "metadata": {},
   "outputs": [],
   "source": [
    "g = gt_load('graph_closeness_component.net.gz')"
   ]
  },
  {
   "cell_type": "code",
   "execution_count": null,
   "id": "bc361adf",
   "metadata": {},
   "outputs": [],
   "source": [
    "data = gt_data(g).sort_values(by=\"closeness\", ascending=False)\n",
    "data"
   ]
  },
  {
   "cell_type": "markdown",
   "id": "71c5426b",
   "metadata": {},
   "source": [
    "<h3>b. Chamando o método vertex_scale da netpixi para usar a métrica como referência para os tamanhos dos vértices</h3>"
   ]
  },
  {
   "cell_type": "code",
   "execution_count": null,
   "id": "b8d3239f",
   "metadata": {},
   "outputs": [],
   "source": [
    "r = netpixi.render('graph_closeness_component_menor.net.gz', infinite=True)"
   ]
  },
  {
   "cell_type": "code",
   "execution_count": null,
   "id": "b291ea26",
   "metadata": {},
   "outputs": [],
   "source": [
    "r.vertex_scale('closeness', 10, 50)"
   ]
  },
  {
   "cell_type": "markdown",
   "id": "d796edc1",
   "metadata": {},
   "source": [
    "<h3>c. Salvando uma imagem que mostre com clareza essas diferenças de tamanho</h3>"
   ]
  },
  {
   "cell_type": "markdown",
   "id": "e2ac963f",
   "metadata": {},
   "source": [
    "<h3>d.1. A métrica representa algum conceito? Se sim, qual?</h3>"
   ]
  },
  {
   "cell_type": "markdown",
   "id": "b07a2b43",
   "metadata": {},
   "source": [
    "A métrica closeness representa a proximidade de um vértice a todos os outros, lembrando que no grafo proxímidade entre vértices não representam necessáriamente distâncias físicas, apenas quantos vértices são necessários ser percorridos. No caso do grafo das ruas estadunidenses ele representa a quantidade de ruas que é necessário atravessar para acessar todas as outras."
   ]
  },
  {
   "cell_type": "markdown",
   "id": "4268c07d",
   "metadata": {},
   "source": [
    "<h3>d.2. Os maiores vértices (considerando a tarefa 6b) parecem estar em posições interessantes? Quais?</h3>"
   ]
  },
  {
   "cell_type": "markdown",
   "id": "fede279e",
   "metadata": {},
   "source": [
    "Não, devido a a os valores altos serem muito prominentes e muito similares não é possível distinguir posições interessantes. Embora os vértices menores parecem se encontrar em posições mais remotas em apêndices do grafo, possívelemente representando ruas mais isoladas."
   ]
  },
  {
   "cell_type": "markdown",
   "id": "acd41af8",
   "metadata": {},
   "source": [
    "<h2>Clustering Coefficient</h2>"
   ]
  },
  {
   "cell_type": "markdown",
   "id": "e54d3aa2",
   "metadata": {},
   "source": [
    "<h3>a. Calculando a Métrica</h3>"
   ]
  },
  {
   "cell_type": "code",
   "execution_count": null,
   "id": "04f44e64",
   "metadata": {},
   "outputs": [],
   "source": [
    "from graph_tool import clustering\n",
    "g = gt_load(\"graph_us_roads_component.net.gz\")\n",
    "g_menor = gt_load(\"graph_us_roads_component_menor.net.gz\")\n",
    "\n",
    "lc = clustering.local_clustering(g)\n",
    "lc_menor = clustering.local_clustering(g_menor)"
   ]
  },
  {
   "cell_type": "code",
   "execution_count": null,
   "id": "f6d4cd7a",
   "metadata": {},
   "outputs": [],
   "source": [
    "g.add_vp('clustering', lc)\n",
    "g_menor.add_vp('clustering', lc_menor)"
   ]
  },
  {
   "cell_type": "code",
   "execution_count": null,
   "id": "c807d47d",
   "metadata": {},
   "outputs": [],
   "source": [
    "gt_save(g_menor, 'graph_clustering_component_menor.net.gz')\n",
    "gt_save(g, 'graph_clustering_component.net.gz')"
   ]
  },
  {
   "cell_type": "code",
   "execution_count": null,
   "id": "6ad182d0",
   "metadata": {},
   "outputs": [],
   "source": [
    "g = gt_load('graph_clustering_component.net.gz')"
   ]
  },
  {
   "cell_type": "code",
   "execution_count": null,
   "id": "f3921791",
   "metadata": {},
   "outputs": [],
   "source": [
    "data = gt_data(g).sort_values(by=\"clustering\", ascending=False)\n",
    "data"
   ]
  },
  {
   "cell_type": "markdown",
   "id": "27a4c8fe",
   "metadata": {},
   "source": [
    "<h3>b. Chamando o método vertex_scale da netpixi para usar a métrica como referência para os tamanhos dos vértices</h3>"
   ]
  },
  {
   "cell_type": "code",
   "execution_count": null,
   "id": "99687588",
   "metadata": {},
   "outputs": [],
   "source": [
    "r = netpixi.render('graph_clustering_component_menor.net.gz', infinite=True)"
   ]
  },
  {
   "cell_type": "code",
   "execution_count": null,
   "id": "da974778",
   "metadata": {},
   "outputs": [],
   "source": [
    "r.vertex_scale('clustering', 10, 30)"
   ]
  },
  {
   "cell_type": "markdown",
   "id": "9efc1d60",
   "metadata": {},
   "source": [
    "<h3>c. Salvando uma imagem que mostre com clareza essas diferenças de tamanho</h3>"
   ]
  },
  {
   "cell_type": "markdown",
   "id": "f42ca642",
   "metadata": {},
   "source": [
    "<h3>d.1. A métrica representa algum conceito? Se sim, qual?</h3>"
   ]
  },
  {
   "cell_type": "markdown",
   "id": "6d306285",
   "metadata": {},
   "source": [
    "Sim, o conceito de redundância parece se encaixar bem com o clustering coeficient do nosso grafo, já que ele pode representar quantos caminhos diferentes existem para chegar em um mesmo lugar dentro de um conjunto de ruas vizinhas."
   ]
  },
  {
   "cell_type": "markdown",
   "id": "410a1ae9",
   "metadata": {},
   "source": [
    "<h3>d.2. Os maiores vértices (considerando a tarefa 6b) parecem estar em posições interessantes? Quais?</h3>"
   ]
  },
  {
   "cell_type": "markdown",
   "id": "bc95e7a4",
   "metadata": {},
   "source": [
    "Não parecem estar em posições interessantes já que não estão em nenhum centro de aglomeração entre ruas."
   ]
  },
  {
   "cell_type": "markdown",
   "id": "e6793445",
   "metadata": {},
   "source": [
    "<h2>Lacuas Estruturais</h2>"
   ]
  },
  {
   "cell_type": "markdown",
   "id": "f65f5bf5",
   "metadata": {},
   "source": [
    "<h3>a1. Calculando a Métrica \"effective size\"</h3>"
   ]
  },
  {
   "cell_type": "code",
   "execution_count": null,
   "id": "edb1c9c1",
   "metadata": {},
   "outputs": [],
   "source": [
    "g = gt_load(\"graph_us_roads_component.net.gz\")\n",
    "g_menor = gt_load(\"graph_us_roads_component_menor.net.gz\")\n",
    "\n",
    "es = gt_effective_size(g)\n",
    "es_menor = gt_effective_size(g_menor)"
   ]
  },
  {
   "cell_type": "code",
   "execution_count": null,
   "id": "d8cb451e",
   "metadata": {},
   "outputs": [],
   "source": [
    "g.add_vp('effsize', es)\n",
    "g_menor.add_vp('effsize', es_menor)"
   ]
  },
  {
   "cell_type": "code",
   "execution_count": null,
   "id": "1aecd94b",
   "metadata": {},
   "outputs": [],
   "source": [
    "gt_save(g_menor, 'graph_effective_size_component_menor.net.gz')\n",
    "gt_save(g, 'graph_effective_size_component.net.gz')"
   ]
  },
  {
   "cell_type": "code",
   "execution_count": null,
   "id": "bafad098",
   "metadata": {},
   "outputs": [],
   "source": [
    "g = gt_load('graph_effective_size_component.net.gz')"
   ]
  },
  {
   "cell_type": "code",
   "execution_count": null,
   "id": "c0e300e9",
   "metadata": {},
   "outputs": [],
   "source": [
    "data = gt_data(g).sort_values(by=\"effsize\", ascending=False)\n",
    "data"
   ]
  },
  {
   "cell_type": "markdown",
   "id": "5af3810b",
   "metadata": {},
   "source": [
    "### a2. Calculando a métrica \"constraint\""
   ]
  },
  {
   "cell_type": "code",
   "execution_count": null,
   "id": "69cb11cf",
   "metadata": {},
   "outputs": [],
   "source": [
    "g = gt_load(\"graph_us_roads_component.net.gz\")\n",
    "g_menor = gt_load(\"graph_us_roads_component_menor.net.gz\")\n",
    "\n",
    "constraint = gt_constraint(g)\n",
    "constraint_menor = gt_constraint(g_menor)"
   ]
  },
  {
   "cell_type": "code",
   "execution_count": null,
   "id": "006c7ba4",
   "metadata": {},
   "outputs": [],
   "source": [
    "g.add_vp('constraint', constraint)\n",
    "g_menor.add_vp('constraint', constraint_menor)"
   ]
  },
  {
   "cell_type": "code",
   "execution_count": null,
   "id": "5398e208",
   "metadata": {},
   "outputs": [],
   "source": [
    "gt_save(g_menor, 'graph_constraint_component_menor.net.gz')\n",
    "gt_save(g, 'graph_constraint_component.net.gz')"
   ]
  },
  {
   "cell_type": "code",
   "execution_count": null,
   "id": "1bf4c145",
   "metadata": {},
   "outputs": [],
   "source": [
    "g = gt_load('graph_constraint_component.net.gz')"
   ]
  },
  {
   "cell_type": "code",
   "execution_count": null,
   "id": "c7d7e427",
   "metadata": {},
   "outputs": [],
   "source": [
    "data = gt_data(g).sort_values(by=\"constraint\", ascending=False)\n",
    "data"
   ]
  },
  {
   "cell_type": "markdown",
   "id": "d09bbb62",
   "metadata": {},
   "source": [
    "<h3>b1. Chamando o método vertex_scale da netpixi para usar a métrica \"effective size\" como referência para os tamanhos dos vértices</h3>"
   ]
  },
  {
   "cell_type": "code",
   "execution_count": null,
   "id": "ed72449d",
   "metadata": {},
   "outputs": [],
   "source": [
    "r = netpixi.render('graph_effective_size_component_menor.net.gz', infinite=True)"
   ]
  },
  {
   "cell_type": "code",
   "execution_count": null,
   "id": "ca0fc38a",
   "metadata": {},
   "outputs": [],
   "source": [
    "r.vertex_scale('effsize', 10, 30)"
   ]
  },
  {
   "cell_type": "markdown",
   "id": "9a56e159",
   "metadata": {},
   "source": [
    "<h3>b2. Chamando o método vertex_scale da netpixi para usar a métrica \"Constraint\" como referência para os tamanhos dos vértices</h3>"
   ]
  },
  {
   "cell_type": "code",
   "execution_count": null,
   "id": "75bf8286",
   "metadata": {},
   "outputs": [],
   "source": [
    "r = netpixi.render('graph_constraint_component_menor.net.gz', infinite=True)"
   ]
  },
  {
   "cell_type": "code",
   "execution_count": null,
   "id": "7d926e93",
   "metadata": {},
   "outputs": [],
   "source": [
    "r.vertex_scale('constraint', 10, 30)"
   ]
  },
  {
   "cell_type": "markdown",
   "id": "051201aa",
   "metadata": {},
   "source": [
    "<h3>c. Salvando uma imagem que mostre com clareza essas diferenças de tamanho</h3>"
   ]
  },
  {
   "cell_type": "markdown",
   "id": "6bfd0a38",
   "metadata": {},
   "source": [
    "<h3>d.1. A métrica representa algum conceito? Se sim, qual?</h3>"
   ]
  },
  {
   "cell_type": "markdown",
   "id": "b838e2c5",
   "metadata": {},
   "source": [
    "A métrica \"effective size\", parece sim representar o inverso da redundância, ou seja, quanto mais eficiente ou direto é o caminho entre dois vértices, maior o seu tamanho efetivo. Para o nosso caso, quanto maior o \"effective size\" de uma rua, mais caminhos distintos existem para acessar esta rua a partir de um vértice vizinho.\n",
    "\n",
    "Já a métrica constraint em nosso grafo parece representar o nível de isolação de um dado vértice, seja por fazer poucos conexões, seja por elas serem muito redundantes."
   ]
  },
  {
   "cell_type": "markdown",
   "id": "7e971817",
   "metadata": {},
   "source": [
    "<h3>d.2. Os maiores vértices (considerando a tarefa 6b) parecem estar em posições interessantes? Quais?</h3>"
   ]
  },
  {
   "cell_type": "markdown",
   "id": "9da0356d",
   "metadata": {},
   "source": [
    "No caso do tamnho efetivo não parecem estar em posições interessantes, já que não observamos nenhum tipo de padrão que nos chamou a atenção, isto pode ser porque o planejamento de ruas tentam evitar retraçar caminhos já percorridos.\n",
    "\n",
    "O \"constraint\" apresenta uma situação na qual ele parece sempre ser maior em ruas com apenas uma conexão com o resto do grafo, isso pode ser porque essas ruas se encontram em posições remotas sendo \"vértices sem saída\" que não necessitam ou não possuem capacidade de suportar uma maior infraestrutura rodoviaria."
   ]
  },
  {
   "cell_type": "markdown",
   "id": "c7cff6c9",
   "metadata": {},
   "source": [
    "### Conclusão lacunas estruturais"
   ]
  },
  {
   "cell_type": "markdown",
   "id": "4f48a8ba",
   "metadata": {},
   "source": [
    "Baseando nas análises de \"effective size\" e \"constraint\" as lacunas estruturais representam o quantas conexões uma rua tem e o quanto estas são distintas."
   ]
  },
  {
   "cell_type": "markdown",
   "id": "1c0289ec",
   "metadata": {},
   "source": [
    "<h3>Referências e reconhecimento<h3>"
   ]
  },
  {
   "cell_type": "markdown",
   "id": "2f09bd2c",
   "metadata": {},
   "source": [
    "@inproceedings{nr,\n",
    "     title={The Network Data Repository with Interactive Graph Analytics and Visualization},\n",
    "     author={Ryan A. Rossi and Nesreen K. Ahmed},\n",
    "     booktitle={AAAI},\n",
    "     url={https://networkrepository.com},\n",
    "     year={2015}\n",
    "}\n",
    "\n",
    "Link: https://networkrepository.com/road-usroads.php"
   ]
  },
  {
   "cell_type": "code",
   "execution_count": null,
   "id": "b6ef408b",
   "metadata": {},
   "outputs": [],
   "source": []
  }
 ],
 "metadata": {
  "kernelspec": {
   "display_name": "Python 3 (ipykernel)",
   "language": "python",
   "name": "python3"
  },
  "language_info": {
   "codemirror_mode": {
    "name": "ipython",
    "version": 3
   },
   "file_extension": ".py",
   "mimetype": "text/x-python",
   "name": "python",
   "nbconvert_exporter": "python",
   "pygments_lexer": "ipython3",
   "version": "3.10.6"
  },
  "vscode": {
   "interpreter": {
    "hash": "b0fa6594d8f4cbf19f97940f81e996739fb7646882a419484c72d19e05852a7e"
   }
  }
 },
 "nbformat": 4,
 "nbformat_minor": 5
}
