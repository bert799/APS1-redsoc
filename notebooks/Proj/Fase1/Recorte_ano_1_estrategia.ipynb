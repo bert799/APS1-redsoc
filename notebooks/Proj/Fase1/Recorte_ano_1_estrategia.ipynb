{
 "cells": [
  {
   "cell_type": "markdown",
   "id": "2382f740-c37b-42c3-9594-6b6f97627d89",
   "metadata": {},
   "source": [
    "# Recorte 1985 - 2002 -> Estratégia"
   ]
  },
  {
   "cell_type": "code",
   "execution_count": 1,
   "id": "439060c5-0ee8-4cfd-8368-dd33656984a3",
   "metadata": {},
   "outputs": [
    {
     "data": {
      "text/html": [
       "\n",
       "    <script src=\"/files/netpixi.min.js\"></script>\n"
      ],
      "text/plain": [
       "<IPython.core.display.HTML object>"
      ]
     },
     "metadata": {},
     "output_type": "display_data"
    },
    {
     "name": "stderr",
     "output_type": "stream",
     "text": [
      "<frozen importlib._bootstrap>:914: ImportWarning: VendorImporter.find_spec() not found; falling back to find_module()\n",
      "/usr/local/lib/python3.10/site-packages/seaborn/rcmod.py:82: DeprecationWarning: distutils Version classes are deprecated. Use packaging.version instead.\n",
      "  if LooseVersion(mpl.__version__) >= \"3.0\":\n",
      "/usr/local/lib/python3.10/site-packages/setuptools/_distutils/version.py:346: DeprecationWarning: distutils Version classes are deprecated. Use packaging.version instead.\n",
      "  other = LooseVersion(other)\n",
      "<frozen importlib._bootstrap>:914: ImportWarning: VendorImporter.find_spec() not found; falling back to find_module()\n",
      "/usr/local/lib/python3.10/site-packages/seaborn/cm.py:1582: PendingDeprecationWarning: The register_cmap function will be deprecated in a future version. Use ``matplotlib.colormaps.register(name)`` instead.\n",
      "  mpl_cm.register_cmap(_name, _cmap)\n",
      "/usr/local/lib/python3.10/site-packages/seaborn/cm.py:1583: PendingDeprecationWarning: The register_cmap function will be deprecated in a future version. Use ``matplotlib.colormaps.register(name)`` instead.\n",
      "  mpl_cm.register_cmap(_name + \"_r\", _cmap_r)\n",
      "<frozen importlib._bootstrap>:914: ImportWarning: VendorImporter.find_spec() not found; falling back to find_module()\n",
      "/usr/local/lib/python3.10/site-packages/seaborn/rcmod.py:400: DeprecationWarning: distutils Version classes are deprecated. Use packaging.version instead.\n",
      "  if LooseVersion(mpl.__version__) >= \"3.0\":\n",
      "/usr/local/lib/python3.10/site-packages/setuptools/_distutils/version.py:346: DeprecationWarning: distutils Version classes are deprecated. Use packaging.version instead.\n",
      "  other = LooseVersion(other)\n"
     ]
    }
   ],
   "source": [
    "# Importando bibliotecas necessárias para a construção de grafos\n",
    "import netpixi\n",
    "from netpixi.integration.gt import *\n",
    "from regression.integration.gt import *\n",
    "import pandas as pd\n",
    "import numpy as np\n",
    "import csv\n",
    "import ast\n",
    "import cpnet\n",
    "from graph_tool import spectral\n",
    "import seaborn as sns\n",
    "import regression as reg\n",
    "import cpnet\n",
    "\n",
    "from scipy import stats\n",
    "from matplotlib import pyplot as plt\n",
    "from graph_tool import centrality\n",
    "from graph_tool import spectral"
   ]
  },
  {
   "cell_type": "code",
   "execution_count": 2,
   "id": "53418d7d-5912-4706-8c88-db73c035180c",
   "metadata": {},
   "outputs": [],
   "source": [
    "df = pd.read_csv('./Video_Games_Sales_as_at_22_Dec_2016.csv')\n",
    "df.dropna(subset=['Publisher'], inplace=True)\n",
    "df = df.loc[~df['Critic_Score'].isna() & ~df['User_Score'].isna() & ~df['Rating'].isna()]"
   ]
  },
  {
   "cell_type": "code",
   "execution_count": 3,
   "id": "c1b50c7f-3457-431e-b884-bc966843eb81",
   "metadata": {},
   "outputs": [
    {
     "data": {
      "text/html": [
       "<div>\n",
       "<style scoped>\n",
       "    .dataframe tbody tr th:only-of-type {\n",
       "        vertical-align: middle;\n",
       "    }\n",
       "\n",
       "    .dataframe tbody tr th {\n",
       "        vertical-align: top;\n",
       "    }\n",
       "\n",
       "    .dataframe thead th {\n",
       "        text-align: right;\n",
       "    }\n",
       "</style>\n",
       "<table border=\"1\" class=\"dataframe\">\n",
       "  <thead>\n",
       "    <tr style=\"text-align: right;\">\n",
       "      <th></th>\n",
       "      <th>Name</th>\n",
       "      <th>Platform</th>\n",
       "      <th>Year_of_Release</th>\n",
       "      <th>Genre</th>\n",
       "      <th>Publisher</th>\n",
       "      <th>NA_Sales</th>\n",
       "      <th>EU_Sales</th>\n",
       "      <th>JP_Sales</th>\n",
       "      <th>Other_Sales</th>\n",
       "      <th>Global_Sales</th>\n",
       "      <th>Critic_Score</th>\n",
       "      <th>Critic_Count</th>\n",
       "      <th>User_Score</th>\n",
       "      <th>User_Count</th>\n",
       "      <th>Developer</th>\n",
       "      <th>Rating</th>\n",
       "    </tr>\n",
       "  </thead>\n",
       "  <tbody>\n",
       "    <tr>\n",
       "      <th>0</th>\n",
       "      <td>Wii Sports</td>\n",
       "      <td>Wii</td>\n",
       "      <td>2006.0</td>\n",
       "      <td>Sports</td>\n",
       "      <td>Nintendo</td>\n",
       "      <td>41.36</td>\n",
       "      <td>28.96</td>\n",
       "      <td>3.77</td>\n",
       "      <td>8.45</td>\n",
       "      <td>82.53</td>\n",
       "      <td>76.0</td>\n",
       "      <td>51.0</td>\n",
       "      <td>8.0</td>\n",
       "      <td>322.0</td>\n",
       "      <td>Nintendo</td>\n",
       "      <td>E</td>\n",
       "    </tr>\n",
       "    <tr>\n",
       "      <th>2</th>\n",
       "      <td>Mario Kart Wii</td>\n",
       "      <td>Wii</td>\n",
       "      <td>2008.0</td>\n",
       "      <td>Racing</td>\n",
       "      <td>Nintendo</td>\n",
       "      <td>15.68</td>\n",
       "      <td>12.76</td>\n",
       "      <td>3.79</td>\n",
       "      <td>3.29</td>\n",
       "      <td>35.52</td>\n",
       "      <td>82.0</td>\n",
       "      <td>73.0</td>\n",
       "      <td>8.3</td>\n",
       "      <td>709.0</td>\n",
       "      <td>Nintendo</td>\n",
       "      <td>E</td>\n",
       "    </tr>\n",
       "    <tr>\n",
       "      <th>3</th>\n",
       "      <td>Wii Sports Resort</td>\n",
       "      <td>Wii</td>\n",
       "      <td>2009.0</td>\n",
       "      <td>Sports</td>\n",
       "      <td>Nintendo</td>\n",
       "      <td>15.61</td>\n",
       "      <td>10.93</td>\n",
       "      <td>3.28</td>\n",
       "      <td>2.95</td>\n",
       "      <td>32.77</td>\n",
       "      <td>80.0</td>\n",
       "      <td>73.0</td>\n",
       "      <td>8.0</td>\n",
       "      <td>192.0</td>\n",
       "      <td>Nintendo</td>\n",
       "      <td>E</td>\n",
       "    </tr>\n",
       "    <tr>\n",
       "      <th>6</th>\n",
       "      <td>New Super Mario Bros.</td>\n",
       "      <td>DS</td>\n",
       "      <td>2006.0</td>\n",
       "      <td>Platform</td>\n",
       "      <td>Nintendo</td>\n",
       "      <td>11.28</td>\n",
       "      <td>9.14</td>\n",
       "      <td>6.50</td>\n",
       "      <td>2.88</td>\n",
       "      <td>29.80</td>\n",
       "      <td>89.0</td>\n",
       "      <td>65.0</td>\n",
       "      <td>8.5</td>\n",
       "      <td>431.0</td>\n",
       "      <td>Nintendo</td>\n",
       "      <td>E</td>\n",
       "    </tr>\n",
       "    <tr>\n",
       "      <th>7</th>\n",
       "      <td>Wii Play</td>\n",
       "      <td>Wii</td>\n",
       "      <td>2006.0</td>\n",
       "      <td>Misc</td>\n",
       "      <td>Nintendo</td>\n",
       "      <td>13.96</td>\n",
       "      <td>9.18</td>\n",
       "      <td>2.93</td>\n",
       "      <td>2.84</td>\n",
       "      <td>28.92</td>\n",
       "      <td>58.0</td>\n",
       "      <td>41.0</td>\n",
       "      <td>6.6</td>\n",
       "      <td>129.0</td>\n",
       "      <td>Nintendo</td>\n",
       "      <td>E</td>\n",
       "    </tr>\n",
       "  </tbody>\n",
       "</table>\n",
       "</div>"
      ],
      "text/plain": [
       "                    Name Platform  Year_of_Release     Genre Publisher  \\\n",
       "0             Wii Sports      Wii           2006.0    Sports  Nintendo   \n",
       "2         Mario Kart Wii      Wii           2008.0    Racing  Nintendo   \n",
       "3      Wii Sports Resort      Wii           2009.0    Sports  Nintendo   \n",
       "6  New Super Mario Bros.       DS           2006.0  Platform  Nintendo   \n",
       "7               Wii Play      Wii           2006.0      Misc  Nintendo   \n",
       "\n",
       "   NA_Sales  EU_Sales  JP_Sales  Other_Sales  Global_Sales  Critic_Score  \\\n",
       "0     41.36     28.96      3.77         8.45         82.53          76.0   \n",
       "2     15.68     12.76      3.79         3.29         35.52          82.0   \n",
       "3     15.61     10.93      3.28         2.95         32.77          80.0   \n",
       "6     11.28      9.14      6.50         2.88         29.80          89.0   \n",
       "7     13.96      9.18      2.93         2.84         28.92          58.0   \n",
       "\n",
       "   Critic_Count  User_Score  User_Count Developer Rating  \n",
       "0          51.0         8.0       322.0  Nintendo      E  \n",
       "2          73.0         8.3       709.0  Nintendo      E  \n",
       "3          73.0         8.0       192.0  Nintendo      E  \n",
       "6          65.0         8.5       431.0  Nintendo      E  \n",
       "7          41.0         6.6       129.0  Nintendo      E  "
      ]
     },
     "execution_count": 3,
     "metadata": {},
     "output_type": "execute_result"
    }
   ],
   "source": [
    "df.head()"
   ]
  },
  {
   "cell_type": "code",
   "execution_count": 4,
   "id": "be8379db-25de-42da-88a9-81f4f555f222",
   "metadata": {},
   "outputs": [],
   "source": [
    "df_recortado = df.loc[(df['Year_of_Release'] >= 1985) & (df['Year_of_Release'] <= 2002) & (df['Genre'] == 'Strategy')] "
   ]
  },
  {
   "cell_type": "code",
   "execution_count": 5,
   "id": "c6e198bd-c628-45fd-9903-384fe69373d3",
   "metadata": {},
   "outputs": [
    {
     "data": {
      "text/html": [
       "<div>\n",
       "<style scoped>\n",
       "    .dataframe tbody tr th:only-of-type {\n",
       "        vertical-align: middle;\n",
       "    }\n",
       "\n",
       "    .dataframe tbody tr th {\n",
       "        vertical-align: top;\n",
       "    }\n",
       "\n",
       "    .dataframe thead th {\n",
       "        text-align: right;\n",
       "    }\n",
       "</style>\n",
       "<table border=\"1\" class=\"dataframe\">\n",
       "  <thead>\n",
       "    <tr style=\"text-align: right;\">\n",
       "      <th></th>\n",
       "      <th>Name</th>\n",
       "      <th>Platform</th>\n",
       "      <th>Year_of_Release</th>\n",
       "      <th>Genre</th>\n",
       "      <th>Publisher</th>\n",
       "      <th>NA_Sales</th>\n",
       "      <th>EU_Sales</th>\n",
       "      <th>JP_Sales</th>\n",
       "      <th>Other_Sales</th>\n",
       "      <th>Global_Sales</th>\n",
       "      <th>Critic_Score</th>\n",
       "      <th>Critic_Count</th>\n",
       "      <th>User_Score</th>\n",
       "      <th>User_Count</th>\n",
       "      <th>Developer</th>\n",
       "      <th>Rating</th>\n",
       "    </tr>\n",
       "  </thead>\n",
       "  <tbody>\n",
       "    <tr>\n",
       "      <th>1128</th>\n",
       "      <td>Pikmin</td>\n",
       "      <td>GC</td>\n",
       "      <td>2001.0</td>\n",
       "      <td>Strategy</td>\n",
       "      <td>Nintendo</td>\n",
       "      <td>0.78</td>\n",
       "      <td>0.25</td>\n",
       "      <td>0.56</td>\n",
       "      <td>0.04</td>\n",
       "      <td>1.63</td>\n",
       "      <td>89.0</td>\n",
       "      <td>39.0</td>\n",
       "      <td>8.7</td>\n",
       "      <td>121.0</td>\n",
       "      <td>Nintendo</td>\n",
       "      <td>E</td>\n",
       "    </tr>\n",
       "    <tr>\n",
       "      <th>1597</th>\n",
       "      <td>RollerCoaster Tycoon 2</td>\n",
       "      <td>PC</td>\n",
       "      <td>2002.0</td>\n",
       "      <td>Strategy</td>\n",
       "      <td>Atari</td>\n",
       "      <td>1.19</td>\n",
       "      <td>0.05</td>\n",
       "      <td>0.00</td>\n",
       "      <td>0.00</td>\n",
       "      <td>1.25</td>\n",
       "      <td>74.0</td>\n",
       "      <td>22.0</td>\n",
       "      <td>8.5</td>\n",
       "      <td>135.0</td>\n",
       "      <td>Chris Sawyer</td>\n",
       "      <td>E</td>\n",
       "    </tr>\n",
       "    <tr>\n",
       "      <th>2172</th>\n",
       "      <td>Kessen</td>\n",
       "      <td>PS2</td>\n",
       "      <td>2000.0</td>\n",
       "      <td>Strategy</td>\n",
       "      <td>Electronic Arts</td>\n",
       "      <td>0.27</td>\n",
       "      <td>0.21</td>\n",
       "      <td>0.41</td>\n",
       "      <td>0.07</td>\n",
       "      <td>0.95</td>\n",
       "      <td>75.0</td>\n",
       "      <td>20.0</td>\n",
       "      <td>8.4</td>\n",
       "      <td>12.0</td>\n",
       "      <td>Koei</td>\n",
       "      <td>T</td>\n",
       "    </tr>\n",
       "    <tr>\n",
       "      <th>2919</th>\n",
       "      <td>Advance Wars</td>\n",
       "      <td>GBA</td>\n",
       "      <td>2001.0</td>\n",
       "      <td>Strategy</td>\n",
       "      <td>Nintendo</td>\n",
       "      <td>0.50</td>\n",
       "      <td>0.19</td>\n",
       "      <td>0.00</td>\n",
       "      <td>0.01</td>\n",
       "      <td>0.70</td>\n",
       "      <td>92.0</td>\n",
       "      <td>28.0</td>\n",
       "      <td>9.0</td>\n",
       "      <td>95.0</td>\n",
       "      <td>Intelligent Systems</td>\n",
       "      <td>E</td>\n",
       "    </tr>\n",
       "    <tr>\n",
       "      <th>4111</th>\n",
       "      <td>Theme Park Roller Coaster</td>\n",
       "      <td>PS2</td>\n",
       "      <td>2000.0</td>\n",
       "      <td>Strategy</td>\n",
       "      <td>Electronic Arts</td>\n",
       "      <td>0.23</td>\n",
       "      <td>0.18</td>\n",
       "      <td>0.00</td>\n",
       "      <td>0.06</td>\n",
       "      <td>0.48</td>\n",
       "      <td>82.0</td>\n",
       "      <td>11.0</td>\n",
       "      <td>7.9</td>\n",
       "      <td>17.0</td>\n",
       "      <td>Bullfrog Productions</td>\n",
       "      <td>E</td>\n",
       "    </tr>\n",
       "  </tbody>\n",
       "</table>\n",
       "</div>"
      ],
      "text/plain": [
       "                           Name Platform  Year_of_Release     Genre  \\\n",
       "1128                     Pikmin       GC           2001.0  Strategy   \n",
       "1597     RollerCoaster Tycoon 2       PC           2002.0  Strategy   \n",
       "2172                     Kessen      PS2           2000.0  Strategy   \n",
       "2919               Advance Wars      GBA           2001.0  Strategy   \n",
       "4111  Theme Park Roller Coaster      PS2           2000.0  Strategy   \n",
       "\n",
       "            Publisher  NA_Sales  EU_Sales  JP_Sales  Other_Sales  \\\n",
       "1128         Nintendo      0.78      0.25      0.56         0.04   \n",
       "1597            Atari      1.19      0.05      0.00         0.00   \n",
       "2172  Electronic Arts      0.27      0.21      0.41         0.07   \n",
       "2919         Nintendo      0.50      0.19      0.00         0.01   \n",
       "4111  Electronic Arts      0.23      0.18      0.00         0.06   \n",
       "\n",
       "      Global_Sales  Critic_Score  Critic_Count  User_Score  User_Count  \\\n",
       "1128          1.63          89.0          39.0         8.7       121.0   \n",
       "1597          1.25          74.0          22.0         8.5       135.0   \n",
       "2172          0.95          75.0          20.0         8.4        12.0   \n",
       "2919          0.70          92.0          28.0         9.0        95.0   \n",
       "4111          0.48          82.0          11.0         7.9        17.0   \n",
       "\n",
       "                 Developer Rating  \n",
       "1128              Nintendo      E  \n",
       "1597          Chris Sawyer      E  \n",
       "2172                  Koei      T  \n",
       "2919   Intelligent Systems      E  \n",
       "4111  Bullfrog Productions      E  "
      ]
     },
     "execution_count": 5,
     "metadata": {},
     "output_type": "execute_result"
    }
   ],
   "source": [
    "df_recortado.head()"
   ]
  },
  {
   "cell_type": "code",
   "execution_count": 6,
   "id": "9ba726fb-198f-4df2-b62d-2a06dda1af0c",
   "metadata": {},
   "outputs": [
    {
     "name": "stdout",
     "output_type": "stream",
     "text": [
      "<class 'pandas.core.frame.DataFrame'>\n",
      "Int64Index: 31 entries, 1128 to 16210\n",
      "Data columns (total 16 columns):\n",
      " #   Column           Non-Null Count  Dtype  \n",
      "---  ------           --------------  -----  \n",
      " 0   Name             31 non-null     object \n",
      " 1   Platform         31 non-null     object \n",
      " 2   Year_of_Release  31 non-null     float64\n",
      " 3   Genre            31 non-null     object \n",
      " 4   Publisher        31 non-null     object \n",
      " 5   NA_Sales         31 non-null     float64\n",
      " 6   EU_Sales         31 non-null     float64\n",
      " 7   JP_Sales         31 non-null     float64\n",
      " 8   Other_Sales      31 non-null     float64\n",
      " 9   Global_Sales     31 non-null     float64\n",
      " 10  Critic_Score     31 non-null     float64\n",
      " 11  Critic_Count     31 non-null     float64\n",
      " 12  User_Score       31 non-null     float64\n",
      " 13  User_Count       31 non-null     float64\n",
      " 14  Developer        31 non-null     object \n",
      " 15  Rating           31 non-null     object \n",
      "dtypes: float64(10), object(6)\n",
      "memory usage: 4.1+ KB\n"
     ]
    }
   ],
   "source": [
    "df_recortado.info()"
   ]
  },
  {
   "cell_type": "code",
   "execution_count": 7,
   "id": "5b419b5d-c70e-43f5-baa0-f71a45e8c201",
   "metadata": {},
   "outputs": [
    {
     "data": {
      "text/plain": [
       "2002.0    12\n",
       "2001.0     8\n",
       "2000.0     5\n",
       "1999.0     3\n",
       "1998.0     3\n",
       "Name: Year_of_Release, dtype: int64"
      ]
     },
     "execution_count": 7,
     "metadata": {},
     "output_type": "execute_result"
    }
   ],
   "source": [
    "df_recortado.Year_of_Release.value_counts()"
   ]
  },
  {
   "cell_type": "code",
   "execution_count": 8,
   "id": "efc53a2b-86f4-499c-bb0b-71ce04703687",
   "metadata": {},
   "outputs": [],
   "source": [
    "publishers = df_recortado[\"Publisher\"].unique()"
   ]
  },
  {
   "cell_type": "code",
   "execution_count": 9,
   "id": "3f089c55",
   "metadata": {},
   "outputs": [],
   "source": [
    "sixth_console_generation_strategy_graph = Graph(directed=False) # não-dirigido\n",
    "sixth_console_generation_strategy_graph.add_vp('Publisher')\n",
    "sixth_console_generation_strategy_graph.add_vp('Games_released')\n",
    "sixth_console_generation_strategy_graph.add_ep('strength')\n",
    "\n",
    "for pub in publishers:\n",
    "    sixth_console_generation_strategy_graph.add_vertex(pub)\n",
    "    sixth_console_generation_strategy_graph.get_vertex(pub)['Publisher'] = pub\n",
    "    num_games = df_recortado['Name'].loc[df_recortado[\"Publisher\"] == pub].nunique() \n",
    "    sixth_console_generation_strategy_graph.get_vertex(pub)['Games_released'] = num_games"
   ]
  },
  {
   "cell_type": "code",
   "execution_count": 10,
   "id": "3ca50808",
   "metadata": {},
   "outputs": [
    {
     "name": "stdout",
     "output_type": "stream",
     "text": [
      "[1985, 1986, 1987, 1988, 1989, 1990, 1991, 1992, 1993, 1994, 1995, 1996, 1997, 1998, 1999, 2000, 2001, 2002]\n"
     ]
    }
   ],
   "source": [
    "sorted_years = list(range(1985, 2003))\n",
    "print(sorted_years)"
   ]
  },
  {
   "cell_type": "code",
   "execution_count": 11,
   "id": "26d39394",
   "metadata": {},
   "outputs": [],
   "source": [
    "df_list = []\n",
    "\n",
    "margem = 4\n",
    "for i in range(0, len(sorted_years), margem):\n",
    "    df_list.append(df_recortado[df_recortado['Year_of_Release'].isin(sorted_years[i:i+margem])])"
   ]
  },
  {
   "cell_type": "code",
   "execution_count": 12,
   "id": "1f867e97",
   "metadata": {},
   "outputs": [],
   "source": [
    "publisher_platforms = []\n",
    "for db in df_list:\n",
    "    publisher_platforms.append(db.groupby('Platform')['Publisher'].unique().to_dict())"
   ]
  },
  {
   "cell_type": "code",
   "execution_count": 13,
   "id": "02df32bf",
   "metadata": {},
   "outputs": [],
   "source": [
    "for platform_dict in publisher_platforms:\n",
    "    for platform, publishers in platform_dict.items():\n",
    "        for i in range(len(publishers)):\n",
    "            if i != len(publishers)-1:\n",
    "                next_vertex = i+1\n",
    "                while(next_vertex < len(publishers)):\n",
    "                    if(publishers[i] != publishers[next_vertex] and not sixth_console_generation_strategy_graph.has_edge(publishers[i], publishers[next_vertex])):\n",
    "                        sixth_console_generation_strategy_graph.add_edge(publishers[i], publishers[next_vertex])\n",
    "                        sixth_console_generation_strategy_graph.get_edge(publishers[i], publishers[next_vertex])['strength'] = 1\n",
    "                        next_vertex += 1\n",
    "                    else:\n",
    "                        sixth_console_generation_strategy_graph.get_edge(publishers[i], publishers[next_vertex])['strength'] += 1\n",
    "                        next_vertex += 1"
   ]
  },
  {
   "cell_type": "code",
   "execution_count": 14,
   "id": "b5f2ec67",
   "metadata": {},
   "outputs": [
    {
     "name": "stdout",
     "output_type": "stream",
     "text": [
      "número de vértices de g: 20\n"
     ]
    }
   ],
   "source": [
    "print('número de vértices de g:', sixth_console_generation_strategy_graph.num_vertices())"
   ]
  },
  {
   "cell_type": "code",
   "execution_count": 15,
   "id": "533e9649",
   "metadata": {},
   "outputs": [
    {
     "name": "stdout",
     "output_type": "stream",
     "text": [
      "número de arestaas de g: 47\n"
     ]
    }
   ],
   "source": [
    "print('número de arestaas de g:', sixth_console_generation_strategy_graph.num_edges())"
   ]
  },
  {
   "cell_type": "code",
   "execution_count": 16,
   "id": "84da6cd3",
   "metadata": {},
   "outputs": [],
   "source": [
    "gt_save(sixth_console_generation_strategy_graph, 'sixth_console_generation_strategy_graph.net.gz')"
   ]
  },
  {
   "cell_type": "code",
   "execution_count": 17,
   "id": "2edf2fb2",
   "metadata": {},
   "outputs": [],
   "source": [
    "g = gt_load('sixth_console_generation_strategy_graph.net.gz')\n",
    "g = gt_clean(g)\n",
    "cc = centrality.closeness(g)\n",
    "g.add_vp('closeness', cc)\n",
    "m = gt_draw.sfdp_layout(g)\n",
    "gt_move(g, m)\n",
    "gt_save(g, 'sixth_console_generation_strategy_sfdp.net.gz')"
   ]
  },
  {
   "cell_type": "markdown",
   "id": "ecf51b76",
   "metadata": {},
   "source": [
    "# Análise"
   ]
  },
  {
   "cell_type": "markdown",
   "id": "51500731",
   "metadata": {},
   "source": [
    "# Proximidade X Sucesso"
   ]
  },
  {
   "cell_type": "code",
   "execution_count": 18,
   "id": "cc020294",
   "metadata": {},
   "outputs": [],
   "source": [
    "df_pro_suc = df_recortado.copy()"
   ]
  },
  {
   "cell_type": "code",
   "execution_count": 19,
   "id": "df639a35",
   "metadata": {},
   "outputs": [],
   "source": [
    "g = gt_load(\"sixth_console_generation_strategy_sfdp.net.gz\")"
   ]
  },
  {
   "cell_type": "code",
   "execution_count": 20,
   "id": "8c1670eb",
   "metadata": {},
   "outputs": [
    {
     "data": {
      "text/html": [
       "<div>\n",
       "<style scoped>\n",
       "    .dataframe tbody tr th:only-of-type {\n",
       "        vertical-align: middle;\n",
       "    }\n",
       "\n",
       "    .dataframe tbody tr th {\n",
       "        vertical-align: top;\n",
       "    }\n",
       "\n",
       "    .dataframe thead th {\n",
       "        text-align: right;\n",
       "    }\n",
       "</style>\n",
       "<table border=\"1\" class=\"dataframe\">\n",
       "  <thead>\n",
       "    <tr style=\"text-align: right;\">\n",
       "      <th></th>\n",
       "      <th>Publisher</th>\n",
       "      <th>closeness</th>\n",
       "    </tr>\n",
       "    <tr>\n",
       "      <th>id</th>\n",
       "      <th></th>\n",
       "      <th></th>\n",
       "    </tr>\n",
       "  </thead>\n",
       "  <tbody>\n",
       "    <tr>\n",
       "      <th>Electronic Arts</th>\n",
       "      <td>Electronic Arts</td>\n",
       "      <td>0.555556</td>\n",
       "    </tr>\n",
       "    <tr>\n",
       "      <th>THQ</th>\n",
       "      <td>THQ</td>\n",
       "      <td>0.666667</td>\n",
       "    </tr>\n",
       "    <tr>\n",
       "      <th>Tecmo Koei</th>\n",
       "      <td>Tecmo Koei</td>\n",
       "      <td>1.000000</td>\n",
       "    </tr>\n",
       "    <tr>\n",
       "      <th>Ubisoft</th>\n",
       "      <td>Ubisoft</td>\n",
       "      <td>0.666667</td>\n",
       "    </tr>\n",
       "    <tr>\n",
       "      <th>Eidos Interactive</th>\n",
       "      <td>Eidos Interactive</td>\n",
       "      <td>0.666667</td>\n",
       "    </tr>\n",
       "  </tbody>\n",
       "</table>\n",
       "</div>"
      ],
      "text/plain": [
       "                           Publisher  closeness\n",
       "id                                             \n",
       "Electronic Arts      Electronic Arts   0.555556\n",
       "THQ                              THQ   0.666667\n",
       "Tecmo Koei                Tecmo Koei   1.000000\n",
       "Ubisoft                      Ubisoft   0.666667\n",
       "Eidos Interactive  Eidos Interactive   0.666667"
      ]
     },
     "execution_count": 20,
     "metadata": {},
     "output_type": "execute_result"
    }
   ],
   "source": [
    "data = gt_data(g)\n",
    "data.drop('Games_released', axis=1, inplace=True)\n",
    "data.head()"
   ]
  },
  {
   "cell_type": "code",
   "execution_count": 21,
   "id": "c417f186",
   "metadata": {},
   "outputs": [
    {
     "name": "stdout",
     "output_type": "stream",
     "text": [
      "<class 'pandas.core.frame.DataFrame'>\n",
      "Int64Index: 17 entries, 0 to 16\n",
      "Data columns (total 17 columns):\n",
      " #   Column           Non-Null Count  Dtype  \n",
      "---  ------           --------------  -----  \n",
      " 0   Name             17 non-null     object \n",
      " 1   Platform         17 non-null     object \n",
      " 2   Year_of_Release  17 non-null     float64\n",
      " 3   Genre            17 non-null     object \n",
      " 4   Publisher        17 non-null     object \n",
      " 5   NA_Sales         17 non-null     float64\n",
      " 6   EU_Sales         17 non-null     float64\n",
      " 7   JP_Sales         17 non-null     float64\n",
      " 8   Other_Sales      17 non-null     float64\n",
      " 9   Global_Sales     17 non-null     float64\n",
      " 10  Critic_Score     17 non-null     float64\n",
      " 11  Critic_Count     17 non-null     float64\n",
      " 12  User_Score       17 non-null     float64\n",
      " 13  User_Count       17 non-null     float64\n",
      " 14  Developer        17 non-null     object \n",
      " 15  Rating           17 non-null     object \n",
      " 16  closeness        17 non-null     float64\n",
      "dtypes: float64(11), object(6)\n",
      "memory usage: 2.4+ KB\n"
     ]
    }
   ],
   "source": [
    "df_pro_suc = pd.merge(df_pro_suc, data, on = \"Publisher\", how = \"inner\")\n",
    "df_pro_suc.info()"
   ]
  },
  {
   "cell_type": "code",
   "execution_count": 22,
   "id": "2a4cfab3",
   "metadata": {},
   "outputs": [
    {
     "data": {
      "image/png": "[encoded data removed]",
      "text/plain": [
       "<Figure size 640x480 with 1 Axes>"
      ]
     },
     "metadata": {},
     "output_type": "display_data"
    }
   ],
   "source": [
    "sns.regplot(x=df_pro_suc['closeness'], y=np.log(df_pro_suc['Global_Sales']), scatter_kws={\"color\": \"black\"}, line_kws={\"color\": \"red\"});"
   ]
  },
  {
   "cell_type": "code",
   "execution_count": 23,
   "id": "29dfc901",
   "metadata": {},
   "outputs": [],
   "source": [
    "result = reg.linear(data=df_pro_suc, formula='np.log(Global_Sales) ~ closeness')"
   ]
  },
  {
   "cell_type": "code",
   "execution_count": 24,
   "id": "6a20a0e0",
   "metadata": {},
   "outputs": [
    {
     "data": {
      "text/html": [
       "<style type=\"text/css\">\n",
       "#T_dab25_row0_col0 {\n",
       "  font-family: monospace;\n",
       "  text-align: left;\n",
       "}\n",
       "</style>\n",
       "<table id=\"T_dab25\">\n",
       "  <thead>\n",
       "  </thead>\n",
       "  <tbody>\n",
       "    <tr>\n",
       "      <td id=\"T_dab25_row0_col0\" class=\"data row0 col0\" >+0.279 (1.465)</td>\n",
       "    </tr>\n",
       "  </tbody>\n",
       "</table>\n"
      ],
      "text/plain": [
       "<pandas.io.formats.style.Styler at 0x7f4c8fc85660>"
      ]
     },
     "execution_count": 24,
     "metadata": {},
     "output_type": "execute_result"
    }
   ],
   "source": [
    "result.nano_summary()"
   ]
  },
  {
   "cell_type": "code",
   "execution_count": 25,
   "id": "294f8393",
   "metadata": {
    "scrolled": true
   },
   "outputs": [
    {
     "data": {
      "image/png": "[encoded data removed]",
      "text/plain": [
       "<Figure size 1280x480 with 2 Axes>"
      ]
     },
     "metadata": {},
     "output_type": "display_data"
    }
   ],
   "source": [
    "result.plot_residuals()"
   ]
  }
 ],
 "metadata": {
  "kernelspec": {
   "display_name": "Python 3 (ipykernel)",
   "language": "python",
   "name": "python3"
  },
  "language_info": {
   "codemirror_mode": {
    "name": "ipython",
    "version": 3
   },
   "file_extension": ".py",
   "mimetype": "text/x-python",
   "name": "python",
   "nbconvert_exporter": "python",
   "pygments_lexer": "ipython3",
   "version": "3.10.6"
  }
 },
 "nbformat": 4,
 "nbformat_minor": 5
}
