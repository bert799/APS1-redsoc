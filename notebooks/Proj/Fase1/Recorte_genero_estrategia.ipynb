{
 "cells": [
  {
   "cell_type": "markdown",
   "id": "2382f740-c37b-42c3-9594-6b6f97627d89",
   "metadata": {},
   "source": [
    "# Recorte Estratégia"
   ]
  },
  {
   "cell_type": "code",
   "execution_count": 1,
   "id": "439060c5-0ee8-4cfd-8368-dd33656984a3",
   "metadata": {},
   "outputs": [
    {
     "data": {
      "text/html": [
       "\n",
       "    <script src=\"/files/netpixi.min.js\"></script>\n"
      ],
      "text/plain": [
       "<IPython.core.display.HTML object>"
      ]
     },
     "metadata": {},
     "output_type": "display_data"
    },
    {
     "name": "stderr",
     "output_type": "stream",
     "text": [
      "<frozen importlib._bootstrap>:914: ImportWarning: VendorImporter.find_spec() not found; falling back to find_module()\n",
      "/usr/local/lib/python3.10/site-packages/seaborn/rcmod.py:82: DeprecationWarning: distutils Version classes are deprecated. Use packaging.version instead.\n",
      "  if LooseVersion(mpl.__version__) >= \"3.0\":\n",
      "/usr/local/lib/python3.10/site-packages/setuptools/_distutils/version.py:346: DeprecationWarning: distutils Version classes are deprecated. Use packaging.version instead.\n",
      "  other = LooseVersion(other)\n",
      "<frozen importlib._bootstrap>:914: ImportWarning: VendorImporter.find_spec() not found; falling back to find_module()\n",
      "/usr/local/lib/python3.10/site-packages/seaborn/cm.py:1582: PendingDeprecationWarning: The register_cmap function will be deprecated in a future version. Use ``matplotlib.colormaps.register(name)`` instead.\n",
      "  mpl_cm.register_cmap(_name, _cmap)\n",
      "/usr/local/lib/python3.10/site-packages/seaborn/cm.py:1583: PendingDeprecationWarning: The register_cmap function will be deprecated in a future version. Use ``matplotlib.colormaps.register(name)`` instead.\n",
      "  mpl_cm.register_cmap(_name + \"_r\", _cmap_r)\n",
      "<frozen importlib._bootstrap>:914: ImportWarning: VendorImporter.find_spec() not found; falling back to find_module()\n",
      "/usr/local/lib/python3.10/site-packages/seaborn/rcmod.py:400: DeprecationWarning: distutils Version classes are deprecated. Use packaging.version instead.\n",
      "  if LooseVersion(mpl.__version__) >= \"3.0\":\n",
      "/usr/local/lib/python3.10/site-packages/setuptools/_distutils/version.py:346: DeprecationWarning: distutils Version classes are deprecated. Use packaging.version instead.\n",
      "  other = LooseVersion(other)\n"
     ]
    }
   ],
   "source": [
    "# Importando bibliotecas necessárias para a construção de grafos\n",
    "import netpixi\n",
    "from netpixi.integration.gt import *\n",
    "from regression.integration.gt import *\n",
    "import pandas as pd\n",
    "import numpy as np\n",
    "import csv\n",
    "import ast\n",
    "import cpnet\n",
    "from graph_tool import spectral\n",
    "import seaborn as sns\n",
    "import regression as reg\n",
    "import cpnet\n",
    "\n",
    "from scipy import stats\n",
    "from matplotlib import pyplot as plt\n",
    "from graph_tool import centrality\n",
    "from graph_tool import spectral"
   ]
  },
  {
   "cell_type": "code",
   "execution_count": 2,
   "id": "53418d7d-5912-4706-8c88-db73c035180c",
   "metadata": {},
   "outputs": [],
   "source": [
    "df = pd.read_csv('./Video_Games_Sales_as_at_22_Dec_2016.csv')\n",
    "df.dropna(subset=['Publisher'], inplace=True)\n",
    "df = df.loc[~df['Critic_Score'].isna() & ~df['User_Score'].isna() & ~df['Rating'].isna()]"
   ]
  },
  {
   "cell_type": "code",
   "execution_count": 3,
   "id": "c1b50c7f-3457-431e-b884-bc966843eb81",
   "metadata": {},
   "outputs": [
    {
     "data": {
      "text/html": [
       "<div>\n",
       "<style scoped>\n",
       "    .dataframe tbody tr th:only-of-type {\n",
       "        vertical-align: middle;\n",
       "    }\n",
       "\n",
       "    .dataframe tbody tr th {\n",
       "        vertical-align: top;\n",
       "    }\n",
       "\n",
       "    .dataframe thead th {\n",
       "        text-align: right;\n",
       "    }\n",
       "</style>\n",
       "<table border=\"1\" class=\"dataframe\">\n",
       "  <thead>\n",
       "    <tr style=\"text-align: right;\">\n",
       "      <th></th>\n",
       "      <th>Name</th>\n",
       "      <th>Platform</th>\n",
       "      <th>Year_of_Release</th>\n",
       "      <th>Genre</th>\n",
       "      <th>Publisher</th>\n",
       "      <th>NA_Sales</th>\n",
       "      <th>EU_Sales</th>\n",
       "      <th>JP_Sales</th>\n",
       "      <th>Other_Sales</th>\n",
       "      <th>Global_Sales</th>\n",
       "      <th>Critic_Score</th>\n",
       "      <th>Critic_Count</th>\n",
       "      <th>User_Score</th>\n",
       "      <th>User_Count</th>\n",
       "      <th>Developer</th>\n",
       "      <th>Rating</th>\n",
       "    </tr>\n",
       "  </thead>\n",
       "  <tbody>\n",
       "    <tr>\n",
       "      <th>0</th>\n",
       "      <td>Wii Sports</td>\n",
       "      <td>Wii</td>\n",
       "      <td>2006.0</td>\n",
       "      <td>Sports</td>\n",
       "      <td>Nintendo</td>\n",
       "      <td>41.36</td>\n",
       "      <td>28.96</td>\n",
       "      <td>3.77</td>\n",
       "      <td>8.45</td>\n",
       "      <td>82.53</td>\n",
       "      <td>76.0</td>\n",
       "      <td>51.0</td>\n",
       "      <td>8.0</td>\n",
       "      <td>322.0</td>\n",
       "      <td>Nintendo</td>\n",
       "      <td>E</td>\n",
       "    </tr>\n",
       "    <tr>\n",
       "      <th>2</th>\n",
       "      <td>Mario Kart Wii</td>\n",
       "      <td>Wii</td>\n",
       "      <td>2008.0</td>\n",
       "      <td>Racing</td>\n",
       "      <td>Nintendo</td>\n",
       "      <td>15.68</td>\n",
       "      <td>12.76</td>\n",
       "      <td>3.79</td>\n",
       "      <td>3.29</td>\n",
       "      <td>35.52</td>\n",
       "      <td>82.0</td>\n",
       "      <td>73.0</td>\n",
       "      <td>8.3</td>\n",
       "      <td>709.0</td>\n",
       "      <td>Nintendo</td>\n",
       "      <td>E</td>\n",
       "    </tr>\n",
       "    <tr>\n",
       "      <th>3</th>\n",
       "      <td>Wii Sports Resort</td>\n",
       "      <td>Wii</td>\n",
       "      <td>2009.0</td>\n",
       "      <td>Sports</td>\n",
       "      <td>Nintendo</td>\n",
       "      <td>15.61</td>\n",
       "      <td>10.93</td>\n",
       "      <td>3.28</td>\n",
       "      <td>2.95</td>\n",
       "      <td>32.77</td>\n",
       "      <td>80.0</td>\n",
       "      <td>73.0</td>\n",
       "      <td>8.0</td>\n",
       "      <td>192.0</td>\n",
       "      <td>Nintendo</td>\n",
       "      <td>E</td>\n",
       "    </tr>\n",
       "    <tr>\n",
       "      <th>6</th>\n",
       "      <td>New Super Mario Bros.</td>\n",
       "      <td>DS</td>\n",
       "      <td>2006.0</td>\n",
       "      <td>Platform</td>\n",
       "      <td>Nintendo</td>\n",
       "      <td>11.28</td>\n",
       "      <td>9.14</td>\n",
       "      <td>6.50</td>\n",
       "      <td>2.88</td>\n",
       "      <td>29.80</td>\n",
       "      <td>89.0</td>\n",
       "      <td>65.0</td>\n",
       "      <td>8.5</td>\n",
       "      <td>431.0</td>\n",
       "      <td>Nintendo</td>\n",
       "      <td>E</td>\n",
       "    </tr>\n",
       "    <tr>\n",
       "      <th>7</th>\n",
       "      <td>Wii Play</td>\n",
       "      <td>Wii</td>\n",
       "      <td>2006.0</td>\n",
       "      <td>Misc</td>\n",
       "      <td>Nintendo</td>\n",
       "      <td>13.96</td>\n",
       "      <td>9.18</td>\n",
       "      <td>2.93</td>\n",
       "      <td>2.84</td>\n",
       "      <td>28.92</td>\n",
       "      <td>58.0</td>\n",
       "      <td>41.0</td>\n",
       "      <td>6.6</td>\n",
       "      <td>129.0</td>\n",
       "      <td>Nintendo</td>\n",
       "      <td>E</td>\n",
       "    </tr>\n",
       "  </tbody>\n",
       "</table>\n",
       "</div>"
      ],
      "text/plain": [
       "                    Name Platform  Year_of_Release     Genre Publisher  \\\n",
       "0             Wii Sports      Wii           2006.0    Sports  Nintendo   \n",
       "2         Mario Kart Wii      Wii           2008.0    Racing  Nintendo   \n",
       "3      Wii Sports Resort      Wii           2009.0    Sports  Nintendo   \n",
       "6  New Super Mario Bros.       DS           2006.0  Platform  Nintendo   \n",
       "7               Wii Play      Wii           2006.0      Misc  Nintendo   \n",
       "\n",
       "   NA_Sales  EU_Sales  JP_Sales  Other_Sales  Global_Sales  Critic_Score  \\\n",
       "0     41.36     28.96      3.77         8.45         82.53          76.0   \n",
       "2     15.68     12.76      3.79         3.29         35.52          82.0   \n",
       "3     15.61     10.93      3.28         2.95         32.77          80.0   \n",
       "6     11.28      9.14      6.50         2.88         29.80          89.0   \n",
       "7     13.96      9.18      2.93         2.84         28.92          58.0   \n",
       "\n",
       "   Critic_Count  User_Score  User_Count Developer Rating  \n",
       "0          51.0         8.0       322.0  Nintendo      E  \n",
       "2          73.0         8.3       709.0  Nintendo      E  \n",
       "3          73.0         8.0       192.0  Nintendo      E  \n",
       "6          65.0         8.5       431.0  Nintendo      E  \n",
       "7          41.0         6.6       129.0  Nintendo      E  "
      ]
     },
     "execution_count": 3,
     "metadata": {},
     "output_type": "execute_result"
    }
   ],
   "source": [
    "df.head()"
   ]
  },
  {
   "cell_type": "code",
   "execution_count": 4,
   "id": "be8379db-25de-42da-88a9-81f4f555f222",
   "metadata": {},
   "outputs": [],
   "source": [
    "df_recortado = df.loc[(df['Genre'] == 'Strategy')] "
   ]
  },
  {
   "cell_type": "code",
   "execution_count": 5,
   "id": "c6e198bd-c628-45fd-9903-384fe69373d3",
   "metadata": {},
   "outputs": [
    {
     "data": {
      "text/html": [
       "<div>\n",
       "<style scoped>\n",
       "    .dataframe tbody tr th:only-of-type {\n",
       "        vertical-align: middle;\n",
       "    }\n",
       "\n",
       "    .dataframe tbody tr th {\n",
       "        vertical-align: top;\n",
       "    }\n",
       "\n",
       "    .dataframe thead th {\n",
       "        text-align: right;\n",
       "    }\n",
       "</style>\n",
       "<table border=\"1\" class=\"dataframe\">\n",
       "  <thead>\n",
       "    <tr style=\"text-align: right;\">\n",
       "      <th></th>\n",
       "      <th>Name</th>\n",
       "      <th>Platform</th>\n",
       "      <th>Year_of_Release</th>\n",
       "      <th>Genre</th>\n",
       "      <th>Publisher</th>\n",
       "      <th>NA_Sales</th>\n",
       "      <th>EU_Sales</th>\n",
       "      <th>JP_Sales</th>\n",
       "      <th>Other_Sales</th>\n",
       "      <th>Global_Sales</th>\n",
       "      <th>Critic_Score</th>\n",
       "      <th>Critic_Count</th>\n",
       "      <th>User_Score</th>\n",
       "      <th>User_Count</th>\n",
       "      <th>Developer</th>\n",
       "      <th>Rating</th>\n",
       "    </tr>\n",
       "  </thead>\n",
       "  <tbody>\n",
       "    <tr>\n",
       "      <th>218</th>\n",
       "      <td>StarCraft II: Wings of Liberty</td>\n",
       "      <td>PC</td>\n",
       "      <td>2010.0</td>\n",
       "      <td>Strategy</td>\n",
       "      <td>Activision</td>\n",
       "      <td>2.57</td>\n",
       "      <td>1.68</td>\n",
       "      <td>0.00</td>\n",
       "      <td>0.58</td>\n",
       "      <td>4.84</td>\n",
       "      <td>93.0</td>\n",
       "      <td>82.0</td>\n",
       "      <td>8.2</td>\n",
       "      <td>3052.0</td>\n",
       "      <td>Blizzard Entertainment</td>\n",
       "      <td>T</td>\n",
       "    </tr>\n",
       "    <tr>\n",
       "      <th>582</th>\n",
       "      <td>Halo Wars</td>\n",
       "      <td>X360</td>\n",
       "      <td>2009.0</td>\n",
       "      <td>Strategy</td>\n",
       "      <td>Microsoft Game Studios</td>\n",
       "      <td>1.54</td>\n",
       "      <td>0.80</td>\n",
       "      <td>0.04</td>\n",
       "      <td>0.24</td>\n",
       "      <td>2.62</td>\n",
       "      <td>82.0</td>\n",
       "      <td>92.0</td>\n",
       "      <td>7.2</td>\n",
       "      <td>454.0</td>\n",
       "      <td>Ensemble Studios</td>\n",
       "      <td>T</td>\n",
       "    </tr>\n",
       "    <tr>\n",
       "      <th>1078</th>\n",
       "      <td>Sid Meier's Civilization V</td>\n",
       "      <td>PC</td>\n",
       "      <td>2010.0</td>\n",
       "      <td>Strategy</td>\n",
       "      <td>Take-Two Interactive</td>\n",
       "      <td>0.98</td>\n",
       "      <td>0.52</td>\n",
       "      <td>0.00</td>\n",
       "      <td>0.17</td>\n",
       "      <td>1.68</td>\n",
       "      <td>90.0</td>\n",
       "      <td>70.0</td>\n",
       "      <td>7.9</td>\n",
       "      <td>2280.0</td>\n",
       "      <td>Firaxis Games</td>\n",
       "      <td>E10+</td>\n",
       "    </tr>\n",
       "    <tr>\n",
       "      <th>1095</th>\n",
       "      <td>StarCraft II: Heart of the Swarm</td>\n",
       "      <td>PC</td>\n",
       "      <td>2013.0</td>\n",
       "      <td>Strategy</td>\n",
       "      <td>Activision</td>\n",
       "      <td>0.83</td>\n",
       "      <td>0.66</td>\n",
       "      <td>0.00</td>\n",
       "      <td>0.18</td>\n",
       "      <td>1.67</td>\n",
       "      <td>86.0</td>\n",
       "      <td>68.0</td>\n",
       "      <td>7.9</td>\n",
       "      <td>1346.0</td>\n",
       "      <td>Blizzard Entertainment</td>\n",
       "      <td>T</td>\n",
       "    </tr>\n",
       "    <tr>\n",
       "      <th>1128</th>\n",
       "      <td>Pikmin</td>\n",
       "      <td>GC</td>\n",
       "      <td>2001.0</td>\n",
       "      <td>Strategy</td>\n",
       "      <td>Nintendo</td>\n",
       "      <td>0.78</td>\n",
       "      <td>0.25</td>\n",
       "      <td>0.56</td>\n",
       "      <td>0.04</td>\n",
       "      <td>1.63</td>\n",
       "      <td>89.0</td>\n",
       "      <td>39.0</td>\n",
       "      <td>8.7</td>\n",
       "      <td>121.0</td>\n",
       "      <td>Nintendo</td>\n",
       "      <td>E</td>\n",
       "    </tr>\n",
       "  </tbody>\n",
       "</table>\n",
       "</div>"
      ],
      "text/plain": [
       "                                  Name Platform  Year_of_Release     Genre  \\\n",
       "218     StarCraft II: Wings of Liberty       PC           2010.0  Strategy   \n",
       "582                          Halo Wars     X360           2009.0  Strategy   \n",
       "1078        Sid Meier's Civilization V       PC           2010.0  Strategy   \n",
       "1095  StarCraft II: Heart of the Swarm       PC           2013.0  Strategy   \n",
       "1128                            Pikmin       GC           2001.0  Strategy   \n",
       "\n",
       "                   Publisher  NA_Sales  EU_Sales  JP_Sales  Other_Sales  \\\n",
       "218               Activision      2.57      1.68      0.00         0.58   \n",
       "582   Microsoft Game Studios      1.54      0.80      0.04         0.24   \n",
       "1078    Take-Two Interactive      0.98      0.52      0.00         0.17   \n",
       "1095              Activision      0.83      0.66      0.00         0.18   \n",
       "1128                Nintendo      0.78      0.25      0.56         0.04   \n",
       "\n",
       "      Global_Sales  Critic_Score  Critic_Count  User_Score  User_Count  \\\n",
       "218           4.84          93.0          82.0         8.2      3052.0   \n",
       "582           2.62          82.0          92.0         7.2       454.0   \n",
       "1078          1.68          90.0          70.0         7.9      2280.0   \n",
       "1095          1.67          86.0          68.0         7.9      1346.0   \n",
       "1128          1.63          89.0          39.0         8.7       121.0   \n",
       "\n",
       "                   Developer Rating  \n",
       "218   Blizzard Entertainment      T  \n",
       "582         Ensemble Studios      T  \n",
       "1078           Firaxis Games   E10+  \n",
       "1095  Blizzard Entertainment      T  \n",
       "1128                Nintendo      E  "
      ]
     },
     "execution_count": 5,
     "metadata": {},
     "output_type": "execute_result"
    }
   ],
   "source": [
    "df_recortado.head()"
   ]
  },
  {
   "cell_type": "code",
   "execution_count": 6,
   "id": "9ba726fb-198f-4df2-b62d-2a06dda1af0c",
   "metadata": {},
   "outputs": [
    {
     "name": "stdout",
     "output_type": "stream",
     "text": [
      "<class 'pandas.core.frame.DataFrame'>\n",
      "Int64Index: 272 entries, 218 to 16706\n",
      "Data columns (total 16 columns):\n",
      " #   Column           Non-Null Count  Dtype  \n",
      "---  ------           --------------  -----  \n",
      " 0   Name             272 non-null    object \n",
      " 1   Platform         272 non-null    object \n",
      " 2   Year_of_Release  267 non-null    float64\n",
      " 3   Genre            272 non-null    object \n",
      " 4   Publisher        272 non-null    object \n",
      " 5   NA_Sales         272 non-null    float64\n",
      " 6   EU_Sales         272 non-null    float64\n",
      " 7   JP_Sales         272 non-null    float64\n",
      " 8   Other_Sales      272 non-null    float64\n",
      " 9   Global_Sales     272 non-null    float64\n",
      " 10  Critic_Score     272 non-null    float64\n",
      " 11  Critic_Count     272 non-null    float64\n",
      " 12  User_Score       272 non-null    float64\n",
      " 13  User_Count       272 non-null    float64\n",
      " 14  Developer        272 non-null    object \n",
      " 15  Rating           272 non-null    object \n",
      "dtypes: float64(10), object(6)\n",
      "memory usage: 36.1+ KB\n"
     ]
    }
   ],
   "source": [
    "df_recortado.info()"
   ]
  },
  {
   "cell_type": "code",
   "execution_count": 7,
   "id": "efc53a2b-86f4-499c-bb0b-71ce04703687",
   "metadata": {},
   "outputs": [],
   "source": [
    "publishers = df_recortado[\"Publisher\"].unique()"
   ]
  },
  {
   "cell_type": "code",
   "execution_count": 8,
   "id": "a1eb386d",
   "metadata": {},
   "outputs": [],
   "source": [
    "strategy_graph = Graph(directed=False) # não-dirigido\n",
    "strategy_graph.add_vp('Publisher')\n",
    "strategy_graph.add_vp('Games_released')\n",
    "strategy_graph.add_ep('strength')\n",
    "\n",
    "for pub in publishers:\n",
    "    strategy_graph.add_vertex(pub)\n",
    "    strategy_graph.get_vertex(pub)['Publisher'] = pub\n",
    "    num_games = df_recortado['Name'].loc[df_recortado[\"Publisher\"] == pub].nunique() \n",
    "    strategy_graph.get_vertex(pub)['Games_released'] = num_games"
   ]
  },
  {
   "cell_type": "code",
   "execution_count": 9,
   "id": "9af196d6",
   "metadata": {},
   "outputs": [
    {
     "name": "stdout",
     "output_type": "stream",
     "text": [
      "[1985, 1986, 1987, 1988, 1989, 1990, 1991, 1992, 1993, 1994, 1995, 1996, 1997, 1998, 1999, 2000, 2001, 2002, 2003, 2004, 2005, 2006, 2007, 2008, 2009, 2010, 2011, 2012, 2013, 2014, 2015, 2016]\n"
     ]
    }
   ],
   "source": [
    "sorted_years = list(range(1985, 2017))\n",
    "print(sorted_years)"
   ]
  },
  {
   "cell_type": "code",
   "execution_count": 10,
   "id": "b89e8460",
   "metadata": {},
   "outputs": [],
   "source": [
    "df_list = []\n",
    "\n",
    "margem = 4\n",
    "for i in range(0, len(sorted_years), margem):\n",
    "    df_list.append(df_recortado[df_recortado['Year_of_Release'].isin(sorted_years[i:i+margem])])"
   ]
  },
  {
   "cell_type": "code",
   "execution_count": 11,
   "id": "91419c4a",
   "metadata": {},
   "outputs": [],
   "source": [
    "publisher_platforms = []\n",
    "for db in df_list:\n",
    "    publisher_platforms.append(db.groupby('Platform')['Publisher'].unique().to_dict())"
   ]
  },
  {
   "cell_type": "code",
   "execution_count": 12,
   "id": "29be259e",
   "metadata": {},
   "outputs": [],
   "source": [
    "for platform_dict in publisher_platforms:\n",
    "    for platform, publishers in platform_dict.items():\n",
    "        for i in range(len(publishers)):\n",
    "            if i != len(publishers)-1:\n",
    "                next_vertex = i+1\n",
    "                while(next_vertex < len(publishers)):\n",
    "                    if(publishers[i] != publishers[next_vertex] and not strategy_graph.has_edge(publishers[i], publishers[next_vertex])):\n",
    "                        strategy_graph.add_edge(publishers[i], publishers[next_vertex])\n",
    "                        strategy_graph.get_edge(publishers[i], publishers[next_vertex])['strength'] = 1\n",
    "                        next_vertex += 1\n",
    "                    else:\n",
    "                        strategy_graph.get_edge(publishers[i], publishers[next_vertex])['strength'] += 1\n",
    "                        next_vertex += 1"
   ]
  },
  {
   "cell_type": "code",
   "execution_count": 13,
   "id": "fa8c1b94",
   "metadata": {},
   "outputs": [
    {
     "name": "stdout",
     "output_type": "stream",
     "text": [
      "número de vértices de g: 57\n"
     ]
    }
   ],
   "source": [
    "print('número de vértices de g:', strategy_graph.num_vertices())"
   ]
  },
  {
   "cell_type": "code",
   "execution_count": 14,
   "id": "acda6094",
   "metadata": {},
   "outputs": [
    {
     "name": "stdout",
     "output_type": "stream",
     "text": [
      "número de arestaas de g: 539\n"
     ]
    }
   ],
   "source": [
    "print('número de arestaas de g:', strategy_graph.num_edges())"
   ]
  },
  {
   "cell_type": "code",
   "execution_count": 15,
   "id": "9bb5a158",
   "metadata": {},
   "outputs": [],
   "source": [
    "gt_save(strategy_graph, 'strategy_graph.net.gz')"
   ]
  },
  {
   "cell_type": "code",
   "execution_count": 16,
   "id": "3e9ebc43",
   "metadata": {},
   "outputs": [],
   "source": [
    "g = gt_load('strategy_graph.net.gz')\n",
    "g = gt_clean(g)\n",
    "cc = centrality.closeness(g)\n",
    "g.add_vp('closeness', cc)\n",
    "m = gt_draw.sfdp_layout(g)\n",
    "gt_move(g, m)\n",
    "gt_save(g, 'strategy_sfdp.net.gz')"
   ]
  },
  {
   "cell_type": "markdown",
   "id": "da68e883",
   "metadata": {},
   "source": [
    "# Análise"
   ]
  },
  {
   "cell_type": "code",
   "execution_count": 17,
   "id": "1ce00e76",
   "metadata": {
    "scrolled": false
   },
   "outputs": [
    {
     "data": {
      "text/plain": [
       "<AxesSubplot: xlabel='Global_Sales', ylabel='Count'>"
      ]
     },
     "execution_count": 17,
     "metadata": {},
     "output_type": "execute_result"
    },
    {
     "data": {
      "image/png": "[encoded data removed]",
      "text/plain": [
       "<Figure size 640x480 with 1 Axes>"
      ]
     },
     "metadata": {},
     "output_type": "display_data"
    }
   ],
   "source": [
    "sns.histplot(np.log(df_recortado['Global_Sales']))"
   ]
  },
  {
   "cell_type": "markdown",
   "id": "b2d33dc0",
   "metadata": {},
   "source": [
    "# Proximidade X Sucesso"
   ]
  },
  {
   "cell_type": "code",
   "execution_count": 18,
   "id": "3dd838fc",
   "metadata": {},
   "outputs": [],
   "source": [
    "df_pro_suc = df_recortado.copy()"
   ]
  },
  {
   "cell_type": "code",
   "execution_count": 19,
   "id": "86dfffde",
   "metadata": {},
   "outputs": [],
   "source": [
    "g = gt_load(\"strategy_sfdp.net.gz\")"
   ]
  },
  {
   "cell_type": "code",
   "execution_count": 20,
   "id": "d7244ce3",
   "metadata": {},
   "outputs": [
    {
     "data": {
      "text/html": [
       "<div>\n",
       "<style scoped>\n",
       "    .dataframe tbody tr th:only-of-type {\n",
       "        vertical-align: middle;\n",
       "    }\n",
       "\n",
       "    .dataframe tbody tr th {\n",
       "        vertical-align: top;\n",
       "    }\n",
       "\n",
       "    .dataframe thead th {\n",
       "        text-align: right;\n",
       "    }\n",
       "</style>\n",
       "<table border=\"1\" class=\"dataframe\">\n",
       "  <thead>\n",
       "    <tr style=\"text-align: right;\">\n",
       "      <th></th>\n",
       "      <th>Publisher</th>\n",
       "      <th>closeness</th>\n",
       "    </tr>\n",
       "    <tr>\n",
       "      <th>id</th>\n",
       "      <th></th>\n",
       "      <th></th>\n",
       "    </tr>\n",
       "  </thead>\n",
       "  <tbody>\n",
       "    <tr>\n",
       "      <th>Activision</th>\n",
       "      <td>Activision</td>\n",
       "      <td>0.739726</td>\n",
       "    </tr>\n",
       "    <tr>\n",
       "      <th>Microsoft Game Studios</th>\n",
       "      <td>Microsoft Game Studios</td>\n",
       "      <td>0.692308</td>\n",
       "    </tr>\n",
       "    <tr>\n",
       "      <th>Take-Two Interactive</th>\n",
       "      <td>Take-Two Interactive</td>\n",
       "      <td>0.750000</td>\n",
       "    </tr>\n",
       "    <tr>\n",
       "      <th>Nintendo</th>\n",
       "      <td>Nintendo</td>\n",
       "      <td>0.593407</td>\n",
       "    </tr>\n",
       "    <tr>\n",
       "      <th>Ubisoft</th>\n",
       "      <td>Ubisoft</td>\n",
       "      <td>0.830769</td>\n",
       "    </tr>\n",
       "  </tbody>\n",
       "</table>\n",
       "</div>"
      ],
      "text/plain": [
       "                                     Publisher  closeness\n",
       "id                                                       \n",
       "Activision                          Activision   0.739726\n",
       "Microsoft Game Studios  Microsoft Game Studios   0.692308\n",
       "Take-Two Interactive      Take-Two Interactive   0.750000\n",
       "Nintendo                              Nintendo   0.593407\n",
       "Ubisoft                                Ubisoft   0.830769"
      ]
     },
     "execution_count": 20,
     "metadata": {},
     "output_type": "execute_result"
    }
   ],
   "source": [
    "data = gt_data(g)\n",
    "data.drop('Games_released', axis=1, inplace=True)\n",
    "data.head()"
   ]
  },
  {
   "cell_type": "code",
   "execution_count": 21,
   "id": "56db50d7",
   "metadata": {},
   "outputs": [
    {
     "name": "stdout",
     "output_type": "stream",
     "text": [
      "<class 'pandas.core.frame.DataFrame'>\n",
      "Int64Index: 269 entries, 0 to 268\n",
      "Data columns (total 17 columns):\n",
      " #   Column           Non-Null Count  Dtype  \n",
      "---  ------           --------------  -----  \n",
      " 0   Name             269 non-null    object \n",
      " 1   Platform         269 non-null    object \n",
      " 2   Year_of_Release  264 non-null    float64\n",
      " 3   Genre            269 non-null    object \n",
      " 4   Publisher        269 non-null    object \n",
      " 5   NA_Sales         269 non-null    float64\n",
      " 6   EU_Sales         269 non-null    float64\n",
      " 7   JP_Sales         269 non-null    float64\n",
      " 8   Other_Sales      269 non-null    float64\n",
      " 9   Global_Sales     269 non-null    float64\n",
      " 10  Critic_Score     269 non-null    float64\n",
      " 11  Critic_Count     269 non-null    float64\n",
      " 12  User_Score       269 non-null    float64\n",
      " 13  User_Count       269 non-null    float64\n",
      " 14  Developer        269 non-null    object \n",
      " 15  Rating           269 non-null    object \n",
      " 16  closeness        269 non-null    float64\n",
      "dtypes: float64(11), object(6)\n",
      "memory usage: 37.8+ KB\n"
     ]
    }
   ],
   "source": [
    "df_pro_suc = pd.merge(df_pro_suc, data, on = \"Publisher\", how = \"inner\")\n",
    "df_pro_suc.info()"
   ]
  },
  {
   "cell_type": "code",
   "execution_count": 22,
   "id": "5e0840cf",
   "metadata": {},
   "outputs": [
    {
     "data": {
      "image/png": "[encoded data removed]",
      "text/plain": [
       "<Figure size 640x480 with 1 Axes>"
      ]
     },
     "metadata": {},
     "output_type": "display_data"
    }
   ],
   "source": [
    "sns.regplot(x=df_pro_suc['closeness'], y=np.log(df_pro_suc['Global_Sales']), scatter_kws={\"color\": \"black\"}, line_kws={\"color\": \"red\"});"
   ]
  },
  {
   "cell_type": "code",
   "execution_count": 23,
   "id": "e586409a",
   "metadata": {},
   "outputs": [],
   "source": [
    "result = reg.linear(data=df_pro_suc, formula='np.log(Global_Sales) ~ closeness')"
   ]
  },
  {
   "cell_type": "code",
   "execution_count": 24,
   "id": "7e70a59e",
   "metadata": {},
   "outputs": [
    {
     "data": {
      "text/html": [
       "<style type=\"text/css\">\n",
       "#T_422e7_row0_col0 {\n",
       "  font-family: monospace;\n",
       "  text-align: left;\n",
       "}\n",
       "</style>\n",
       "<table id=\"T_422e7\">\n",
       "  <thead>\n",
       "  </thead>\n",
       "  <tbody>\n",
       "    <tr>\n",
       "      <td id=\"T_422e7_row0_col0\" class=\"data row0 col0\" >+2.480 (0.641) ***</td>\n",
       "    </tr>\n",
       "  </tbody>\n",
       "</table>\n"
      ],
      "text/plain": [
       "<pandas.io.formats.style.Styler at 0x7f178ef1b2b0>"
      ]
     },
     "execution_count": 24,
     "metadata": {},
     "output_type": "execute_result"
    }
   ],
   "source": [
    "result.nano_summary()"
   ]
  },
  {
   "cell_type": "code",
   "execution_count": 25,
   "id": "5380427a",
   "metadata": {
    "scrolled": false
   },
   "outputs": [
    {
     "data": {
      "image/png": "[encoded data removed]",
      "text/plain": [
       "<Figure size 1280x480 with 2 Axes>"
      ]
     },
     "metadata": {},
     "output_type": "display_data"
    }
   ],
   "source": [
    "result.plot_residuals()"
   ]
  },
  {
   "cell_type": "code",
   "execution_count": null,
   "id": "2332d7cc",
   "metadata": {},
   "outputs": [],
   "source": []
  }
 ],
 "metadata": {
  "kernelspec": {
   "display_name": "Python 3 (ipykernel)",
   "language": "python",
   "name": "python3"
  },
  "language_info": {
   "codemirror_mode": {
    "name": "ipython",
    "version": 3
   },
   "file_extension": ".py",
   "mimetype": "text/x-python",
   "name": "python",
   "nbconvert_exporter": "python",
   "pygments_lexer": "ipython3",
   "version": "3.10.6"
  }
 },
 "nbformat": 4,
 "nbformat_minor": 5
}
