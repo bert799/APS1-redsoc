{
 "cells": [
  {
   "cell_type": "markdown",
   "id": "2382f740-c37b-42c3-9594-6b6f97627d89",
   "metadata": {},
   "source": [
    "# Recorte 2014 - 2016 -> Estrategia"
   ]
  },
  {
   "cell_type": "code",
   "execution_count": 1,
   "id": "439060c5-0ee8-4cfd-8368-dd33656984a3",
   "metadata": {},
   "outputs": [
    {
     "data": {
      "text/html": [
       "\n",
       "    <script src=\"/files/netpixi.min.js\"></script>\n"
      ],
      "text/plain": [
       "<IPython.core.display.HTML object>"
      ]
     },
     "metadata": {},
     "output_type": "display_data"
    },
    {
     "name": "stderr",
     "output_type": "stream",
     "text": [
      "<frozen importlib._bootstrap>:914: ImportWarning: VendorImporter.find_spec() not found; falling back to find_module()\n",
      "/usr/local/lib/python3.10/site-packages/seaborn/rcmod.py:82: DeprecationWarning: distutils Version classes are deprecated. Use packaging.version instead.\n",
      "  if LooseVersion(mpl.__version__) >= \"3.0\":\n",
      "/usr/local/lib/python3.10/site-packages/setuptools/_distutils/version.py:346: DeprecationWarning: distutils Version classes are deprecated. Use packaging.version instead.\n",
      "  other = LooseVersion(other)\n",
      "<frozen importlib._bootstrap>:914: ImportWarning: VendorImporter.find_spec() not found; falling back to find_module()\n",
      "/usr/local/lib/python3.10/site-packages/seaborn/cm.py:1582: PendingDeprecationWarning: The register_cmap function will be deprecated in a future version. Use ``matplotlib.colormaps.register(name)`` instead.\n",
      "  mpl_cm.register_cmap(_name, _cmap)\n",
      "/usr/local/lib/python3.10/site-packages/seaborn/cm.py:1583: PendingDeprecationWarning: The register_cmap function will be deprecated in a future version. Use ``matplotlib.colormaps.register(name)`` instead.\n",
      "  mpl_cm.register_cmap(_name + \"_r\", _cmap_r)\n",
      "<frozen importlib._bootstrap>:914: ImportWarning: VendorImporter.find_spec() not found; falling back to find_module()\n",
      "/usr/local/lib/python3.10/site-packages/seaborn/rcmod.py:400: DeprecationWarning: distutils Version classes are deprecated. Use packaging.version instead.\n",
      "  if LooseVersion(mpl.__version__) >= \"3.0\":\n",
      "/usr/local/lib/python3.10/site-packages/setuptools/_distutils/version.py:346: DeprecationWarning: distutils Version classes are deprecated. Use packaging.version instead.\n",
      "  other = LooseVersion(other)\n"
     ]
    }
   ],
   "source": [
    "# Importando bibliotecas necessárias para a construção de grafos\n",
    "import netpixi\n",
    "from netpixi.integration.gt import *\n",
    "from regression.integration.gt import *\n",
    "import pandas as pd\n",
    "import numpy as np\n",
    "import csv\n",
    "import ast\n",
    "import cpnet\n",
    "from graph_tool import spectral\n",
    "import seaborn as sns\n",
    "import regression as reg\n",
    "import cpnet\n",
    "\n",
    "from scipy import stats\n",
    "from matplotlib import pyplot as plt\n",
    "from graph_tool import centrality\n",
    "from graph_tool import spectral"
   ]
  },
  {
   "cell_type": "code",
   "execution_count": 2,
   "id": "53418d7d-5912-4706-8c88-db73c035180c",
   "metadata": {},
   "outputs": [],
   "source": [
    "df = pd.read_csv('./Video_Games_Sales_as_at_22_Dec_2016.csv')\n",
    "df.dropna(subset=['Publisher'], inplace=True)\n",
    "df_critic = df.loc[~df['Critic_Score'].isna()]\n",
    "\n",
    "#df = df.loc[~df['Critic_Score'].isna() & ~df['User_Score'].isna() & ~df['Rating'].isna()]"
   ]
  },
  {
   "cell_type": "code",
   "execution_count": 3,
   "id": "c1b50c7f-3457-431e-b884-bc966843eb81",
   "metadata": {},
   "outputs": [
    {
     "data": {
      "text/html": [
       "<div>\n",
       "<style scoped>\n",
       "    .dataframe tbody tr th:only-of-type {\n",
       "        vertical-align: middle;\n",
       "    }\n",
       "\n",
       "    .dataframe tbody tr th {\n",
       "        vertical-align: top;\n",
       "    }\n",
       "\n",
       "    .dataframe thead th {\n",
       "        text-align: right;\n",
       "    }\n",
       "</style>\n",
       "<table border=\"1\" class=\"dataframe\">\n",
       "  <thead>\n",
       "    <tr style=\"text-align: right;\">\n",
       "      <th></th>\n",
       "      <th>Name</th>\n",
       "      <th>Platform</th>\n",
       "      <th>Year_of_Release</th>\n",
       "      <th>Genre</th>\n",
       "      <th>Publisher</th>\n",
       "      <th>NA_Sales</th>\n",
       "      <th>EU_Sales</th>\n",
       "      <th>JP_Sales</th>\n",
       "      <th>Other_Sales</th>\n",
       "      <th>Global_Sales</th>\n",
       "      <th>Critic_Score</th>\n",
       "      <th>Critic_Count</th>\n",
       "      <th>User_Score</th>\n",
       "      <th>User_Count</th>\n",
       "      <th>Developer</th>\n",
       "      <th>Rating</th>\n",
       "    </tr>\n",
       "  </thead>\n",
       "  <tbody>\n",
       "    <tr>\n",
       "      <th>0</th>\n",
       "      <td>Wii Sports</td>\n",
       "      <td>Wii</td>\n",
       "      <td>2006.0</td>\n",
       "      <td>Sports</td>\n",
       "      <td>Nintendo</td>\n",
       "      <td>41.36</td>\n",
       "      <td>28.96</td>\n",
       "      <td>3.77</td>\n",
       "      <td>8.45</td>\n",
       "      <td>82.53</td>\n",
       "      <td>76.0</td>\n",
       "      <td>51.0</td>\n",
       "      <td>8.0</td>\n",
       "      <td>322.0</td>\n",
       "      <td>Nintendo</td>\n",
       "      <td>E</td>\n",
       "    </tr>\n",
       "    <tr>\n",
       "      <th>1</th>\n",
       "      <td>Super Mario Bros.</td>\n",
       "      <td>NES</td>\n",
       "      <td>1985.0</td>\n",
       "      <td>Platform</td>\n",
       "      <td>Nintendo</td>\n",
       "      <td>29.08</td>\n",
       "      <td>3.58</td>\n",
       "      <td>6.81</td>\n",
       "      <td>0.77</td>\n",
       "      <td>40.24</td>\n",
       "      <td>NaN</td>\n",
       "      <td>NaN</td>\n",
       "      <td>NaN</td>\n",
       "      <td>NaN</td>\n",
       "      <td>NaN</td>\n",
       "      <td>NaN</td>\n",
       "    </tr>\n",
       "    <tr>\n",
       "      <th>2</th>\n",
       "      <td>Mario Kart Wii</td>\n",
       "      <td>Wii</td>\n",
       "      <td>2008.0</td>\n",
       "      <td>Racing</td>\n",
       "      <td>Nintendo</td>\n",
       "      <td>15.68</td>\n",
       "      <td>12.76</td>\n",
       "      <td>3.79</td>\n",
       "      <td>3.29</td>\n",
       "      <td>35.52</td>\n",
       "      <td>82.0</td>\n",
       "      <td>73.0</td>\n",
       "      <td>8.3</td>\n",
       "      <td>709.0</td>\n",
       "      <td>Nintendo</td>\n",
       "      <td>E</td>\n",
       "    </tr>\n",
       "    <tr>\n",
       "      <th>3</th>\n",
       "      <td>Wii Sports Resort</td>\n",
       "      <td>Wii</td>\n",
       "      <td>2009.0</td>\n",
       "      <td>Sports</td>\n",
       "      <td>Nintendo</td>\n",
       "      <td>15.61</td>\n",
       "      <td>10.93</td>\n",
       "      <td>3.28</td>\n",
       "      <td>2.95</td>\n",
       "      <td>32.77</td>\n",
       "      <td>80.0</td>\n",
       "      <td>73.0</td>\n",
       "      <td>8.0</td>\n",
       "      <td>192.0</td>\n",
       "      <td>Nintendo</td>\n",
       "      <td>E</td>\n",
       "    </tr>\n",
       "    <tr>\n",
       "      <th>4</th>\n",
       "      <td>Pokemon Red/Pokemon Blue</td>\n",
       "      <td>GB</td>\n",
       "      <td>1996.0</td>\n",
       "      <td>Role-Playing</td>\n",
       "      <td>Nintendo</td>\n",
       "      <td>11.27</td>\n",
       "      <td>8.89</td>\n",
       "      <td>10.22</td>\n",
       "      <td>1.00</td>\n",
       "      <td>31.37</td>\n",
       "      <td>NaN</td>\n",
       "      <td>NaN</td>\n",
       "      <td>NaN</td>\n",
       "      <td>NaN</td>\n",
       "      <td>NaN</td>\n",
       "      <td>NaN</td>\n",
       "    </tr>\n",
       "  </tbody>\n",
       "</table>\n",
       "</div>"
      ],
      "text/plain": [
       "                       Name Platform  Year_of_Release         Genre Publisher  \\\n",
       "0                Wii Sports      Wii           2006.0        Sports  Nintendo   \n",
       "1         Super Mario Bros.      NES           1985.0      Platform  Nintendo   \n",
       "2            Mario Kart Wii      Wii           2008.0        Racing  Nintendo   \n",
       "3         Wii Sports Resort      Wii           2009.0        Sports  Nintendo   \n",
       "4  Pokemon Red/Pokemon Blue       GB           1996.0  Role-Playing  Nintendo   \n",
       "\n",
       "   NA_Sales  EU_Sales  JP_Sales  Other_Sales  Global_Sales  Critic_Score  \\\n",
       "0     41.36     28.96      3.77         8.45         82.53          76.0   \n",
       "1     29.08      3.58      6.81         0.77         40.24           NaN   \n",
       "2     15.68     12.76      3.79         3.29         35.52          82.0   \n",
       "3     15.61     10.93      3.28         2.95         32.77          80.0   \n",
       "4     11.27      8.89     10.22         1.00         31.37           NaN   \n",
       "\n",
       "   Critic_Count  User_Score  User_Count Developer Rating  \n",
       "0          51.0         8.0       322.0  Nintendo      E  \n",
       "1           NaN         NaN         NaN       NaN    NaN  \n",
       "2          73.0         8.3       709.0  Nintendo      E  \n",
       "3          73.0         8.0       192.0  Nintendo      E  \n",
       "4           NaN         NaN         NaN       NaN    NaN  "
      ]
     },
     "execution_count": 3,
     "metadata": {},
     "output_type": "execute_result"
    }
   ],
   "source": [
    "df.head()"
   ]
  },
  {
   "cell_type": "code",
   "execution_count": 4,
   "id": "be8379db-25de-42da-88a9-81f4f555f222",
   "metadata": {},
   "outputs": [],
   "source": [
    "df_recortado = df.loc[(df['Year_of_Release'] >= 2014) & (df['Year_of_Release'] <= 2016) & (df['Genre'] == 'Strategy')] \n",
    "df_critic = df.loc[~df['Critic_Score'].isna()]\n"
   ]
  },
  {
   "cell_type": "code",
   "execution_count": 5,
   "id": "c6e198bd-c628-45fd-9903-384fe69373d3",
   "metadata": {},
   "outputs": [
    {
     "data": {
      "text/html": [
       "<div>\n",
       "<style scoped>\n",
       "    .dataframe tbody tr th:only-of-type {\n",
       "        vertical-align: middle;\n",
       "    }\n",
       "\n",
       "    .dataframe tbody tr th {\n",
       "        vertical-align: top;\n",
       "    }\n",
       "\n",
       "    .dataframe thead th {\n",
       "        text-align: right;\n",
       "    }\n",
       "</style>\n",
       "<table border=\"1\" class=\"dataframe\">\n",
       "  <thead>\n",
       "    <tr style=\"text-align: right;\">\n",
       "      <th></th>\n",
       "      <th>Name</th>\n",
       "      <th>Platform</th>\n",
       "      <th>Year_of_Release</th>\n",
       "      <th>Genre</th>\n",
       "      <th>Publisher</th>\n",
       "      <th>NA_Sales</th>\n",
       "      <th>EU_Sales</th>\n",
       "      <th>JP_Sales</th>\n",
       "      <th>Other_Sales</th>\n",
       "      <th>Global_Sales</th>\n",
       "      <th>Critic_Score</th>\n",
       "      <th>Critic_Count</th>\n",
       "      <th>User_Score</th>\n",
       "      <th>User_Count</th>\n",
       "      <th>Developer</th>\n",
       "      <th>Rating</th>\n",
       "    </tr>\n",
       "  </thead>\n",
       "  <tbody>\n",
       "    <tr>\n",
       "      <th>3791</th>\n",
       "      <td>StarCraft II: Legacy of the Void</td>\n",
       "      <td>PC</td>\n",
       "      <td>2015.0</td>\n",
       "      <td>Strategy</td>\n",
       "      <td>Activision</td>\n",
       "      <td>0.19</td>\n",
       "      <td>0.29</td>\n",
       "      <td>0.0</td>\n",
       "      <td>0.04</td>\n",
       "      <td>0.53</td>\n",
       "      <td>88.0</td>\n",
       "      <td>62.0</td>\n",
       "      <td>8.3</td>\n",
       "      <td>833.0</td>\n",
       "      <td>Blizzard Entertainment</td>\n",
       "      <td>T</td>\n",
       "    </tr>\n",
       "    <tr>\n",
       "      <th>5165</th>\n",
       "      <td>Sid Meier's Civilization: Beyond Earth</td>\n",
       "      <td>PC</td>\n",
       "      <td>2014.0</td>\n",
       "      <td>Strategy</td>\n",
       "      <td>Take-Two Interactive</td>\n",
       "      <td>0.11</td>\n",
       "      <td>0.22</td>\n",
       "      <td>0.0</td>\n",
       "      <td>0.03</td>\n",
       "      <td>0.36</td>\n",
       "      <td>81.0</td>\n",
       "      <td>78.0</td>\n",
       "      <td>5.5</td>\n",
       "      <td>1027.0</td>\n",
       "      <td>Firaxis Games</td>\n",
       "      <td>E10+</td>\n",
       "    </tr>\n",
       "    <tr>\n",
       "      <th>6657</th>\n",
       "      <td>Anno 2205</td>\n",
       "      <td>PC</td>\n",
       "      <td>2015.0</td>\n",
       "      <td>Strategy</td>\n",
       "      <td>Ubisoft</td>\n",
       "      <td>0.02</td>\n",
       "      <td>0.22</td>\n",
       "      <td>0.0</td>\n",
       "      <td>0.02</td>\n",
       "      <td>0.25</td>\n",
       "      <td>72.0</td>\n",
       "      <td>45.0</td>\n",
       "      <td>5.9</td>\n",
       "      <td>278.0</td>\n",
       "      <td>Blue Byte</td>\n",
       "      <td>E10+</td>\n",
       "    </tr>\n",
       "    <tr>\n",
       "      <th>6754</th>\n",
       "      <td>Sid Meier's Civilization VI</td>\n",
       "      <td>PC</td>\n",
       "      <td>2016.0</td>\n",
       "      <td>Strategy</td>\n",
       "      <td>Take-Two Interactive</td>\n",
       "      <td>0.09</td>\n",
       "      <td>0.13</td>\n",
       "      <td>0.0</td>\n",
       "      <td>0.02</td>\n",
       "      <td>0.25</td>\n",
       "      <td>88.0</td>\n",
       "      <td>81.0</td>\n",
       "      <td>7.3</td>\n",
       "      <td>684.0</td>\n",
       "      <td>Firaxis Games</td>\n",
       "      <td>E10+</td>\n",
       "    </tr>\n",
       "    <tr>\n",
       "      <th>6829</th>\n",
       "      <td>Total War: Attila</td>\n",
       "      <td>PC</td>\n",
       "      <td>2015.0</td>\n",
       "      <td>Strategy</td>\n",
       "      <td>Sega</td>\n",
       "      <td>0.09</td>\n",
       "      <td>0.13</td>\n",
       "      <td>0.0</td>\n",
       "      <td>0.02</td>\n",
       "      <td>0.24</td>\n",
       "      <td>80.0</td>\n",
       "      <td>66.0</td>\n",
       "      <td>7.3</td>\n",
       "      <td>520.0</td>\n",
       "      <td>Creative Assembly</td>\n",
       "      <td>T</td>\n",
       "    </tr>\n",
       "  </tbody>\n",
       "</table>\n",
       "</div>"
      ],
      "text/plain": [
       "                                        Name Platform  Year_of_Release  \\\n",
       "3791        StarCraft II: Legacy of the Void       PC           2015.0   \n",
       "5165  Sid Meier's Civilization: Beyond Earth       PC           2014.0   \n",
       "6657                               Anno 2205       PC           2015.0   \n",
       "6754             Sid Meier's Civilization VI       PC           2016.0   \n",
       "6829                       Total War: Attila       PC           2015.0   \n",
       "\n",
       "         Genre             Publisher  NA_Sales  EU_Sales  JP_Sales  \\\n",
       "3791  Strategy            Activision      0.19      0.29       0.0   \n",
       "5165  Strategy  Take-Two Interactive      0.11      0.22       0.0   \n",
       "6657  Strategy               Ubisoft      0.02      0.22       0.0   \n",
       "6754  Strategy  Take-Two Interactive      0.09      0.13       0.0   \n",
       "6829  Strategy                  Sega      0.09      0.13       0.0   \n",
       "\n",
       "      Other_Sales  Global_Sales  Critic_Score  Critic_Count  User_Score  \\\n",
       "3791         0.04          0.53          88.0          62.0         8.3   \n",
       "5165         0.03          0.36          81.0          78.0         5.5   \n",
       "6657         0.02          0.25          72.0          45.0         5.9   \n",
       "6754         0.02          0.25          88.0          81.0         7.3   \n",
       "6829         0.02          0.24          80.0          66.0         7.3   \n",
       "\n",
       "      User_Count               Developer Rating  \n",
       "3791       833.0  Blizzard Entertainment      T  \n",
       "5165      1027.0           Firaxis Games   E10+  \n",
       "6657       278.0               Blue Byte   E10+  \n",
       "6754       684.0           Firaxis Games   E10+  \n",
       "6829       520.0       Creative Assembly      T  "
      ]
     },
     "execution_count": 5,
     "metadata": {},
     "output_type": "execute_result"
    }
   ],
   "source": [
    "df_recortado.head()"
   ]
  },
  {
   "cell_type": "code",
   "execution_count": 6,
   "id": "9ba726fb-198f-4df2-b62d-2a06dda1af0c",
   "metadata": {},
   "outputs": [
    {
     "name": "stdout",
     "output_type": "stream",
     "text": [
      "<class 'pandas.core.frame.DataFrame'>\n",
      "Int64Index: 13 entries, 3791 to 13598\n",
      "Data columns (total 16 columns):\n",
      " #   Column           Non-Null Count  Dtype  \n",
      "---  ------           --------------  -----  \n",
      " 0   Name             13 non-null     object \n",
      " 1   Platform         13 non-null     object \n",
      " 2   Year_of_Release  13 non-null     float64\n",
      " 3   Genre            13 non-null     object \n",
      " 4   Publisher        13 non-null     object \n",
      " 5   NA_Sales         13 non-null     float64\n",
      " 6   EU_Sales         13 non-null     float64\n",
      " 7   JP_Sales         13 non-null     float64\n",
      " 8   Other_Sales      13 non-null     float64\n",
      " 9   Global_Sales     13 non-null     float64\n",
      " 10  Critic_Score     13 non-null     float64\n",
      " 11  Critic_Count     13 non-null     float64\n",
      " 12  User_Score       13 non-null     float64\n",
      " 13  User_Count       13 non-null     float64\n",
      " 14  Developer        13 non-null     object \n",
      " 15  Rating           13 non-null     object \n",
      "dtypes: float64(10), object(6)\n",
      "memory usage: 1.7+ KB\n"
     ]
    }
   ],
   "source": [
    "df_recortado.info()"
   ]
  },
  {
   "cell_type": "code",
   "execution_count": 7,
   "id": "5b419b5d-c70e-43f5-baa0-f71a45e8c201",
   "metadata": {},
   "outputs": [
    {
     "data": {
      "text/plain": [
       "2015.0    6\n",
       "2016.0    5\n",
       "2014.0    2\n",
       "Name: Year_of_Release, dtype: int64"
      ]
     },
     "execution_count": 7,
     "metadata": {},
     "output_type": "execute_result"
    }
   ],
   "source": [
    "df_recortado.Year_of_Release.value_counts()"
   ]
  },
  {
   "cell_type": "code",
   "execution_count": 8,
   "id": "efc53a2b-86f4-499c-bb0b-71ce04703687",
   "metadata": {},
   "outputs": [],
   "source": [
    "publishers = df_recortado[\"Publisher\"].unique()"
   ]
  },
  {
   "cell_type": "code",
   "execution_count": 9,
   "id": "a1eb386d",
   "metadata": {},
   "outputs": [],
   "source": [
    "gamergate_strategy_graph = Graph(directed=False) # não-dirigido\n",
    "gamergate_strategy_graph.add_vp('Publisher')\n",
    "gamergate_strategy_graph.add_vp('Games_released')\n",
    "gamergate_strategy_graph.add_ep('strength')\n",
    "\n",
    "for pub in publishers:\n",
    "    gamergate_strategy_graph.add_vertex(pub)\n",
    "    gamergate_strategy_graph.get_vertex(pub)['Publisher'] = pub\n",
    "    num_games = df_recortado['Name'].loc[df_recortado[\"Publisher\"] == pub].nunique() \n",
    "    gamergate_strategy_graph.get_vertex(pub)['Games_released'] = num_games"
   ]
  },
  {
   "cell_type": "code",
   "execution_count": 10,
   "id": "9af196d6",
   "metadata": {},
   "outputs": [
    {
     "name": "stdout",
     "output_type": "stream",
     "text": [
      "[2014, 2015, 2016]\n"
     ]
    }
   ],
   "source": [
    "sorted_years = list(range(2014, 2017))\n",
    "print(sorted_years)"
   ]
  },
  {
   "cell_type": "code",
   "execution_count": 11,
   "id": "b89e8460",
   "metadata": {},
   "outputs": [],
   "source": [
    "df_list = []\n",
    "\n",
    "margem = 4\n",
    "for i in range(0, len(sorted_years), margem):\n",
    "    df_list.append(df_recortado[df_recortado['Year_of_Release'].isin(sorted_years[i:i+margem])])"
   ]
  },
  {
   "cell_type": "code",
   "execution_count": 12,
   "id": "91419c4a",
   "metadata": {},
   "outputs": [],
   "source": [
    "publisher_platforms = []\n",
    "for db in df_list:\n",
    "    publisher_platforms.append(db.groupby('Platform')['Publisher'].unique().to_dict())"
   ]
  },
  {
   "cell_type": "code",
   "execution_count": 13,
   "id": "29be259e",
   "metadata": {},
   "outputs": [],
   "source": [
    "for platform_dict in publisher_platforms:\n",
    "    for platform, publishers in platform_dict.items():\n",
    "        for i in range(len(publishers)):\n",
    "            if i != len(publishers)-1:\n",
    "                next_vertex = i+1\n",
    "                while(next_vertex < len(publishers)):\n",
    "                    if(publishers[i] != publishers[next_vertex] and not gamergate_strategy_graph.has_edge(publishers[i], publishers[next_vertex])):\n",
    "                        gamergate_strategy_graph.add_edge(publishers[i], publishers[next_vertex])\n",
    "                        gamergate_strategy_graph.get_edge(publishers[i], publishers[next_vertex])['strength'] = 1\n",
    "                        next_vertex += 1\n",
    "                    else:\n",
    "                        gamergate_strategy_graph.get_edge(publishers[i], publishers[next_vertex])['strength'] += 1\n",
    "                        next_vertex += 1"
   ]
  },
  {
   "cell_type": "code",
   "execution_count": 14,
   "id": "fa8c1b94",
   "metadata": {},
   "outputs": [
    {
     "name": "stdout",
     "output_type": "stream",
     "text": [
      "número de vértices de g: 7\n"
     ]
    }
   ],
   "source": [
    "print('número de vértices de g:', gamergate_strategy_graph.num_vertices())"
   ]
  },
  {
   "cell_type": "code",
   "execution_count": 15,
   "id": "acda6094",
   "metadata": {},
   "outputs": [
    {
     "name": "stdout",
     "output_type": "stream",
     "text": [
      "número de arestaas de g: 12\n"
     ]
    }
   ],
   "source": [
    "print('número de arestaas de g:', gamergate_strategy_graph.num_edges())"
   ]
  },
  {
   "cell_type": "code",
   "execution_count": 16,
   "id": "9bb5a158",
   "metadata": {},
   "outputs": [],
   "source": [
    "gt_save(gamergate_strategy_graph, 'gamergate_strategy_graph.net.gz')"
   ]
  },
  {
   "cell_type": "code",
   "execution_count": 17,
   "id": "3e9ebc43",
   "metadata": {},
   "outputs": [],
   "source": [
    "g = gt_load('gamergate_strategy_graph.net.gz')\n",
    "g = gt_clean(g)\n",
    "cc = centrality.closeness(g)\n",
    "g.add_vp('closeness', cc)\n",
    "m = gt_draw.sfdp_layout(g)\n",
    "gt_move(g, m)\n",
    "gt_save(g, 'gamergate_strategy_sfdp.net.gz')"
   ]
  },
  {
   "cell_type": "markdown",
   "id": "21f1dd02",
   "metadata": {},
   "source": [
    "# Análise"
   ]
  },
  {
   "cell_type": "code",
   "execution_count": 18,
   "id": "1ce00e76",
   "metadata": {},
   "outputs": [
    {
     "data": {
      "text/plain": [
       "<AxesSubplot: xlabel='Global_Sales', ylabel='Count'>"
      ]
     },
     "execution_count": 18,
     "metadata": {},
     "output_type": "execute_result"
    },
    {
     "data": {
      "image/png": "[encoded data removed]",
      "text/plain": [
       "<Figure size 640x480 with 1 Axes>"
      ]
     },
     "metadata": {},
     "output_type": "display_data"
    }
   ],
   "source": [
    "sns.histplot(np.log(df_recortado['Global_Sales']))"
   ]
  },
  {
   "cell_type": "markdown",
   "id": "0d9a3725",
   "metadata": {},
   "source": [
    "# Reconhecimento X Sucesso"
   ]
  },
  {
   "cell_type": "code",
   "execution_count": 19,
   "id": "3fb02230",
   "metadata": {},
   "outputs": [],
   "source": [
    "df_rec_suc = df_recortado.copy()"
   ]
  },
  {
   "cell_type": "code",
   "execution_count": 20,
   "id": "9e9b2f7d",
   "metadata": {},
   "outputs": [
    {
     "data": {
      "image/png": "[encoded data removed]",
      "text/plain": [
       "<Figure size 640x480 with 1 Axes>"
      ]
     },
     "metadata": {},
     "output_type": "display_data"
    }
   ],
   "source": [
    "sns.scatterplot(x=df_rec_suc['Critic_Score'], y=np.log(df_rec_suc['Global_Sales']));"
   ]
  },
  {
   "cell_type": "code",
   "execution_count": 21,
   "id": "491cd070",
   "metadata": {},
   "outputs": [
    {
     "data": {
      "image/png": "[encoded data removed]",
      "text/plain": [
       "<Figure size 640x480 with 1 Axes>"
      ]
     },
     "metadata": {},
     "output_type": "display_data"
    }
   ],
   "source": [
    "sns.regplot(x=df_rec_suc['Critic_Score'], y=np.log(df_rec_suc['Global_Sales']), scatter_kws={\"color\": \"black\"}, line_kws={\"color\": \"red\"});"
   ]
  },
  {
   "cell_type": "code",
   "execution_count": 22,
   "id": "0687842d",
   "metadata": {},
   "outputs": [],
   "source": [
    "result = reg.linear(data=df_rec_suc, formula='np.log(Global_Sales) ~ Critic_Score')"
   ]
  },
  {
   "cell_type": "code",
   "execution_count": 23,
   "id": "94b4544c",
   "metadata": {},
   "outputs": [
    {
     "name": "stderr",
     "output_type": "stream",
     "text": [
      "/usr/local/lib/python3.10/site-packages/scipy/stats/_stats_py.py:1769: UserWarning: kurtosistest only valid for n>=20 ... continuing anyway, n=13\n",
      "  warnings.warn(\"kurtosistest only valid for n>=20 ... continuing \"\n"
     ]
    },
    {
     "data": {
      "text/html": [
       "<table class=\"simpletable\">\n",
       "<caption>OLS Regression Results</caption>\n",
       "<tr>\n",
       "  <th>Dep. Variable:</th>    <td>np.log(Global_Sales)</td> <th>  R-squared:         </th> <td>   0.120</td>\n",
       "</tr>\n",
       "<tr>\n",
       "  <th>Model:</th>                     <td>OLS</td>         <th>  Adj. R-squared:    </th> <td>   0.040</td>\n",
       "</tr>\n",
       "<tr>\n",
       "  <th>Method:</th>               <td>Least Squares</td>    <th>  F-statistic:       </th> <td>   1.505</td>\n",
       "</tr>\n",
       "<tr>\n",
       "  <th>Date:</th>               <td>Tue, 15 Nov 2022</td>   <th>  Prob (F-statistic):</th>  <td> 0.245</td> \n",
       "</tr>\n",
       "<tr>\n",
       "  <th>Time:</th>                   <td>15:27:26</td>       <th>  Log-Likelihood:    </th> <td> -14.589</td>\n",
       "</tr>\n",
       "<tr>\n",
       "  <th>No. Observations:</th>        <td>    13</td>        <th>  AIC:               </th> <td>   33.18</td>\n",
       "</tr>\n",
       "<tr>\n",
       "  <th>Df Residuals:</th>            <td>    11</td>        <th>  BIC:               </th> <td>   34.31</td>\n",
       "</tr>\n",
       "<tr>\n",
       "  <th>Df Model:</th>                <td>     1</td>        <th>                     </th>     <td> </td>   \n",
       "</tr>\n",
       "<tr>\n",
       "  <th>Covariance Type:</th>        <td>nonrobust</td>      <th>                     </th>     <td> </td>   \n",
       "</tr>\n",
       "</table>\n",
       "<table class=\"simpletable\">\n",
       "<tr>\n",
       "        <td></td>          <th>coef</th>     <th>std err</th>      <th>t</th>      <th>P>|t|</th>  <th>[0.025</th>    <th>0.975]</th>  \n",
       "</tr>\n",
       "<tr>\n",
       "  <th>Intercept</th>    <td>   -4.3161</td> <td>    1.978</td> <td>   -2.182</td> <td> 0.052</td> <td>   -8.670</td> <td>    0.038</td>\n",
       "</tr>\n",
       "<tr>\n",
       "  <th>Critic_Score</th> <td>    0.0303</td> <td>    0.025</td> <td>    1.227</td> <td> 0.245</td> <td>   -0.024</td> <td>    0.085</td>\n",
       "</tr>\n",
       "</table>\n",
       "<table class=\"simpletable\">\n",
       "<tr>\n",
       "  <th>Omnibus:</th>       <td> 1.049</td> <th>  Durbin-Watson:     </th> <td>   0.309</td>\n",
       "</tr>\n",
       "<tr>\n",
       "  <th>Prob(Omnibus):</th> <td> 0.592</td> <th>  Jarque-Bera (JB):  </th> <td>   0.888</td>\n",
       "</tr>\n",
       "<tr>\n",
       "  <th>Skew:</th>          <td>-0.461</td> <th>  Prob(JB):          </th> <td>   0.642</td>\n",
       "</tr>\n",
       "<tr>\n",
       "  <th>Kurtosis:</th>      <td> 2.111</td> <th>  Cond. No.          </th> <td>    707.</td>\n",
       "</tr>\n",
       "</table><br/><br/>Notes:<br/>[1] Standard Errors assume that the covariance matrix of the errors is correctly specified."
      ],
      "text/plain": [
       "<class 'statsmodels.iolib.summary.Summary'>\n",
       "\"\"\"\n",
       "                             OLS Regression Results                             \n",
       "================================================================================\n",
       "Dep. Variable:     np.log(Global_Sales)   R-squared:                       0.120\n",
       "Model:                              OLS   Adj. R-squared:                  0.040\n",
       "Method:                   Least Squares   F-statistic:                     1.505\n",
       "Date:                  Tue, 15 Nov 2022   Prob (F-statistic):              0.245\n",
       "Time:                          15:27:26   Log-Likelihood:                -14.589\n",
       "No. Observations:                    13   AIC:                             33.18\n",
       "Df Residuals:                        11   BIC:                             34.31\n",
       "Df Model:                             1                                         \n",
       "Covariance Type:              nonrobust                                         \n",
       "================================================================================\n",
       "                   coef    std err          t      P>|t|      [0.025      0.975]\n",
       "--------------------------------------------------------------------------------\n",
       "Intercept       -4.3161      1.978     -2.182      0.052      -8.670       0.038\n",
       "Critic_Score     0.0303      0.025      1.227      0.245      -0.024       0.085\n",
       "==============================================================================\n",
       "Omnibus:                        1.049   Durbin-Watson:                   0.309\n",
       "Prob(Omnibus):                  0.592   Jarque-Bera (JB):                0.888\n",
       "Skew:                          -0.461   Prob(JB):                        0.642\n",
       "Kurtosis:                       2.111   Cond. No.                         707.\n",
       "==============================================================================\n",
       "\n",
       "Notes:\n",
       "[1] Standard Errors assume that the covariance matrix of the errors is correctly specified.\n",
       "\"\"\""
      ]
     },
     "execution_count": 23,
     "metadata": {},
     "output_type": "execute_result"
    }
   ],
   "source": [
    "result.summary()"
   ]
  },
  {
   "cell_type": "code",
   "execution_count": 24,
   "id": "472dee43",
   "metadata": {},
   "outputs": [
    {
     "data": {
      "text/html": [
       "<style type=\"text/css\">\n",
       "</style>\n",
       "<table id=\"T_911ad\">\n",
       "  <thead>\n",
       "    <tr>\n",
       "      <th id=\"T_911ad_level0_col0\" class=\"col_heading level0 col0\" >variable</th>\n",
       "      <th id=\"T_911ad_level0_col1\" class=\"col_heading level0 col1\" >coefficient</th>\n",
       "      <th id=\"T_911ad_level0_col2\" class=\"col_heading level0 col2\" >std error</th>\n",
       "      <th id=\"T_911ad_level0_col3\" class=\"col_heading level0 col3\" >p-value</th>\n",
       "    </tr>\n",
       "  </thead>\n",
       "  <tbody>\n",
       "    <tr>\n",
       "      <td id=\"T_911ad_row0_col0\" class=\"data row0 col0\" >Critic_Score</td>\n",
       "      <td id=\"T_911ad_row0_col1\" class=\"data row0 col1\" >0.030317</td>\n",
       "      <td id=\"T_911ad_row0_col2\" class=\"data row0 col2\" >0.024711</td>\n",
       "      <td id=\"T_911ad_row0_col3\" class=\"data row0 col3\" >0.245490</td>\n",
       "    </tr>\n",
       "  </tbody>\n",
       "</table>\n"
      ],
      "text/plain": [
       "<pandas.io.formats.style.Styler at 0x7f6c0543f250>"
      ]
     },
     "execution_count": 24,
     "metadata": {},
     "output_type": "execute_result"
    }
   ],
   "source": [
    "result.micro_summary()"
   ]
  },
  {
   "cell_type": "code",
   "execution_count": 25,
   "id": "3b1218fb",
   "metadata": {},
   "outputs": [
    {
     "data": {
      "text/html": [
       "<style type=\"text/css\">\n",
       "#T_cf391_row0_col0 {\n",
       "  font-family: monospace;\n",
       "  text-align: left;\n",
       "}\n",
       "</style>\n",
       "<table id=\"T_cf391\">\n",
       "  <thead>\n",
       "  </thead>\n",
       "  <tbody>\n",
       "    <tr>\n",
       "      <td id=\"T_cf391_row0_col0\" class=\"data row0 col0\" >+0.030 (0.025)</td>\n",
       "    </tr>\n",
       "  </tbody>\n",
       "</table>\n"
      ],
      "text/plain": [
       "<pandas.io.formats.style.Styler at 0x7f6c050f4ca0>"
      ]
     },
     "execution_count": 25,
     "metadata": {},
     "output_type": "execute_result"
    }
   ],
   "source": [
    "result.nano_summary()"
   ]
  },
  {
   "cell_type": "code",
   "execution_count": 26,
   "id": "2aa47cf0",
   "metadata": {
    "scrolled": false
   },
   "outputs": [
    {
     "data": {
      "image/png": "[encoded data removed]",
      "text/plain": [
       "<Figure size 1280x480 with 2 Axes>"
      ]
     },
     "metadata": {},
     "output_type": "display_data"
    }
   ],
   "source": [
    "result.plot_residuals()"
   ]
  },
  {
   "cell_type": "markdown",
   "id": "26850796",
   "metadata": {},
   "source": [
    "# Proximidade X Sucesso"
   ]
  },
  {
   "cell_type": "code",
   "execution_count": 27,
   "id": "ef38c3b3",
   "metadata": {},
   "outputs": [],
   "source": [
    "df_pro_suc = df_recortado.copy()"
   ]
  },
  {
   "cell_type": "code",
   "execution_count": 28,
   "id": "ef5e7f0d",
   "metadata": {},
   "outputs": [],
   "source": [
    "g = gt_load(\"gamergate_strategy_sfdp.net.gz\")"
   ]
  },
  {
   "cell_type": "code",
   "execution_count": 29,
   "id": "2e82ff96",
   "metadata": {},
   "outputs": [
    {
     "data": {
      "text/html": [
       "<div>\n",
       "<style scoped>\n",
       "    .dataframe tbody tr th:only-of-type {\n",
       "        vertical-align: middle;\n",
       "    }\n",
       "\n",
       "    .dataframe tbody tr th {\n",
       "        vertical-align: top;\n",
       "    }\n",
       "\n",
       "    .dataframe thead th {\n",
       "        text-align: right;\n",
       "    }\n",
       "</style>\n",
       "<table border=\"1\" class=\"dataframe\">\n",
       "  <thead>\n",
       "    <tr style=\"text-align: right;\">\n",
       "      <th></th>\n",
       "      <th>Publisher</th>\n",
       "      <th>closeness</th>\n",
       "    </tr>\n",
       "    <tr>\n",
       "      <th>id</th>\n",
       "      <th></th>\n",
       "      <th></th>\n",
       "    </tr>\n",
       "  </thead>\n",
       "  <tbody>\n",
       "    <tr>\n",
       "      <th>Activision</th>\n",
       "      <td>Activision</td>\n",
       "      <td>0.833333</td>\n",
       "    </tr>\n",
       "    <tr>\n",
       "      <th>Take-Two Interactive</th>\n",
       "      <td>Take-Two Interactive</td>\n",
       "      <td>1.000000</td>\n",
       "    </tr>\n",
       "    <tr>\n",
       "      <th>Ubisoft</th>\n",
       "      <td>Ubisoft</td>\n",
       "      <td>0.833333</td>\n",
       "    </tr>\n",
       "    <tr>\n",
       "      <th>Sega</th>\n",
       "      <td>Sega</td>\n",
       "      <td>0.833333</td>\n",
       "    </tr>\n",
       "    <tr>\n",
       "      <th>Kalypso Media</th>\n",
       "      <td>Kalypso Media</td>\n",
       "      <td>1.000000</td>\n",
       "    </tr>\n",
       "  </tbody>\n",
       "</table>\n",
       "</div>"
      ],
      "text/plain": [
       "                                 Publisher  closeness\n",
       "id                                                   \n",
       "Activision                      Activision   0.833333\n",
       "Take-Two Interactive  Take-Two Interactive   1.000000\n",
       "Ubisoft                            Ubisoft   0.833333\n",
       "Sega                                  Sega   0.833333\n",
       "Kalypso Media                Kalypso Media   1.000000"
      ]
     },
     "execution_count": 29,
     "metadata": {},
     "output_type": "execute_result"
    }
   ],
   "source": [
    "data = gt_data(g)\n",
    "data.drop('Games_released', axis=1, inplace=True)\n",
    "data.head()"
   ]
  },
  {
   "cell_type": "code",
   "execution_count": 30,
   "id": "df512517",
   "metadata": {},
   "outputs": [
    {
     "name": "stdout",
     "output_type": "stream",
     "text": [
      "<class 'pandas.core.frame.DataFrame'>\n",
      "Int64Index: 12 entries, 0 to 11\n",
      "Data columns (total 17 columns):\n",
      " #   Column           Non-Null Count  Dtype  \n",
      "---  ------           --------------  -----  \n",
      " 0   Name             12 non-null     object \n",
      " 1   Platform         12 non-null     object \n",
      " 2   Year_of_Release  12 non-null     float64\n",
      " 3   Genre            12 non-null     object \n",
      " 4   Publisher        12 non-null     object \n",
      " 5   NA_Sales         12 non-null     float64\n",
      " 6   EU_Sales         12 non-null     float64\n",
      " 7   JP_Sales         12 non-null     float64\n",
      " 8   Other_Sales      12 non-null     float64\n",
      " 9   Global_Sales     12 non-null     float64\n",
      " 10  Critic_Score     12 non-null     float64\n",
      " 11  Critic_Count     12 non-null     float64\n",
      " 12  User_Score       12 non-null     float64\n",
      " 13  User_Count       12 non-null     float64\n",
      " 14  Developer        12 non-null     object \n",
      " 15  Rating           12 non-null     object \n",
      " 16  closeness        12 non-null     float64\n",
      "dtypes: float64(11), object(6)\n",
      "memory usage: 1.7+ KB\n"
     ]
    }
   ],
   "source": [
    "df_pro_suc = pd.merge(df_pro_suc, data, on = \"Publisher\", how = \"inner\")\n",
    "df_pro_suc.info()"
   ]
  },
  {
   "cell_type": "code",
   "execution_count": 31,
   "id": "96089949",
   "metadata": {},
   "outputs": [
    {
     "data": {
      "image/png": "[encoded data removed]",
      "text/plain": [
       "<Figure size 640x480 with 1 Axes>"
      ]
     },
     "metadata": {},
     "output_type": "display_data"
    }
   ],
   "source": [
    "sns.regplot(x=df_pro_suc['closeness'], y=np.log(df_pro_suc['Global_Sales']), scatter_kws={\"color\": \"black\"}, line_kws={\"color\": \"red\"});"
   ]
  },
  {
   "cell_type": "code",
   "execution_count": 32,
   "id": "52232c90",
   "metadata": {},
   "outputs": [],
   "source": [
    "result = reg.linear(data=df_pro_suc, formula='np.log(Global_Sales) ~ closeness')"
   ]
  },
  {
   "cell_type": "code",
   "execution_count": 33,
   "id": "c79e984b",
   "metadata": {},
   "outputs": [
    {
     "data": {
      "text/html": [
       "<style type=\"text/css\">\n",
       "#T_b08f7_row0_col0 {\n",
       "  font-family: monospace;\n",
       "  text-align: left;\n",
       "}\n",
       "</style>\n",
       "<table id=\"T_b08f7\">\n",
       "  <thead>\n",
       "  </thead>\n",
       "  <tbody>\n",
       "    <tr>\n",
       "      <td id=\"T_b08f7_row0_col0\" class=\"data row0 col0\" >+0.668 (2.222)</td>\n",
       "    </tr>\n",
       "  </tbody>\n",
       "</table>\n"
      ],
      "text/plain": [
       "<pandas.io.formats.style.Styler at 0x7f6c0549ad10>"
      ]
     },
     "execution_count": 33,
     "metadata": {},
     "output_type": "execute_result"
    }
   ],
   "source": [
    "result.nano_summary()"
   ]
  },
  {
   "cell_type": "code",
   "execution_count": 34,
   "id": "60ac8c8c",
   "metadata": {
    "scrolled": false
   },
   "outputs": [
    {
     "data": {
      "image/png": "[encoded data removed]",
      "text/plain": [
       "<Figure size 1280x480 with 2 Axes>"
      ]
     },
     "metadata": {},
     "output_type": "display_data"
    }
   ],
   "source": [
    "result.plot_residuals()"
   ]
  },
  {
   "cell_type": "code",
   "execution_count": null,
   "id": "2f4e64d7",
   "metadata": {},
   "outputs": [],
   "source": []
  }
 ],
 "metadata": {
  "kernelspec": {
   "display_name": "Python 3 (ipykernel)",
   "language": "python",
   "name": "python3"
  },
  "language_info": {
   "codemirror_mode": {
    "name": "ipython",
    "version": 3
   },
   "file_extension": ".py",
   "mimetype": "text/x-python",
   "name": "python",
   "nbconvert_exporter": "python",
   "pygments_lexer": "ipython3",
   "version": "3.10.6"
  }
 },
 "nbformat": 4,
 "nbformat_minor": 5
}
