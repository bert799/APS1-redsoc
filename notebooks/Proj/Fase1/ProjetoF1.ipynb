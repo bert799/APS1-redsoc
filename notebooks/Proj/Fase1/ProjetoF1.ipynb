{
 "cells": [
  {
   "cell_type": "code",
   "execution_count": 2,
   "id": "f12d3317",
   "metadata": {},
   "outputs": [
    {
     "data": {
      "text/html": [
       "\n",
       "    <script src=\"/files/netpixi.min.js\"></script>\n"
      ],
      "text/plain": [
       "<IPython.core.display.HTML object>"
      ]
     },
     "metadata": {},
     "output_type": "display_data"
    },
    {
     "name": "stderr",
     "output_type": "stream",
     "text": [
      "<frozen importlib._bootstrap>:914: ImportWarning: VendorImporter.find_spec() not found; falling back to find_module()\n"
     ]
    }
   ],
   "source": [
    "# Importando bibliotecas necessárias para a construção de grafos\n",
    "import netpixi\n",
    "from netpixi.integration.gt import *\n",
    "import pandas as pd\n",
    "import csv\n",
    "import ast"
   ]
  },
  {
   "cell_type": "code",
   "execution_count": null,
   "id": "58d8e8de",
   "metadata": {},
   "outputs": [],
   "source": [
    "df = pd.read_csv('./SpeciesInteractions_EID2.csv')\n",
    "sorted_df = df.sort_values(by='Carrier')\n",
    "i = 0\n",
    "current_string = ''\n",
    "carrier_id = []\n",
    "for idx, row in sorted_df.iterrows():\n",
    "    \n",
    "    if current_string != row['Carrier']:\n",
    "        i+=1\n",
    "        current_string = row['Carrier'] \n",
    "    carrier_id.append(i)\n",
    "sorted_df['Carrier_id'] = carrier_id\n",
    "sorted_df"
   ]
  },
  {
   "cell_type": "code",
   "execution_count": null,
   "id": "1a032578",
   "metadata": {},
   "outputs": [],
   "source": [
    "df_grouped_carrier = sorted_df.groupby(['Carrier_id', 'Carrier', 'Carrier classification']).agg({'Cargo' : lambda x: ','.join(x)})\n",
    "df_grouped_carrier['Cargo'] = df_grouped_carrier['Cargo'].str.split(',')\n",
    "df_grouped_carrier.to_csv('processed_vertices.csv')\n",
    "df_grouped_carrier"
   ]
  },
  {
   "cell_type": "code",
   "execution_count": null,
   "id": "18c4b837",
   "metadata": {},
   "outputs": [],
   "source": [
    "df_grouped_cargo = sorted_df.groupby(['Cargo']).agg({'Carrier_id' : lambda x: x.tolist()})\n",
    "#df_grouped_cargo.to_csv('processed_edges.csv')\n",
    "df_grouped_cargo = df_grouped_cargo.sort_values(by='Carrier_id')\n",
    "df_grouped_cargo\n"
   ]
  },
  {
   "cell_type": "code",
   "execution_count": null,
   "id": "331eb1be",
   "metadata": {},
   "outputs": [],
   "source": [
    "# Leitura e do arquivo e construção do grafo\n",
    "\n",
    "shared_pathogens = Graph(directed=False) # grafo não-dirigido\n",
    "shared_pathogens.add_vp('species')\n",
    "shared_pathogens.add_vp('classification')\n",
    "shared_pathogens.add_ep('strength')\n",
    "\n",
    "with open('./processed_vertices.csv') as file:\n",
    "    vertex_data = csv.reader(file)\n",
    "    next(vertex_data, None)\n",
    "    prev_i = -1\n",
    "    for row in vertex_data:\n",
    "        i = int(row[0])\n",
    "        if i != prev_i:\n",
    "            shared_pathogens.add_vertex(i-1)\n",
    "        v = shared_pathogens.get_vertex(i-1)\n",
    "        v['species'] = row[1]\n",
    "        v['classification'] = row[2]\n",
    "        prev_i = i       \n",
    "        \n",
    "print('número de vértices de g:', shared_pathogens.num_vertices())"
   ]
  },
  {
   "cell_type": "code",
   "execution_count": null,
   "id": "e9254eb4",
   "metadata": {},
   "outputs": [],
   "source": [
    "with open('./processed_edges.csv') as file:\n",
    "    edge_data = csv.reader(file)\n",
    "    next(edge_data, None)\n",
    "    for row in edge_data:\n",
    "        connections = ast.literal_eval(row[1])\n",
    "        for i in range(len(connections)):\n",
    "            if i != len(connections)-1:\n",
    "                next_vertex = i+1\n",
    "                while(next_vertex < len(connections)):\n",
    "                    if(connections[i] != connections[next_vertex]):\n",
    "                        try:\n",
    "                            shared_pathogens.add_edge(connections[i]-1, connections[next_vertex]-1)\n",
    "                            shared_pathogens.get_edge(connections[i]-1, connections[next_vertex]-1)['strength'] = 1\n",
    "                        except ValueError:\n",
    "                            shared_pathogens.get_edge(connections[i]-1, connections[next_vertex]-1)['strength'] += 1\n",
    "                        finally:    \n",
    "                            next_vertex += 1\n",
    "                    else:\n",
    "                        next_vertex += 1\n",
    "                    \n",
    "                    \n",
    "print('número de arestas de g:', shared_pathogens.num_edges())"
   ]
  },
  {
   "cell_type": "code",
   "execution_count": null,
   "id": "dd6be698",
   "metadata": {},
   "outputs": [],
   "source": [
    "gt_save(shared_pathogens, 'shared_pathogens.net.gz')"
   ]
  },
  {
   "cell_type": "code",
   "execution_count": null,
   "id": "b9dfa180",
   "metadata": {},
   "outputs": [],
   "source": [
    "netpixi.render('shared_pathogens.net.gz');"
   ]
  },
  {
   "cell_type": "code",
   "execution_count": 3,
   "id": "3f90811f",
   "metadata": {},
   "outputs": [],
   "source": [
    "g = gt_load('shared_pathogens.net.gz')\n",
    "g = gt_clean(g)\n",
    "m = gt_draw.sfdp_layout(g)\n",
    "gt_move(g, m)"
   ]
  },
  {
   "cell_type": "code",
   "execution_count": 4,
   "id": "c4b4e111",
   "metadata": {},
   "outputs": [],
   "source": [
    "dc = gt_total_degree(g)\n",
    "g.add_vp('degree', dc)\n",
    "gt_save(g, 'test.net.gz')"
   ]
  },
  {
   "cell_type": "code",
   "execution_count": 5,
   "id": "26b1639a",
   "metadata": {},
   "outputs": [
    {
     "data": {
      "text/html": [
       "\n",
       "        <div id=\"SiMhVDygCGSB5d5K9H6gNe\"></div>\n",
       "        <script>netpixi.render('SiMhVDygCGSB5d5K9H6gNe', 'test.net.gz', 1.7777777777777777, true, true, false);</script>\n",
       "    "
      ],
      "text/plain": [
       "<IPython.core.display.HTML object>"
      ]
     },
     "metadata": {},
     "output_type": "display_data"
    }
   ],
   "source": [
    "r = netpixi.render('test.net.gz', infinite=True);"
   ]
  },
  {
   "cell_type": "code",
   "execution_count": 17,
   "id": "e211b531",
   "metadata": {},
   "outputs": [
    {
     "data": {
      "text/html": [
       "\n",
       "        <div id=\"TK9BvikMRRkcyWJSkSis9R\"></div>\n",
       "        <script>netpixi.call('TK9BvikMRRkcyWJSkSis9R', 'SiMhVDygCGSB5d5K9H6gNe', 'normalizeGraph', 'eyJ0eXBlIjogImVkZ2UiLCAicHJvcHMiOiB7InNyYyI6ICJzdHJlbmd0aCIsICJtaW4iOiAwLjAxLCAibWF4IjogMzB9fQo=');</script>\n",
       "    "
      ],
      "text/plain": [
       "<IPython.core.display.HTML object>"
      ]
     },
     "metadata": {},
     "output_type": "display_data"
    },
    {
     "data": {
      "text/html": [
       "\n",
       "        <div id=\"C2byKf7oUHgvJtHnvGsTw2\"></div>\n",
       "        <script>netpixi.call('C2byKf7oUHgvJtHnvGsTw2', 'SiMhVDygCGSB5d5K9H6gNe', 'normalizeGraph', 'eyJ0eXBlIjogInZlcnRleCIsICJwcm9wcyI6IHsic3JjIjogImRlZ3JlZSIsICJtaW4iOiAxLCAibWF4IjogNTB9fQo=');</script>\n",
       "    "
      ],
      "text/plain": [
       "<IPython.core.display.HTML object>"
      ]
     },
     "metadata": {},
     "output_type": "display_data"
    },
    {
     "data": {
      "text/html": [
       "\n",
       "        <div id=\"kao7YvQBA55knmj23rRtvQ\"></div>\n",
       "        <script>netpixi.call('kao7YvQBA55knmj23rRtvQ', 'SiMhVDygCGSB5d5K9H6gNe', 'changeGraph', 'eyJ0eXBlIjogInNldHRpbmdzIiwgInByb3BzIjogeyJ2ZXJ0ZXgiOiB7ImNvbG9yIjogNjUyODB9fX0K');</script>\n",
       "    "
      ],
      "text/plain": [
       "<IPython.core.display.HTML object>"
      ]
     },
     "metadata": {},
     "output_type": "display_data"
    },
    {
     "data": {
      "text/html": [
       "\n",
       "        <div id=\"7NupYXVoua3WeBxhW6idVz\"></div>\n",
       "        <script>netpixi.call('7NupYXVoua3WeBxhW6idVz', 'SiMhVDygCGSB5d5K9H6gNe', 'changeGraph', 'eyJ0eXBlIjogInNldHRpbmdzIiwgInByb3BzIjogeyJlZGdlIjogeyJjdXJ2ZTEiOiAxLCAiY3VydmUyIjogMX19fQo=');</script>\n",
       "    "
      ],
      "text/plain": [
       "<IPython.core.display.HTML object>"
      ]
     },
     "metadata": {},
     "output_type": "display_data"
    }
   ],
   "source": [
    "r.edge_scale('strength', 0.01, 30)\n",
    "r.vertex_scale('degree', 1, 50)\n",
    "r.vertex_default(color=0x00ff00)\n",
    "r.edge_default(curve1=1, curve2=1)\n"
   ]
  },
  {
   "cell_type": "code",
   "execution_count": 13,
   "id": "2cab0dfe",
   "metadata": {},
   "outputs": [
    {
     "data": {
      "text/html": [
       "\n",
       "        <div id=\"UiVWsKjU6QQFggQgbsMFgr\"></div>\n",
       "        <script>netpixi.call('UiVWsKjU6QQFggQgbsMFgr', 'SiMhVDygCGSB5d5K9H6gNe', 'setGraph', 'eyJ0eXBlIjogInZlcnRleCIsICJwcm9wcyI6IHsic3JjIjogImNsYXNzaWZpY2F0aW9uIiwgImRzdCI6ICJfa2V5In19Cg==');</script>\n",
       "    "
      ],
      "text/plain": [
       "<IPython.core.display.HTML object>"
      ]
     },
     "metadata": {},
     "output_type": "display_data"
    }
   ],
   "source": [
    "r.vertex_set_key('classification')"
   ]
  },
  {
   "cell_type": "code",
   "execution_count": null,
   "id": "9833d63f",
   "metadata": {},
   "outputs": [],
   "source": []
  }
 ],
 "metadata": {
  "kernelspec": {
   "display_name": "Python 3 (ipykernel)",
   "language": "python",
   "name": "python3"
  },
  "language_info": {
   "codemirror_mode": {
    "name": "ipython",
    "version": 3
   },
   "file_extension": ".py",
   "mimetype": "text/x-python",
   "name": "python",
   "nbconvert_exporter": "python",
   "pygments_lexer": "ipython3",
   "version": "3.10.6"
  }
 },
 "nbformat": 4,
 "nbformat_minor": 5
}
