{
 "cells": [
  {
   "cell_type": "code",
   "execution_count": 51,
   "id": "f12d3317",
   "metadata": {},
   "outputs": [],
   "source": [
    "# Importando bibliotecas necessárias para a construção de grafos\n",
    "import netpixi\n",
    "from netpixi.integration.gt import *\n",
    "import pandas as pd\n",
    "import numpy as np\n",
    "import csv\n",
    "import ast\n",
    "import cpnet\n",
    "from graph_tool import spectral"
   ]
  },
  {
   "cell_type": "code",
   "execution_count": 2,
   "id": "58d8e8de",
   "metadata": {},
   "outputs": [
    {
     "name": "stderr",
     "output_type": "stream",
     "text": [
      "<frozen importlib._bootstrap>:914: ImportWarning: VendorImporter.find_spec() not found; falling back to find_module()\n"
     ]
    }
   ],
   "source": [
    "df = pd.read_csv('./Video_Games_Sales_as_at_22_Dec_2016.csv')\n",
    "df.dropna(subset=['Publisher'], inplace=True)\n",
    "df = df.loc[~df['Critic_Score'].isna() & ~df['User_Score'].isna() & ~df['Rating'].isna()]"
   ]
  },
  {
   "cell_type": "code",
   "execution_count": 3,
   "id": "48f6c78e",
   "metadata": {},
   "outputs": [
    {
     "name": "stdout",
     "output_type": "stream",
     "text": [
      "<class 'pandas.core.frame.DataFrame'>\n",
      "Int64Index: 6943 entries, 0 to 16706\n",
      "Data columns (total 16 columns):\n",
      " #   Column           Non-Null Count  Dtype  \n",
      "---  ------           --------------  -----  \n",
      " 0   Name             6943 non-null   object \n",
      " 1   Platform         6943 non-null   object \n",
      " 2   Year_of_Release  6825 non-null   float64\n",
      " 3   Genre            6943 non-null   object \n",
      " 4   Publisher        6943 non-null   object \n",
      " 5   NA_Sales         6943 non-null   float64\n",
      " 6   EU_Sales         6943 non-null   float64\n",
      " 7   JP_Sales         6943 non-null   float64\n",
      " 8   Other_Sales      6943 non-null   float64\n",
      " 9   Global_Sales     6943 non-null   float64\n",
      " 10  Critic_Score     6943 non-null   float64\n",
      " 11  Critic_Count     6943 non-null   float64\n",
      " 12  User_Score       6943 non-null   float64\n",
      " 13  User_Count       6943 non-null   float64\n",
      " 14  Developer        6943 non-null   object \n",
      " 15  Rating           6943 non-null   object \n",
      "dtypes: float64(10), object(6)\n",
      "memory usage: 922.1+ KB\n"
     ]
    }
   ],
   "source": [
    "df.info()"
   ]
  },
  {
   "cell_type": "code",
   "execution_count": 4,
   "id": "a96951eb",
   "metadata": {},
   "outputs": [
    {
     "data": {
      "text/plain": [
       "Genre\n",
       "Action          1663\n",
       "Sports           965\n",
       "Shooter          882\n",
       "Role-Playing     718\n",
       "Racing           591\n",
       "Platform         406\n",
       "Misc             394\n",
       "Fighting         381\n",
       "Simulation       301\n",
       "Strategy         272\n",
       "Adventure        249\n",
       "Puzzle           121\n",
       "Name: Name, dtype: int64"
      ]
     },
     "execution_count": 4,
     "metadata": {},
     "output_type": "execute_result"
    }
   ],
   "source": [
    "df.groupby('Genre')['Name'].count().sort_values(ascending=False)"
   ]
  },
  {
   "cell_type": "code",
   "execution_count": 5,
   "id": "ff422569",
   "metadata": {},
   "outputs": [
    {
     "data": {
      "text/html": [
       "<div>\n",
       "<style scoped>\n",
       "    .dataframe tbody tr th:only-of-type {\n",
       "        vertical-align: middle;\n",
       "    }\n",
       "\n",
       "    .dataframe tbody tr th {\n",
       "        vertical-align: top;\n",
       "    }\n",
       "\n",
       "    .dataframe thead th {\n",
       "        text-align: right;\n",
       "    }\n",
       "</style>\n",
       "<table border=\"1\" class=\"dataframe\">\n",
       "  <thead>\n",
       "    <tr style=\"text-align: right;\">\n",
       "      <th></th>\n",
       "      <th>Global_Sales</th>\n",
       "    </tr>\n",
       "    <tr>\n",
       "      <th>Genre</th>\n",
       "      <th></th>\n",
       "    </tr>\n",
       "  </thead>\n",
       "  <tbody>\n",
       "    <tr>\n",
       "      <th>Misc</th>\n",
       "      <td>1.077741</td>\n",
       "    </tr>\n",
       "    <tr>\n",
       "      <th>Shooter</th>\n",
       "      <td>0.934025</td>\n",
       "    </tr>\n",
       "    <tr>\n",
       "      <th>Platform</th>\n",
       "      <td>0.931429</td>\n",
       "    </tr>\n",
       "    <tr>\n",
       "      <th>Sports</th>\n",
       "      <td>0.881513</td>\n",
       "    </tr>\n",
       "    <tr>\n",
       "      <th>Racing</th>\n",
       "      <td>0.811844</td>\n",
       "    </tr>\n",
       "    <tr>\n",
       "      <th>Action</th>\n",
       "      <td>0.736091</td>\n",
       "    </tr>\n",
       "    <tr>\n",
       "      <th>Role-Playing</th>\n",
       "      <td>0.701100</td>\n",
       "    </tr>\n",
       "    <tr>\n",
       "      <th>Simulation</th>\n",
       "      <td>0.676146</td>\n",
       "    </tr>\n",
       "    <tr>\n",
       "      <th>Fighting</th>\n",
       "      <td>0.658110</td>\n",
       "    </tr>\n",
       "    <tr>\n",
       "      <th>Puzzle</th>\n",
       "      <td>0.655124</td>\n",
       "    </tr>\n",
       "    <tr>\n",
       "      <th>Adventure</th>\n",
       "      <td>0.324940</td>\n",
       "    </tr>\n",
       "    <tr>\n",
       "      <th>Strategy</th>\n",
       "      <td>0.260441</td>\n",
       "    </tr>\n",
       "  </tbody>\n",
       "</table>\n",
       "</div>"
      ],
      "text/plain": [
       "              Global_Sales\n",
       "Genre                     \n",
       "Misc              1.077741\n",
       "Shooter           0.934025\n",
       "Platform          0.931429\n",
       "Sports            0.881513\n",
       "Racing            0.811844\n",
       "Action            0.736091\n",
       "Role-Playing      0.701100\n",
       "Simulation        0.676146\n",
       "Fighting          0.658110\n",
       "Puzzle            0.655124\n",
       "Adventure         0.324940\n",
       "Strategy          0.260441"
      ]
     },
     "execution_count": 5,
     "metadata": {},
     "output_type": "execute_result"
    }
   ],
   "source": [
    "df_grouped_Genre = df.groupby(['Genre']).agg({'Global_Sales': np.mean})\n",
    "df_grouped_Genre.sort_values('Global_Sales', ascending=False)"
   ]
  },
  {
   "cell_type": "code",
   "execution_count": 6,
   "id": "1a199d0b",
   "metadata": {},
   "outputs": [],
   "source": [
    "sports_mean_sales = df_grouped_Genre.loc['Sports']['Global_Sales']\n",
    "action_mean_sales = df_grouped_Genre.loc['Action']['Global_Sales'] \n",
    "rpg_mean_sales = df_grouped_Genre.loc['Role-Playing']['Global_Sales'] "
   ]
  },
  {
   "cell_type": "code",
   "execution_count": 7,
   "id": "caf26855",
   "metadata": {},
   "outputs": [],
   "source": [
    "def segregate_genre_to_list(df, genre, df_list, threshold=None):\n",
    "    seg_df = df[df['Genre'] == genre]\n",
    "    if threshold:\n",
    "        seg_df = seg_df[seg_df['Global_Sales'] > threshold]\n",
    "    df_list.append(seg_df)"
   ]
  },
  {
   "cell_type": "code",
   "execution_count": 27,
   "id": "3d534ae1",
   "metadata": {},
   "outputs": [
    {
     "name": "stdout",
     "output_type": "stream",
     "text": [
      "[1985, 1986, 1987, 1988, 1989, 1990, 1991, 1992, 1993, 1994, 1995, 1996, 1997, 1998, 1999, 2000, 2001, 2002, 2003, 2004, 2005, 2006, 2007, 2008, 2009, 2010, 2011, 2012, 2013, 2014, 2015, 2016]\n"
     ]
    }
   ],
   "source": [
    "# sorted_years = df['Year_of_Release'].unique()\n",
    "# sorted_years.sort()\n",
    "sorted_years = list(range(1985, 2017))\n",
    "print(sorted_years)"
   ]
  },
  {
   "cell_type": "code",
   "execution_count": 28,
   "id": "976d15cb",
   "metadata": {},
   "outputs": [],
   "source": [
    "df_list = []\n",
    "sport_df_list = []\n",
    "action_df_list = []\n",
    "rpg_df_list = []\n",
    "margem = 4\n",
    "for i in range(0, len(sorted_years), margem):\n",
    "    df_list.append(df[df['Year_of_Release'].isin(sorted_years[i:i+margem])])\n"
   ]
  },
  {
   "cell_type": "code",
   "execution_count": 43,
   "id": "c11807b2",
   "metadata": {},
   "outputs": [
    {
     "data": {
      "text/html": [
       "<div>\n",
       "<style scoped>\n",
       "    .dataframe tbody tr th:only-of-type {\n",
       "        vertical-align: middle;\n",
       "    }\n",
       "\n",
       "    .dataframe tbody tr th {\n",
       "        vertical-align: top;\n",
       "    }\n",
       "\n",
       "    .dataframe thead th {\n",
       "        text-align: right;\n",
       "    }\n",
       "</style>\n",
       "<table border=\"1\" class=\"dataframe\">\n",
       "  <thead>\n",
       "    <tr style=\"text-align: right;\">\n",
       "      <th></th>\n",
       "      <th>Name</th>\n",
       "      <th>Platform</th>\n",
       "      <th>Year_of_Release</th>\n",
       "      <th>Genre</th>\n",
       "      <th>Publisher</th>\n",
       "      <th>NA_Sales</th>\n",
       "      <th>EU_Sales</th>\n",
       "      <th>JP_Sales</th>\n",
       "      <th>Other_Sales</th>\n",
       "      <th>Global_Sales</th>\n",
       "      <th>Critic_Score</th>\n",
       "      <th>Critic_Count</th>\n",
       "      <th>User_Score</th>\n",
       "      <th>User_Count</th>\n",
       "      <th>Developer</th>\n",
       "      <th>Rating</th>\n",
       "    </tr>\n",
       "  </thead>\n",
       "  <tbody>\n",
       "    <tr>\n",
       "      <th>153</th>\n",
       "      <td>Tekken 2</td>\n",
       "      <td>PS</td>\n",
       "      <td>1996.0</td>\n",
       "      <td>Fighting</td>\n",
       "      <td>Sony Computer Entertainment</td>\n",
       "      <td>2.26</td>\n",
       "      <td>1.89</td>\n",
       "      <td>1.36</td>\n",
       "      <td>0.23</td>\n",
       "      <td>5.74</td>\n",
       "      <td>89.0</td>\n",
       "      <td>8.0</td>\n",
       "      <td>8.9</td>\n",
       "      <td>102.0</td>\n",
       "      <td>Namco</td>\n",
       "      <td>T</td>\n",
       "    </tr>\n",
       "    <tr>\n",
       "      <th>203</th>\n",
       "      <td>Resident Evil</td>\n",
       "      <td>PS</td>\n",
       "      <td>1996.0</td>\n",
       "      <td>Action</td>\n",
       "      <td>Virgin Interactive</td>\n",
       "      <td>2.05</td>\n",
       "      <td>1.16</td>\n",
       "      <td>1.11</td>\n",
       "      <td>0.73</td>\n",
       "      <td>5.05</td>\n",
       "      <td>91.0</td>\n",
       "      <td>8.0</td>\n",
       "      <td>9.0</td>\n",
       "      <td>266.0</td>\n",
       "      <td>Capcom</td>\n",
       "      <td>M</td>\n",
       "    </tr>\n",
       "    <tr>\n",
       "      <th>229</th>\n",
       "      <td>Tomb Raider</td>\n",
       "      <td>PS</td>\n",
       "      <td>1996.0</td>\n",
       "      <td>Action</td>\n",
       "      <td>Eidos Interactive</td>\n",
       "      <td>2.29</td>\n",
       "      <td>1.97</td>\n",
       "      <td>0.13</td>\n",
       "      <td>0.24</td>\n",
       "      <td>4.63</td>\n",
       "      <td>91.0</td>\n",
       "      <td>13.0</td>\n",
       "      <td>8.6</td>\n",
       "      <td>147.0</td>\n",
       "      <td>Core Design Ltd.</td>\n",
       "      <td>T</td>\n",
       "    </tr>\n",
       "    <tr>\n",
       "      <th>903</th>\n",
       "      <td>PaRappa The Rapper</td>\n",
       "      <td>PS</td>\n",
       "      <td>1996.0</td>\n",
       "      <td>Misc</td>\n",
       "      <td>Sony Computer Entertainment</td>\n",
       "      <td>0.26</td>\n",
       "      <td>0.16</td>\n",
       "      <td>1.46</td>\n",
       "      <td>0.03</td>\n",
       "      <td>1.92</td>\n",
       "      <td>92.0</td>\n",
       "      <td>15.0</td>\n",
       "      <td>7.4</td>\n",
       "      <td>48.0</td>\n",
       "      <td>NanaOn-Sha</td>\n",
       "      <td>K-A</td>\n",
       "    </tr>\n",
       "    <tr>\n",
       "      <th>1160</th>\n",
       "      <td>Diablo</td>\n",
       "      <td>PC</td>\n",
       "      <td>1996.0</td>\n",
       "      <td>Role-Playing</td>\n",
       "      <td>Activision</td>\n",
       "      <td>0.01</td>\n",
       "      <td>1.58</td>\n",
       "      <td>0.00</td>\n",
       "      <td>0.00</td>\n",
       "      <td>1.59</td>\n",
       "      <td>94.0</td>\n",
       "      <td>12.0</td>\n",
       "      <td>8.7</td>\n",
       "      <td>850.0</td>\n",
       "      <td>Blizzard Entertainment</td>\n",
       "      <td>M</td>\n",
       "    </tr>\n",
       "    <tr>\n",
       "      <th>1567</th>\n",
       "      <td>Battle Arena Toshinden</td>\n",
       "      <td>PS</td>\n",
       "      <td>1994.0</td>\n",
       "      <td>Fighting</td>\n",
       "      <td>Sony Computer Entertainment</td>\n",
       "      <td>0.39</td>\n",
       "      <td>0.26</td>\n",
       "      <td>0.53</td>\n",
       "      <td>0.08</td>\n",
       "      <td>1.27</td>\n",
       "      <td>69.0</td>\n",
       "      <td>4.0</td>\n",
       "      <td>6.3</td>\n",
       "      <td>4.0</td>\n",
       "      <td>Tamsoft</td>\n",
       "      <td>T</td>\n",
       "    </tr>\n",
       "    <tr>\n",
       "      <th>2014</th>\n",
       "      <td>Tomb Raider</td>\n",
       "      <td>PC</td>\n",
       "      <td>1996.0</td>\n",
       "      <td>Action</td>\n",
       "      <td>Eidos Interactive</td>\n",
       "      <td>0.96</td>\n",
       "      <td>0.07</td>\n",
       "      <td>0.00</td>\n",
       "      <td>0.00</td>\n",
       "      <td>1.03</td>\n",
       "      <td>86.0</td>\n",
       "      <td>18.0</td>\n",
       "      <td>8.5</td>\n",
       "      <td>3552.0</td>\n",
       "      <td>Crystal Dynamics, Nixxes Software</td>\n",
       "      <td>M</td>\n",
       "    </tr>\n",
       "    <tr>\n",
       "      <th>9215</th>\n",
       "      <td>Super Puzzle Fighter II Turbo</td>\n",
       "      <td>PS</td>\n",
       "      <td>1996.0</td>\n",
       "      <td>Puzzle</td>\n",
       "      <td>Virgin Interactive</td>\n",
       "      <td>0.08</td>\n",
       "      <td>0.05</td>\n",
       "      <td>0.00</td>\n",
       "      <td>0.01</td>\n",
       "      <td>0.14</td>\n",
       "      <td>83.0</td>\n",
       "      <td>9.0</td>\n",
       "      <td>7.4</td>\n",
       "      <td>5.0</td>\n",
       "      <td>Capcom</td>\n",
       "      <td>E</td>\n",
       "    </tr>\n",
       "  </tbody>\n",
       "</table>\n",
       "</div>"
      ],
      "text/plain": [
       "                               Name Platform  Year_of_Release         Genre  \\\n",
       "153                        Tekken 2       PS           1996.0      Fighting   \n",
       "203                   Resident Evil       PS           1996.0        Action   \n",
       "229                     Tomb Raider       PS           1996.0        Action   \n",
       "903              PaRappa The Rapper       PS           1996.0          Misc   \n",
       "1160                         Diablo       PC           1996.0  Role-Playing   \n",
       "1567         Battle Arena Toshinden       PS           1994.0      Fighting   \n",
       "2014                    Tomb Raider       PC           1996.0        Action   \n",
       "9215  Super Puzzle Fighter II Turbo       PS           1996.0        Puzzle   \n",
       "\n",
       "                        Publisher  NA_Sales  EU_Sales  JP_Sales  Other_Sales  \\\n",
       "153   Sony Computer Entertainment      2.26      1.89      1.36         0.23   \n",
       "203            Virgin Interactive      2.05      1.16      1.11         0.73   \n",
       "229             Eidos Interactive      2.29      1.97      0.13         0.24   \n",
       "903   Sony Computer Entertainment      0.26      0.16      1.46         0.03   \n",
       "1160                   Activision      0.01      1.58      0.00         0.00   \n",
       "1567  Sony Computer Entertainment      0.39      0.26      0.53         0.08   \n",
       "2014            Eidos Interactive      0.96      0.07      0.00         0.00   \n",
       "9215           Virgin Interactive      0.08      0.05      0.00         0.01   \n",
       "\n",
       "      Global_Sales  Critic_Score  Critic_Count  User_Score  User_Count  \\\n",
       "153           5.74          89.0           8.0         8.9       102.0   \n",
       "203           5.05          91.0           8.0         9.0       266.0   \n",
       "229           4.63          91.0          13.0         8.6       147.0   \n",
       "903           1.92          92.0          15.0         7.4        48.0   \n",
       "1160          1.59          94.0          12.0         8.7       850.0   \n",
       "1567          1.27          69.0           4.0         6.3         4.0   \n",
       "2014          1.03          86.0          18.0         8.5      3552.0   \n",
       "9215          0.14          83.0           9.0         7.4         5.0   \n",
       "\n",
       "                              Developer Rating  \n",
       "153                               Namco      T  \n",
       "203                              Capcom      M  \n",
       "229                    Core Design Ltd.      T  \n",
       "903                          NanaOn-Sha    K-A  \n",
       "1160             Blizzard Entertainment      M  \n",
       "1567                            Tamsoft      T  \n",
       "2014  Crystal Dynamics, Nixxes Software      M  \n",
       "9215                             Capcom      E  "
      ]
     },
     "execution_count": 43,
     "metadata": {},
     "output_type": "execute_result"
    }
   ],
   "source": [
    "df_list[2]"
   ]
  },
  {
   "cell_type": "code",
   "execution_count": 30,
   "id": "2ebf2324",
   "metadata": {},
   "outputs": [
    {
     "data": {
      "text/plain": [
       "[{'PC': array(['Activision', 'Maxis'], dtype=object)},\n",
       " {'PC': array(['id Software'], dtype=object)},\n",
       " {'PC': array(['Activision', 'Eidos Interactive'], dtype=object),\n",
       "  'PS': array(['Sony Computer Entertainment', 'Virgin Interactive',\n",
       "         'Eidos Interactive'], dtype=object)},\n",
       " {'DC': array(['Sega', 'Namco Bandai Games', 'Virgin Interactive', 'Ubisoft'],\n",
       "        dtype=object),\n",
       "  'PC': array(['Vivendi Games', 'Electronic Arts', 'Havas Interactive',\n",
       "         'Microsoft Game Studios', 'Activision', 'Interplay',\n",
       "         'Empire Interactive', 'Eidos Interactive'], dtype=object),\n",
       "  'PS': array(['Sony Computer Entertainment', 'SquareSoft', 'GT Interactive',\n",
       "         'Konami Digital Entertainment', 'Virgin Interactive', 'Activision',\n",
       "         'Atari', 'Take-Two Interactive', 'Electronic Arts',\n",
       "         'Hasbro Interactive', 'Acclaim Entertainment', 'Codemasters',\n",
       "         'Crave Entertainment', 'Namco Bandai Games', 'Enix Corporation',\n",
       "         'Square EA', 'Capcom', 'Eidos Interactive', 'Kadokawa Shoten',\n",
       "         'ASCII Entertainment', 'Psygnosis', 'Atlus', 'Ubisoft', '3DO',\n",
       "         'THQ', 'Midway Games', 'Human Entertainment', 'Fox Interactive',\n",
       "         'Midas Interactive Entertainment', 'Titus', 'ESP', 'Tecmo Koei',\n",
       "         'Infogrames'], dtype=object),\n",
       "  'PS2': array(['Namco Bandai Games', 'Take-Two Interactive', 'Electronic Arts',\n",
       "         'Sony Computer Entertainment', 'Crave Entertainment',\n",
       "         'Virgin Interactive', 'THQ', 'Ubisoft', 'Infogrames',\n",
       "         'Empire Interactive', 'Eidos Interactive', 'Tecmo Koei',\n",
       "         'Activision', 'Midas Interactive Entertainment',\n",
       "         'Konami Digital Entertainment', '3DO', 'Acclaim Entertainment',\n",
       "         'Swing! Entertainment'], dtype=object),\n",
       "  'XB': array(['Microsoft Game Studios'], dtype=object)},\n",
       " {'DC': array(['Sega'], dtype=object),\n",
       "  'DS': array(['Nintendo', 'Ubisoft', 'Activision', 'Sega', 'Electronic Arts',\n",
       "         'Ignition Entertainment', 'Namco Bandai Games', 'THQ'],\n",
       "        dtype=object),\n",
       "  'GBA': array(['Nintendo', 'Namco Bandai Games', 'Atari', 'Sega', 'Vivendi Games',\n",
       "         'SquareSoft', 'Electronic Arts', 'Square Enix',\n",
       "         'Universal Interactive', 'Infogrames', 'THQ', 'TDK Mediactive',\n",
       "         'Activision', 'Unknown', 'Konami Digital Entertainment',\n",
       "         'Disney Interactive Studios', 'Majesco Entertainment', 'Ubisoft',\n",
       "         'Capcom', 'Zoo Digital Publishing', 'Rebellion', 'Interplay',\n",
       "         'Take-Two Interactive', 'Tomy Corporation', 'Media Rings',\n",
       "         'BAM! Entertainment', 'Hip Interactive', 'Acclaim Entertainment',\n",
       "         'Sting', 'Kemco', 'Telegames', 'Ignition Entertainment',\n",
       "         'Marvelous Interactive', 'Atlus', 'Sammy Corporation',\n",
       "         'Destination Software, Inc', 'Taito', 'Global Star', 'Banpresto',\n",
       "         'Midway Games', 'Tecmo Koei', 'Jaleco', 'NewKidCo'], dtype=object),\n",
       "  'GC': array(['Nintendo', 'Sega', 'Infogrames', 'LucasArts', 'Atari',\n",
       "         'Namco Bandai Games', 'Electronic Arts', 'Activision', 'THQ',\n",
       "         'Ubisoft', 'Universal Interactive', 'Tomy Corporation', 'Capcom',\n",
       "         'Acclaim Entertainment', 'Konami Digital Entertainment',\n",
       "         'Eidos Interactive', 'Midway Games', 'Vivendi Games',\n",
       "         'Marvelous Interactive', 'Mad Catz',\n",
       "         'Warner Bros. Interactive Entertainment', 'TDK Mediactive',\n",
       "         'Global Star', 'Titus', 'Virgin Interactive', 'NDA Productions',\n",
       "         'BAM! Entertainment', 'Kemco', 'O3 Entertainment', 'Tecmo Koei',\n",
       "         'Hudson Soft', 'Take-Two Interactive', 'Empire Interactive', 'SCi',\n",
       "         'Gotham Games', 'Codemasters', 'Jaleco'], dtype=object),\n",
       "  'PC': array(['Activision', 'Electronic Arts', 'Vivendi Games', 'Atari',\n",
       "         'LucasArts', 'CCP', 'Gathering of Developers',\n",
       "         'Microsoft Game Studios', 'THQ', 'Ubisoft', 'Take-Two Interactive',\n",
       "         'Eidos Interactive', 'Ascaron Entertainment GmbH', 'Sunflowers',\n",
       "         'Microids', 'Strategy First', 'JoWood Productions',\n",
       "         'DreamCatcher Interactive', 'Virgin Interactive',\n",
       "         'MC2 Entertainment', 'Codemasters', 'Blue Byte', 'Interplay'],\n",
       "        dtype=object),\n",
       "  'PS': array(['Electronic Arts', 'Activision', 'TalonSoft', 'Empire Interactive',\n",
       "         'Take-Two Interactive', 'Sony Computer Entertainment', 'Square',\n",
       "         'Capcom', 'Acclaim Entertainment', 'BAM! Entertainment',\n",
       "         'Eidos Interactive', 'Konami Digital Entertainment', 'Infogrames',\n",
       "         'Namco Bandai Games', 'Virgin Interactive', 'Max Five'],\n",
       "        dtype=object),\n",
       "  'PS2': array(['Take-Two Interactive', 'Sony Computer Entertainment',\n",
       "         'Electronic Arts', 'Konami Digital Entertainment',\n",
       "         'Universal Interactive', 'Square Enix', 'Activision', 'LucasArts',\n",
       "         'Namco Bandai Games', 'Atari',\n",
       "         'Sony Computer Entertainment Europe', 'Capcom', 'Sega',\n",
       "         'Eidos Interactive', 'Virgin Interactive', 'Ubisoft',\n",
       "         'Acclaim Entertainment', 'Midway Games', 'THQ', 'Tecmo Koei',\n",
       "         'Vivendi Games', 'Global Star', 'Gotham Games', 'Codemasters',\n",
       "         'TDK Mediactive', 'Sony Oznline Entertainment',\n",
       "         'Black Label Games', 'SouthPeak Games', 'Zoo Digital Publishing',\n",
       "         'Empire Interactive', 'Play It', 'Titus', 'Genki', 'Rage Software',\n",
       "         'Illusion Softworks', 'Interplay', 'Metro 3D', 'SCi',\n",
       "         'Midas Interactive Entertainment',\n",
       "         'Warner Bros. Interactive Entertainment', 'Infogrames',\n",
       "         'Ignition Entertainment', 'Wanadoo', 'BAM! Entertainment',\n",
       "         'Sony Online Entertainment', 'Ghostlight', 'Enix Corporation',\n",
       "         '3DO', 'Sammy Corporation', 'Disney Interactive Studios',\n",
       "         'Pacific Century Cyber Works', 'Indie Games', 'Kemco',\n",
       "         'Crave Entertainment', '505 Games', 'Agetec',\n",
       "         'Gathering of Developers', 'Jaleco', 'Enterbrain', 'Atlus',\n",
       "         'From Software', 'Natsume', 'Swing! Entertainment', 'Taito',\n",
       "         'Microids', 'Avalon Interactive', 'DreamCatcher Interactive',\n",
       "         'Jester Interactive'], dtype=object),\n",
       "  'PSP': array(['Sony Computer Entertainment', 'Tecmo Koei', 'Capcom',\n",
       "         'Namco Bandai Games'], dtype=object),\n",
       "  'XB': array(['Microsoft Game Studios', 'Ubisoft', 'Electronic Arts',\n",
       "         'Activision', 'Sega', 'Universal Interactive',\n",
       "         'Take-Two Interactive', 'Atari', 'Namco Bandai Games',\n",
       "         'Midway Games', 'Global Star', 'SCi', 'THQ', 'Eidos Interactive',\n",
       "         'Acclaim Entertainment', 'Konami Digital Entertainment',\n",
       "         'Tecmo Koei', 'Interplay', 'TDK Mediactive', 'Deep Silver',\n",
       "         'Vivendi Games', 'LucasArts', 'Capcom', 'Gathering of Developers',\n",
       "         'Infogrames', 'Activision Value', 'Bethesda Softworks',\n",
       "         'Virgin Interactive', 'Empire Interactive',\n",
       "         'Zoo Digital Publishing', 'Rage Software', 'Swing! Entertainment',\n",
       "         'BAM! Entertainment', 'Kemco', 'From Software',\n",
       "         'Ignition Entertainment', 'Microids', 'Codemasters', '3DO',\n",
       "         'Genki', 'Disney Interactive Studios', 'Avalon Interactive',\n",
       "         'Phantagram', 'Mindscape', 'Jaleco', 'Kool Kizz', 'Hudson Soft',\n",
       "         'XS Games', 'MC2 Entertainment', 'Xicat Interactive', 'Metro 3D',\n",
       "         'Atlus', 'Titus', 'Encore', 'Evolved Games'], dtype=object)},\n",
       " {'DS': array(['Nintendo', '505 Games', 'LucasArts', 'Electronic Arts',\n",
       "         'Activision', 'Sega', 'Warner Bros. Interactive Entertainment',\n",
       "         'Square Enix', 'Take-Two Interactive', 'Midway Games', 'Mindscape',\n",
       "         'THQ', 'Ubisoft', 'Atari', 'Capcom', 'Game Factory',\n",
       "         'Disney Interactive Studios', 'Rising Star Games', 'Deep Silver',\n",
       "         'Konami Digital Entertainment', 'Vivendi Games',\n",
       "         'Majesco Entertainment', 'D3Publisher', 'Takara Tomy',\n",
       "         'Namco Bandai Games', 'Atlus', 'Codemasters', 'Eidos Interactive',\n",
       "         'GungHo', 'AQ Interactive', 'Tecmo Koei', 'Ignition Entertainment',\n",
       "         'Unknown', 'Brash Entertainment', 'SouthPeak Games',\n",
       "         'White Park Bay Software', 'Zoo Digital Publishing', 'Touchstone',\n",
       "         'Banpresto', 'Natsume', 'Funsta', 'System 3 Arcade Software',\n",
       "         'Cave', 'Ghostlight', 'Empire Interactive', 'Nobilis',\n",
       "         'Playlogic Game Factory', 'DSI Games', 'Sting',\n",
       "         'Focus Home Interactive', 'Jaleco', 'Destineer', 'Gamecock',\n",
       "         'Arc System Works', 'Success', 'Nippon Ichi Software',\n",
       "         'From Software', 'Lexicon Entertainment', 'Crave Entertainment',\n",
       "         'Midas Interactive Entertainment', 'JoWood Productions'],\n",
       "        dtype=object),\n",
       "  'GBA': array(['THQ', 'Nintendo', 'Ubisoft', 'Electronic Arts',\n",
       "         'Disney Interactive Studios', 'Activision', 'Global Star', 'Atari',\n",
       "         'Capcom', 'Konami Digital Entertainment', 'LucasArts', 'Sega',\n",
       "         'Eidos Interactive'], dtype=object),\n",
       "  'GC': array(['Capcom', 'Nintendo', 'Sega', 'LucasArts', 'THQ',\n",
       "         'Electronic Arts', 'Activision', 'Midway Games', 'Ubisoft',\n",
       "         'Atari', 'Vivendi Games', 'Global Star', 'Eidos Interactive',\n",
       "         'Unknown', 'Namco Bandai Games', 'Empire Interactive',\n",
       "         'Konami Digital Entertainment'], dtype=object),\n",
       "  'PC': array(['Activision', 'Electronic Arts', 'Sega', 'Russel',\n",
       "         'Bethesda Softworks', 'Take-Two Interactive', 'City Interactive',\n",
       "         'Ubisoft', 'Microsoft Game Studios', 'Atari', 'Deep Silver',\n",
       "         'LucasArts', 'Eidos Interactive',\n",
       "         'Warner Bros. Interactive Entertainment', 'Midway Games',\n",
       "         'Ascaron Entertainment GmbH', 'THQ', 'JoWood Productions',\n",
       "         'PopCap Games', 'Monte Christo Multimedia',\n",
       "         'DreamCatcher Interactive', 'Capcom', 'Vivendi Games', '2D Boy',\n",
       "         'Paradox Interactive', 'NCSoft', 'Pinnacle', 'Kalypso Media',\n",
       "         'GOA', 'Gamecock', 'Codemasters', 'Graphsim Entertainment',\n",
       "         'DTP Entertainment', 'Codemasters Online', 'Aspyr',\n",
       "         'Empire Interactive', 'Koch Media', 'Crimson Cow',\n",
       "         'MC2 Entertainment', 'Touchstone', 'Lighthouse Interactive',\n",
       "         'CDV Software Entertainment'], dtype=object),\n",
       "  'PS2': array(['Square Enix', 'RedOctane', 'Activision', 'Electronic Arts',\n",
       "         'Sony Computer Entertainment', 'Konami Digital Entertainment',\n",
       "         'Namco Bandai Games', 'Capcom', 'LucasArts',\n",
       "         'Take-Two Interactive', 'Atari', 'THQ', 'Ubisoft', 'Vivendi Games',\n",
       "         'Tecmo Koei', 'Warner Bros. Interactive Entertainment', 'Sega',\n",
       "         'Midway Games', 'Unknown', 'Atlus', 'Disney Interactive Studios',\n",
       "         'Sony Online Entertainment', 'Eidos Interactive', 'NovaLogic',\n",
       "         'Spike', 'Jester Interactive', 'Global Star',\n",
       "         'Ignition Entertainment', 'Codemasters', 'Empire Interactive',\n",
       "         '505 Games', 'Rising Star Games', 'Xplosiv', 'Gust',\n",
       "         'AQ Interactive', 'Ghostlight', 'Banpresto', 'D3Publisher',\n",
       "         'Playlogic Game Factory', 'Sting', 'SCi', 'Valcon Games',\n",
       "         'Majesco Entertainment', 'SouthPeak Games', 'Brash Entertainment',\n",
       "         'Myelin Media', 'SNK', 'Nippon Ichi Software', 'Mastiff',\n",
       "         'JoWood Productions', 'Crave Entertainment', 'Hip Interactive',\n",
       "         'Idea Factory', 'Success', 'Mastertronic', 'Natsume',\n",
       "         '10TACLE Studios'], dtype=object),\n",
       "  'PS3': array(['Take-Two Interactive', 'Activision',\n",
       "         'Konami Digital Entertainment', 'Sony Computer Entertainment',\n",
       "         'Ubisoft', 'Bethesda Softworks', 'Electronic Arts', 'LucasArts',\n",
       "         'Midway Games', 'THQ', 'Capcom', 'MTV Games', 'Namco Bandai Games',\n",
       "         'Warner Bros. Interactive Entertainment', 'Sega',\n",
       "         'Eidos Interactive', 'Codemasters', 'Disney Interactive Studios',\n",
       "         'Atari', 'Tecmo Koei', 'Touchstone', 'Vivendi Games',\n",
       "         'Square Enix', 'Gamebridge', 'D3Publisher', 'Black Bean Games',\n",
       "         'Spike', 'Nippon Ichi Software', 'Unknown', '505 Games',\n",
       "         'Activision Value', 'Ghostlight', 'Ignition Entertainment',\n",
       "         'Gamecock', 'System 3 Arcade Software'], dtype=object),\n",
       "  'PSP': array(['Take-Two Interactive', 'Capcom', 'Sony Computer Entertainment',\n",
       "         'Square Enix', 'Electronic Arts', 'Activision', 'LucasArts',\n",
       "         'Sega', 'THQ', 'Konami Digital Entertainment',\n",
       "         'Namco Bandai Games', 'Midway Games', 'Ubisoft', 'D3Publisher',\n",
       "         'SouthPeak Games', 'Eidos Interactive', 'Ignition Entertainment',\n",
       "         'Atari', 'Disney Interactive Studios',\n",
       "         'Warner Bros. Interactive Entertainment', 'Empire Interactive',\n",
       "         'Tecmo Koei', 'Spike', 'Vivendi Games', 'Rising Star Games',\n",
       "         'Play It', 'Majesco Entertainment', 'Sony Online Entertainment',\n",
       "         'Acquire', '505 Games', 'Sting', 'Nippon Ichi Software',\n",
       "         'Deep Silver', 'Irem Software Engineering', 'Oxygen Interactive',\n",
       "         'Hudson Entertainment', 'Mercury Games',\n",
       "         'Midas Interactive Entertainment', 'Idea Factory',\n",
       "         'Crave Entertainment', 'Global A Entertainment', 'Codemasters'],\n",
       "        dtype=object),\n",
       "  'Wii': array(['Nintendo', 'LucasArts', 'Activision', 'Take-Two Interactive',\n",
       "         '505 Games', 'Sega', 'Konami Digital Entertainment',\n",
       "         'Midway Games', 'Ubisoft', 'Electronic Arts', 'Namco Bandai Games',\n",
       "         'THQ', 'Atari', 'Capcom', 'Deep Silver', 'RTL', 'D3Publisher',\n",
       "         'Warner Bros. Interactive Entertainment', 'MTV Games',\n",
       "         'Tomy Corporation', 'Eidos Interactive', 'Rising Star Games',\n",
       "         'Koch Media', 'Square Enix', 'Vivendi Games',\n",
       "         'Disney Interactive Studios', 'Xplosiv',\n",
       "         'System 3 Arcade Software', 'Zoo Digital Publishing', 'Destineer',\n",
       "         'Oxygen Interactive', 'SouthPeak Games', 'Ignition Entertainment',\n",
       "         'Scholastic Inc.', 'Tecmo Koei', 'Sting', 'Playlogic Game Factory',\n",
       "         'Bethesda Softworks', 'Hudson Soft', 'Codemasters', 'Game Factory',\n",
       "         'The Adventure Company', 'Popcorn Arcade', 'Metro 3D', 'Taito',\n",
       "         'Majesco Entertainment', 'PQube', 'Zoo Games'], dtype=object),\n",
       "  'X360': array(['Microsoft Game Studios', 'Take-Two Interactive', 'Activision',\n",
       "         'Ubisoft', 'Bethesda Softworks', 'Electronic Arts',\n",
       "         'Warner Bros. Interactive Entertainment', 'THQ', 'Sega',\n",
       "         'LucasArts', 'Disney Interactive Studios', 'Capcom',\n",
       "         'Midway Games', 'Eidos Interactive',\n",
       "         'Konami Digital Entertainment', 'Atari', 'Tecmo Koei',\n",
       "         'Codemasters', 'Touchstone', 'Spike', 'SouthPeak Games',\n",
       "         'Square Enix', 'D3Publisher', 'Vivendi Games',\n",
       "         'Namco Bandai Games', '505 Games', 'MTV Games', 'Black Bean Games',\n",
       "         'Compile Heart', 'Activision Value', 'Moss', 'Deep Silver',\n",
       "         'Brash Entertainment', 'Empire Interactive', 'Takara Tomy',\n",
       "         'Idea Factory', 'Valcon Games', 'Majesco Entertainment', 'Success',\n",
       "         'Gamecock', 'Navarre Corp'], dtype=object),\n",
       "  'XB': array(['Take-Two Interactive', 'Electronic Arts', 'Activision', 'Ubisoft',\n",
       "         'Microsoft Game Studios', 'Vivendi Games', 'THQ',\n",
       "         'Konami Digital Entertainment', 'LucasArts', 'NovaLogic', 'Atari',\n",
       "         'Midway Games', 'Disney Interactive Studios', 'Sega',\n",
       "         'Eidos Interactive', 'Deep Silver', 'Capcom', 'Codemasters',\n",
       "         'Global Star', 'Hip Interactive', 'SCi', 'Microids',\n",
       "         'Empire Interactive', 'Zoo Digital Publishing', 'Groove Games',\n",
       "         'Tecmo Koei', 'Majesco Entertainment', 'Crave Entertainment',\n",
       "         'DreamCatcher Interactive', 'Kemco', 'Mastiff', 'Wanadoo'],\n",
       "        dtype=object)},\n",
       " {'3DS': array(['Nintendo', 'Square Enix', 'Capcom', 'LucasArts', 'Sega',\n",
       "         'Marvelous Entertainment', 'Namco Bandai Games', 'Level 5',\n",
       "         'Electronic Arts', 'Warner Bros. Interactive Entertainment',\n",
       "         'Ubisoft', 'Activision', 'Disney Interactive Studios', '505 Games',\n",
       "         'Xseed Games', 'Ubisoft Annecy', 'Tetris Online', 'Tecmo Koei',\n",
       "         'Ghostlight', 'Konami Digital Entertainment', 'THQ',\n",
       "         'Agatsuma Entertainment', 'Codemasters', 'Nippon Ichi Software',\n",
       "         'Rising Star Games', 'Funbox Media', 'PQube',\n",
       "         'Crave Entertainment', 'Deep Silver', 'Sunsoft',\n",
       "         'Majesco Entertainment', 'FuRyu'], dtype=object),\n",
       "  'DS': array(['Nintendo', 'Warner Bros. Interactive Entertainment',\n",
       "         'Square Enix', 'Disney Interactive Studios', 'Sega', 'Activision',\n",
       "         '505 Games', 'Take-Two Interactive', 'Mastertronic', 'Capcom',\n",
       "         'Electronic Arts', 'THQ', 'Natsume', 'LucasArts',\n",
       "         'Rising Star Games', 'Atari', 'Focus Home Interactive',\n",
       "         'Namco Bandai Games', 'Eidos Interactive', 'Atlus', 'Ghostlight',\n",
       "         'Ubisoft', 'D3Publisher', 'Zoo Digital Publishing', 'Gust',\n",
       "         'PopCap Games', 'Nippon Ichi Software', 'SouthPeak Games',\n",
       "         'Konami Digital Entertainment', 'JoWood Productions', 'Aspyr',\n",
       "         'MTV Games', 'Codemasters', 'Tecmo Koei', 'Majesco Entertainment',\n",
       "         'Graffiti', 'Playlogic Game Factory', 'Mastiff',\n",
       "         'DreamCatcher Interactive'], dtype=object),\n",
       "  'PC': array(['Electronic Arts', 'Activision', 'Bethesda Softworks', 'NCSoft',\n",
       "         'Take-Two Interactive', 'Sega', 'Ubisoft',\n",
       "         'Focus Home Interactive', 'Namco Bandai Games', 'Valve Software',\n",
       "         'Unknown', 'Square Enix', 'Warner Bros. Interactive Entertainment',\n",
       "         'THQ', 'Eidos Interactive', 'Microsoft Game Studios',\n",
       "         'Wargaming.net', 'Kalypso Media', 'LucasArts',\n",
       "         'Sony Online Entertainment', 'Deep Silver', 'Codemasters',\n",
       "         'JoWood Productions', 'Funcom', 'City Interactive', 'Nordic Games',\n",
       "         '505 Games', 'Capcom', 'Tripwire Interactive', 'Square Enix ',\n",
       "         'HMH Interactive', 'DTP Entertainment', 'PopCap Games',\n",
       "         'Konami Digital Entertainment', 'Paradox Interactive',\n",
       "         'Disney Interactive Studios', '1C Company', 'Mastertronic',\n",
       "         'Team17 Software', 'Iceberg Interactive', 'SouthPeak Games',\n",
       "         'Just Flight', 'bitComposer Games', 'Atari', 'Number None',\n",
       "         'Playlogic Game Factory', 'Rondomedia', 'Evolved Games', 'Visco',\n",
       "         'Vivendi Games', 'Nobilis', 'Destineer'], dtype=object),\n",
       "  'PS2': array(['Activision', 'Sony Computer Entertainment',\n",
       "         'Konami Digital Entertainment', 'Atari', 'Electronic Arts',\n",
       "         'D3Publisher'], dtype=object),\n",
       "  'PS3': array(['Activision', 'Sony Computer Entertainment', 'Electronic Arts',\n",
       "         'Take-Two Interactive', 'Ubisoft', 'Bethesda Softworks',\n",
       "         'Warner Bros. Interactive Entertainment', 'Square Enix', 'Capcom',\n",
       "         'Eidos Interactive', 'Namco Bandai Games', 'THQ',\n",
       "         'Konami Digital Entertainment', 'Deep Silver', 'Sega', 'Valve',\n",
       "         'LucasArts', 'Codemasters', 'MTV Games', '505 Games',\n",
       "         'Disney Interactive Studios', 'Tecmo Koei', 'Ubisoft Annecy',\n",
       "         'City Interactive', 'Atlus', 'PQube', 'Nippon Ichi Software',\n",
       "         'SouthPeak Games', 'Sony Online Entertainment', 'Unknown',\n",
       "         'Black Bean Games', 'Rising Star Games', 'Ignition Entertainment',\n",
       "         'Vivendi Games', 'Focus Home Interactive', 'Marvelous Interactive',\n",
       "         'Crave Entertainment', 'Sony Computer Entertainment Europe',\n",
       "         'D3Publisher', 'Atari', 'PopCap Games', 'Spike',\n",
       "         'Playlogic Game Factory', 'DTP Entertainment', 'Compile Heart',\n",
       "         'EA Games', 'O-Games', 'Aqua Plus'], dtype=object),\n",
       "  'PSP': array(['Sony Computer Entertainment', 'Konami Digital Entertainment',\n",
       "         'Square Enix', 'Ubisoft', 'Electronic Arts',\n",
       "         'Take-Two Interactive', 'Sega', 'LucasArts', 'Namco Bandai Games',\n",
       "         'Ghostlight', 'Codemasters', 'MTV Games', 'Ubisoft Annecy',\n",
       "         'Marvelous Interactive', 'Activision', 'Nippon Ichi Software',\n",
       "         'GungHo', 'Falcom Corporation', 'Atlus', 'THQ', 'Atari',\n",
       "         'Rising Star Games', 'Unknown', 'Takara Tomy', 'PQube',\n",
       "         'Deep Silver', 'Disney Interactive Studios', 'PM Studios',\n",
       "         'Idea Factory', 'Playlogic Game Factory', 'From Software', 'FuRyu',\n",
       "         'SouthPeak Games', '5pb', 'DHM Interactive'], dtype=object),\n",
       "  'PSV': array(['Sony Computer Entertainment', 'Activision', 'Ubisoft', 'Atlus',\n",
       "         'Warner Bros. Interactive Entertainment', 'Electronic Arts',\n",
       "         'GungHo', 'Capcom', 'Nihon Falcom Corporation', 'Tecmo Koei',\n",
       "         'Sega', 'Konami Digital Entertainment', 'Namco Bandai Games',\n",
       "         'Codemasters', 'PQube', 'Square Enix', 'D3Publisher'], dtype=object),\n",
       "  'Wii': array(['Nintendo', 'Ubisoft', 'Electronic Arts',\n",
       "         'Disney Interactive Studios', 'Activision',\n",
       "         'Warner Bros. Interactive Entertainment', 'LucasArts', 'MTV Games',\n",
       "         'Sega', 'Namco Bandai Games', 'Zoo Games', 'Capcom', 'Codemasters',\n",
       "         'Atari', 'THQ', 'Rondomedia', 'Rising Star Games',\n",
       "         'Konami Digital Entertainment', 'D3Publisher', 'Square Enix',\n",
       "         'Eidos Interactive', 'Take-Two Interactive',\n",
       "         'Focus Home Interactive', 'Deep Silver', 'Majesco Entertainment',\n",
       "         'Marvelous Interactive', '505 Games', 'Nippon Ichi Software',\n",
       "         'Ackkstudios', 'Reef Entertainment', 'Bethesda Softworks',\n",
       "         'Telltale Games', 'Playlogic Game Factory', 'Flashpoint Games',\n",
       "         'PQube'], dtype=object),\n",
       "  'WiiU': array(['Nintendo', 'Ubisoft', 'Electronic Arts', 'Activision',\n",
       "         'Warner Bros. Interactive Entertainment',\n",
       "         'Disney Interactive Studios', 'THQ', 'Take-Two Interactive',\n",
       "         'Tecmo Koei'], dtype=object),\n",
       "  'X360': array(['Microsoft Game Studios', 'Activision', 'Bethesda Softworks',\n",
       "         'Electronic Arts', 'Take-Two Interactive', 'Ubisoft',\n",
       "         'Warner Bros. Interactive Entertainment', 'Capcom',\n",
       "         'Eidos Interactive', 'MTV Games', 'THQ', 'Deep Silver',\n",
       "         '505 Games', 'Square Enix', 'Valve Software', 'LucasArts', 'Sega',\n",
       "         'Namco Bandai Games', 'City Interactive',\n",
       "         'Disney Interactive Studios', 'Codemasters', 'Square Enix ',\n",
       "         'Konami Digital Entertainment', 'Atari', 'Spike', 'Unknown',\n",
       "         'PQube', 'Rising Star Games', 'Hudson Soft', 'Ubisoft Annecy',\n",
       "         'Home Entertainment Suppliers', 'Banpresto', 'SouthPeak Games',\n",
       "         'PopCap Games', 'Focus Home Interactive', 'Tecmo Koei',\n",
       "         'DTP Entertainment', 'D3Publisher', 'Kalypso Media', 'XS Games',\n",
       "         'Gamebridge', 'Zushi Games', 'Black Bean Games',\n",
       "         'Playlogic Game Factory', 'Ignition Entertainment', 'Atlus',\n",
       "         'Crave Entertainment', 'Majesco Entertainment', 'Phantom EFX',\n",
       "         'Evolved Games', 'JoWood Productions', 'Mad Catz',\n",
       "         'Conspiracy Entertainment', 'Cloud Imperium Games Corporation'],\n",
       "        dtype=object)},\n",
       " {'3DS': array(['Nintendo', 'Warner Bros. Interactive Entertainment',\n",
       "         'Nippon Ichi Software', 'Atlus', 'Square Enix', 'Sega',\n",
       "         'Rising Star Games', 'Screenlife', 'Namco Bandai Games', 'Unknown',\n",
       "         'FuRyu', 'Activision', 'Marvelous Entertainment', 'Capcom',\n",
       "         'Yacht Club Games', '505 Games', 'Little Orbit', 'Tecmo Koei',\n",
       "         'Aksys Games', 'Ubisoft', 'Agatsuma Entertainment'], dtype=object),\n",
       "  'PC': array(['Electronic Arts', 'Activision', 'Bethesda Softworks',\n",
       "         'Take-Two Interactive', 'Sega', 'Namco Bandai Games',\n",
       "         'Focus Home Interactive', 'Ubisoft', 'Activision Blizzard',\n",
       "         'Warner Bros. Interactive Entertainment', 'THQ', 'Trion Worlds',\n",
       "         'Deep Silver', 'NCSoft', 'Square Enix', 'Paradox Interactive',\n",
       "         'Slightly Mad Studios', 'Kalypso Media', 'Bohemia Interactive',\n",
       "         'inXile Entertainment', 'Konami Digital Entertainment',\n",
       "         'Codemasters', 'City Interactive', 'Koch Media', 'Capcom',\n",
       "         '505 Games', 'Insomniac Games', 'Milestone S.r.l.', 'Atari',\n",
       "         'Microsoft Game Studios', 'Bigben Interactive', 'Milestone S.r.l'],\n",
       "        dtype=object),\n",
       "  'PS3': array(['Take-Two Interactive', 'Activision', 'Electronic Arts',\n",
       "         'Sony Computer Entertainment Europe', 'Ubisoft',\n",
       "         'Sony Computer Entertainment',\n",
       "         'Warner Bros. Interactive Entertainment',\n",
       "         'Konami Digital Entertainment', 'Namco Bandai Games',\n",
       "         'Square Enix', 'Deep Silver', 'Disney Interactive Studios',\n",
       "         'Capcom', 'Sega', 'Tecmo Koei', 'Codemasters',\n",
       "         'Nippon Ichi Software', 'Sony Computer Entertainment America',\n",
       "         '505 Games', 'D3Publisher', 'Trion Worlds', 'City Interactive',\n",
       "         'Arc System Works', 'Focus Home Interactive', 'Atlus',\n",
       "         'From Software', 'Aksys Games', 'Nordic Games',\n",
       "         'Tru Blu Entertainment'], dtype=object),\n",
       "  'PS4': array(['Take-Two Interactive', 'Electronic Arts', 'Activision',\n",
       "         'Bethesda Softworks', 'Sony Computer Entertainment', 'Ubisoft',\n",
       "         'Namco Bandai Games', 'Warner Bros. Interactive Entertainment',\n",
       "         'Konami Digital Entertainment', 'Square Enix',\n",
       "         'Sony Computer Entertainment Europe', 'Hello Games', 'Sega',\n",
       "         'Slightly Mad Studios', 'Capcom',\n",
       "         'Sony Computer Entertainment America', '505 Games', 'Codemasters',\n",
       "         'Focus Home Interactive', 'Harmonix Music Systems', 'Deep Silver',\n",
       "         'Kalypso Media', 'Nippon Ichi Software', 'Tecmo Koei',\n",
       "         'Milestone S.r.l.', 'Telltale Games', 'Marvelous Interactive',\n",
       "         'System 3', 'PQube', 'Tru Blu Entertainment', 'Bigben Interactive',\n",
       "         'CCP', 'Unknown', 'Yacht Club Games', 'Insomniac Games',\n",
       "         'Idea Factory International', 'Revolution Software', 'Xseed Games',\n",
       "         'Nordic Games', 'Tripwire Interactive', 'Dusenberry Martin Racing',\n",
       "         'Milestone S.r.l', 'Rebellion Developments',\n",
       "         'Alternative Software', 'Aksys Games', 'Gearbox Software',\n",
       "         'Introversion Software', 'Sold Out', 'Devolver Digital',\n",
       "         'Microids', 'Compile Heart', 'Avanquest', 'FuRyu Corporation',\n",
       "         'Stainless Games'], dtype=object),\n",
       "  'PSP': array(['Namco Bandai Games'], dtype=object),\n",
       "  'PSV': array(['Sony Computer Entertainment Europe', 'Square Enix',\n",
       "         'Sony Computer Entertainment', 'Take-Two Interactive',\n",
       "         'Warner Bros. Interactive Entertainment', 'Namco Bandai Games',\n",
       "         'Nippon Ichi Software', 'Tecmo Koei', 'Sega',\n",
       "         'Marvelous Interactive', 'Xseed Games', 'Screenlife', 'Ubisoft',\n",
       "         'Idea Factory', 'Idea Factory International', 'PQube',\n",
       "         'Sony Computer Entertainment America', 'GungHo', 'Capcom',\n",
       "         'Aksys Games', 'Rising Star Games', 'Arc System Works'],\n",
       "        dtype=object),\n",
       "  'WiiU': array(['Nintendo', 'Namco Bandai Games',\n",
       "         'Warner Bros. Interactive Entertainment', 'Ubisoft', 'Activision',\n",
       "         'Disney Interactive Studios', 'Sega', 'Capcom',\n",
       "         'Nippon Ichi Software', 'Yacht Club Games', 'Little Orbit',\n",
       "         'Deep Silver', '505 Games', 'Tecmo Koei', 'Nordic Games'],\n",
       "        dtype=object),\n",
       "  'X360': array(['Take-Two Interactive', 'Activision', 'Electronic Arts', 'Ubisoft',\n",
       "         'Warner Bros. Interactive Entertainment', 'Deep Silver',\n",
       "         'Microsoft Game Studios', 'Disney Interactive Studios', 'Sega',\n",
       "         'Namco Bandai Games', '505 Games', 'Trion Worlds',\n",
       "         'Konami Digital Entertainment', 'Capcom', 'Focus Home Interactive',\n",
       "         'Codemasters', 'Square Enix', 'City Interactive', 'Tecmo Koei',\n",
       "         'D3Publisher', 'Atlus', 'Nordic Games', 'Little Orbit',\n",
       "         'Kalypso Media'], dtype=object),\n",
       "  'XOne': array(['Take-Two Interactive', 'Activision', 'Microsoft Game Studios',\n",
       "         'Bethesda Softworks', 'Ubisoft', 'Electronic Arts',\n",
       "         'Warner Bros. Interactive Entertainment', 'Square Enix',\n",
       "         'Namco Bandai Games', 'Konami Digital Entertainment', 'Sega',\n",
       "         'Harmonix Music Systems', '505 Games', 'Slightly Mad Studios',\n",
       "         'Codemasters', 'Majesco Entertainment',\n",
       "         'Disney Interactive Studios', 'Deep Silver', 'Milestone S.r.l.',\n",
       "         'Capcom', 'Bigben Interactive', 'Tecmo Koei', 'Insomniac Games',\n",
       "         'Telltale Games', 'Unknown', 'Focus Home Interactive',\n",
       "         'Stainless Games', 'Revolution Software', 'Nordic Games',\n",
       "         'Sold Out', 'Koch Media', 'Milestone S.r.l'], dtype=object)}]"
      ]
     },
     "execution_count": 30,
     "metadata": {},
     "output_type": "execute_result"
    }
   ],
   "source": [
    "publisher_platforms = []\n",
    "for db in df_list:\n",
    "    publisher_platforms.append(db.groupby('Platform')['Publisher'].unique().to_dict())"
   ]
  },
  {
   "cell_type": "code",
   "execution_count": 31,
   "id": "b75a40bb",
   "metadata": {},
   "outputs": [
    {
     "data": {
      "text/plain": [
       "array(['Nintendo', 'Microsoft Game Studios', 'Take-Two Interactive',\n",
       "       'Sony Computer Entertainment', 'Activision', 'Ubisoft',\n",
       "       'Bethesda Softworks', 'Electronic Arts', 'SquareSoft',\n",
       "       'GT Interactive', 'Konami Digital Entertainment', 'Square Enix',\n",
       "       'Sony Computer Entertainment Europe', 'Virgin Interactive',\n",
       "       'LucasArts', '505 Games', 'Capcom',\n",
       "       'Warner Bros. Interactive Entertainment', 'Universal Interactive',\n",
       "       'RedOctane', 'Atari', 'Eidos Interactive', 'Namco Bandai Games',\n",
       "       'Vivendi Games', 'MTV Games', 'Sega', 'THQ',\n",
       "       'Disney Interactive Studios', 'Acclaim Entertainment',\n",
       "       'Midway Games', 'Deep Silver', 'NCSoft', 'Tecmo Koei',\n",
       "       'Valve Software', 'Infogrames', 'Mindscape', 'Valve',\n",
       "       'Hello Games', 'Global Star', 'Gotham Games',\n",
       "       'Crave Entertainment', 'Hasbro Interactive', 'Codemasters',\n",
       "       'TDK Mediactive', 'Zoo Games', 'Sony Oznline Entertainment', 'RTL',\n",
       "       'D3Publisher', 'Unknown', 'Black Label Games', 'SouthPeak Games',\n",
       "       'Zoo Digital Publishing', 'City Interactive', 'Empire Interactive',\n",
       "       'Russel', 'Atlus', 'Mastertronic', 'Slightly Mad Studios',\n",
       "       'Play It', 'Tomy Corporation', 'Focus Home Interactive',\n",
       "       'Game Factory', 'Titus', 'Marvelous Entertainment', 'Genki',\n",
       "       'TalonSoft', 'Square Enix ', 'SCi', 'Rage Software',\n",
       "       'Ubisoft Annecy', 'Rising Star Games', 'Enix Corporation',\n",
       "       'Level 5', 'Koch Media', 'Square EA', 'Touchstone', 'Spike',\n",
       "       'Nippon Ichi Software', 'Sony Computer Entertainment America',\n",
       "       'Illusion Softworks', 'Interplay', 'Metro 3D',\n",
       "       'Sony Online Entertainment', 'Rondomedia', 'Ghostlight',\n",
       "       'Majesco Entertainment', 'PQube', 'Trion Worlds', 'Xseed Games',\n",
       "       'Ignition Entertainment', 'Kadokawa Shoten', 'Natsume', 'Square',\n",
       "       'Gamebridge', 'Midas Interactive Entertainment',\n",
       "       'ASCII Entertainment', 'Rebellion', 'Harmonix Music Systems',\n",
       "       'Activision Blizzard', 'Xplosiv', 'System 3 Arcade Software',\n",
       "       'Wanadoo', 'NovaLogic', 'BAM! Entertainment', 'Tetris Online',\n",
       "       'Psygnosis', 'Screenlife', 'GungHo', 'Jester Interactive',\n",
       "       'Black Bean Games', '3DO', 'Takara Tomy', 'Sammy Corporation',\n",
       "       'Kalypso Media', 'Hudson Soft', 'Marvelous Interactive',\n",
       "       'Home Entertainment Suppliers', 'Arc System Works', 'Banpresto',\n",
       "       'Wargaming.net', 'Destineer', 'Pacific Century Cyber Works',\n",
       "       'PopCap Games', 'Indie Games', 'FuRyu', 'Nihon Falcom Corporation',\n",
       "       'Gathering of Developers', 'Oxygen Interactive',\n",
       "       'DTP Entertainment', 'Falcom Corporation', 'Kemco',\n",
       "       'Milestone S.r.l.', 'AQ Interactive', 'Agetec', 'XS Games',\n",
       "       'Activision Value', 'Telltale Games', 'Zushi Games', 'CCP',\n",
       "       'Agatsuma Entertainment', 'Compile Heart', 'Mad Catz', 'Gust',\n",
       "       'Media Rings', 'JoWood Productions', 'Brash Entertainment',\n",
       "       'Funcom', 'Jaleco', 'Playlogic Game Factory',\n",
       "       'Human Entertainment', 'Fox Interactive', 'Scholastic Inc.',\n",
       "       'System 3', 'Nordic Games', 'White Park Bay Software', 'EA Games',\n",
       "       'Acquire', 'Paradox Interactive', 'Yacht Club Games',\n",
       "       'Swing! Entertainment', 'Hip Interactive', 'Tripwire Interactive',\n",
       "       'Enterbrain', 'Havas Interactive', 'Sting', 'Idea Factory',\n",
       "       'Funsta', 'Tru Blu Entertainment', 'Moss', 'From Software',\n",
       "       'NDA Productions', 'Bigben Interactive',\n",
       "       'Idea Factory International', 'O-Games', 'Funbox Media',\n",
       "       'Valcon Games', 'PM Studios', 'Bohemia Interactive', 'Aqua Plus',\n",
       "       'Ackkstudios', 'HMH Interactive', 'inXile Entertainment', 'Cave',\n",
       "       'Microids', 'Phantom EFX', 'Evolved Games', 'O3 Entertainment',\n",
       "       'Aspyr', 'Nobilis', 'Sunsoft', 'DSI Games', 'Little Orbit',\n",
       "       'Telegames', 'The Adventure Company', 'Popcorn Arcade',\n",
       "       'Insomniac Games', 'Aksys Games', 'Taito', 'Reef Entertainment',\n",
       "       'Irem Software Engineering', 'Myelin Media', 'Success', 'SNK',\n",
       "       'Avalon Interactive', 'Revolution Software', 'Gamecock',\n",
       "       'Groove Games', 'Hudson Entertainment', 'Mercury Games',\n",
       "       'Ascaron Entertainment GmbH', 'Mastiff',\n",
       "       'Destination Software, Inc', 'Graffiti', '1C Company',\n",
       "       'Phantagram', 'DreamCatcher Interactive',\n",
       "       'Dusenberry Martin Racing', 'Navarre Corp', 'ESP',\n",
       "       'Team17 Software', 'Max Five', 'Conspiracy Entertainment',\n",
       "       'Milestone S.r.l', 'Rebellion Developments', 'Kool Kizz',\n",
       "       'Monte Christo Multimedia', '5pb',\n",
       "       'Cloud Imperium Games Corporation', 'Flashpoint Games',\n",
       "       'Alternative Software', 'DHM Interactive', 'Iceberg Interactive',\n",
       "       'MC2 Entertainment', '2D Boy', 'Gearbox Software',\n",
       "       'Global A Entertainment', 'Just Flight', 'bitComposer Games',\n",
       "       'Introversion Software', 'Sold Out', 'Sunflowers', 'id Software',\n",
       "       'Maxis', 'Pinnacle', 'Xicat Interactive', 'Devolver Digital',\n",
       "       'Number None', 'TopWare Interactive', 'Strategy First',\n",
       "       'Lexicon Entertainment', 'GOA', 'Avanquest',\n",
       "       'Graphsim Entertainment', 'Codemasters Online', 'Stainless Games',\n",
       "       '10TACLE Studios', 'FuRyu Corporation', 'Visco', 'Crimson Cow',\n",
       "       'Lighthouse Interactive', 'CDV Software Entertainment', 'Encore',\n",
       "       'Blue Byte', 'NewKidCo'], dtype=object)"
      ]
     },
     "execution_count": 31,
     "metadata": {},
     "output_type": "execute_result"
    }
   ],
   "source": [
    "publishers = df[\"Publisher\"].unique()"
   ]
  },
  {
   "cell_type": "code",
   "execution_count": 33,
   "id": "4d486c79",
   "metadata": {},
   "outputs": [
    {
     "data": {
      "text/plain": [
       "290"
      ]
     },
     "execution_count": 33,
     "metadata": {},
     "output_type": "execute_result"
    }
   ],
   "source": [
    "df['Name'].loc[df[\"Publisher\"] == 'Nintendo'].nunique() "
   ]
  },
  {
   "cell_type": "code",
   "execution_count": 34,
   "id": "b1ded30d",
   "metadata": {},
   "outputs": [],
   "source": [
    "action_graph = Graph(directed=False) # não-dirigido\n",
    "action_graph.add_vp('Publisher')\n",
    "action_graph.add_vp('Games_released')\n",
    "action_graph.add_ep('strength')\n",
    "\n",
    "for pub in publishers:\n",
    "    action_graph.add_vertex(pub)\n",
    "    action_graph.get_vertex(pub)['Publisher'] = pub\n",
    "    num_games = df['Name'].loc[df[\"Publisher\"] == pub].nunique() \n",
    "    action_graph.get_vertex(pub)['Games_released'] = num_games\n",
    "\n",
    "# for df in df_list:\n",
    "#     for pub in publishers:\n",
    "#         for pub2 in publishers:\n",
    "#             if pub != pub2 and not action_graph.has_edge(pub, pub2):\n",
    "#                 action_graph.add_edge(pub, pub2)"
   ]
  },
  {
   "cell_type": "code",
   "execution_count": 35,
   "id": "127ba2c2",
   "metadata": {},
   "outputs": [],
   "source": [
    "for platform_dict in publisher_platforms:\n",
    "    for platform, publishers in platform_dict.items():\n",
    "        for i in range(len(publishers)):\n",
    "            if i != len(publishers)-1:\n",
    "                next_vertex = i+1\n",
    "                while(next_vertex < len(publishers)):\n",
    "                    if(publishers[i] != publishers[next_vertex] and not action_graph.has_edge(publishers[i], publishers[next_vertex])):\n",
    "                        action_graph.add_edge(publishers[i], publishers[next_vertex])\n",
    "                        action_graph.get_edge(publishers[i], publishers[next_vertex])['strength'] = 1\n",
    "                        next_vertex += 1\n",
    "                    else:\n",
    "                        action_graph.get_edge(publishers[i], publishers[next_vertex])['strength'] += 1\n",
    "                        next_vertex += 1"
   ]
  },
  {
   "cell_type": "code",
   "execution_count": 36,
   "id": "3a0ef57d",
   "metadata": {},
   "outputs": [
    {
     "name": "stdout",
     "output_type": "stream",
     "text": [
      "número de vértices de g: 264\n"
     ]
    }
   ],
   "source": [
    "print('número de vértices de g:', action_graph.num_vertices())"
   ]
  },
  {
   "cell_type": "code",
   "execution_count": 37,
   "id": "0064d19a",
   "metadata": {},
   "outputs": [
    {
     "name": "stdout",
     "output_type": "stream",
     "text": [
      "número de arestaas de g: 10970\n"
     ]
    }
   ],
   "source": [
    "print('número de arestaas de g:', action_graph.num_edges())"
   ]
  },
  {
   "cell_type": "code",
   "execution_count": 38,
   "id": "c311f468",
   "metadata": {},
   "outputs": [],
   "source": [
    "gt_save(action_graph, 'action_graph.net.gz')"
   ]
  },
  {
   "cell_type": "code",
   "execution_count": 39,
   "id": "64c4bee4",
   "metadata": {},
   "outputs": [],
   "source": [
    "g = gt_load('action_graph.net.gz')\n",
    "g = gt_clean(g)\n",
    "m = gt_draw.sfdp_layout(g)\n",
    "gt_move(g, m)\n",
    "gt_save(g, 'action_sfdp.net.gz')"
   ]
  },
  {
   "cell_type": "code",
   "execution_count": 40,
   "id": "4d625fd4",
   "metadata": {
    "scrolled": true
   },
   "outputs": [
    {
     "data": {
      "text/html": [
       "\n",
       "        <div id=\"2TkmSgp8b7XvWXqgqo4sQf\"></div>\n",
       "        <script>netpixi.render('2TkmSgp8b7XvWXqgqo4sQf', 'action_sfdp.net.gz', 1.7777777777777777, true, true, false);</script>\n",
       "    "
      ],
      "text/plain": [
       "<IPython.core.display.HTML object>"
      ]
     },
     "metadata": {},
     "output_type": "display_data"
    }
   ],
   "source": [
    "r = netpixi.render('action_sfdp.net.gz', infinite=True);"
   ]
  },
  {
   "cell_type": "code",
   "execution_count": 41,
   "id": "f15b7df2",
   "metadata": {},
   "outputs": [
    {
     "data": {
      "text/html": [
       "\n",
       "        <div id=\"eV3TkkddRxhMF5FXMzdAXB\"></div>\n",
       "        <script>netpixi.call('eV3TkkddRxhMF5FXMzdAXB', '2TkmSgp8b7XvWXqgqo4sQf', 'normalizeGraph', 'eyJ0eXBlIjogInZlcnRleCIsICJwcm9wcyI6IHsic3JjIjogIkdhbWVzX3JlbGVhc2VkIiwgIm1pbiI6IDIwLCAibWF4IjogNTB9fQo=');</script>\n",
       "    "
      ],
      "text/plain": [
       "<IPython.core.display.HTML object>"
      ]
     },
     "metadata": {},
     "output_type": "display_data"
    },
    {
     "data": {
      "text/html": [
       "\n",
       "        <div id=\"kDb3HSSfNZ3eb3KRBsrQgT\"></div>\n",
       "        <script>netpixi.call('kDb3HSSfNZ3eb3KRBsrQgT', '2TkmSgp8b7XvWXqgqo4sQf', 'normalizeGraph', 'eyJ0eXBlIjogImVkZ2UiLCAicHJvcHMiOiB7InNyYyI6ICJzdHJlbmd0aCIsICJtaW4iOiAwLjMsICJtYXgiOiA0fX0K');</script>\n",
       "    "
      ],
      "text/plain": [
       "<IPython.core.display.HTML object>"
      ]
     },
     "metadata": {},
     "output_type": "display_data"
    },
    {
     "data": {
      "text/html": [
       "\n",
       "        <div id=\"KnzkGnwdy6vYYnrmB5uYi9\"></div>\n",
       "        <script>netpixi.call('KnzkGnwdy6vYYnrmB5uYi9', '2TkmSgp8b7XvWXqgqo4sQf', 'changeGraph', 'eyJ0eXBlIjogInNldHRpbmdzIiwgInByb3BzIjogeyJ2ZXJ0ZXgiOiB7ImNvbG9yIjogMTY3NDYxMDAsICJrc2NhbGUiOiA0LCAiYndpZHRoIjogMywgImJjb2xvciI6IDB9fX0K');</script>\n",
       "    "
      ],
      "text/plain": [
       "<IPython.core.display.HTML object>"
      ]
     },
     "metadata": {},
     "output_type": "display_data"
    },
    {
     "data": {
      "text/html": [
       "\n",
       "        <div id=\"Ww4gVcF8b2kzBvQ26aXzYU\"></div>\n",
       "        <script>netpixi.call('Ww4gVcF8b2kzBvQ26aXzYU', '2TkmSgp8b7XvWXqgqo4sQf', 'changeGraph', 'eyJ0eXBlIjogInNldHRpbmdzIiwgInByb3BzIjogeyJlZGdlIjogeyJjdXJ2ZTEiOiAxLCAiY3VydmUyIjogMX19fQo=');</script>\n",
       "    "
      ],
      "text/plain": [
       "<IPython.core.display.HTML object>"
      ]
     },
     "metadata": {},
     "output_type": "display_data"
    },
    {
     "data": {
      "text/html": [
       "\n",
       "        <div id=\"de4vgr4v5bzGvB9EG5bwy4\"></div>\n",
       "        <script>netpixi.call('de4vgr4v5bzGvB9EG5bwy4', '2TkmSgp8b7XvWXqgqo4sQf', 'setGraph', 'eyJ0eXBlIjogInZlcnRleCIsICJwcm9wcyI6IHsic3JjIjogIlB1Ymxpc2hlciIsICJkc3QiOiAiX2tleSJ9fQo=');</script>\n",
       "    "
      ],
      "text/plain": [
       "<IPython.core.display.HTML object>"
      ]
     },
     "metadata": {},
     "output_type": "display_data"
    }
   ],
   "source": [
    "r.vertex_scale('Games_released', 20, 50)\n",
    "r.edge_scale('strength', 0.3, 4)\n",
    "r.vertex_default(color=0xff8674, kscale = 4, bwidth=3, bcolor=0x000000)\n",
    "r.edge_default(curve1=1, curve2=1)\n",
    "r.vertex_set_key('Publisher')"
   ]
  },
  {
   "cell_type": "markdown",
   "id": "c9de378b",
   "metadata": {},
   "source": [
    "# Densidade"
   ]
  },
  {
   "cell_type": "code",
   "execution_count": 45,
   "id": "e9e502db",
   "metadata": {},
   "outputs": [
    {
     "name": "stdout",
     "output_type": "stream",
     "text": [
      "Densidade do grafo: 0.3159926258785574\n"
     ]
    }
   ],
   "source": [
    "num_vertices = action_graph.num_vertices()\n",
    "num_edges = action_graph.num_edges()\n",
    "\n",
    "# Como sabemos que nosso grafo não é dirigido, podemos a fórmula a seguir\n",
    "max_edges = num_vertices * (num_vertices - 1) // 2\n",
    "density = num_edges / max_edges\n",
    "print('Densidade do grafo:', density)"
   ]
  },
  {
   "cell_type": "markdown",
   "id": "1e981014",
   "metadata": {},
   "source": [
    "# Centralidade Closeness"
   ]
  },
  {
   "cell_type": "code",
   "execution_count": 65,
   "id": "467e95ae",
   "metadata": {},
   "outputs": [],
   "source": [
    "from graph_tool import centrality\n",
    "g = gt_load(\"action_sfdp.net.gz\")\n",
    "\n",
    "cc = centrality.closeness(g)"
   ]
  },
  {
   "cell_type": "code",
   "execution_count": 66,
   "id": "853c12c4",
   "metadata": {},
   "outputs": [],
   "source": [
    "g.add_vp('closeness', cc)"
   ]
  },
  {
   "cell_type": "code",
   "execution_count": 67,
   "id": "7fa25d27",
   "metadata": {},
   "outputs": [],
   "source": [
    "gt_save(g, 'graph_closeness_component.net.gz')"
   ]
  },
  {
   "cell_type": "code",
   "execution_count": 68,
   "id": "59a7c904",
   "metadata": {},
   "outputs": [],
   "source": [
    "g = gt_load('graph_closeness_component.net.gz')"
   ]
  },
  {
   "cell_type": "code",
   "execution_count": 69,
   "id": "472f5ff1",
   "metadata": {},
   "outputs": [
    {
     "data": {
      "text/html": [
       "\n",
       "        <div id=\"MwnSgdvHAKXLKgmg37xSSG\"></div>\n",
       "        <script>netpixi.render('MwnSgdvHAKXLKgmg37xSSG', 'graph_closeness_component.net.gz', 1.7777777777777777, true, true, false);</script>\n",
       "    "
      ],
      "text/plain": [
       "<IPython.core.display.HTML object>"
      ]
     },
     "metadata": {},
     "output_type": "display_data"
    }
   ],
   "source": [
    "r = netpixi.render('graph_closeness_component.net.gz', infinite=True)"
   ]
  },
  {
   "cell_type": "code",
   "execution_count": 70,
   "id": "1e6d5994",
   "metadata": {},
   "outputs": [
    {
     "data": {
      "text/html": [
       "\n",
       "        <div id=\"3rVi7oaCf3UeAxrVQnb3LX\"></div>\n",
       "        <script>netpixi.call('3rVi7oaCf3UeAxrVQnb3LX', 'MwnSgdvHAKXLKgmg37xSSG', 'normalizeGraph', 'eyJ0eXBlIjogInZlcnRleCIsICJwcm9wcyI6IHsic3JjIjogImNsb3NlbmVzcyIsICJtaW4iOiAxMCwgIm1heCI6IDUwfX0K');</script>\n",
       "    "
      ],
      "text/plain": [
       "<IPython.core.display.HTML object>"
      ]
     },
     "metadata": {},
     "output_type": "display_data"
    },
    {
     "data": {
      "text/html": [
       "\n",
       "        <div id=\"CjwLY6T6UxSFFdFammcmVP\"></div>\n",
       "        <script>netpixi.call('CjwLY6T6UxSFFdFammcmVP', 'MwnSgdvHAKXLKgmg37xSSG', 'setGraph', 'eyJ0eXBlIjogInZlcnRleCIsICJwcm9wcyI6IHsic3JjIjogIlB1Ymxpc2hlciIsICJkc3QiOiAiX2tleSJ9fQo=');</script>\n",
       "    "
      ],
      "text/plain": [
       "<IPython.core.display.HTML object>"
      ]
     },
     "metadata": {},
     "output_type": "display_data"
    }
   ],
   "source": [
    "r.vertex_scale('closeness', 10, 50)\n",
    "r.vertex_set_key('Publisher')"
   ]
  },
  {
   "cell_type": "markdown",
   "id": "9df81a92",
   "metadata": {},
   "source": [
    "# Centro periferia"
   ]
  },
  {
   "cell_type": "code",
   "execution_count": 57,
   "id": "cbd24f29",
   "metadata": {},
   "outputs": [],
   "source": [
    "import cpnet\n",
    "\n",
    "from graph_tool import spectral\n",
    "\n",
    "g = gt_load(\"action_sfdp.net.gz\")"
   ]
  },
  {
   "cell_type": "code",
   "execution_count": 62,
   "id": "d6a82be9",
   "metadata": {
    "scrolled": false
   },
   "outputs": [
    {
     "data": {
      "text/html": [
       "\n",
       "        <div id=\"7v8o9kC3EyFfMVTkmx2sZN\"></div>\n",
       "        <script>netpixi.render('7v8o9kC3EyFfMVTkmx2sZN', 'action_sfdp.net.gz', 1.7777777777777777, true, true, false);</script>\n",
       "    "
      ],
      "text/plain": [
       "<IPython.core.display.HTML object>"
      ]
     },
     "metadata": {},
     "output_type": "display_data"
    }
   ],
   "source": [
    "r = netpixi.render('action_sfdp.net.gz', infinite=True);"
   ]
  },
  {
   "cell_type": "code",
   "execution_count": 63,
   "id": "c7edebe5",
   "metadata": {},
   "outputs": [
    {
     "data": {
      "text/html": [
       "\n",
       "        <div id=\"ZkLzPxvSsnYfJrCzNAD5mW\"></div>\n",
       "        <script>netpixi.call('ZkLzPxvSsnYfJrCzNAD5mW', '7v8o9kC3EyFfMVTkmx2sZN', 'changeGraph', 'eyJpZCI6ICJOaW50ZW5kbyIsICJ0eXBlIjogInZlcnRleCIsICJwcm9wcyI6IHsic2l6ZSI6IDQwLjk0MzM5NjIyNjQxNTA5Nn19Cg==');</script>\n",
       "    "
      ],
      "text/plain": [
       "<IPython.core.display.HTML object>"
      ]
     },
     "metadata": {},
     "output_type": "display_data"
    },
    {
     "data": {
      "text/html": [
       "\n",
       "        <div id=\"78j2GGSdWiUdceLAW5FrYQ\"></div>\n",
       "        <script>netpixi.call('78j2GGSdWiUdceLAW5FrYQ', '7v8o9kC3EyFfMVTkmx2sZN', 'changeGraph', 'eyJpZCI6ICJNaWNyb3NvZnQgR2FtZSBTdHVkaW9zIiwgInR5cGUiOiAidmVydGV4IiwgInByb3BzIjogeyJzaXplIjogNDEuMzIwNzU0NzE2OTgxMTM1fX0K');</script>\n",
       "    "
      ],
      "text/plain": [
       "<IPython.core.display.HTML object>"
      ]
     },
     "metadata": {},
     "output_type": "display_data"
    },
    {
     "data": {
      "text/html": [
       "\n",
       "        <div id=\"Tg9NoespBtxQwAE7ZZQ6Ca\"></div>\n",
       "        <script>netpixi.call('Tg9NoespBtxQwAE7ZZQ6Ca', '7v8o9kC3EyFfMVTkmx2sZN', 'changeGraph', 'eyJpZCI6ICJUYWtlLVR3byBJbnRlcmFjdGl2ZSIsICJ0eXBlIjogInZlcnRleCIsICJwcm9wcyI6IHsic2l6ZSI6IDQ5LjQzMzk2MjI2NDE1MDk1fX0K');</script>\n",
       "    "
      ],
      "text/plain": [
       "<IPython.core.display.HTML object>"
      ]
     },
     "metadata": {},
     "output_type": "display_data"
    },
    {
     "data": {
      "text/html": [
       "\n",
       "        <div id=\"mXigGx9rEJxGZ25GKwPAEP\"></div>\n",
       "        <script>netpixi.call('mXigGx9rEJxGZ25GKwPAEP', '7v8o9kC3EyFfMVTkmx2sZN', 'changeGraph', 'eyJpZCI6ICJTb255IENvbXB1dGVyIEVudGVydGFpbm1lbnQiLCAidHlwZSI6ICJ2ZXJ0ZXgiLCAicHJvcHMiOiB7InNpemUiOiA0My4wMTg4Njc5MjQ1MjgzfX0K');</script>\n",
       "    "
      ],
      "text/plain": [
       "<IPython.core.display.HTML object>"
      ]
     },
     "metadata": {},
     "output_type": "display_data"
    },
    {
     "data": {
      "text/html": [
       "\n",
       "        <div id=\"GozrB9ggfeMtMjkooQekdy\"></div>\n",
       "        <script>netpixi.call('GozrB9ggfeMtMjkooQekdy', '7v8o9kC3EyFfMVTkmx2sZN', 'changeGraph', 'eyJpZCI6ICJBY3RpdmlzaW9uIiwgInR5cGUiOiAidmVydGV4IiwgInByb3BzIjogeyJzaXplIjogNDkuMjQ1MjgzMDE4ODY3OTJ9fQo=');</script>\n",
       "    "
      ],
      "text/plain": [
       "<IPython.core.display.HTML object>"
      ]
     },
     "metadata": {},
     "output_type": "display_data"
    },
    {
     "data": {
      "text/html": [
       "\n",
       "        <div id=\"8T4okCZWreuThofrqGXmsY\"></div>\n",
       "        <script>netpixi.call('8T4okCZWreuThofrqGXmsY', '7v8o9kC3EyFfMVTkmx2sZN', 'changeGraph', 'eyJpZCI6ICJVYmlzb2Z0IiwgInR5cGUiOiAidmVydGV4IiwgInByb3BzIjogeyJzaXplIjogNDkuNjIyNjQxNTA5NDMzOTZ9fQo=');</script>\n",
       "    "
      ],
      "text/plain": [
       "<IPython.core.display.HTML object>"
      ]
     },
     "metadata": {},
     "output_type": "display_data"
    },
    {
     "data": {
      "text/html": [
       "\n",
       "        <div id=\"6RJfU4PaA9YLSFoyeTbZQT\"></div>\n",
       "        <script>netpixi.call('6RJfU4PaA9YLSFoyeTbZQT', '7v8o9kC3EyFfMVTkmx2sZN', 'changeGraph', 'eyJpZCI6ICJCZXRoZXNkYSBTb2Z0d29ya3MiLCAidHlwZSI6ICJ2ZXJ0ZXgiLCAicHJvcHMiOiB7InNpemUiOiA0Ni4yMjY0MTUwOTQzMzk2Mn19Cg==');</script>\n",
       "    "
      ],
      "text/plain": [
       "<IPython.core.display.HTML object>"
      ]
     },
     "metadata": {},
     "output_type": "display_data"
    },
    {
     "data": {
      "text/html": [
       "\n",
       "        <div id=\"VULKPNNthuVWWc2d9R7U4j\"></div>\n",
       "        <script>netpixi.call('VULKPNNthuVWWc2d9R7U4j', '7v8o9kC3EyFfMVTkmx2sZN', 'changeGraph', 'eyJpZCI6ICJFbGVjdHJvbmljIEFydHMiLCAidHlwZSI6ICJ2ZXJ0ZXgiLCAicHJvcHMiOiB7InNpemUiOiA0OS4wNTY2MDM3NzM1ODQ5MDR9fQo=');</script>\n",
       "    "
      ],
      "text/plain": [
       "<IPython.core.display.HTML object>"
      ]
     },
     "metadata": {},
     "output_type": "display_data"
    },
    {
     "data": {
      "text/html": [
       "\n",
       "        <div id=\"NwcbhtDWqdkCwciP59Du5U\"></div>\n",
       "        <script>netpixi.call('NwcbhtDWqdkCwciP59Du5U', '7v8o9kC3EyFfMVTkmx2sZN', 'changeGraph', 'eyJpZCI6ICJTcXVhcmVTb2Z0IiwgInR5cGUiOiAidmVydGV4IiwgInByb3BzIjogeyJzaXplIjogMTYuOTM3Nzk5MDQzMDYyMn19Cg==');</script>\n",
       "    "
      ],
      "text/plain": [
       "<IPython.core.display.HTML object>"
      ]
     },
     "metadata": {},
     "output_type": "display_data"
    },
    {
     "data": {
      "text/html": [
       "\n",
       "        <div id=\"77B4cEMreM2ahm74MSMfHe\"></div>\n",
       "        <script>netpixi.call('77B4cEMreM2ahm74MSMfHe', '7v8o9kC3EyFfMVTkmx2sZN', 'changeGraph', 'eyJpZCI6ICJHVCBJbnRlcmFjdGl2ZSIsICJ0eXBlIjogInZlcnRleCIsICJwcm9wcyI6IHsic2l6ZSI6IDEwLjkwOTA5MDkwOTA5MDkxfX0K');</script>\n",
       "    "
      ],
      "text/plain": [
       "<IPython.core.display.HTML object>"
      ]
     },
     "metadata": {},
     "output_type": "display_data"
    },
    {
     "data": {
      "text/html": [
       "\n",
       "        <div id=\"NV5H9aaQ9sg2dcn98nAjYf\"></div>\n",
       "        <script>netpixi.call('NV5H9aaQ9sg2dcn98nAjYf', '7v8o9kC3EyFfMVTkmx2sZN', 'changeGraph', 'eyJpZCI6ICJLb25hbWkgRGlnaXRhbCBFbnRlcnRhaW5tZW50IiwgInR5cGUiOiAidmVydGV4IiwgInByb3BzIjogeyJzaXplIjogNDguMzAxODg2NzkyNDUyODN9fQo=');</script>\n",
       "    "
      ],
      "text/plain": [
       "<IPython.core.display.HTML object>"
      ]
     },
     "metadata": {},
     "output_type": "display_data"
    },
    {
     "data": {
      "text/html": [
       "\n",
       "        <div id=\"fZZjydS6ThuJotUw33JEsf\"></div>\n",
       "        <script>netpixi.call('fZZjydS6ThuJotUw33JEsf', '7v8o9kC3EyFfMVTkmx2sZN', 'changeGraph', 'eyJpZCI6ICJTcXVhcmUgRW5peCIsICJ0eXBlIjogInZlcnRleCIsICJwcm9wcyI6IHsic2l6ZSI6IDQ3LjU0NzE2OTgxMTMyMDc2fX0K');</script>\n",
       "    "
      ],
      "text/plain": [
       "<IPython.core.display.HTML object>"
      ]
     },
     "metadata": {},
     "output_type": "display_data"
    },
    {
     "data": {
      "text/html": [
       "\n",
       "        <div id=\"mnWToHfFNedZA5EcRHAo8C\"></div>\n",
       "        <script>netpixi.call('mnWToHfFNedZA5EcRHAo8C', '7v8o9kC3EyFfMVTkmx2sZN', 'changeGraph', 'eyJpZCI6ICJTb255IENvbXB1dGVyIEVudGVydGFpbm1lbnQgRXVyb3BlIiwgInR5cGUiOiAidmVydGV4IiwgInByb3BzIjogeyJzaXplIjogNDAuMTg4Njc5MjQ1MjgzMDJ9fQo=');</script>\n",
       "    "
      ],
      "text/plain": [
       "<IPython.core.display.HTML object>"
      ]
     },
     "metadata": {},
     "output_type": "display_data"
    },
    {
     "data": {
      "text/html": [
       "\n",
       "        <div id=\"DuhGcQ5nZGzKRkfcsK8pGX\"></div>\n",
       "        <script>netpixi.call('DuhGcQ5nZGzKRkfcsK8pGX', '7v8o9kC3EyFfMVTkmx2sZN', 'changeGraph', 'eyJpZCI6ICJWaXJnaW4gSW50ZXJhY3RpdmUiLCAidHlwZSI6ICJ2ZXJ0ZXgiLCAicHJvcHMiOiB7InNpemUiOiAxNi44NDIxMDUyNjMxNTc4OTR9fQo=');</script>\n",
       "    "
      ],
      "text/plain": [
       "<IPython.core.display.HTML object>"
      ]
     },
     "metadata": {},
     "output_type": "display_data"
    },
    {
     "data": {
      "text/html": [
       "\n",
       "        <div id=\"MVhyQxAApinfh6znoiFUvX\"></div>\n",
       "        <script>netpixi.call('MVhyQxAApinfh6znoiFUvX', '7v8o9kC3EyFfMVTkmx2sZN', 'changeGraph', 'eyJpZCI6ICJMdWNhc0FydHMiLCAidHlwZSI6ICJ2ZXJ0ZXgiLCAicHJvcHMiOiB7InNpemUiOiA0OC4xMTMyMDc1NDcxNjk4MTR9fQo=');</script>\n",
       "    "
      ],
      "text/plain": [
       "<IPython.core.display.HTML object>"
      ]
     },
     "metadata": {},
     "output_type": "display_data"
    },
    {
     "data": {
      "text/html": [
       "\n",
       "        <div id=\"ciUj3wgmt2ahMV7Xp9TktB\"></div>\n",
       "        <script>netpixi.call('ciUj3wgmt2ahMV7Xp9TktB', '7v8o9kC3EyFfMVTkmx2sZN', 'changeGraph', 'eyJpZCI6ICI1MDUgR2FtZXMiLCAidHlwZSI6ICJ2ZXJ0ZXgiLCAicHJvcHMiOiB7InNpemUiOiA0NS44NDkwNTY2MDM3NzM1OH19Cg==');</script>\n",
       "    "
      ],
      "text/plain": [
       "<IPython.core.display.HTML object>"
      ]
     },
     "metadata": {},
     "output_type": "display_data"
    },
    {
     "data": {
      "text/html": [
       "\n",
       "        <div id=\"c46YH5XGEixRmNVeHqVUot\"></div>\n",
       "        <script>netpixi.call('c46YH5XGEixRmNVeHqVUot', '7v8o9kC3EyFfMVTkmx2sZN', 'changeGraph', 'eyJpZCI6ICJDYXBjb20iLCAidHlwZSI6ICJ2ZXJ0ZXgiLCAicHJvcHMiOiB7InNpemUiOiA0OC42NzkyNDUyODMwMTg4N319Cg==');</script>\n",
       "    "
      ],
      "text/plain": [
       "<IPython.core.display.HTML object>"
      ]
     },
     "metadata": {},
     "output_type": "display_data"
    },
    {
     "data": {
      "text/html": [
       "\n",
       "        <div id=\"fHkdbpLHt4ydBABCE2BJtE\"></div>\n",
       "        <script>netpixi.call('fHkdbpLHt4ydBABCE2BJtE', '7v8o9kC3EyFfMVTkmx2sZN', 'changeGraph', 'eyJpZCI6ICJXYXJuZXIgQnJvcy4gSW50ZXJhY3RpdmUgRW50ZXJ0YWlubWVudCIsICJ0eXBlIjogInZlcnRleCIsICJwcm9wcyI6IHsic2l6ZSI6IDQ0LjE1MDk0MzM5NjIyNjQyfX0K');</script>\n",
       "    "
      ],
      "text/plain": [
       "<IPython.core.display.HTML object>"
      ]
     },
     "metadata": {},
     "output_type": "display_data"
    },
    {
     "data": {
      "text/html": [
       "\n",
       "        <div id=\"DRhReUA48CrUQqLk4LMrkw\"></div>\n",
       "        <script>netpixi.call('DRhReUA48CrUQqLk4LMrkw', '7v8o9kC3EyFfMVTkmx2sZN', 'changeGraph', 'eyJpZCI6ICJVbml2ZXJzYWwgSW50ZXJhY3RpdmUiLCAidHlwZSI6ICJ2ZXJ0ZXgiLCAicHJvcHMiOiB7InNpemUiOiAxNy45OTA0MzA2MjIwMDk1N319Cg==');</script>\n",
       "    "
      ],
      "text/plain": [
       "<IPython.core.display.HTML object>"
      ]
     },
     "metadata": {},
     "output_type": "display_data"
    },
    {
     "data": {
      "text/html": [
       "\n",
       "        <div id=\"FaLaH4TdpBjDNsiqY6jTxw\"></div>\n",
       "        <script>netpixi.call('FaLaH4TdpBjDNsiqY6jTxw', '7v8o9kC3EyFfMVTkmx2sZN', 'changeGraph', 'eyJpZCI6ICJSZWRPY3RhbmUiLCAidHlwZSI6ICJ2ZXJ0ZXgiLCAicHJvcHMiOiB7InNpemUiOiAxNy43OTkwNDMwNjIyMDA5Nn19Cg==');</script>\n",
       "    "
      ],
      "text/plain": [
       "<IPython.core.display.HTML object>"
      ]
     },
     "metadata": {},
     "output_type": "display_data"
    },
    {
     "data": {
      "text/html": [
       "\n",
       "        <div id=\"ftmMBqcaExfdpx4HBDbdF4\"></div>\n",
       "        <script>netpixi.call('ftmMBqcaExfdpx4HBDbdF4', '7v8o9kC3EyFfMVTkmx2sZN', 'changeGraph', 'eyJpZCI6ICJBdGFyaSIsICJ0eXBlIjogInZlcnRleCIsICJwcm9wcyI6IHsic2l6ZSI6IDQ3LjkyNDUyODMwMTg4Njc5NX19Cg==');</script>\n",
       "    "
      ],
      "text/plain": [
       "<IPython.core.display.HTML object>"
      ]
     },
     "metadata": {},
     "output_type": "display_data"
    },
    {
     "data": {
      "text/html": [
       "\n",
       "        <div id=\"2R93Msyw64oQxa9gVANBSZ\"></div>\n",
       "        <script>netpixi.call('2R93Msyw64oQxa9gVANBSZ', '7v8o9kC3EyFfMVTkmx2sZN', 'changeGraph', 'eyJpZCI6ICJFaWRvcyBJbnRlcmFjdGl2ZSIsICJ0eXBlIjogInZlcnRleCIsICJwcm9wcyI6IHsic2l6ZSI6IDQ0LjMzOTYyMjY0MTUwOTQzNn19Cg==');</script>\n",
       "    "
      ],
      "text/plain": [
       "<IPython.core.display.HTML object>"
      ]
     },
     "metadata": {},
     "output_type": "display_data"
    },
    {
     "data": {
      "text/html": [
       "\n",
       "        <div id=\"mSH2GgQBM55Y4ReTpoWK8Z\"></div>\n",
       "        <script>netpixi.call('mSH2GgQBM55Y4ReTpoWK8Z', '7v8o9kC3EyFfMVTkmx2sZN', 'changeGraph', 'eyJpZCI6ICJOYW1jbyBCYW5kYWkgR2FtZXMiLCAidHlwZSI6ICJ2ZXJ0ZXgiLCAicHJvcHMiOiB7InNpemUiOiA0OC40OTA1NjYwMzc3MzU4NDZ9fQo=');</script>\n",
       "    "
      ],
      "text/plain": [
       "<IPython.core.display.HTML object>"
      ]
     },
     "metadata": {},
     "output_type": "display_data"
    },
    {
     "data": {
      "text/html": [
       "\n",
       "        <div id=\"Sm6nPrfzFDsZ7L4Q5q2p2D\"></div>\n",
       "        <script>netpixi.call('Sm6nPrfzFDsZ7L4Q5q2p2D', '7v8o9kC3EyFfMVTkmx2sZN', 'changeGraph', 'eyJpZCI6ICJWaXZlbmRpIEdhbWVzIiwgInR5cGUiOiAidmVydGV4IiwgInByb3BzIjogeyJzaXplIjogNDIuODMwMTg4Njc5MjQ1Mjh9fQo=');</script>\n",
       "    "
      ],
      "text/plain": [
       "<IPython.core.display.HTML object>"
      ]
     },
     "metadata": {},
     "output_type": "display_data"
    },
    {
     "data": {
      "text/html": [
       "\n",
       "        <div id=\"hNG4DLPwph2RijrAmqfMc5\"></div>\n",
       "        <script>netpixi.call('hNG4DLPwph2RijrAmqfMc5', '7v8o9kC3EyFfMVTkmx2sZN', 'changeGraph', 'eyJpZCI6ICJNVFYgR2FtZXMiLCAidHlwZSI6ICJ2ZXJ0ZXgiLCAicHJvcHMiOiB7InNpemUiOiAxOC45OTUyMTUzMTEwMDQ3ODV9fQo=');</script>\n",
       "    "
      ],
      "text/plain": [
       "<IPython.core.display.HTML object>"
      ]
     },
     "metadata": {},
     "output_type": "display_data"
    },
    {
     "data": {
      "text/html": [
       "\n",
       "        <div id=\"PMVkDN5zmfVVR5nGFqfccr\"></div>\n",
       "        <script>netpixi.call('PMVkDN5zmfVVR5nGFqfccr', '7v8o9kC3EyFfMVTkmx2sZN', 'changeGraph', 'eyJpZCI6ICJTZWdhIiwgInR5cGUiOiAidmVydGV4IiwgInByb3BzIjogeyJzaXplIjogNDkuODExMzIwNzU0NzE2OTh9fQo=');</script>\n",
       "    "
      ],
      "text/plain": [
       "<IPython.core.display.HTML object>"
      ]
     },
     "metadata": {},
     "output_type": "display_data"
    },
    {
     "data": {
      "text/html": [
       "\n",
       "        <div id=\"233c5AjRz6dEB9S4PPj2KE\"></div>\n",
       "        <script>netpixi.call('233c5AjRz6dEB9S4PPj2KE', '7v8o9kC3EyFfMVTkmx2sZN', 'changeGraph', 'eyJpZCI6ICJUSFEiLCAidHlwZSI6ICJ2ZXJ0ZXgiLCAicHJvcHMiOiB7InNpemUiOiA0NS4yODMwMTg4Njc5MjQ1MjV9fQo=');</script>\n",
       "    "
      ],
      "text/plain": [
       "<IPython.core.display.HTML object>"
      ]
     },
     "metadata": {},
     "output_type": "display_data"
    },
    {
     "data": {
      "text/html": [
       "\n",
       "        <div id=\"RbpfhGyQKfKYcVKCG3LaQR\"></div>\n",
       "        <script>netpixi.call('RbpfhGyQKfKYcVKCG3LaQR', '7v8o9kC3EyFfMVTkmx2sZN', 'changeGraph', 'eyJpZCI6ICJEaXNuZXkgSW50ZXJhY3RpdmUgU3R1ZGlvcyIsICJ0eXBlIjogInZlcnRleCIsICJwcm9wcyI6IHsic2l6ZSI6IDQ2LjQxNTA5NDMzOTYyMjY0fX0K');</script>\n",
       "    "
      ],
      "text/plain": [
       "<IPython.core.display.HTML object>"
      ]
     },
     "metadata": {},
     "output_type": "display_data"
    },
    {
     "data": {
      "text/html": [
       "\n",
       "        <div id=\"Gua4fEtW9Mda8m3cF5Nj4B\"></div>\n",
       "        <script>netpixi.call('Gua4fEtW9Mda8m3cF5Nj4B', '7v8o9kC3EyFfMVTkmx2sZN', 'changeGraph', 'eyJpZCI6ICJBY2NsYWltIEVudGVydGFpbm1lbnQiLCAidHlwZSI6ICJ2ZXJ0ZXgiLCAicHJvcHMiOiB7InNpemUiOiAxOC41NjQ1OTMzMDE0MzU0MDV9fQo=');</script>\n",
       "    "
      ],
      "text/plain": [
       "<IPython.core.display.HTML object>"
      ]
     },
     "metadata": {},
     "output_type": "display_data"
    },
    {
     "data": {
      "text/html": [
       "\n",
       "        <div id=\"hMrDWAZYteYck3EJc9479A\"></div>\n",
       "        <script>netpixi.call('hMrDWAZYteYck3EJc9479A', '7v8o9kC3EyFfMVTkmx2sZN', 'changeGraph', 'eyJpZCI6ICJNaWR3YXkgR2FtZXMiLCAidHlwZSI6ICJ2ZXJ0ZXgiLCAicHJvcHMiOiB7InNpemUiOiA0Ny4xNjk4MTEzMjA3NTQ3Mn19Cg==');</script>\n",
       "    "
      ],
      "text/plain": [
       "<IPython.core.display.HTML object>"
      ]
     },
     "metadata": {},
     "output_type": "display_data"
    },
    {
     "data": {
      "text/html": [
       "\n",
       "        <div id=\"iqVsWGRmbxQVWFy4QJszc6\"></div>\n",
       "        <script>netpixi.call('iqVsWGRmbxQVWFy4QJszc6', '7v8o9kC3EyFfMVTkmx2sZN', 'changeGraph', 'eyJpZCI6ICJEZWVwIFNpbHZlciIsICJ0eXBlIjogInZlcnRleCIsICJwcm9wcyI6IHsic2l6ZSI6IDQ3LjM1ODQ5MDU2NjAzNzc0fX0K');</script>\n",
       "    "
      ],
      "text/plain": [
       "<IPython.core.display.HTML object>"
      ]
     },
     "metadata": {},
     "output_type": "display_data"
    },
    {
     "data": {
      "text/html": [
       "\n",
       "        <div id=\"YHZ4hpqDKJr4cp6Ldme6er\"></div>\n",
       "        <script>netpixi.call('YHZ4hpqDKJr4cp6Ldme6er', '7v8o9kC3EyFfMVTkmx2sZN', 'changeGraph', 'eyJpZCI6ICJOQ1NvZnQiLCAidHlwZSI6ICJ2ZXJ0ZXgiLCAicHJvcHMiOiB7InNpemUiOiAxNi4wNzY1NTUwMjM5MjM0NDR9fQo=');</script>\n",
       "    "
      ],
      "text/plain": [
       "<IPython.core.display.HTML object>"
      ]
     },
     "metadata": {},
     "output_type": "display_data"
    },
    {
     "data": {
      "text/html": [
       "\n",
       "        <div id=\"HYRQvfjKfean3QGUXcUSRd\"></div>\n",
       "        <script>netpixi.call('HYRQvfjKfean3QGUXcUSRd', '7v8o9kC3EyFfMVTkmx2sZN', 'changeGraph', 'eyJpZCI6ICJUZWNtbyBLb2VpIiwgInR5cGUiOiAidmVydGV4IiwgInByb3BzIjogeyJzaXplIjogNDcuNzM1ODQ5MDU2NjAzNzc2fX0K');</script>\n",
       "    "
      ],
      "text/plain": [
       "<IPython.core.display.HTML object>"
      ]
     },
     "metadata": {},
     "output_type": "display_data"
    },
    {
     "data": {
      "text/html": [
       "\n",
       "        <div id=\"THwLDusgEzhkGbUVfibDGF\"></div>\n",
       "        <script>netpixi.call('THwLDusgEzhkGbUVfibDGF', '7v8o9kC3EyFfMVTkmx2sZN', 'changeGraph', 'eyJpZCI6ICJWYWx2ZSBTb2Z0d2FyZSIsICJ0eXBlIjogInZlcnRleCIsICJwcm9wcyI6IHsic2l6ZSI6IDE1LjMxMTAwNDc4NDY4ODk5NX19Cg==');</script>\n",
       "    "
      ],
      "text/plain": [
       "<IPython.core.display.HTML object>"
      ]
     },
     "metadata": {},
     "output_type": "display_data"
    },
    {
     "data": {
      "text/html": [
       "\n",
       "        <div id=\"7B3eE4CMvNjhJu9dRbw99E\"></div>\n",
       "        <script>netpixi.call('7B3eE4CMvNjhJu9dRbw99E', '7v8o9kC3EyFfMVTkmx2sZN', 'changeGraph', 'eyJpZCI6ICJJbmZvZ3JhbWVzIiwgInR5cGUiOiAidmVydGV4IiwgInByb3BzIjogeyJzaXplIjogMTkuNzYwNzY1NTUwMjM5MjM1fX0K');</script>\n",
       "    "
      ],
      "text/plain": [
       "<IPython.core.display.HTML object>"
      ]
     },
     "metadata": {},
     "output_type": "display_data"
    },
    {
     "data": {
      "text/html": [
       "\n",
       "        <div id=\"epobZK3hQvVt3nxeoaMRmx\"></div>\n",
       "        <script>netpixi.call('epobZK3hQvVt3nxeoaMRmx', '7v8o9kC3EyFfMVTkmx2sZN', 'changeGraph', 'eyJpZCI6ICJNaW5kc2NhcGUiLCAidHlwZSI6ICJ2ZXJ0ZXgiLCAicHJvcHMiOiB7InNpemUiOiAxOC44OTk1MjE1MzExMDA0OH19Cg==');</script>\n",
       "    "
      ],
      "text/plain": [
       "<IPython.core.display.HTML object>"
      ]
     },
     "metadata": {},
     "output_type": "display_data"
    },
    {
     "data": {
      "text/html": [
       "\n",
       "        <div id=\"KdBruNU8xhGjm7H3VaAiiu\"></div>\n",
       "        <script>netpixi.call('KdBruNU8xhGjm7H3VaAiiu', '7v8o9kC3EyFfMVTkmx2sZN', 'changeGraph', 'eyJpZCI6ICJWYWx2ZSIsICJ0eXBlIjogInZlcnRleCIsICJwcm9wcyI6IHsic2l6ZSI6IDE2LjQxMTQ4MzI1MzU4ODUxOH19Cg==');</script>\n",
       "    "
      ],
      "text/plain": [
       "<IPython.core.display.HTML object>"
      ]
     },
     "metadata": {},
     "output_type": "display_data"
    },
    {
     "data": {
      "text/html": [
       "\n",
       "        <div id=\"VF8kyevMaGsW4am2MmDQMt\"></div>\n",
       "        <script>netpixi.call('VF8kyevMaGsW4am2MmDQMt', '7v8o9kC3EyFfMVTkmx2sZN', 'changeGraph', 'eyJpZCI6ICJIZWxsbyBHYW1lcyIsICJ0eXBlIjogInZlcnRleCIsICJwcm9wcyI6IHsic2l6ZSI6IDEzLjMwMTQzNTQwNjY5ODU2NH19Cg==');</script>\n",
       "    "
      ],
      "text/plain": [
       "<IPython.core.display.HTML object>"
      ]
     },
     "metadata": {},
     "output_type": "display_data"
    },
    {
     "data": {
      "text/html": [
       "\n",
       "        <div id=\"9K7d2s37jX7LgRtYm8JaQZ\"></div>\n",
       "        <script>netpixi.call('9K7d2s37jX7LgRtYm8JaQZ', '7v8o9kC3EyFfMVTkmx2sZN', 'changeGraph', 'eyJpZCI6ICJHbG9iYWwgU3RhciIsICJ0eXBlIjogInZlcnRleCIsICJwcm9wcyI6IHsic2l6ZSI6IDQ1LjA5NDMzOTYyMjY0MTUxfX0K');</script>\n",
       "    "
      ],
      "text/plain": [
       "<IPython.core.display.HTML object>"
      ]
     },
     "metadata": {},
     "output_type": "display_data"
    },
    {
     "data": {
      "text/html": [
       "\n",
       "        <div id=\"SW4qtS9LSWT69Pza4dcYzA\"></div>\n",
       "        <script>netpixi.call('SW4qtS9LSWT69Pza4dcYzA', '7v8o9kC3EyFfMVTkmx2sZN', 'changeGraph', 'eyJpZCI6ICJHb3RoYW0gR2FtZXMiLCAidHlwZSI6ICJ2ZXJ0ZXgiLCAicHJvcHMiOiB7InNpemUiOiAxOS4yODIyOTY2NTA3MTc3MDR9fQo=');</script>\n",
       "    "
      ],
      "text/plain": [
       "<IPython.core.display.HTML object>"
      ]
     },
     "metadata": {},
     "output_type": "display_data"
    },
    {
     "data": {
      "text/html": [
       "\n",
       "        <div id=\"SjyN3Yy5EA2CArTfT5MvdA\"></div>\n",
       "        <script>netpixi.call('SjyN3Yy5EA2CArTfT5MvdA', '7v8o9kC3EyFfMVTkmx2sZN', 'changeGraph', 'eyJpZCI6ICJDcmF2ZSBFbnRlcnRhaW5tZW50IiwgInR5cGUiOiAidmVydGV4IiwgInByb3BzIjogeyJzaXplIjogNDMuNTg0OTA1NjYwMzc3MzZ9fQo=');</script>\n",
       "    "
      ],
      "text/plain": [
       "<IPython.core.display.HTML object>"
      ]
     },
     "metadata": {},
     "output_type": "display_data"
    },
    {
     "data": {
      "text/html": [
       "\n",
       "        <div id=\"ZeQBNme6egTh9Fue4iZ2dL\"></div>\n",
       "        <script>netpixi.call('ZeQBNme6egTh9Fue4iZ2dL', '7v8o9kC3EyFfMVTkmx2sZN', 'changeGraph', 'eyJpZCI6ICJIYXNicm8gSW50ZXJhY3RpdmUiLCAidHlwZSI6ICJ2ZXJ0ZXgiLCAicHJvcHMiOiB7InNpemUiOiAxMC45NTY5Mzc3OTkwNDMwNjN9fQo=');</script>\n",
       "    "
      ],
      "text/plain": [
       "<IPython.core.display.HTML object>"
      ]
     },
     "metadata": {},
     "output_type": "display_data"
    },
    {
     "data": {
      "text/html": [
       "\n",
       "        <div id=\"NJDN5HS3U3WT863BHHZUks\"></div>\n",
       "        <script>netpixi.call('NJDN5HS3U3WT863BHHZUks', '7v8o9kC3EyFfMVTkmx2sZN', 'changeGraph', 'eyJpZCI6ICJDb2RlbWFzdGVycyIsICJ0eXBlIjogInZlcnRleCIsICJwcm9wcyI6IHsic2l6ZSI6IDQ4Ljg2NzkyNDUyODMwMTg4NH19Cg==');</script>\n",
       "    "
      ],
      "text/plain": [
       "<IPython.core.display.HTML object>"
      ]
     },
     "metadata": {},
     "output_type": "display_data"
    },
    {
     "data": {
      "text/html": [
       "\n",
       "        <div id=\"LjK7Vzocag2MrTYu5LurKq\"></div>\n",
       "        <script>netpixi.call('LjK7Vzocag2MrTYu5LurKq', '7v8o9kC3EyFfMVTkmx2sZN', 'changeGraph', 'eyJpZCI6ICJUREsgTWVkaWFjdGl2ZSIsICJ0eXBlIjogInZlcnRleCIsICJwcm9wcyI6IHsic2l6ZSI6IDE4LjUxNjc0NjQxMTQ4MzI1NH19Cg==');</script>\n",
       "    "
      ],
      "text/plain": [
       "<IPython.core.display.HTML object>"
      ]
     },
     "metadata": {},
     "output_type": "display_data"
    },
    {
     "data": {
      "text/html": [
       "\n",
       "        <div id=\"oH3W5uagKgDa5E77PifpZf\"></div>\n",
       "        <script>netpixi.call('oH3W5uagKgDa5E77PifpZf', '7v8o9kC3EyFfMVTkmx2sZN', 'changeGraph', 'eyJpZCI6ICJab28gR2FtZXMiLCAidHlwZSI6ICJ2ZXJ0ZXgiLCAicHJvcHMiOiB7InNpemUiOiAxNy42NTU1MDIzOTIzNDQ1fX0K');</script>\n",
       "    "
      ],
      "text/plain": [
       "<IPython.core.display.HTML object>"
      ]
     },
     "metadata": {},
     "output_type": "display_data"
    },
    {
     "data": {
      "text/html": [
       "\n",
       "        <div id=\"77wLEQUz5qKezdE9ULeGbH\"></div>\n",
       "        <script>netpixi.call('77wLEQUz5qKezdE9ULeGbH', '7v8o9kC3EyFfMVTkmx2sZN', 'changeGraph', 'eyJpZCI6ICJTb255IE96bmxpbmUgRW50ZXJ0YWlubWVudCIsICJ0eXBlIjogInZlcnRleCIsICJwcm9wcyI6IHsic2l6ZSI6IDE3LjAzMzQ5MjgyMjk2NjUwOH19Cg==');</script>\n",
       "    "
      ],
      "text/plain": [
       "<IPython.core.display.HTML object>"
      ]
     },
     "metadata": {},
     "output_type": "display_data"
    },
    {
     "data": {
      "text/html": [
       "\n",
       "        <div id=\"6XudQbZnR2Uq9GAuhniCeU\"></div>\n",
       "        <script>netpixi.call('6XudQbZnR2Uq9GAuhniCeU', '7v8o9kC3EyFfMVTkmx2sZN', 'changeGraph', 'eyJpZCI6ICJSVEwiLCAidHlwZSI6ICJ2ZXJ0ZXgiLCAicHJvcHMiOiB7InNpemUiOiAxNS44ODUxNjc0NjQxMTQ4MzN9fQo=');</script>\n",
       "    "
      ],
      "text/plain": [
       "<IPython.core.display.HTML object>"
      ]
     },
     "metadata": {},
     "output_type": "display_data"
    },
    {
     "data": {
      "text/html": [
       "\n",
       "        <div id=\"DmjWjEZdoRwrYxazDbX8QH\"></div>\n",
       "        <script>netpixi.call('DmjWjEZdoRwrYxazDbX8QH', '7v8o9kC3EyFfMVTkmx2sZN', 'changeGraph', 'eyJpZCI6ICJEM1B1Ymxpc2hlciIsICJ0eXBlIjogInZlcnRleCIsICJwcm9wcyI6IHsic2l6ZSI6IDQwLjM3NzM1ODQ5MDU2NjA0fX0K');</script>\n",
       "    "
      ],
      "text/plain": [
       "<IPython.core.display.HTML object>"
      ]
     },
     "metadata": {},
     "output_type": "display_data"
    },
    {
     "data": {
      "text/html": [
       "\n",
       "        <div id=\"MVVXfDCMVSUYSH58uC359E\"></div>\n",
       "        <script>netpixi.call('MVVXfDCMVSUYSH58uC359E', '7v8o9kC3EyFfMVTkmx2sZN', 'changeGraph', 'eyJpZCI6ICJVbmtub3duIiwgInR5cGUiOiAidmVydGV4IiwgInByb3BzIjogeyJzaXplIjogNDEuNjk4MTEzMjA3NTQ3MTd9fQo=');</script>\n",
       "    "
      ],
      "text/plain": [
       "<IPython.core.display.HTML object>"
      ]
     },
     "metadata": {},
     "output_type": "display_data"
    },
    {
     "data": {
      "text/html": [
       "\n",
       "        <div id=\"jrvypHGdJffTNgzepnvTGw\"></div>\n",
       "        <script>netpixi.call('jrvypHGdJffTNgzepnvTGw', '7v8o9kC3EyFfMVTkmx2sZN', 'changeGraph', 'eyJpZCI6ICJCbGFjayBMYWJlbCBHYW1lcyIsICJ0eXBlIjogInZlcnRleCIsICJwcm9wcyI6IHsic2l6ZSI6IDE1Ljk4MDg2MTI0NDAxOTEzOH19Cg==');</script>\n",
       "    "
      ],
      "text/plain": [
       "<IPython.core.display.HTML object>"
      ]
     },
     "metadata": {},
     "output_type": "display_data"
    },
    {
     "data": {
      "text/html": [
       "\n",
       "        <div id=\"PFKdqrLEcmKbeYYRScp2GP\"></div>\n",
       "        <script>netpixi.call('PFKdqrLEcmKbeYYRScp2GP', '7v8o9kC3EyFfMVTkmx2sZN', 'changeGraph', 'eyJpZCI6ICJTb3V0aFBlYWsgR2FtZXMiLCAidHlwZSI6ICJ2ZXJ0ZXgiLCAicHJvcHMiOiB7InNpemUiOiA0NS40NzE2OTgxMTMyMDc1NX19Cg==');</script>\n",
       "    "
      ],
      "text/plain": [
       "<IPython.core.display.HTML object>"
      ]
     },
     "metadata": {},
     "output_type": "display_data"
    },
    {
     "data": {
      "text/html": [
       "\n",
       "        <div id=\"NGfcdp47HEwRQTPouyVGtH\"></div>\n",
       "        <script>netpixi.call('NGfcdp47HEwRQTPouyVGtH', '7v8o9kC3EyFfMVTkmx2sZN', 'changeGraph', 'eyJpZCI6ICJab28gRGlnaXRhbCBQdWJsaXNoaW5nIiwgInR5cGUiOiAidmVydGV4IiwgInByb3BzIjogeyJzaXplIjogNDUuNjYwMzc3MzU4NDkwNTY0fX0K');</script>\n",
       "    "
      ],
      "text/plain": [
       "<IPython.core.display.HTML object>"
      ]
     },
     "metadata": {},
     "output_type": "display_data"
    },
    {
     "data": {
      "text/html": [
       "\n",
       "        <div id=\"cCGSxXbPAFrPR5mDPc8Wwi\"></div>\n",
       "        <script>netpixi.call('cCGSxXbPAFrPR5mDPc8Wwi', '7v8o9kC3EyFfMVTkmx2sZN', 'changeGraph', 'eyJpZCI6ICJDaXR5IEludGVyYWN0aXZlIiwgInR5cGUiOiAidmVydGV4IiwgInByb3BzIjogeyJzaXplIjogMTYuNzk0MjU4MzczMjA1NzQzfX0K');</script>\n",
       "    "
      ],
      "text/plain": [
       "<IPython.core.display.HTML object>"
      ]
     },
     "metadata": {},
     "output_type": "display_data"
    },
    {
     "data": {
      "text/html": [
       "\n",
       "        <div id=\"CjjdmZoPYHbX2zmiUTtqi7\"></div>\n",
       "        <script>netpixi.call('CjjdmZoPYHbX2zmiUTtqi7', '7v8o9kC3EyFfMVTkmx2sZN', 'changeGraph', 'eyJpZCI6ICJFbXBpcmUgSW50ZXJhY3RpdmUiLCAidHlwZSI6ICJ2ZXJ0ZXgiLCAicHJvcHMiOiB7InNpemUiOiA0Ni42MDM3NzM1ODQ5MDU2Nn19Cg==');</script>\n",
       "    "
      ],
      "text/plain": [
       "<IPython.core.display.HTML object>"
      ]
     },
     "metadata": {},
     "output_type": "display_data"
    },
    {
     "data": {
      "text/html": [
       "\n",
       "        <div id=\"E6NcvLcu8CTEsBpxzbNhSa\"></div>\n",
       "        <script>netpixi.call('E6NcvLcu8CTEsBpxzbNhSa', '7v8o9kC3EyFfMVTkmx2sZN', 'changeGraph', 'eyJpZCI6ICJSdXNzZWwiLCAidHlwZSI6ICJ2ZXJ0ZXgiLCAicHJvcHMiOiB7InNpemUiOiAxMC41NzQxNjI2Nzk0MjU4Mzh9fQo=');</script>\n",
       "    "
      ],
      "text/plain": [
       "<IPython.core.display.HTML object>"
      ]
     },
     "metadata": {},
     "output_type": "display_data"
    },
    {
     "data": {
      "text/html": [
       "\n",
       "        <div id=\"Xo8epUCHZJbu5kS8rcqvqZ\"></div>\n",
       "        <script>netpixi.call('Xo8epUCHZJbu5kS8rcqvqZ', '7v8o9kC3EyFfMVTkmx2sZN', 'changeGraph', 'eyJpZCI6ICJBdGx1cyIsICJ0eXBlIjogInZlcnRleCIsICJwcm9wcyI6IHsic2l6ZSI6IDQ2Ljk4MTEzMjA3NTQ3MTd9fQo=');</script>\n",
       "    "
      ],
      "text/plain": [
       "<IPython.core.display.HTML object>"
      ]
     },
     "metadata": {},
     "output_type": "display_data"
    },
    {
     "data": {
      "text/html": [
       "\n",
       "        <div id=\"6AR2i7X9uu6bcVSdGrWAMG\"></div>\n",
       "        <script>netpixi.call('6AR2i7X9uu6bcVSdGrWAMG', '7v8o9kC3EyFfMVTkmx2sZN', 'changeGraph', 'eyJpZCI6ICJNYXN0ZXJ0cm9uaWMiLCAidHlwZSI6ICJ2ZXJ0ZXgiLCAicHJvcHMiOiB7InNpemUiOiAxOC44NTE2NzQ2NDExNDgzMjV9fQo=');</script>\n",
       "    "
      ],
      "text/plain": [
       "<IPython.core.display.HTML object>"
      ]
     },
     "metadata": {},
     "output_type": "display_data"
    },
    {
     "data": {
      "text/html": [
       "\n",
       "        <div id=\"4m6JoJFqaKftfu5oeqc9us\"></div>\n",
       "        <script>netpixi.call('4m6JoJFqaKftfu5oeqc9us', '7v8o9kC3EyFfMVTkmx2sZN', 'changeGraph', 'eyJpZCI6ICJTbGlnaHRseSBNYWQgU3R1ZGlvcyIsICJ0eXBlIjogInZlcnRleCIsICJwcm9wcyI6IHsic2l6ZSI6IDE1LjgzNzMyMDU3NDE2MjY3OH19Cg==');</script>\n",
       "    "
      ],
      "text/plain": [
       "<IPython.core.display.HTML object>"
      ]
     },
     "metadata": {},
     "output_type": "display_data"
    },
    {
     "data": {
      "text/html": [
       "\n",
       "        <div id=\"BBkqFx7wWBXVjTZQVzJpP8\"></div>\n",
       "        <script>netpixi.call('BBkqFx7wWBXVjTZQVzJpP8', '7v8o9kC3EyFfMVTkmx2sZN', 'changeGraph', 'eyJpZCI6ICJQbGF5IEl0IiwgInR5cGUiOiAidmVydGV4IiwgInByb3BzIjogeyJzaXplIjogMTYuMzYzNjM2MzYzNjM2MzYzfX0K');</script>\n",
       "    "
      ],
      "text/plain": [
       "<IPython.core.display.HTML object>"
      ]
     },
     "metadata": {},
     "output_type": "display_data"
    },
    {
     "data": {
      "text/html": [
       "\n",
       "        <div id=\"nsKaMahEpBjpW9mhH27sNr\"></div>\n",
       "        <script>netpixi.call('nsKaMahEpBjpW9mhH27sNr', '7v8o9kC3EyFfMVTkmx2sZN', 'changeGraph', 'eyJpZCI6ICJUb215IENvcnBvcmF0aW9uIiwgInR5cGUiOiAidmVydGV4IiwgInByb3BzIjogeyJzaXplIjogMTkuMTM4NzU1OTgwODYxMjQ0fX0K');</script>\n",
       "    "
      ],
      "text/plain": [
       "<IPython.core.display.HTML object>"
      ]
     },
     "metadata": {},
     "output_type": "display_data"
    },
    {
     "data": {
      "text/html": [
       "\n",
       "        <div id=\"9WaBGTE5B637XZksCNJBbM\"></div>\n",
       "        <script>netpixi.call('9WaBGTE5B637XZksCNJBbM', '7v8o9kC3EyFfMVTkmx2sZN', 'changeGraph', 'eyJpZCI6ICJGb2N1cyBIb21lIEludGVyYWN0aXZlIiwgInR5cGUiOiAidmVydGV4IiwgInByb3BzIjogeyJzaXplIjogNDQuOTA1NjYwMzc3MzU4NDl9fQo=');</script>\n",
       "    "
      ],
      "text/plain": [
       "<IPython.core.display.HTML object>"
      ]
     },
     "metadata": {},
     "output_type": "display_data"
    },
    {
     "data": {
      "text/html": [
       "\n",
       "        <div id=\"HRb5zPSdzpmP5ZUVZSnnGd\"></div>\n",
       "        <script>netpixi.call('HRb5zPSdzpmP5ZUVZSnnGd', '7v8o9kC3EyFfMVTkmx2sZN', 'changeGraph', 'eyJpZCI6ICJHYW1lIEZhY3RvcnkiLCAidHlwZSI6ICJ2ZXJ0ZXgiLCAicHJvcHMiOiB7InNpemUiOiAxNy41MTE5NjE3MjI0ODgwNH19Cg==');</script>\n",
       "    "
      ],
      "text/plain": [
       "<IPython.core.display.HTML object>"
      ]
     },
     "metadata": {},
     "output_type": "display_data"
    },
    {
     "data": {
      "text/html": [
       "\n",
       "        <div id=\"fAWEsVjbN9EjCrDTaLrquD\"></div>\n",
       "        <script>netpixi.call('fAWEsVjbN9EjCrDTaLrquD', '7v8o9kC3EyFfMVTkmx2sZN', 'changeGraph', 'eyJpZCI6ICJUaXR1cyIsICJ0eXBlIjogInZlcnRleCIsICJwcm9wcyI6IHsic2l6ZSI6IDIwLjB9fQo=');</script>\n",
       "    "
      ],
      "text/plain": [
       "<IPython.core.display.HTML object>"
      ]
     },
     "metadata": {},
     "output_type": "display_data"
    },
    {
     "data": {
      "text/html": [
       "\n",
       "        <div id=\"ZmcvU9TpFaMUbu8aMATp76\"></div>\n",
       "        <script>netpixi.call('ZmcvU9TpFaMUbu8aMATp76', '7v8o9kC3EyFfMVTkmx2sZN', 'changeGraph', 'eyJpZCI6ICJNYXJ2ZWxvdXMgRW50ZXJ0YWlubWVudCIsICJ0eXBlIjogInZlcnRleCIsICJwcm9wcyI6IHsic2l6ZSI6IDExLjA1MjYzMTU3ODk0NzM2OH19Cg==');</script>\n",
       "    "
      ],
      "text/plain": [
       "<IPython.core.display.HTML object>"
      ]
     },
     "metadata": {},
     "output_type": "display_data"
    },
    {
     "data": {
      "text/html": [
       "\n",
       "        <div id=\"ntrPRegPftnLa4VHy6S964\"></div>\n",
       "        <script>netpixi.call('ntrPRegPftnLa4VHy6S964', '7v8o9kC3EyFfMVTkmx2sZN', 'changeGraph', 'eyJpZCI6ICJHZW5raSIsICJ0eXBlIjogInZlcnRleCIsICJwcm9wcyI6IHsic2l6ZSI6IDE4LjY2MDI4NzA4MTMzOTcxfX0K');</script>\n",
       "    "
      ],
      "text/plain": [
       "<IPython.core.display.HTML object>"
      ]
     },
     "metadata": {},
     "output_type": "display_data"
    },
    {
     "data": {
      "text/html": [
       "\n",
       "        <div id=\"oGejtVdsDNtkKLLanw7pge\"></div>\n",
       "        <script>netpixi.call('oGejtVdsDNtkKLLanw7pge', '7v8o9kC3EyFfMVTkmx2sZN', 'changeGraph', 'eyJpZCI6ICJUYWxvblNvZnQiLCAidHlwZSI6ICJ2ZXJ0ZXgiLCAicHJvcHMiOiB7InNpemUiOiAxMC44MTMzOTcxMjkxODY2MDN9fQo=');</script>\n",
       "    "
      ],
      "text/plain": [
       "<IPython.core.display.HTML object>"
      ]
     },
     "metadata": {},
     "output_type": "display_data"
    },
    {
     "data": {
      "text/html": [
       "\n",
       "        <div id=\"AhSGdQwKpQGDqgQqdV9hhK\"></div>\n",
       "        <script>netpixi.call('AhSGdQwKpQGDqgQqdV9hhK', '7v8o9kC3EyFfMVTkmx2sZN', 'changeGraph', 'eyJpZCI6ICJTcXVhcmUgRW5peCAiLCAidHlwZSI6ICJ2ZXJ0ZXgiLCAicHJvcHMiOiB7InNpemUiOiAxNy42MDc2NTU1MDIzOTIzNDR9fQo=');</script>\n",
       "    "
      ],
      "text/plain": [
       "<IPython.core.display.HTML object>"
      ]
     },
     "metadata": {},
     "output_type": "display_data"
    },
    {
     "data": {
      "text/html": [
       "\n",
       "        <div id=\"Bi5amvDajbbChEyMisGrh7\"></div>\n",
       "        <script>netpixi.call('Bi5amvDajbbChEyMisGrh7', '7v8o9kC3EyFfMVTkmx2sZN', 'changeGraph', 'eyJpZCI6ICJTQ2kiLCAidHlwZSI6ICJ2ZXJ0ZXgiLCAicHJvcHMiOiB7InNpemUiOiA0My4zOTYyMjY0MTUwOTQzNH19Cg==');</script>\n",
       "    "
      ],
      "text/plain": [
       "<IPython.core.display.HTML object>"
      ]
     },
     "metadata": {},
     "output_type": "display_data"
    },
    {
     "data": {
      "text/html": [
       "\n",
       "        <div id=\"JH8cmLv3FZygNhu5KwrYXB\"></div>\n",
       "        <script>netpixi.call('JH8cmLv3FZygNhu5KwrYXB', '7v8o9kC3EyFfMVTkmx2sZN', 'changeGraph', 'eyJpZCI6ICJSYWdlIFNvZnR3YXJlIiwgInR5cGUiOiAidmVydGV4IiwgInByb3BzIjogeyJzaXplIjogMTguNzU1OTgwODYxMjQ0MDJ9fQo=');</script>\n",
       "    "
      ],
      "text/plain": [
       "<IPython.core.display.HTML object>"
      ]
     },
     "metadata": {},
     "output_type": "display_data"
    },
    {
     "data": {
      "text/html": [
       "\n",
       "        <div id=\"GbQuTirGVTkzFwRZ5QVvzk\"></div>\n",
       "        <script>netpixi.call('GbQuTirGVTkzFwRZ5QVvzk', '7v8o9kC3EyFfMVTkmx2sZN', 'changeGraph', 'eyJpZCI6ICJVYmlzb2Z0IEFubmVjeSIsICJ0eXBlIjogInZlcnRleCIsICJwcm9wcyI6IHsic2l6ZSI6IDE3LjcwMzM0OTI4MjI5NjY1fX0K');</script>\n",
       "    "
      ],
      "text/plain": [
       "<IPython.core.display.HTML object>"
      ]
     },
     "metadata": {},
     "output_type": "display_data"
    },
    {
     "data": {
      "text/html": [
       "\n",
       "        <div id=\"RCz6kXX87RZNBfAHxivzuA\"></div>\n",
       "        <script>netpixi.call('RCz6kXX87RZNBfAHxivzuA', '7v8o9kC3EyFfMVTkmx2sZN', 'changeGraph', 'eyJpZCI6ICJSaXNpbmcgU3RhciBHYW1lcyIsICJ0eXBlIjogInZlcnRleCIsICJwcm9wcyI6IHsic2l6ZSI6IDQzLjIwNzU0NzE2OTgxMTMyfX0K');</script>\n",
       "    "
      ],
      "text/plain": [
       "<IPython.core.display.HTML object>"
      ]
     },
     "metadata": {},
     "output_type": "display_data"
    },
    {
     "data": {
      "text/html": [
       "\n",
       "        <div id=\"GrsSuA3pGHEgxWdwZoFvn8\"></div>\n",
       "        <script>netpixi.call('GrsSuA3pGHEgxWdwZoFvn8', '7v8o9kC3EyFfMVTkmx2sZN', 'changeGraph', 'eyJpZCI6ICJFbml4IENvcnBvcmF0aW9uIiwgInR5cGUiOiAidmVydGV4IiwgInByb3BzIjogeyJzaXplIjogMTUuOTMzMDE0MzU0MDY2OTg2fX0K');</script>\n",
       "    "
      ],
      "text/plain": [
       "<IPython.core.display.HTML object>"
      ]
     },
     "metadata": {},
     "output_type": "display_data"
    },
    {
     "data": {
      "text/html": [
       "\n",
       "        <div id=\"PF4EGTxUR63S3ZEZmeQBXz\"></div>\n",
       "        <script>netpixi.call('PF4EGTxUR63S3ZEZmeQBXz', '7v8o9kC3EyFfMVTkmx2sZN', 'changeGraph', 'eyJpZCI6ICJMZXZlbCA1IiwgInR5cGUiOiAidmVydGV4IiwgInByb3BzIjogeyJzaXplIjogMTEuMTQ4MzI1MzU4ODUxNjc1fX0K');</script>\n",
       "    "
      ],
      "text/plain": [
       "<IPython.core.display.HTML object>"
      ]
     },
     "metadata": {},
     "output_type": "display_data"
    },
    {
     "data": {
      "text/html": [
       "\n",
       "        <div id=\"4QN9CqiY6fSPtDXDLr88nD\"></div>\n",
       "        <script>netpixi.call('4QN9CqiY6fSPtDXDLr88nD', '7v8o9kC3EyFfMVTkmx2sZN', 'changeGraph', 'eyJpZCI6ICJLb2NoIE1lZGlhIiwgInR5cGUiOiAidmVydGV4IiwgInByb3BzIjogeyJzaXplIjogMTguNDY4ODk5NTIxNTMxMX19Cg==');</script>\n",
       "    "
      ],
      "text/plain": [
       "<IPython.core.display.HTML object>"
      ]
     },
     "metadata": {},
     "output_type": "display_data"
    },
    {
     "data": {
      "text/html": [
       "\n",
       "        <div id=\"HYW5JUNkSvgWc8v6ueLQha\"></div>\n",
       "        <script>netpixi.call('HYW5JUNkSvgWc8v6ueLQha', '7v8o9kC3EyFfMVTkmx2sZN', 'changeGraph', 'eyJpZCI6ICJTcXVhcmUgRUEiLCAidHlwZSI6ICJ2ZXJ0ZXgiLCAicHJvcHMiOiB7InNpemUiOiAxMC44NjEyNDQwMTkxMzg3NTZ9fQo=');</script>\n",
       "    "
      ],
      "text/plain": [
       "<IPython.core.display.HTML object>"
      ]
     },
     "metadata": {},
     "output_type": "display_data"
    },
    {
     "data": {
      "text/html": [
       "\n",
       "        <div id=\"khSZbKYjg6CmSyCPHz4im4\"></div>\n",
       "        <script>netpixi.call('khSZbKYjg6CmSyCPHz4im4', '7v8o9kC3EyFfMVTkmx2sZN', 'changeGraph', 'eyJpZCI6ICJUb3VjaHN0b25lIiwgInR5cGUiOiAidmVydGV4IiwgInByb3BzIjogeyJzaXplIjogMTcuMjcyNzI3MjcyNzI3MjczfX0K');</script>\n",
       "    "
      ],
      "text/plain": [
       "<IPython.core.display.HTML object>"
      ]
     },
     "metadata": {},
     "output_type": "display_data"
    },
    {
     "data": {
      "text/html": [
       "\n",
       "        <div id=\"LL5Y35EvjyzgxKEGfipYZK\"></div>\n",
       "        <script>netpixi.call('LL5Y35EvjyzgxKEGfipYZK', '7v8o9kC3EyFfMVTkmx2sZN', 'changeGraph', 'eyJpZCI6ICJTcGlrZSIsICJ0eXBlIjogInZlcnRleCIsICJwcm9wcyI6IHsic2l6ZSI6IDE4LjE4MTgxODE4MTgxODE4fX0K');</script>\n",
       "    "
      ],
      "text/plain": [
       "<IPython.core.display.HTML object>"
      ]
     },
     "metadata": {},
     "output_type": "display_data"
    },
    {
     "data": {
      "text/html": [
       "\n",
       "        <div id=\"m5SV8S9TEUXfGTaUiZjFEd\"></div>\n",
       "        <script>netpixi.call('m5SV8S9TEUXfGTaUiZjFEd', '7v8o9kC3EyFfMVTkmx2sZN', 'changeGraph', 'eyJpZCI6ICJOaXBwb24gSWNoaSBTb2Z0d2FyZSIsICJ0eXBlIjogInZlcnRleCIsICJwcm9wcyI6IHsic2l6ZSI6IDQwLjc1NDcxNjk4MTEzMjA4fX0K');</script>\n",
       "    "
      ],
      "text/plain": [
       "<IPython.core.display.HTML object>"
      ]
     },
     "metadata": {},
     "output_type": "display_data"
    },
    {
     "data": {
      "text/html": [
       "\n",
       "        <div id=\"SxACeTHdvhzrkxizhizgcy\"></div>\n",
       "        <script>netpixi.call('SxACeTHdvhzrkxizhizgcy', '7v8o9kC3EyFfMVTkmx2sZN', 'changeGraph', 'eyJpZCI6ICJTb255IENvbXB1dGVyIEVudGVydGFpbm1lbnQgQW1lcmljYSIsICJ0eXBlIjogInZlcnRleCIsICJwcm9wcyI6IHsic2l6ZSI6IDE2LjAyODcwODEzMzk3MTI5M319Cg==');</script>\n",
       "    "
      ],
      "text/plain": [
       "<IPython.core.display.HTML object>"
      ]
     },
     "metadata": {},
     "output_type": "display_data"
    },
    {
     "data": {
      "text/html": [
       "\n",
       "        <div id=\"kZRYEXYdPWBFirGyMAzKJY\"></div>\n",
       "        <script>netpixi.call('kZRYEXYdPWBFirGyMAzKJY', '7v8o9kC3EyFfMVTkmx2sZN', 'changeGraph', 'eyJpZCI6ICJJbGx1c2lvbiBTb2Z0d29ya3MiLCAidHlwZSI6ICJ2ZXJ0ZXgiLCAicHJvcHMiOiB7InNpemUiOiAxNS4wMjM5MjM0NDQ5NzYwNzd9fQo=');</script>\n",
       "    "
      ],
      "text/plain": [
       "<IPython.core.display.HTML object>"
      ]
     },
     "metadata": {},
     "output_type": "display_data"
    },
    {
     "data": {
      "text/html": [
       "\n",
       "        <div id=\"Bqp9dtARr2nUspjxdv7x9a\"></div>\n",
       "        <script>netpixi.call('Bqp9dtARr2nUspjxdv7x9a', '7v8o9kC3EyFfMVTkmx2sZN', 'changeGraph', 'eyJpZCI6ICJJbnRlcnBsYXkiLCAidHlwZSI6ICJ2ZXJ0ZXgiLCAicHJvcHMiOiB7InNpemUiOiAxOS4zMzAxNDM1NDA2Njk4Nn19Cg==');</script>\n",
       "    "
      ],
      "text/plain": [
       "<IPython.core.display.HTML object>"
      ]
     },
     "metadata": {},
     "output_type": "display_data"
    },
    {
     "data": {
      "text/html": [
       "\n",
       "        <div id=\"Ya9H7taFdBFjTfugGnbpYu\"></div>\n",
       "        <script>netpixi.call('Ya9H7taFdBFjTfugGnbpYu', '7v8o9kC3EyFfMVTkmx2sZN', 'changeGraph', 'eyJpZCI6ICJNZXRybyAzRCIsICJ0eXBlIjogInZlcnRleCIsICJwcm9wcyI6IHsic2l6ZSI6IDE5LjkwNDMwNjIyMDA5NTY5fX0K');</script>\n",
       "    "
      ],
      "text/plain": [
       "<IPython.core.display.HTML object>"
      ]
     },
     "metadata": {},
     "output_type": "display_data"
    },
    {
     "data": {
      "text/html": [
       "\n",
       "        <div id=\"io6yT6eMQ92iDH2aPkmVrm\"></div>\n",
       "        <script>netpixi.call('io6yT6eMQ92iDH2aPkmVrm', '7v8o9kC3EyFfMVTkmx2sZN', 'changeGraph', 'eyJpZCI6ICJTb255IE9ubGluZSBFbnRlcnRhaW5tZW50IiwgInR5cGUiOiAidmVydGV4IiwgInByb3BzIjogeyJzaXplIjogNDMuOTYyMjY0MTUwOTQzNH19Cg==');</script>\n",
       "    "
      ],
      "text/plain": [
       "<IPython.core.display.HTML object>"
      ]
     },
     "metadata": {},
     "output_type": "display_data"
    },
    {
     "data": {
      "text/html": [
       "\n",
       "        <div id=\"XExLmwFxrkvhg9twfygbTX\"></div>\n",
       "        <script>netpixi.call('XExLmwFxrkvhg9twfygbTX', '7v8o9kC3EyFfMVTkmx2sZN', 'changeGraph', 'eyJpZCI6ICJSb25kb21lZGlhIiwgInR5cGUiOiAidmVydGV4IiwgInByb3BzIjogeyJzaXplIjogMTQuNTkzMzAxNDM1NDA2Njk4fX0K');</script>\n",
       "    "
      ],
      "text/plain": [
       "<IPython.core.display.HTML object>"
      ]
     },
     "metadata": {},
     "output_type": "display_data"
    },
    {
     "data": {
      "text/html": [
       "\n",
       "        <div id=\"YT9mnsx6bYMvC34qFUtFps\"></div>\n",
       "        <script>netpixi.call('YT9mnsx6bYMvC34qFUtFps', '7v8o9kC3EyFfMVTkmx2sZN', 'changeGraph', 'eyJpZCI6ICJHaG9zdGxpZ2h0IiwgInR5cGUiOiAidmVydGV4IiwgInByb3BzIjogeyJzaXplIjogNDEuMTMyMDc1NDcxNjk4MTE2fX0K');</script>\n",
       "    "
      ],
      "text/plain": [
       "<IPython.core.display.HTML object>"
      ]
     },
     "metadata": {},
     "output_type": "display_data"
    },
    {
     "data": {
      "text/html": [
       "\n",
       "        <div id=\"TdGhn5aRc64V44BqgVhVFe\"></div>\n",
       "        <script>netpixi.call('TdGhn5aRc64V44BqgVhVFe', '7v8o9kC3EyFfMVTkmx2sZN', 'changeGraph', 'eyJpZCI6ICJNYWplc2NvIEVudGVydGFpbm1lbnQiLCAidHlwZSI6ICJ2ZXJ0ZXgiLCAicHJvcHMiOiB7InNpemUiOiA0Ni43OTI0NTI4MzAxODg2OH19Cg==');</script>\n",
       "    "
      ],
      "text/plain": [
       "<IPython.core.display.HTML object>"
      ]
     },
     "metadata": {},
     "output_type": "display_data"
    },
    {
     "data": {
      "text/html": [
       "\n",
       "        <div id=\"GXuFp2RMwiqrmNgVCUUERt\"></div>\n",
       "        <script>netpixi.call('GXuFp2RMwiqrmNgVCUUERt', '7v8o9kC3EyFfMVTkmx2sZN', 'changeGraph', 'eyJpZCI6ICJQUXViZSIsICJ0eXBlIjogInZlcnRleCIsICJwcm9wcyI6IHsic2l6ZSI6IDE3Ljg0Njg4OTk1MjE1MzExfX0K');</script>\n",
       "    "
      ],
      "text/plain": [
       "<IPython.core.display.HTML object>"
      ]
     },
     "metadata": {},
     "output_type": "display_data"
    },
    {
     "data": {
      "text/html": [
       "\n",
       "        <div id=\"Q2FawcMy9CbcRBPFKNtuD5\"></div>\n",
       "        <script>netpixi.call('Q2FawcMy9CbcRBPFKNtuD5', '7v8o9kC3EyFfMVTkmx2sZN', 'changeGraph', 'eyJpZCI6ICJUcmlvbiBXb3JsZHMiLCAidHlwZSI6ICJ2ZXJ0ZXgiLCAicHJvcHMiOiB7InNpemUiOiAxMi4xNTMxMTAwNDc4NDY4OX19Cg==');</script>\n",
       "    "
      ],
      "text/plain": [
       "<IPython.core.display.HTML object>"
      ]
     },
     "metadata": {},
     "output_type": "display_data"
    },
    {
     "data": {
      "text/html": [
       "\n",
       "        <div id=\"GuXiejTvSSQfKzNTJGQ5Vo\"></div>\n",
       "        <script>netpixi.call('GuXiejTvSSQfKzNTJGQ5Vo', '7v8o9kC3EyFfMVTkmx2sZN', 'changeGraph', 'eyJpZCI6ICJYc2VlZCBHYW1lcyIsICJ0eXBlIjogInZlcnRleCIsICJwcm9wcyI6IHsic2l6ZSI6IDEzLjc3OTkwNDMwNjIyMDA5N319Cg==');</script>\n",
       "    "
      ],
      "text/plain": [
       "<IPython.core.display.HTML object>"
      ]
     },
     "metadata": {},
     "output_type": "display_data"
    },
    {
     "data": {
      "text/html": [
       "\n",
       "        <div id=\"AijSjHPNgZn6LKAk8qKY3u\"></div>\n",
       "        <script>netpixi.call('AijSjHPNgZn6LKAk8qKY3u', '7v8o9kC3EyFfMVTkmx2sZN', 'changeGraph', 'eyJpZCI6ICJJZ25pdGlvbiBFbnRlcnRhaW5tZW50IiwgInR5cGUiOiAidmVydGV4IiwgInByb3BzIjogeyJzaXplIjogNDYuMDM3NzM1ODQ5MDU2Nn19Cg==');</script>\n",
       "    "
      ],
      "text/plain": [
       "<IPython.core.display.HTML object>"
      ]
     },
     "metadata": {},
     "output_type": "display_data"
    },
    {
     "data": {
      "text/html": [
       "\n",
       "        <div id=\"ibG5ALxhLMgVqmbq6fc9ye\"></div>\n",
       "        <script>netpixi.call('ibG5ALxhLMgVqmbq6fc9ye', '7v8o9kC3EyFfMVTkmx2sZN', 'changeGraph', 'eyJpZCI6ICJLYWRva2F3YSBTaG90ZW4iLCAidHlwZSI6ICJ2ZXJ0ZXgiLCAicHJvcHMiOiB7InNpemUiOiAxMC4wOTU2OTM3Nzk5MDQzMDV9fQo=');</script>\n",
       "    "
      ],
      "text/plain": [
       "<IPython.core.display.HTML object>"
      ]
     },
     "metadata": {},
     "output_type": "display_data"
    },
    {
     "data": {
      "text/html": [
       "\n",
       "        <div id=\"AqL7D8t89CaAMELMzuqYoX\"></div>\n",
       "        <script>netpixi.call('AqL7D8t89CaAMELMzuqYoX', '7v8o9kC3EyFfMVTkmx2sZN', 'changeGraph', 'eyJpZCI6ICJOYXRzdW1lIiwgInR5cGUiOiAidmVydGV4IiwgInByb3BzIjogeyJzaXplIjogNDQuNTI4MzAxODg2NzkyNDV9fQo=');</script>\n",
       "    "
      ],
      "text/plain": [
       "<IPython.core.display.HTML object>"
      ]
     },
     "metadata": {},
     "output_type": "display_data"
    },
    {
     "data": {
      "text/html": [
       "\n",
       "        <div id=\"GwfLpvw8W26RzQ3UXSDjZB\"></div>\n",
       "        <script>netpixi.call('GwfLpvw8W26RzQ3UXSDjZB', '7v8o9kC3EyFfMVTkmx2sZN', 'changeGraph', 'eyJpZCI6ICJTcXVhcmUiLCAidHlwZSI6ICJ2ZXJ0ZXgiLCAicHJvcHMiOiB7InNpemUiOiAxMC4xNDM1NDA2Njk4NTY0Nn19Cg==');</script>\n",
       "    "
      ],
      "text/plain": [
       "<IPython.core.display.HTML object>"
      ]
     },
     "metadata": {},
     "output_type": "display_data"
    },
    {
     "data": {
      "text/html": [
       "\n",
       "        <div id=\"RcKz6REGVjsZv6HBSvSfju\"></div>\n",
       "        <script>netpixi.call('RcKz6REGVjsZv6HBSvSfju', '7v8o9kC3EyFfMVTkmx2sZN', 'changeGraph', 'eyJpZCI6ICJHYW1lYnJpZGdlIiwgInR5cGUiOiAidmVydGV4IiwgInByb3BzIjogeyJzaXplIjogMTguMzczMjA1NzQxNjI2Nzk0fX0K');</script>\n",
       "    "
      ],
      "text/plain": [
       "<IPython.core.display.HTML object>"
      ]
     },
     "metadata": {},
     "output_type": "display_data"
    },
    {
     "data": {
      "text/html": [
       "\n",
       "        <div id=\"mjojJG5pDR8YZTnHJyyiso\"></div>\n",
       "        <script>netpixi.call('mjojJG5pDR8YZTnHJyyiso', '7v8o9kC3EyFfMVTkmx2sZN', 'changeGraph', 'eyJpZCI6ICJNaWRhcyBJbnRlcmFjdGl2ZSBFbnRlcnRhaW5tZW50IiwgInR5cGUiOiAidmVydGV4IiwgInByb3BzIjogeyJzaXplIjogNDEuODg2NzkyNDUyODMwMTl9fQo=');</script>\n",
       "    "
      ],
      "text/plain": [
       "<IPython.core.display.HTML object>"
      ]
     },
     "metadata": {},
     "output_type": "display_data"
    },
    {
     "data": {
      "text/html": [
       "\n",
       "        <div id=\"6kjbcvXF7fFi5GojPQnAb7\"></div>\n",
       "        <script>netpixi.call('6kjbcvXF7fFi5GojPQnAb7', '7v8o9kC3EyFfMVTkmx2sZN', 'changeGraph', 'eyJpZCI6ICJBU0NJSSBFbnRlcnRhaW5tZW50IiwgInR5cGUiOiAidmVydGV4IiwgInByb3BzIjogeyJzaXplIjogMTAuMTkxMzg3NTU5ODA4NjEzfX0K');</script>\n",
       "    "
      ],
      "text/plain": [
       "<IPython.core.display.HTML object>"
      ]
     },
     "metadata": {},
     "output_type": "display_data"
    },
    {
     "data": {
      "text/html": [
       "\n",
       "        <div id=\"3UnJqoAT5BhC9vrMjPkuUX\"></div>\n",
       "        <script>netpixi.call('3UnJqoAT5BhC9vrMjPkuUX', '7v8o9kC3EyFfMVTkmx2sZN', 'changeGraph', 'eyJpZCI6ICJSZWJlbGxpb24iLCAidHlwZSI6ICJ2ZXJ0ZXgiLCAicHJvcHMiOiB7InNpemUiOiAxNC43ODQ2ODg5OTUyMTUzMTJ9fQo=');</script>\n",
       "    "
      ],
      "text/plain": [
       "<IPython.core.display.HTML object>"
      ]
     },
     "metadata": {},
     "output_type": "display_data"
    },
    {
     "data": {
      "text/html": [
       "\n",
       "        <div id=\"inQFzKg6uPRHwFSWL5rPri\"></div>\n",
       "        <script>netpixi.call('inQFzKg6uPRHwFSWL5rPri', '7v8o9kC3EyFfMVTkmx2sZN', 'changeGraph', 'eyJpZCI6ICJIYXJtb25peCBNdXNpYyBTeXN0ZW1zIiwgInR5cGUiOiAidmVydGV4IiwgInByb3BzIjogeyJzaXplIjogMTIuOTY2NTA3MTc3MDMzNDkyfX0K');</script>\n",
       "    "
      ],
      "text/plain": [
       "<IPython.core.display.HTML object>"
      ]
     },
     "metadata": {},
     "output_type": "display_data"
    },
    {
     "data": {
      "text/html": [
       "\n",
       "        <div id=\"9ADyAMZi6M279WSecpesqf\"></div>\n",
       "        <script>netpixi.call('9ADyAMZi6M279WSecpesqf', '7v8o9kC3EyFfMVTkmx2sZN', 'changeGraph', 'eyJpZCI6ICJBY3RpdmlzaW9uIEJsaXp6YXJkIiwgInR5cGUiOiAidmVydGV4IiwgInByb3BzIjogeyJzaXplIjogMTAuNTI2MzE1Nzg5NDczNjg1fX0K');</script>\n",
       "    "
      ],
      "text/plain": [
       "<IPython.core.display.HTML object>"
      ]
     },
     "metadata": {},
     "output_type": "display_data"
    },
    {
     "data": {
      "text/html": [
       "\n",
       "        <div id=\"NUGouu3jGNmGb8VhvZQyRH\"></div>\n",
       "        <script>netpixi.call('NUGouu3jGNmGb8VhvZQyRH', '7v8o9kC3EyFfMVTkmx2sZN', 'changeGraph', 'eyJpZCI6ICJYcGxvc2l2IiwgInR5cGUiOiAidmVydGV4IiwgInByb3BzIjogeyJzaXplIjogMTguMDg2MTI0NDAxOTEzODc4fX0K');</script>\n",
       "    "
      ],
      "text/plain": [
       "<IPython.core.display.HTML object>"
      ]
     },
     "metadata": {},
     "output_type": "display_data"
    },
    {
     "data": {
      "text/html": [
       "\n",
       "        <div id=\"aWqod5ypVSpxVNWQX9Lyaa\"></div>\n",
       "        <script>netpixi.call('aWqod5ypVSpxVNWQX9Lyaa', '7v8o9kC3EyFfMVTkmx2sZN', 'changeGraph', 'eyJpZCI6ICJTeXN0ZW0gMyBBcmNhZGUgU29mdHdhcmUiLCAidHlwZSI6ICJ2ZXJ0ZXgiLCAicHJvcHMiOiB7InNpemUiOiAxOC4yNzc1MTE5NjE3MjI0OX19Cg==');</script>\n",
       "    "
      ],
      "text/plain": [
       "<IPython.core.display.HTML object>"
      ]
     },
     "metadata": {},
     "output_type": "display_data"
    },
    {
     "data": {
      "text/html": [
       "\n",
       "        <div id=\"9xmshZvbDamTGcUen6mB8B\"></div>\n",
       "        <script>netpixi.call('9xmshZvbDamTGcUen6mB8B', '7v8o9kC3EyFfMVTkmx2sZN', 'changeGraph', 'eyJpZCI6ICJXYW5hZG9vIiwgInR5cGUiOiAidmVydGV4IiwgInByb3BzIjogeyJzaXplIjogMTYuMjIwMDk1NjkzNzc5OTAzfX0K');</script>\n",
       "    "
      ],
      "text/plain": [
       "<IPython.core.display.HTML object>"
      ]
     },
     "metadata": {},
     "output_type": "display_data"
    },
    {
     "data": {
      "text/html": [
       "\n",
       "        <div id=\"bgY9a4tM8vXhcBZ2MP2nRr\"></div>\n",
       "        <script>netpixi.call('bgY9a4tM8vXhcBZ2MP2nRr', '7v8o9kC3EyFfMVTkmx2sZN', 'changeGraph', 'eyJpZCI6ICJOb3ZhTG9naWMiLCAidHlwZSI6ICJ2ZXJ0ZXgiLCAicHJvcHMiOiB7InNpemUiOiAxNy44OTQ3MzY4NDIxMDUyNjR9fQo=');</script>\n",
       "    "
      ],
      "text/plain": [
       "<IPython.core.display.HTML object>"
      ]
     },
     "metadata": {},
     "output_type": "display_data"
    },
    {
     "data": {
      "text/html": [
       "\n",
       "        <div id=\"heT6SBCY3n62D3bR9DVVnA\"></div>\n",
       "        <script>netpixi.call('heT6SBCY3n62D3bR9DVVnA', '7v8o9kC3EyFfMVTkmx2sZN', 'changeGraph', 'eyJpZCI6ICJCQU0hIEVudGVydGFpbm1lbnQiLCAidHlwZSI6ICJ2ZXJ0ZXgiLCAicHJvcHMiOiB7InNpemUiOiAxOS43MTI5MTg2NjAyODcwOH19Cg==');</script>\n",
       "    "
      ],
      "text/plain": [
       "<IPython.core.display.HTML object>"
      ]
     },
     "metadata": {},
     "output_type": "display_data"
    },
    {
     "data": {
      "text/html": [
       "\n",
       "        <div id=\"fXs8huv6g225SKRAWzRgxq\"></div>\n",
       "        <script>netpixi.call('fXs8huv6g225SKRAWzRgxq', '7v8o9kC3EyFfMVTkmx2sZN', 'changeGraph', 'eyJpZCI6ICJUZXRyaXMgT25saW5lIiwgInR5cGUiOiAidmVydGV4IiwgInByb3BzIjogeyJzaXplIjogMTAuNjY5ODU2NDU5MzMwMTQzfX0K');</script>\n",
       "    "
      ],
      "text/plain": [
       "<IPython.core.display.HTML object>"
      ]
     },
     "metadata": {},
     "output_type": "display_data"
    },
    {
     "data": {
      "text/html": [
       "\n",
       "        <div id=\"99zRVMJJ2VceyBuoA292KM\"></div>\n",
       "        <script>netpixi.call('99zRVMJJ2VceyBuoA292KM', '7v8o9kC3EyFfMVTkmx2sZN', 'changeGraph', 'eyJpZCI6ICJQc3lnbm9zaXMiLCAidHlwZSI6ICJ2ZXJ0ZXgiLCAicHJvcHMiOiB7InNpemUiOiAxMC40MzA2MjIwMDk1NjkzNzh9fQo=');</script>\n",
       "    "
      ],
      "text/plain": [
       "<IPython.core.display.HTML object>"
      ]
     },
     "metadata": {},
     "output_type": "display_data"
    },
    {
     "data": {
      "text/html": [
       "\n",
       "        <div id=\"Wrgd4hHKQiWsZPykXRgFgs\"></div>\n",
       "        <script>netpixi.call('Wrgd4hHKQiWsZPykXRgFgs', '7v8o9kC3EyFfMVTkmx2sZN', 'changeGraph', 'eyJpZCI6ICJTY3JlZW5saWZlIiwgInR5cGUiOiAidmVydGV4IiwgInByb3BzIjogeyJzaXplIjogMTAuNDc4NDY4ODk5NTIxNTN9fQo=');</script>\n",
       "    "
      ],
      "text/plain": [
       "<IPython.core.display.HTML object>"
      ]
     },
     "metadata": {},
     "output_type": "display_data"
    },
    {
     "data": {
      "text/html": [
       "\n",
       "        <div id=\"4ueV79xwSDx7C4e5suJRTu\"></div>\n",
       "        <script>netpixi.call('4ueV79xwSDx7C4e5suJRTu', '7v8o9kC3EyFfMVTkmx2sZN', 'changeGraph', 'eyJpZCI6ICJHdW5nSG8iLCAidHlwZSI6ICJ2ZXJ0ZXgiLCAicHJvcHMiOiB7InNpemUiOiAxOC42MTI0NDAxOTEzODc1Nn19Cg==');</script>\n",
       "    "
      ],
      "text/plain": [
       "<IPython.core.display.HTML object>"
      ]
     },
     "metadata": {},
     "output_type": "display_data"
    },
    {
     "data": {
      "text/html": [
       "\n",
       "        <div id=\"9b4WvwyjsQfiPaWKXV5hEH\"></div>\n",
       "        <script>netpixi.call('9b4WvwyjsQfiPaWKXV5hEH', '7v8o9kC3EyFfMVTkmx2sZN', 'changeGraph', 'eyJpZCI6ICJKZXN0ZXIgSW50ZXJhY3RpdmUiLCAidHlwZSI6ICJ2ZXJ0ZXgiLCAicHJvcHMiOiB7InNpemUiOiAxOS4wOTA5MDkwOTA5MDkwOX19Cg==');</script>\n",
       "    "
      ],
      "text/plain": [
       "<IPython.core.display.HTML object>"
      ]
     },
     "metadata": {},
     "output_type": "display_data"
    },
    {
     "data": {
      "text/html": [
       "\n",
       "        <div id=\"XsxWW8UeXJepx3Fvr6fHzu\"></div>\n",
       "        <script>netpixi.call('XsxWW8UeXJepx3Fvr6fHzu', '7v8o9kC3EyFfMVTkmx2sZN', 'changeGraph', 'eyJpZCI6ICJCbGFjayBCZWFuIEdhbWVzIiwgInR5cGUiOiAidmVydGV4IiwgInByb3BzIjogeyJzaXplIjogMTcuMjI0ODgwMzgyNzc1MTJ9fQo=');</script>\n",
       "    "
      ],
      "text/plain": [
       "<IPython.core.display.HTML object>"
      ]
     },
     "metadata": {},
     "output_type": "display_data"
    },
    {
     "data": {
      "text/html": [
       "\n",
       "        <div id=\"cEe2m6v6yBCrkZcr6zHqVX\"></div>\n",
       "        <script>netpixi.call('cEe2m6v6yBCrkZcr6zHqVX', '7v8o9kC3EyFfMVTkmx2sZN', 'changeGraph', 'eyJpZCI6ICIzRE8iLCAidHlwZSI6ICJ2ZXJ0ZXgiLCAicHJvcHMiOiB7InNpemUiOiAxOC45NDczNjg0MjEwNTI2M319Cg==');</script>\n",
       "    "
      ],
      "text/plain": [
       "<IPython.core.display.HTML object>"
      ]
     },
     "metadata": {},
     "output_type": "display_data"
    },
    {
     "data": {
      "text/html": [
       "\n",
       "        <div id=\"KKMqMU3BK9xavf2fQnpQnj\"></div>\n",
       "        <script>netpixi.call('KKMqMU3BK9xavf2fQnpQnj', '7v8o9kC3EyFfMVTkmx2sZN', 'changeGraph', 'eyJpZCI6ICJUYWthcmEgVG9teSIsICJ0eXBlIjogInZlcnRleCIsICJwcm9wcyI6IHsic2l6ZSI6IDE3LjQ2NDExNDgzMjUzNTg4NH19Cg==');</script>\n",
       "    "
      ],
      "text/plain": [
       "<IPython.core.display.HTML object>"
      ]
     },
     "metadata": {},
     "output_type": "display_data"
    },
    {
     "data": {
      "text/html": [
       "\n",
       "        <div id=\"ZSs9uUwikyN5qNGyi5Lnpv\"></div>\n",
       "        <script>netpixi.call('ZSs9uUwikyN5qNGyi5Lnpv', '7v8o9kC3EyFfMVTkmx2sZN', 'changeGraph', 'eyJpZCI6ICJTYW1teSBDb3Jwb3JhdGlvbiIsICJ0eXBlIjogInZlcnRleCIsICJwcm9wcyI6IHsic2l6ZSI6IDE2LjQ1OTMzMDE0MzU0MDY3fX0K');</script>\n",
       "    "
      ],
      "text/plain": [
       "<IPython.core.display.HTML object>"
      ]
     },
     "metadata": {},
     "output_type": "display_data"
    },
    {
     "data": {
      "text/html": [
       "\n",
       "        <div id=\"449YHdQTGm2BrYhYz6GWQU\"></div>\n",
       "        <script>netpixi.call('449YHdQTGm2BrYhYz6GWQU', '7v8o9kC3EyFfMVTkmx2sZN', 'changeGraph', 'eyJpZCI6ICJLYWx5cHNvIE1lZGlhIiwgInR5cGUiOiAidmVydGV4IiwgInByb3BzIjogeyJzaXplIjogMTguMzI1MzU4ODUxNjc0NjQzfX0K');</script>\n",
       "    "
      ],
      "text/plain": [
       "<IPython.core.display.HTML object>"
      ]
     },
     "metadata": {},
     "output_type": "display_data"
    },
    {
     "data": {
      "text/html": [
       "\n",
       "        <div id=\"76yvg9JXhEYxsNMAXRW3yk\"></div>\n",
       "        <script>netpixi.call('76yvg9JXhEYxsNMAXRW3yk', '7v8o9kC3EyFfMVTkmx2sZN', 'changeGraph', 'eyJpZCI6ICJIdWRzb24gU29mdCIsICJ0eXBlIjogInZlcnRleCIsICJwcm9wcyI6IHsic2l6ZSI6IDE5LjgwODYxMjQ0MDE5MTM5fX0K');</script>\n",
       "    "
      ],
      "text/plain": [
       "<IPython.core.display.HTML object>"
      ]
     },
     "metadata": {},
     "output_type": "display_data"
    },
    {
     "data": {
      "text/html": [
       "\n",
       "        <div id=\"gpgY3L9UQhzgVvQ5v2BJZS\"></div>\n",
       "        <script>netpixi.call('gpgY3L9UQhzgVvQ5v2BJZS', '7v8o9kC3EyFfMVTkmx2sZN', 'changeGraph', 'eyJpZCI6ICJNYXJ2ZWxvdXMgSW50ZXJhY3RpdmUiLCAidHlwZSI6ICJ2ZXJ0ZXgiLCAicHJvcHMiOiB7InNpemUiOiA0My43NzM1ODQ5MDU2NjAzOH19Cg==');</script>\n",
       "    "
      ],
      "text/plain": [
       "<IPython.core.display.HTML object>"
      ]
     },
     "metadata": {},
     "output_type": "display_data"
    },
    {
     "data": {
      "text/html": [
       "\n",
       "        <div id=\"G3Fu2hkreXb4SWM5eL24Up\"></div>\n",
       "        <script>netpixi.call('G3Fu2hkreXb4SWM5eL24Up', '7v8o9kC3EyFfMVTkmx2sZN', 'changeGraph', 'eyJpZCI6ICJIb21lIEVudGVydGFpbm1lbnQgU3VwcGxpZXJzIiwgInR5cGUiOiAidmVydGV4IiwgInByb3BzIjogeyJzaXplIjogMTUuMTE5NjE3MjI0ODgwMzgzfX0K');</script>\n",
       "    "
      ],
      "text/plain": [
       "<IPython.core.display.HTML object>"
      ]
     },
     "metadata": {},
     "output_type": "display_data"
    },
    {
     "data": {
      "text/html": [
       "\n",
       "        <div id=\"MZNVC8nbhXTnCDgrkmtELG\"></div>\n",
       "        <script>netpixi.call('MZNVC8nbhXTnCDgrkmtELG', '7v8o9kC3EyFfMVTkmx2sZN', 'changeGraph', 'eyJpZCI6ICJBcmMgU3lzdGVtIFdvcmtzIiwgInR5cGUiOiAidmVydGV4IiwgInByb3BzIjogeyJzaXplIjogMTkuMTg2NjAyODcwODEzMzk1fX0K');</script>\n",
       "    "
      ],
      "text/plain": [
       "<IPython.core.display.HTML object>"
      ]
     },
     "metadata": {},
     "output_type": "display_data"
    },
    {
     "data": {
      "text/html": [
       "\n",
       "        <div id=\"hCgtF7fZpiHXNkSQafQL3b\"></div>\n",
       "        <script>netpixi.call('hCgtF7fZpiHXNkSQafQL3b', '7v8o9kC3EyFfMVTkmx2sZN', 'changeGraph', 'eyJpZCI6ICJCYW5wcmVzdG8iLCAidHlwZSI6ICJ2ZXJ0ZXgiLCAicHJvcHMiOiB7InNpemUiOiA0Mi4wNzU0NzE2OTgxMTMyMX19Cg==');</script>\n",
       "    "
      ],
      "text/plain": [
       "<IPython.core.display.HTML object>"
      ]
     },
     "metadata": {},
     "output_type": "display_data"
    },
    {
     "data": {
      "text/html": [
       "\n",
       "        <div id=\"aAByxABPjHnV68GPE4mgY8\"></div>\n",
       "        <script>netpixi.call('aAByxABPjHnV68GPE4mgY8', '7v8o9kC3EyFfMVTkmx2sZN', 'changeGraph', 'eyJpZCI6ICJXYXJnYW1pbmcubmV0IiwgInR5cGUiOiAidmVydGV4IiwgInByb3BzIjogeyJzaXplIjogMTMuMjUzNTg4NTE2NzQ2NDEyfX0K');</script>\n",
       "    "
      ],
      "text/plain": [
       "<IPython.core.display.HTML object>"
      ]
     },
     "metadata": {},
     "output_type": "display_data"
    },
    {
     "data": {
      "text/html": [
       "\n",
       "        <div id=\"oHKQ26FCmnWMQSh3ZToBnE\"></div>\n",
       "        <script>netpixi.call('oHKQ26FCmnWMQSh3ZToBnE', '7v8o9kC3EyFfMVTkmx2sZN', 'changeGraph', 'eyJpZCI6ICJEZXN0aW5lZXIiLCAidHlwZSI6ICJ2ZXJ0ZXgiLCAicHJvcHMiOiB7InNpemUiOiAxNy41NTk4MDg2MTI0NDAxOTN9fQo=');</script>\n",
       "    "
      ],
      "text/plain": [
       "<IPython.core.display.HTML object>"
      ]
     },
     "metadata": {},
     "output_type": "display_data"
    },
    {
     "data": {
      "text/html": [
       "\n",
       "        <div id=\"UxNtpLseYfz8FfcTwG2gef\"></div>\n",
       "        <script>netpixi.call('UxNtpLseYfz8FfcTwG2gef', '7v8o9kC3EyFfMVTkmx2sZN', 'changeGraph', 'eyJpZCI6ICJQYWNpZmljIENlbnR1cnkgQ3liZXIgV29ya3MiLCAidHlwZSI6ICJ2ZXJ0ZXgiLCAicHJvcHMiOiB7InNpemUiOiAxNi4zMTU3ODk0NzM2ODQyMTJ9fQo=');</script>\n",
       "    "
      ],
      "text/plain": [
       "<IPython.core.display.HTML object>"
      ]
     },
     "metadata": {},
     "output_type": "display_data"
    },
    {
     "data": {
      "text/html": [
       "\n",
       "        <div id=\"G4SFb7hVbHmE9fhU8DNfLV\"></div>\n",
       "        <script>netpixi.call('G4SFb7hVbHmE9fhU8DNfLV', '7v8o9kC3EyFfMVTkmx2sZN', 'changeGraph', 'eyJpZCI6ICJQb3BDYXAgR2FtZXMiLCAidHlwZSI6ICJ2ZXJ0ZXgiLCAicHJvcHMiOiB7InNpemUiOiAxOS45NTIxNTMxMTAwNDc4NDZ9fQo=');</script>\n",
       "    "
      ],
      "text/plain": [
       "<IPython.core.display.HTML object>"
      ]
     },
     "metadata": {},
     "output_type": "display_data"
    },
    {
     "data": {
      "text/html": [
       "\n",
       "        <div id=\"9sntjuVdqQwyXQRE4uBvNe\"></div>\n",
       "        <script>netpixi.call('9sntjuVdqQwyXQRE4uBvNe', '7v8o9kC3EyFfMVTkmx2sZN', 'changeGraph', 'eyJpZCI6ICJJbmRpZSBHYW1lcyIsICJ0eXBlIjogInZlcnRleCIsICJwcm9wcyI6IHsic2l6ZSI6IDE2Ljc0NjQxMTQ4MzI1MzU5fX0K');</script>\n",
       "    "
      ],
      "text/plain": [
       "<IPython.core.display.HTML object>"
      ]
     },
     "metadata": {},
     "output_type": "display_data"
    },
    {
     "data": {
      "text/html": [
       "\n",
       "        <div id=\"2CYLb4xUsdGtNRaF7MA29r\"></div>\n",
       "        <script>netpixi.call('2CYLb4xUsdGtNRaF7MA29r', '7v8o9kC3EyFfMVTkmx2sZN', 'changeGraph', 'eyJpZCI6ICJGdVJ5dSIsICJ0eXBlIjogInZlcnRleCIsICJwcm9wcyI6IHsic2l6ZSI6IDEzLjYzNjM2MzYzNjM2MzYzN319Cg==');</script>\n",
       "    "
      ],
      "text/plain": [
       "<IPython.core.display.HTML object>"
      ]
     },
     "metadata": {},
     "output_type": "display_data"
    },
    {
     "data": {
      "text/html": [
       "\n",
       "        <div id=\"hcDXMuLMx4J7eWUjeqcaBq\"></div>\n",
       "        <script>netpixi.call('hcDXMuLMx4J7eWUjeqcaBq', '7v8o9kC3EyFfMVTkmx2sZN', 'changeGraph', 'eyJpZCI6ICJOaWhvbiBGYWxjb20gQ29ycG9yYXRpb24iLCAidHlwZSI6ICJ2ZXJ0ZXgiLCAicHJvcHMiOiB7InNpemUiOiAxMi41MzU4ODUxNjc0NjQxMTZ9fQo=');</script>\n",
       "    "
      ],
      "text/plain": [
       "<IPython.core.display.HTML object>"
      ]
     },
     "metadata": {},
     "output_type": "display_data"
    },
    {
     "data": {
      "text/html": [
       "\n",
       "        <div id=\"G5j4G3ruj6mtbLExztLMP8\"></div>\n",
       "        <script>netpixi.call('G5j4G3ruj6mtbLExztLMP8', '7v8o9kC3EyFfMVTkmx2sZN', 'changeGraph', 'eyJpZCI6ICJHYXRoZXJpbmcgb2YgRGV2ZWxvcGVycyIsICJ0eXBlIjogInZlcnRleCIsICJwcm9wcyI6IHsic2l6ZSI6IDE5LjU2OTM3Nzk5MDQzMDYyNH19Cg==');</script>\n",
       "    "
      ],
      "text/plain": [
       "<IPython.core.display.HTML object>"
      ]
     },
     "metadata": {},
     "output_type": "display_data"
    },
    {
     "data": {
      "text/html": [
       "\n",
       "        <div id=\"HvvJ4S7CRn6kSxjbG4PQ7o\"></div>\n",
       "        <script>netpixi.call('HvvJ4S7CRn6kSxjbG4PQ7o', '7v8o9kC3EyFfMVTkmx2sZN', 'changeGraph', 'eyJpZCI6ICJPeHlnZW4gSW50ZXJhY3RpdmUiLCAidHlwZSI6ICJ2ZXJ0ZXgiLCAicHJvcHMiOiB7InNpemUiOiAxNi42MDI4NzA4MTMzOTcxM319Cg==');</script>\n",
       "    "
      ],
      "text/plain": [
       "<IPython.core.display.HTML object>"
      ]
     },
     "metadata": {},
     "output_type": "display_data"
    },
    {
     "data": {
      "text/html": [
       "\n",
       "        <div id=\"EhiXkyysWQU83isjfhtg9t\"></div>\n",
       "        <script>netpixi.call('EhiXkyysWQU83isjfhtg9t', '7v8o9kC3EyFfMVTkmx2sZN', 'changeGraph', 'eyJpZCI6ICJEVFAgRW50ZXJ0YWlubWVudCIsICJ0eXBlIjogInZlcnRleCIsICJwcm9wcyI6IHsic2l6ZSI6IDE4LjgwMzgyNzc1MTE5NjE3NH19Cg==');</script>\n",
       "    "
      ],
      "text/plain": [
       "<IPython.core.display.HTML object>"
      ]
     },
     "metadata": {},
     "output_type": "display_data"
    },
    {
     "data": {
      "text/html": [
       "\n",
       "        <div id=\"N6vJecNPhPo7KDMsr4oHoP\"></div>\n",
       "        <script>netpixi.call('N6vJecNPhPo7KDMsr4oHoP', '7v8o9kC3EyFfMVTkmx2sZN', 'changeGraph', 'eyJpZCI6ICJGYWxjb20gQ29ycG9yYXRpb24iLCAidHlwZSI6ICJ2ZXJ0ZXgiLCAicHJvcHMiOiB7InNpemUiOiAxMi40ODgwMzgyNzc1MTE5NjF9fQo=');</script>\n",
       "    "
      ],
      "text/plain": [
       "<IPython.core.display.HTML object>"
      ]
     },
     "metadata": {},
     "output_type": "display_data"
    },
    {
     "data": {
      "text/html": [
       "\n",
       "        <div id=\"bEde9xamewAryye73R88Jr\"></div>\n",
       "        <script>netpixi.call('bEde9xamewAryye73R88Jr', '7v8o9kC3EyFfMVTkmx2sZN', 'changeGraph', 'eyJpZCI6ICJLZW1jbyIsICJ0eXBlIjogInZlcnRleCIsICJwcm9wcyI6IHsic2l6ZSI6IDE5LjIzNDQ0OTc2MDc2NTU1fX0K');</script>\n",
       "    "
      ],
      "text/plain": [
       "<IPython.core.display.HTML object>"
      ]
     },
     "metadata": {},
     "output_type": "display_data"
    },
    {
     "data": {
      "text/html": [
       "\n",
       "        <div id=\"TrmsqzZqpEDrRU34U9GoNL\"></div>\n",
       "        <script>netpixi.call('TrmsqzZqpEDrRU34U9GoNL', '7v8o9kC3EyFfMVTkmx2sZN', 'changeGraph', 'eyJpZCI6ICJNaWxlc3RvbmUgUy5yLmwuIiwgInR5cGUiOiAidmVydGV4IiwgInByb3BzIjogeyJzaXplIjogMTIuMzkyMzQ0NDk3NjA3NjU2fX0K');</script>\n",
       "    "
      ],
      "text/plain": [
       "<IPython.core.display.HTML object>"
      ]
     },
     "metadata": {},
     "output_type": "display_data"
    },
    {
     "data": {
      "text/html": [
       "\n",
       "        <div id=\"4LcjPxKLs5ZwzddmBDdpQj\"></div>\n",
       "        <script>netpixi.call('4LcjPxKLs5ZwzddmBDdpQj', '7v8o9kC3EyFfMVTkmx2sZN', 'changeGraph', 'eyJpZCI6ICJBUSBJbnRlcmFjdGl2ZSIsICJ0eXBlIjogInZlcnRleCIsICJwcm9wcyI6IHsic2l6ZSI6IDE5LjM3Nzk5MDQzMDYyMjAxfX0K');</script>\n",
       "    "
      ],
      "text/plain": [
       "<IPython.core.display.HTML object>"
      ]
     },
     "metadata": {},
     "output_type": "display_data"
    },
    {
     "data": {
      "text/html": [
       "\n",
       "        <div id=\"fnb7EpRc2GzHxhcDgpJ8tZ\"></div>\n",
       "        <script>netpixi.call('fnb7EpRc2GzHxhcDgpJ8tZ', '7v8o9kC3EyFfMVTkmx2sZN', 'changeGraph', 'eyJpZCI6ICJBZ2V0ZWMiLCAidHlwZSI6ICJ2ZXJ0ZXgiLCAicHJvcHMiOiB7InNpemUiOiAxNi4yNjc5NDI1ODM3MzIwNTh9fQo=');</script>\n",
       "    "
      ],
      "text/plain": [
       "<IPython.core.display.HTML object>"
      ]
     },
     "metadata": {},
     "output_type": "display_data"
    },
    {
     "data": {
      "text/html": [
       "\n",
       "        <div id=\"XoY7cDxDyyjurBdX68XrBJ\"></div>\n",
       "        <script>netpixi.call('XoY7cDxDyyjurBdX68XrBJ', '7v8o9kC3EyFfMVTkmx2sZN', 'changeGraph', 'eyJpZCI6ICJYUyBHYW1lcyIsICJ0eXBlIjogInZlcnRleCIsICJwcm9wcyI6IHsic2l6ZSI6IDE5LjY2NTA3MTc3MDMzNDkyNn19Cg==');</script>\n",
       "    "
      ],
      "text/plain": [
       "<IPython.core.display.HTML object>"
      ]
     },
     "metadata": {},
     "output_type": "display_data"
    },
    {
     "data": {
      "text/html": [
       "\n",
       "        <div id=\"cQvFtjvgZSj6mEvS3zmYp4\"></div>\n",
       "        <script>netpixi.call('cQvFtjvgZSj6mEvS3zmYp4', '7v8o9kC3EyFfMVTkmx2sZN', 'changeGraph', 'eyJpZCI6ICJBY3RpdmlzaW9uIFZhbHVlIiwgInR5cGUiOiAidmVydGV4IiwgInByb3BzIjogeyJzaXplIjogMTguMTMzOTcxMjkxODY2MDI1fX0K');</script>\n",
       "    "
      ],
      "text/plain": [
       "<IPython.core.display.HTML object>"
      ]
     },
     "metadata": {},
     "output_type": "display_data"
    },
    {
     "data": {
      "text/html": [
       "\n",
       "        <div id=\"fJUNKdQ2Bmm3he9LNae3tE\"></div>\n",
       "        <script>netpixi.call('fJUNKdQ2Bmm3he9LNae3tE', '7v8o9kC3EyFfMVTkmx2sZN', 'changeGraph', 'eyJpZCI6ICJUZWxsdGFsZSBHYW1lcyIsICJ0eXBlIjogInZlcnRleCIsICJwcm9wcyI6IHsic2l6ZSI6IDEzLjk3MTI5MTg2NjAyODcwN319Cg==');</script>\n",
       "    "
      ],
      "text/plain": [
       "<IPython.core.display.HTML object>"
      ]
     },
     "metadata": {},
     "output_type": "display_data"
    },
    {
     "data": {
      "text/html": [
       "\n",
       "        <div id=\"LT4xiYBRBYJRWRxRDUbCkz\"></div>\n",
       "        <script>netpixi.call('LT4xiYBRBYJRWRxRDUbCkz', '7v8o9kC3EyFfMVTkmx2sZN', 'changeGraph', 'eyJpZCI6ICJadXNoaSBHYW1lcyIsICJ0eXBlIjogInZlcnRleCIsICJwcm9wcyI6IHsic2l6ZSI6IDE0Ljk3NjA3NjU1NTAyMzkyM319Cg==');</script>\n",
       "    "
      ],
      "text/plain": [
       "<IPython.core.display.HTML object>"
      ]
     },
     "metadata": {},
     "output_type": "display_data"
    },
    {
     "data": {
      "text/html": [
       "\n",
       "        <div id=\"i9GydTSYFjYw2ZEz9w5k8X\"></div>\n",
       "        <script>netpixi.call('i9GydTSYFjYw2ZEz9w5k8X', '7v8o9kC3EyFfMVTkmx2sZN', 'changeGraph', 'eyJpZCI6ICJDQ1AiLCAidHlwZSI6ICJ2ZXJ0ZXgiLCAicHJvcHMiOiB7InNpemUiOiAxMy4wNjIyMDA5NTY5Mzc3OTl9fQo=');</script>\n",
       "    "
      ],
      "text/plain": [
       "<IPython.core.display.HTML object>"
      ]
     },
     "metadata": {},
     "output_type": "display_data"
    },
    {
     "data": {
      "text/html": [
       "\n",
       "        <div id=\"gvW8MgrGLHWjX8HA6qkgbv\"></div>\n",
       "        <script>netpixi.call('gvW8MgrGLHWjX8HA6qkgbv', '7v8o9kC3EyFfMVTkmx2sZN', 'changeGraph', 'eyJpZCI6ICJBZ2F0c3VtYSBFbnRlcnRhaW5tZW50IiwgInR5cGUiOiAidmVydGV4IiwgInByb3BzIjogeyJzaXplIjogMTEuMTk2MTcyMjQ4ODAzODI4fX0K');</script>\n",
       "    "
      ],
      "text/plain": [
       "<IPython.core.display.HTML object>"
      ]
     },
     "metadata": {},
     "output_type": "display_data"
    },
    {
     "data": {
      "text/html": [
       "\n",
       "        <div id=\"YiT5jkvvjx5MhZivnc5sNc\"></div>\n",
       "        <script>netpixi.call('YiT5jkvvjx5MhZivnc5sNc', '7v8o9kC3EyFfMVTkmx2sZN', 'changeGraph', 'eyJpZCI6ICJDb21waWxlIEhlYXJ0IiwgInR5cGUiOiAidmVydGV4IiwgInByb3BzIjogeyJzaXplIjogMTguNDIxMDUyNjMxNTc4OTQ1fX0K');</script>\n",
       "    "
      ],
      "text/plain": [
       "<IPython.core.display.HTML object>"
      ]
     },
     "metadata": {},
     "output_type": "display_data"
    },
    {
     "data": {
      "text/html": [
       "\n",
       "        <div id=\"iBRA5oGwrduDdqtRhgLvnV\"></div>\n",
       "        <script>netpixi.call('iBRA5oGwrduDdqtRhgLvnV', '7v8o9kC3EyFfMVTkmx2sZN', 'changeGraph', 'eyJpZCI6ICJNYWQgQ2F0eiIsICJ0eXBlIjogInZlcnRleCIsICJwcm9wcyI6IHsic2l6ZSI6IDE5LjUyMTUzMTEwMDQ3ODQ3fX0K');</script>\n",
       "    "
      ],
      "text/plain": [
       "<IPython.core.display.HTML object>"
      ]
     },
     "metadata": {},
     "output_type": "display_data"
    },
    {
     "data": {
      "text/html": [
       "\n",
       "        <div id=\"if47gmPfLr3X7SQUKakUMD\"></div>\n",
       "        <script>netpixi.call('if47gmPfLr3X7SQUKakUMD', '7v8o9kC3EyFfMVTkmx2sZN', 'changeGraph', 'eyJpZCI6ICJHdXN0IiwgInR5cGUiOiAidmVydGV4IiwgInByb3BzIjogeyJzaXplIjogMTYuNTU1MDIzOTIzNDQ0OTc4fX0K');</script>\n",
       "    "
      ],
      "text/plain": [
       "<IPython.core.display.HTML object>"
      ]
     },
     "metadata": {},
     "output_type": "display_data"
    },
    {
     "data": {
      "text/html": [
       "\n",
       "        <div id=\"5EVLDuUrT5KbNuTBnMxWCd\"></div>\n",
       "        <script>netpixi.call('5EVLDuUrT5KbNuTBnMxWCd', '7v8o9kC3EyFfMVTkmx2sZN', 'changeGraph', 'eyJpZCI6ICJNZWRpYSBSaW5ncyIsICJ0eXBlIjogInZlcnRleCIsICJwcm9wcyI6IHsic2l6ZSI6IDEyLjU4MzczMjA1NzQxNjI2OX19Cg==');</script>\n",
       "    "
      ],
      "text/plain": [
       "<IPython.core.display.HTML object>"
      ]
     },
     "metadata": {},
     "output_type": "display_data"
    },
    {
     "data": {
      "text/html": [
       "\n",
       "        <div id=\"ha3yDwWRj3VLA6wPgwFbqE\"></div>\n",
       "        <script>netpixi.call('ha3yDwWRj3VLA6wPgwFbqE', '7v8o9kC3EyFfMVTkmx2sZN', 'changeGraph', 'eyJpZCI6ICJKb1dvb2QgUHJvZHVjdGlvbnMiLCAidHlwZSI6ICJ2ZXJ0ZXgiLCAicHJvcHMiOiB7InNpemUiOiA0Mi42NDE1MDk0MzM5NjIyNn19Cg==');</script>\n",
       "    "
      ],
      "text/plain": [
       "<IPython.core.display.HTML object>"
      ]
     },
     "metadata": {},
     "output_type": "display_data"
    },
    {
     "data": {
      "text/html": [
       "\n",
       "        <div id=\"kynN3CnEPvXn7rwutShDnv\"></div>\n",
       "        <script>netpixi.call('kynN3CnEPvXn7rwutShDnv', '7v8o9kC3EyFfMVTkmx2sZN', 'changeGraph', 'eyJpZCI6ICJCcmFzaCBFbnRlcnRhaW5tZW50IiwgInR5cGUiOiAidmVydGV4IiwgInByb3BzIjogeyJzaXplIjogMTcuMzY4NDIxMDUyNjMxNTh9fQo=');</script>\n",
       "    "
      ],
      "text/plain": [
       "<IPython.core.display.HTML object>"
      ]
     },
     "metadata": {},
     "output_type": "display_data"
    },
    {
     "data": {
      "text/html": [
       "\n",
       "        <div id=\"irsE69BpgRscnhSLPpa28D\"></div>\n",
       "        <script>netpixi.call('irsE69BpgRscnhSLPpa28D', '7v8o9kC3EyFfMVTkmx2sZN', 'changeGraph', 'eyJpZCI6ICJGdW5jb20iLCAidHlwZSI6ICJ2ZXJ0ZXgiLCAicHJvcHMiOiB7InNpemUiOiAxMi4yNDg4MDM4Mjc3NTExOTZ9fQo=');</script>\n",
       "    "
      ],
      "text/plain": [
       "<IPython.core.display.HTML object>"
      ]
     },
     "metadata": {},
     "output_type": "display_data"
    },
    {
     "data": {
      "text/html": [
       "\n",
       "        <div id=\"kPiYuZjv8rLLSuPMU66zY2\"></div>\n",
       "        <script>netpixi.call('kPiYuZjv8rLLSuPMU66zY2', '7v8o9kC3EyFfMVTkmx2sZN', 'changeGraph', 'eyJpZCI6ICJKYWxlY28iLCAidHlwZSI6ICJ2ZXJ0ZXgiLCAicHJvcHMiOiB7InNpemUiOiA0Mi4yNjQxNTA5NDMzOTYyMjR9fQo=');</script>\n",
       "    "
      ],
      "text/plain": [
       "<IPython.core.display.HTML object>"
      ]
     },
     "metadata": {},
     "output_type": "display_data"
    },
    {
     "data": {
      "text/html": [
       "\n",
       "        <div id=\"ZEEtKEabJu38e6L7bmX6nD\"></div>\n",
       "        <script>netpixi.call('ZEEtKEabJu38e6L7bmX6nD', '7v8o9kC3EyFfMVTkmx2sZN', 'changeGraph', 'eyJpZCI6ICJQbGF5bG9naWMgR2FtZSBGYWN0b3J5IiwgInR5cGUiOiAidmVydGV4IiwgInByb3BzIjogeyJzaXplIjogNDIuNDUyODMwMTg4Njc5MjR9fQo=');</script>\n",
       "    "
      ],
      "text/plain": [
       "<IPython.core.display.HTML object>"
      ]
     },
     "metadata": {},
     "output_type": "display_data"
    },
    {
     "data": {
      "text/html": [
       "\n",
       "        <div id=\"3tbTf2Wj7L3nH4Yw3pDKRn\"></div>\n",
       "        <script>netpixi.call('3tbTf2Wj7L3nH4Yw3pDKRn', '7v8o9kC3EyFfMVTkmx2sZN', 'changeGraph', 'eyJpZCI6ICJIdW1hbiBFbnRlcnRhaW5tZW50IiwgInR5cGUiOiAidmVydGV4IiwgInByb3BzIjogeyJzaXplIjogMTAuMzgyNzc1MTE5NjE3MjI1fX0K');</script>\n",
       "    "
      ],
      "text/plain": [
       "<IPython.core.display.HTML object>"
      ]
     },
     "metadata": {},
     "output_type": "display_data"
    },
    {
     "data": {
      "text/html": [
       "\n",
       "        <div id=\"QyYaSBpa5rExZvYkcRqTie\"></div>\n",
       "        <script>netpixi.call('QyYaSBpa5rExZvYkcRqTie', '7v8o9kC3EyFfMVTkmx2sZN', 'changeGraph', 'eyJpZCI6ICJGb3ggSW50ZXJhY3RpdmUiLCAidHlwZSI6ICJ2ZXJ0ZXgiLCAicHJvcHMiOiB7InNpemUiOiAxMC4zMzQ5MjgyMjk2NjUwNzJ9fQo=');</script>\n",
       "    "
      ],
      "text/plain": [
       "<IPython.core.display.HTML object>"
      ]
     },
     "metadata": {},
     "output_type": "display_data"
    },
    {
     "data": {
      "text/html": [
       "\n",
       "        <div id=\"F8jseiwbGCRgJwXZNCDufv\"></div>\n",
       "        <script>netpixi.call('F8jseiwbGCRgJwXZNCDufv', '7v8o9kC3EyFfMVTkmx2sZN', 'changeGraph', 'eyJpZCI6ICJTY2hvbGFzdGljIEluYy4iLCAidHlwZSI6ICJ2ZXJ0ZXgiLCAicHJvcHMiOiB7InNpemUiOiAxNC4zNTQwNjY5ODU2NDU5MzJ9fQo=');</script>\n",
       "    "
      ],
      "text/plain": [
       "<IPython.core.display.HTML object>"
      ]
     },
     "metadata": {},
     "output_type": "display_data"
    },
    {
     "data": {
      "text/html": [
       "\n",
       "        <div id=\"iS2ZchH9b6vGk5zr7DvPTo\"></div>\n",
       "        <script>netpixi.call('iS2ZchH9b6vGk5zr7DvPTo', '7v8o9kC3EyFfMVTkmx2sZN', 'changeGraph', 'eyJpZCI6ICJTeXN0ZW0gMyIsICJ0eXBlIjogInZlcnRleCIsICJwcm9wcyI6IHsic2l6ZSI6IDExLjgxODE4MTgxODE4MTgxOH19Cg==');</script>\n",
       "    "
      ],
      "text/plain": [
       "<IPython.core.display.HTML object>"
      ]
     },
     "metadata": {},
     "output_type": "display_data"
    },
    {
     "data": {
      "text/html": [
       "\n",
       "        <div id=\"gwNcBmYL6NuZWNbKsKRDWh\"></div>\n",
       "        <script>netpixi.call('gwNcBmYL6NuZWNbKsKRDWh', '7v8o9kC3EyFfMVTkmx2sZN', 'changeGraph', 'eyJpZCI6ICJOb3JkaWMgR2FtZXMiLCAidHlwZSI6ICJ2ZXJ0ZXgiLCAicHJvcHMiOiB7InNpemUiOiAxNS40NTQ1NDU0NTQ1NDU0NTN9fQo=');</script>\n",
       "    "
      ],
      "text/plain": [
       "<IPython.core.display.HTML object>"
      ]
     },
     "metadata": {},
     "output_type": "display_data"
    },
    {
     "data": {
      "text/html": [
       "\n",
       "        <div id=\"eyvyHBouK33dd2MTPYGm6v\"></div>\n",
       "        <script>netpixi.call('eyvyHBouK33dd2MTPYGm6v', '7v8o9kC3EyFfMVTkmx2sZN', 'changeGraph', 'eyJpZCI6ICJXaGl0ZSBQYXJrIEJheSBTb2Z0d2FyZSIsICJ0eXBlIjogInZlcnRleCIsICJwcm9wcyI6IHsic2l6ZSI6IDE2LjUwNzE3NzAzMzQ5MjgyM319Cg==');</script>\n",
       "    "
      ],
      "text/plain": [
       "<IPython.core.display.HTML object>"
      ]
     },
     "metadata": {},
     "output_type": "display_data"
    },
    {
     "data": {
      "text/html": [
       "\n",
       "        <div id=\"QJ4pxcYmg8viXR3RNry72a\"></div>\n",
       "        <script>netpixi.call('QJ4pxcYmg8viXR3RNry72a', '7v8o9kC3EyFfMVTkmx2sZN', 'changeGraph', 'eyJpZCI6ICJFQSBHYW1lcyIsICJ0eXBlIjogInZlcnRleCIsICJwcm9wcyI6IHsic2l6ZSI6IDE0LjkyODIyOTY2NTA3MTc3fX0K');</script>\n",
       "    "
      ],
      "text/plain": [
       "<IPython.core.display.HTML object>"
      ]
     },
     "metadata": {},
     "output_type": "display_data"
    },
    {
     "data": {
      "text/html": [
       "\n",
       "        <div id=\"nPvT6mbanrcLKtPoSQMfMm\"></div>\n",
       "        <script>netpixi.call('nPvT6mbanrcLKtPoSQMfMm', '7v8o9kC3EyFfMVTkmx2sZN', 'changeGraph', 'eyJpZCI6ICJBY3F1aXJlIiwgInR5cGUiOiAidmVydGV4IiwgInByb3BzIjogeyJzaXplIjogMTUuMjYzMTU3ODk0NzM2ODQyfX0K');</script>\n",
       "    "
      ],
      "text/plain": [
       "<IPython.core.display.HTML object>"
      ]
     },
     "metadata": {},
     "output_type": "display_data"
    },
    {
     "data": {
      "text/html": [
       "\n",
       "        <div id=\"Km7FXyS8DmhgMNWLtQQtxL\"></div>\n",
       "        <script>netpixi.call('Km7FXyS8DmhgMNWLtQQtxL', '7v8o9kC3EyFfMVTkmx2sZN', 'changeGraph', 'eyJpZCI6ICJQYXJhZG94IEludGVyYWN0aXZlIiwgInR5cGUiOiAidmVydGV4IiwgInByb3BzIjogeyJzaXplIjogMTQuNDk3NjA3NjU1NTAyMzkyfX0K');</script>\n",
       "    "
      ],
      "text/plain": [
       "<IPython.core.display.HTML object>"
      ]
     },
     "metadata": {},
     "output_type": "display_data"
    },
    {
     "data": {
      "text/html": [
       "\n",
       "        <div id=\"3SSxWr3rT4NGwV7wmgUMLh\"></div>\n",
       "        <script>netpixi.call('3SSxWr3rT4NGwV7wmgUMLh', '7v8o9kC3EyFfMVTkmx2sZN', 'changeGraph', 'eyJpZCI6ICJZYWNodCBDbHViIEdhbWVzIiwgInR5cGUiOiAidmVydGV4IiwgInByb3BzIjogeyJzaXplIjogMTQuODMyNTM1ODg1MTY3NDYzfX0K');</script>\n",
       "    "
      ],
      "text/plain": [
       "<IPython.core.display.HTML object>"
      ]
     },
     "metadata": {},
     "output_type": "display_data"
    },
    {
     "data": {
      "text/html": [
       "\n",
       "        <div id=\"TnLG5DXH2AVULmnBf93bxP\"></div>\n",
       "        <script>netpixi.call('TnLG5DXH2AVULmnBf93bxP', '7v8o9kC3EyFfMVTkmx2sZN', 'changeGraph', 'eyJpZCI6ICJTd2luZyEgRW50ZXJ0YWlubWVudCIsICJ0eXBlIjogInZlcnRleCIsICJwcm9wcyI6IHsic2l6ZSI6IDE5LjQyNTgzNzMyMDU3NDE2fX0K');</script>\n",
       "    "
      ],
      "text/plain": [
       "<IPython.core.display.HTML object>"
      ]
     },
     "metadata": {},
     "output_type": "display_data"
    },
    {
     "data": {
      "text/html": [
       "\n",
       "        <div id=\"RpkcLnZt8Noa8dyKEkKdnD\"></div>\n",
       "        <script>netpixi.call('RpkcLnZt8Noa8dyKEkKdnD', '7v8o9kC3EyFfMVTkmx2sZN', 'changeGraph', 'eyJpZCI6ICJIaXAgSW50ZXJhY3RpdmUiLCAidHlwZSI6ICJ2ZXJ0ZXgiLCAicHJvcHMiOiB7InNpemUiOiAxOS4wNDMwNjIyMDA5NTY5NH19Cg==');</script>\n",
       "    "
      ],
      "text/plain": [
       "<IPython.core.display.HTML object>"
      ]
     },
     "metadata": {},
     "output_type": "display_data"
    },
    {
     "data": {
      "text/html": [
       "\n",
       "        <div id=\"kksSdeFEQhQQFSvGnoHsDZ\"></div>\n",
       "        <script>netpixi.call('kksSdeFEQhQQFSvGnoHsDZ', '7v8o9kC3EyFfMVTkmx2sZN', 'changeGraph', 'eyJpZCI6ICJUcmlwd2lyZSBJbnRlcmFjdGl2ZSIsICJ0eXBlIjogInZlcnRleCIsICJwcm9wcyI6IHsic2l6ZSI6IDE0LjY0MTE0ODMyNTM1ODg1Mn19Cg==');</script>\n",
       "    "
      ],
      "text/plain": [
       "<IPython.core.display.HTML object>"
      ]
     },
     "metadata": {},
     "output_type": "display_data"
    },
    {
     "data": {
      "text/html": [
       "\n",
       "        <div id=\"nuN7jXKh7RDw4kkQFCTvQg\"></div>\n",
       "        <script>netpixi.call('nuN7jXKh7RDw4kkQFCTvQg', '7v8o9kC3EyFfMVTkmx2sZN', 'changeGraph', 'eyJpZCI6ICJFbnRlcmJyYWluIiwgInR5cGUiOiAidmVydGV4IiwgInByb3BzIjogeyJzaXplIjogMTcuMDgxMzM5NzEyOTE4NjZ9fQo=');</script>\n",
       "    "
      ],
      "text/plain": [
       "<IPython.core.display.HTML object>"
      ]
     },
     "metadata": {},
     "output_type": "display_data"
    },
    {
     "data": {
      "text/html": [
       "\n",
       "        <div id=\"YV7rTvkd5BJzkHHTYXzbke\"></div>\n",
       "        <script>netpixi.call('YV7rTvkd5BJzkHHTYXzbke', '7v8o9kC3EyFfMVTkmx2sZN', 'changeGraph', 'eyJpZCI6ICJIYXZhcyBJbnRlcmFjdGl2ZSIsICJ0eXBlIjogInZlcnRleCIsICJwcm9wcyI6IHsic2l6ZSI6IDEwLjA0Nzg0Njg4OTk1MjE1M319Cg==');</script>\n",
       "    "
      ],
      "text/plain": [
       "<IPython.core.display.HTML object>"
      ]
     },
     "metadata": {},
     "output_type": "display_data"
    },
    {
     "data": {
      "text/html": [
       "\n",
       "        <div id=\"8AiA2GtfGKLttcEAbJqksD\"></div>\n",
       "        <script>netpixi.call('8AiA2GtfGKLttcEAbJqksD', '7v8o9kC3EyFfMVTkmx2sZN', 'changeGraph', 'eyJpZCI6ICJTdGluZyIsICJ0eXBlIjogInZlcnRleCIsICJwcm9wcyI6IHsic2l6ZSI6IDQwLjU2NjAzNzczNTg0OTA2fX0K');</script>\n",
       "    "
      ],
      "text/plain": [
       "<IPython.core.display.HTML object>"
      ]
     },
     "metadata": {},
     "output_type": "display_data"
    },
    {
     "data": {
      "text/html": [
       "\n",
       "        <div id=\"6KywwpvC5dsL87EsG7SdLJ\"></div>\n",
       "        <script>netpixi.call('6KywwpvC5dsL87EsG7SdLJ', '7v8o9kC3EyFfMVTkmx2sZN', 'changeGraph', 'eyJpZCI6ICJJZGVhIEZhY3RvcnkiLCAidHlwZSI6ICJ2ZXJ0ZXgiLCAicHJvcHMiOiB7InNpemUiOiAxOS42MTcyMjQ4ODAzODI3NzV9fQo=');</script>\n",
       "    "
      ],
      "text/plain": [
       "<IPython.core.display.HTML object>"
      ]
     },
     "metadata": {},
     "output_type": "display_data"
    },
    {
     "data": {
      "text/html": [
       "\n",
       "        <div id=\"TKxdUdoBLKAGvSen5yzz4g\"></div>\n",
       "        <script>netpixi.call('TKxdUdoBLKAGvSen5yzz4g', '7v8o9kC3EyFfMVTkmx2sZN', 'changeGraph', 'eyJpZCI6ICJGdW5zdGEiLCAidHlwZSI6ICJ2ZXJ0ZXgiLCAicHJvcHMiOiB7InNpemUiOiAxNy40MTYyNjc5NDI1ODM3M319Cg==');</script>\n",
       "    "
      ],
      "text/plain": [
       "<IPython.core.display.HTML object>"
      ]
     },
     "metadata": {},
     "output_type": "display_data"
    },
    {
     "data": {
      "text/html": [
       "\n",
       "        <div id=\"fZ7StdXNzTXnjt6CLSvs4L\"></div>\n",
       "        <script>netpixi.call('fZ7StdXNzTXnjt6CLSvs4L', '7v8o9kC3EyFfMVTkmx2sZN', 'changeGraph', 'eyJpZCI6ICJUcnUgQmx1IEVudGVydGFpbm1lbnQiLCAidHlwZSI6ICJ2ZXJ0ZXgiLCAicHJvcHMiOiB7InNpemUiOiAxMy45MjM0NDQ5NzYwNzY1NTV9fQo=');</script>\n",
       "    "
      ],
      "text/plain": [
       "<IPython.core.display.HTML object>"
      ]
     },
     "metadata": {},
     "output_type": "display_data"
    },
    {
     "data": {
      "text/html": [
       "\n",
       "        <div id=\"YoPK8BHE4VDbWArQjMjewv\"></div>\n",
       "        <script>netpixi.call('YoPK8BHE4VDbWArQjMjewv', '7v8o9kC3EyFfMVTkmx2sZN', 'changeGraph', 'eyJpZCI6ICJNb3NzIiwgInR5cGUiOiAidmVydGV4IiwgInByb3BzIjogeyJzaXplIjogMTMuMzk3MTI5MTg2NjAyODcxfX0K');</script>\n",
       "    "
      ],
      "text/plain": [
       "<IPython.core.display.HTML object>"
      ]
     },
     "metadata": {},
     "output_type": "display_data"
    },
    {
     "data": {
      "text/html": [
       "\n",
       "        <div id=\"5swFydpJumJEjPKE2wsGu8\"></div>\n",
       "        <script>netpixi.call('5swFydpJumJEjPKE2wsGu8', '7v8o9kC3EyFfMVTkmx2sZN', 'changeGraph', 'eyJpZCI6ICJGcm9tIFNvZnR3YXJlIiwgInR5cGUiOiAidmVydGV4IiwgInByb3BzIjogeyJzaXplIjogNDQuNzE2OTgxMTMyMDc1NDc1fX0K');</script>\n",
       "    "
      ],
      "text/plain": [
       "<IPython.core.display.HTML object>"
      ]
     },
     "metadata": {},
     "output_type": "display_data"
    },
    {
     "data": {
      "text/html": [
       "\n",
       "        <div id=\"8aoMx9Z3RGP5geeb7Vr3Fe\"></div>\n",
       "        <script>netpixi.call('8aoMx9Z3RGP5geeb7Vr3Fe', '7v8o9kC3EyFfMVTkmx2sZN', 'changeGraph', 'eyJpZCI6ICJOREEgUHJvZHVjdGlvbnMiLCAidHlwZSI6ICJ2ZXJ0ZXgiLCAicHJvcHMiOiB7InNpemUiOiAxMy4zNDkyODIyOTY2NTA3MTd9fQo=');</script>\n",
       "    "
      ],
      "text/plain": [
       "<IPython.core.display.HTML object>"
      ]
     },
     "metadata": {},
     "output_type": "display_data"
    },
    {
     "data": {
      "text/html": [
       "\n",
       "        <div id=\"8MkkuDQ7jFGLHU8YrjaxRB\"></div>\n",
       "        <script>netpixi.call('8MkkuDQ7jFGLHU8YrjaxRB', '7v8o9kC3EyFfMVTkmx2sZN', 'changeGraph', 'eyJpZCI6ICJCaWdiZW4gSW50ZXJhY3RpdmUiLCAidHlwZSI6ICJ2ZXJ0ZXgiLCAicHJvcHMiOiB7InNpemUiOiAxNS4xNjc0NjQxMTQ4MzI1Mzd9fQo=');</script>\n",
       "    "
      ],
      "text/plain": [
       "<IPython.core.display.HTML object>"
      ]
     },
     "metadata": {},
     "output_type": "display_data"
    },
    {
     "data": {
      "text/html": [
       "\n",
       "        <div id=\"GUKnD8miiDWAku8PCaMgNZ\"></div>\n",
       "        <script>netpixi.call('GUKnD8miiDWAku8PCaMgNZ', '7v8o9kC3EyFfMVTkmx2sZN', 'changeGraph', 'eyJpZCI6ICJJZGVhIEZhY3RvcnkgSW50ZXJuYXRpb25hbCIsICJ0eXBlIjogInZlcnRleCIsICJwcm9wcyI6IHsic2l6ZSI6IDEyLjkxODY2MDI4NzA4MTM0fX0K');</script>\n",
       "    "
      ],
      "text/plain": [
       "<IPython.core.display.HTML object>"
      ]
     },
     "metadata": {},
     "output_type": "display_data"
    },
    {
     "data": {
      "text/html": [
       "\n",
       "        <div id=\"PpnNYrMx45pBZEspmmp75r\"></div>\n",
       "        <script>netpixi.call('PpnNYrMx45pBZEspmmp75r', '7v8o9kC3EyFfMVTkmx2sZN', 'changeGraph', 'eyJpZCI6ICJPLUdhbWVzIiwgInR5cGUiOiAidmVydGV4IiwgInByb3BzIjogeyJzaXplIjogMTQuMjEwNTI2MzE1Nzg5NDczfX0K');</script>\n",
       "    "
      ],
      "text/plain": [
       "<IPython.core.display.HTML object>"
      ]
     },
     "metadata": {},
     "output_type": "display_data"
    },
    {
     "data": {
      "text/html": [
       "\n",
       "        <div id=\"6asxuQqt4acBkyeJ6UsPHo\"></div>\n",
       "        <script>netpixi.call('6asxuQqt4acBkyeJ6UsPHo', '7v8o9kC3EyFfMVTkmx2sZN', 'changeGraph', 'eyJpZCI6ICJGdW5ib3ggTWVkaWEiLCAidHlwZSI6ICJ2ZXJ0ZXgiLCAicHJvcHMiOiB7InNpemUiOiAxMS4zODc1NTk4MDg2MTI0NH19Cg==');</script>\n",
       "    "
      ],
      "text/plain": [
       "<IPython.core.display.HTML object>"
      ]
     },
     "metadata": {},
     "output_type": "display_data"
    },
    {
     "data": {
      "text/html": [
       "\n",
       "        <div id=\"fPs8T37AhfLrG7u8xAxaTN\"></div>\n",
       "        <script>netpixi.call('fPs8T37AhfLrG7u8xAxaTN', '7v8o9kC3EyFfMVTkmx2sZN', 'changeGraph', 'eyJpZCI6ICJWYWxjb24gR2FtZXMiLCAidHlwZSI6ICJ2ZXJ0ZXgiLCAicHJvcHMiOiB7InNpemUiOiAxNi4xNzIyNDg4MDM4Mjc3NX19Cg==');</script>\n",
       "    "
      ],
      "text/plain": [
       "<IPython.core.display.HTML object>"
      ]
     },
     "metadata": {},
     "output_type": "display_data"
    },
    {
     "data": {
      "text/html": [
       "\n",
       "        <div id=\"aYBARFewJxnH6mPCXBJio2\"></div>\n",
       "        <script>netpixi.call('aYBARFewJxnH6mPCXBJio2', '7v8o9kC3EyFfMVTkmx2sZN', 'changeGraph', 'eyJpZCI6ICJQTSBTdHVkaW9zIiwgInR5cGUiOiAidmVydGV4IiwgInByb3BzIjogeyJzaXplIjogMTIuODcwODEzMzk3MTI5MTg2fX0K');</script>\n",
       "    "
      ],
      "text/plain": [
       "<IPython.core.display.HTML object>"
      ]
     },
     "metadata": {},
     "output_type": "display_data"
    },
    {
     "data": {
      "text/html": [
       "\n",
       "        <div id=\"DiBJJD7J7EBEK5FQMdgci9\"></div>\n",
       "        <script>netpixi.call('DiBJJD7J7EBEK5FQMdgci9', '7v8o9kC3EyFfMVTkmx2sZN', 'changeGraph', 'eyJpZCI6ICJCb2hlbWlhIEludGVyYWN0aXZlIiwgInR5cGUiOiAidmVydGV4IiwgInByb3BzIjogeyJzaXplIjogMTEuMDA0Nzg0Njg4OTk1MjE1fX0K');</script>\n",
       "    "
      ],
      "text/plain": [
       "<IPython.core.display.HTML object>"
      ]
     },
     "metadata": {},
     "output_type": "display_data"
    },
    {
     "data": {
      "text/html": [
       "\n",
       "        <div id=\"JQCXFxzXEMQxeVtmfsrNfC\"></div>\n",
       "        <script>netpixi.call('JQCXFxzXEMQxeVtmfsrNfC', '7v8o9kC3EyFfMVTkmx2sZN', 'changeGraph', 'eyJpZCI6ICJBcXVhIFBsdXMiLCAidHlwZSI6ICJ2ZXJ0ZXgiLCAicHJvcHMiOiB7InNpemUiOiAxNS42OTM3Nzk5MDQzMDYyMn19Cg==');</script>\n",
       "    "
      ],
      "text/plain": [
       "<IPython.core.display.HTML object>"
      ]
     },
     "metadata": {},
     "output_type": "display_data"
    },
    {
     "data": {
      "text/html": [
       "\n",
       "        <div id=\"o9qgrVbNGyD4YEKqpUThsV\"></div>\n",
       "        <script>netpixi.call('o9qgrVbNGyD4YEKqpUThsV', '7v8o9kC3EyFfMVTkmx2sZN', 'changeGraph', 'eyJpZCI6ICJBY2trc3R1ZGlvcyIsICJ0eXBlIjogInZlcnRleCIsICJwcm9wcyI6IHsic2l6ZSI6IDEyLjA1NzQxNjI2Nzk0MjU4NH19Cg==');</script>\n",
       "    "
      ],
      "text/plain": [
       "<IPython.core.display.HTML object>"
      ]
     },
     "metadata": {},
     "output_type": "display_data"
    },
    {
     "data": {
      "text/html": [
       "\n",
       "        <div id=\"Wwuo3sa6YSx2fhbCdDSFdg\"></div>\n",
       "        <script>netpixi.call('Wwuo3sa6YSx2fhbCdDSFdg', '7v8o9kC3EyFfMVTkmx2sZN', 'changeGraph', 'eyJpZCI6ICJITUggSW50ZXJhY3RpdmUiLCAidHlwZSI6ICJ2ZXJ0ZXgiLCAicHJvcHMiOiB7InNpemUiOiAxMy40OTI4MjI5NjY1MDcxNzd9fQo=');</script>\n",
       "    "
      ],
      "text/plain": [
       "<IPython.core.display.HTML object>"
      ]
     },
     "metadata": {},
     "output_type": "display_data"
    },
    {
     "data": {
      "text/html": [
       "\n",
       "        <div id=\"eLsSz7NbpKTXDo7zsVkkVY\"></div>\n",
       "        <script>netpixi.call('eLsSz7NbpKTXDo7zsVkkVY', '7v8o9kC3EyFfMVTkmx2sZN', 'changeGraph', 'eyJpZCI6ICJpblhpbGUgRW50ZXJ0YWlubWVudCIsICJ0eXBlIjogInZlcnRleCIsICJwcm9wcyI6IHsic2l6ZSI6IDEyLjY3OTQyNTgzNzMyMDU3NH19Cg==');</script>\n",
       "    "
      ],
      "text/plain": [
       "<IPython.core.display.HTML object>"
      ]
     },
     "metadata": {},
     "output_type": "display_data"
    },
    {
     "data": {
      "text/html": [
       "\n",
       "        <div id=\"VFnqm2d4aNA4LbFrKpZpqT\"></div>\n",
       "        <script>netpixi.call('VFnqm2d4aNA4LbFrKpZpqT', '7v8o9kC3EyFfMVTkmx2sZN', 'changeGraph', 'eyJpZCI6ICJDYXZlIiwgInR5cGUiOiAidmVydGV4IiwgInByb3BzIjogeyJzaXplIjogMTUuMzU4ODUxNjc0NjQxMTQ4fX0K');</script>\n",
       "    "
      ],
      "text/plain": [
       "<IPython.core.display.HTML object>"
      ]
     },
     "metadata": {},
     "output_type": "display_data"
    },
    {
     "data": {
      "text/html": [
       "\n",
       "        <div id=\"5P2iPxGWex3qHq2sqVvR6T\"></div>\n",
       "        <script>netpixi.call('5P2iPxGWex3qHq2sqVvR6T', '7v8o9kC3EyFfMVTkmx2sZN', 'changeGraph', 'eyJpZCI6ICJNaWNyb2lkcyIsICJ0eXBlIjogInZlcnRleCIsICJwcm9wcyI6IHsic2l6ZSI6IDQxLjUwOTQzMzk2MjI2NDE1NH19Cg==');</script>\n",
       "    "
      ],
      "text/plain": [
       "<IPython.core.display.HTML object>"
      ]
     },
     "metadata": {},
     "output_type": "display_data"
    },
    {
     "data": {
      "text/html": [
       "\n",
       "        <div id=\"iUkCzD8mLaE85oAh6eEXPp\"></div>\n",
       "        <script>netpixi.call('iUkCzD8mLaE85oAh6eEXPp', '7v8o9kC3EyFfMVTkmx2sZN', 'changeGraph', 'eyJpZCI6ICJQaGFudG9tIEVGWCIsICJ0eXBlIjogInZlcnRleCIsICJwcm9wcyI6IHsic2l6ZSI6IDE1LjU5ODA4NjEyNDQwMTkxM319Cg==');</script>\n",
       "    "
      ],
      "text/plain": [
       "<IPython.core.display.HTML object>"
      ]
     },
     "metadata": {},
     "output_type": "display_data"
    },
    {
     "data": {
      "text/html": [
       "\n",
       "        <div id=\"ZqVziLp2hZHXxCKfpHWune\"></div>\n",
       "        <script>netpixi.call('ZqVziLp2hZHXxCKfpHWune', '7v8o9kC3EyFfMVTkmx2sZN', 'changeGraph', 'eyJpZCI6ICJFdm9sdmVkIEdhbWVzIiwgInR5cGUiOiAidmVydGV4IiwgInByb3BzIjogeyJzaXplIjogMTkuNDczNjg0MjEwNTI2MzE1fX0K');</script>\n",
       "    "
      ],
      "text/plain": [
       "<IPython.core.display.HTML object>"
      ]
     },
     "metadata": {},
     "output_type": "display_data"
    },
    {
     "data": {
      "text/html": [
       "\n",
       "        <div id=\"WPfDLwBo4EHLUicdgxKi3t\"></div>\n",
       "        <script>netpixi.call('WPfDLwBo4EHLUicdgxKi3t', '7v8o9kC3EyFfMVTkmx2sZN', 'changeGraph', 'eyJpZCI6ICJPMyBFbnRlcnRhaW5tZW50IiwgInR5cGUiOiAidmVydGV4IiwgInByb3BzIjogeyJzaXplIjogMTMuNTQwNjY5ODU2NDU5MzN9fQo=');</script>\n",
       "    "
      ],
      "text/plain": [
       "<IPython.core.display.HTML object>"
      ]
     },
     "metadata": {},
     "output_type": "display_data"
    },
    {
     "data": {
      "text/html": [
       "\n",
       "        <div id=\"XweAdsqaSwyyavKRFU5Kht\"></div>\n",
       "        <script>netpixi.call('XweAdsqaSwyyavKRFU5Kht', '7v8o9kC3EyFfMVTkmx2sZN', 'changeGraph', 'eyJpZCI6ICJBc3B5ciIsICJ0eXBlIjogInZlcnRleCIsICJwcm9wcyI6IHsic2l6ZSI6IDE1Ljc0MTYyNjc5NDI1ODM3M319Cg==');</script>\n",
       "    "
      ],
      "text/plain": [
       "<IPython.core.display.HTML object>"
      ]
     },
     "metadata": {},
     "output_type": "display_data"
    },
    {
     "data": {
      "text/html": [
       "\n",
       "        <div id=\"3A5aa5xbegiE2pi3sUxf57\"></div>\n",
       "        <script>netpixi.call('3A5aa5xbegiE2pi3sUxf57', '7v8o9kC3EyFfMVTkmx2sZN', 'changeGraph', 'eyJpZCI6ICJOb2JpbGlzIiwgInR5cGUiOiAidmVydGV4IiwgInByb3BzIjogeyJzaXplIjogMTYuNjUwNzE3NzAzMzQ5MjgzfX0K');</script>\n",
       "    "
      ],
      "text/plain": [
       "<IPython.core.display.HTML object>"
      ]
     },
     "metadata": {},
     "output_type": "display_data"
    },
    {
     "data": {
      "text/html": [
       "\n",
       "        <div id=\"MhS8S85T9GHXpMXJBzrZUW\"></div>\n",
       "        <script>netpixi.call('MhS8S85T9GHXpMXJBzrZUW', '7v8o9kC3EyFfMVTkmx2sZN', 'changeGraph', 'eyJpZCI6ICJTdW5zb2Z0IiwgInR5cGUiOiAidmVydGV4IiwgInByb3BzIjogeyJzaXplIjogMTEuNDM1NDA2Njk4NTY0NTkzfX0K');</script>\n",
       "    "
      ],
      "text/plain": [
       "<IPython.core.display.HTML object>"
      ]
     },
     "metadata": {},
     "output_type": "display_data"
    },
    {
     "data": {
      "text/html": [
       "\n",
       "        <div id=\"KNuuoD4FWWNAjjEhiktsdP\"></div>\n",
       "        <script>netpixi.call('KNuuoD4FWWNAjjEhiktsdP', '7v8o9kC3EyFfMVTkmx2sZN', 'changeGraph', 'eyJpZCI6ICJEU0kgR2FtZXMiLCAidHlwZSI6ICJ2ZXJ0ZXgiLCAicHJvcHMiOiB7InNpemUiOiAxNi45ODU2NDU5MzMwMTQzNTR9fQo=');</script>\n",
       "    "
      ],
      "text/plain": [
       "<IPython.core.display.HTML object>"
      ]
     },
     "metadata": {},
     "output_type": "display_data"
    },
    {
     "data": {
      "text/html": [
       "\n",
       "        <div id=\"HwjuT4LAPRSXhjM3cJacro\"></div>\n",
       "        <script>netpixi.call('HwjuT4LAPRSXhjM3cJacro', '7v8o9kC3EyFfMVTkmx2sZN', 'changeGraph', 'eyJpZCI6ICJMaXR0bGUgT3JiaXQiLCAidHlwZSI6ICJ2ZXJ0ZXgiLCAicHJvcHMiOiB7InNpemUiOiAxMi42MzE1Nzg5NDczNjg0MjF9fQo=');</script>\n",
       "    "
      ],
      "text/plain": [
       "<IPython.core.display.HTML object>"
      ]
     },
     "metadata": {},
     "output_type": "display_data"
    },
    {
     "data": {
      "text/html": [
       "\n",
       "        <div id=\"9G4REeg5eyHj9mk2X5QnXg\"></div>\n",
       "        <script>netpixi.call('9G4REeg5eyHj9mk2X5QnXg', '7v8o9kC3EyFfMVTkmx2sZN', 'changeGraph', 'eyJpZCI6ICJUZWxlZ2FtZXMiLCAidHlwZSI6ICJ2ZXJ0ZXgiLCAicHJvcHMiOiB7InNpemUiOiAxMy4wMTQzNTQwNjY5ODU2NDZ9fQo=');</script>\n",
       "    "
      ],
      "text/plain": [
       "<IPython.core.display.HTML object>"
      ]
     },
     "metadata": {},
     "output_type": "display_data"
    },
    {
     "data": {
      "text/html": [
       "\n",
       "        <div id=\"M8tpSAQM9bZG8NFMU5hjZA\"></div>\n",
       "        <script>netpixi.call('M8tpSAQM9bZG8NFMU5hjZA', '7v8o9kC3EyFfMVTkmx2sZN', 'changeGraph', 'eyJpZCI6ICJUaGUgQWR2ZW50dXJlIENvbXBhbnkiLCAidHlwZSI6ICJ2ZXJ0ZXgiLCAicHJvcHMiOiB7InNpemUiOiAxNC43MzY4NDIxMDUyNjMxNTh9fQo=');</script>\n",
       "    "
      ],
      "text/plain": [
       "<IPython.core.display.HTML object>"
      ]
     },
     "metadata": {},
     "output_type": "display_data"
    },
    {
     "data": {
      "text/html": [
       "\n",
       "        <div id=\"4yuhzkpBoCYL53WwbCkoor\"></div>\n",
       "        <script>netpixi.call('4yuhzkpBoCYL53WwbCkoor', '7v8o9kC3EyFfMVTkmx2sZN', 'changeGraph', 'eyJpZCI6ICJQb3Bjb3JuIEFyY2FkZSIsICJ0eXBlIjogInZlcnRleCIsICJwcm9wcyI6IHsic2l6ZSI6IDE0LjExNDgzMjUzNTg4NTE2N319Cg==');</script>\n",
       "    "
      ],
      "text/plain": [
       "<IPython.core.display.HTML object>"
      ]
     },
     "metadata": {},
     "output_type": "display_data"
    },
    {
     "data": {
      "text/html": [
       "\n",
       "        <div id=\"ShLS8d94fRMjZ7kPEq6iap\"></div>\n",
       "        <script>netpixi.call('ShLS8d94fRMjZ7kPEq6iap', '7v8o9kC3EyFfMVTkmx2sZN', 'changeGraph', 'eyJpZCI6ICJJbnNvbW5pYWMgR2FtZXMiLCAidHlwZSI6ICJ2ZXJ0ZXgiLCAicHJvcHMiOiB7InNpemUiOiAxMi4xMDUyNjMxNTc4OTQ3MzZ9fQo=');</script>\n",
       "    "
      ],
      "text/plain": [
       "<IPython.core.display.HTML object>"
      ]
     },
     "metadata": {},
     "output_type": "display_data"
    },
    {
     "data": {
      "text/html": [
       "\n",
       "        <div id=\"BZm4L2muZjQcHiyGegFC5F\"></div>\n",
       "        <script>netpixi.call('BZm4L2muZjQcHiyGegFC5F', '7v8o9kC3EyFfMVTkmx2sZN', 'changeGraph', 'eyJpZCI6ICJBa3N5cyBHYW1lcyIsICJ0eXBlIjogInZlcnRleCIsICJwcm9wcyI6IHsic2l6ZSI6IDEyLjgyMjk2NjUwNzE3NzAzNH19Cg==');</script>\n",
       "    "
      ],
      "text/plain": [
       "<IPython.core.display.HTML object>"
      ]
     },
     "metadata": {},
     "output_type": "display_data"
    },
    {
     "data": {
      "text/html": [
       "\n",
       "        <div id=\"CjHkm82WMUH7dNsVRYYmU2\"></div>\n",
       "        <script>netpixi.call('CjHkm82WMUH7dNsVRYYmU2', '7v8o9kC3EyFfMVTkmx2sZN', 'changeGraph', 'eyJpZCI6ICJUYWl0byIsICJ0eXBlIjogInZlcnRleCIsICJwcm9wcyI6IHsic2l6ZSI6IDE5Ljg1NjQ1OTMzMDE0MzU0fX0K');</script>\n",
       "    "
      ],
      "text/plain": [
       "<IPython.core.display.HTML object>"
      ]
     },
     "metadata": {},
     "output_type": "display_data"
    },
    {
     "data": {
      "text/html": [
       "\n",
       "        <div id=\"2v3djwvwp2ATsvVy4JTZNN\"></div>\n",
       "        <script>netpixi.call('2v3djwvwp2ATsvVy4JTZNN', '7v8o9kC3EyFfMVTkmx2sZN', 'changeGraph', 'eyJpZCI6ICJSZWVmIEVudGVydGFpbm1lbnQiLCAidHlwZSI6ICJ2ZXJ0ZXgiLCAicHJvcHMiOiB7InNpemUiOiAxNC4wMTkxMzg3NTU5ODA4NjJ9fQo=');</script>\n",
       "    "
      ],
      "text/plain": [
       "<IPython.core.display.HTML object>"
      ]
     },
     "metadata": {},
     "output_type": "display_data"
    },
    {
     "data": {
      "text/html": [
       "\n",
       "        <div id=\"fTcw4TTvbBzHFyPoED3V5N\"></div>\n",
       "        <script>netpixi.call('fTcw4TTvbBzHFyPoED3V5N', '7v8o9kC3EyFfMVTkmx2sZN', 'changeGraph', 'eyJpZCI6ICJJcmVtIFNvZnR3YXJlIEVuZ2luZWVyaW5nIiwgInR5cGUiOiAidmVydGV4IiwgInByb3BzIjogeyJzaXplIjogMTMuMTEwMDQ3ODQ2ODg5OTUyfX0K');</script>\n",
       "    "
      ],
      "text/plain": [
       "<IPython.core.display.HTML object>"
      ]
     },
     "metadata": {},
     "output_type": "display_data"
    },
    {
     "data": {
      "text/html": [
       "\n",
       "        <div id=\"f7N69JuNwYUR5AsMLj7Q2i\"></div>\n",
       "        <script>netpixi.call('f7N69JuNwYUR5AsMLj7Q2i', '7v8o9kC3EyFfMVTkmx2sZN', 'changeGraph', 'eyJpZCI6ICJNeWVsaW4gTWVkaWEiLCAidHlwZSI6ICJ2ZXJ0ZXgiLCAicHJvcHMiOiB7InNpemUiOiAxNi42OTg1NjQ1OTMzMDE0MzR9fQo=');</script>\n",
       "    "
      ],
      "text/plain": [
       "<IPython.core.display.HTML object>"
      ]
     },
     "metadata": {},
     "output_type": "display_data"
    },
    {
     "data": {
      "text/html": [
       "\n",
       "        <div id=\"XcvF66F6Dw7wSnTwLrumy7\"></div>\n",
       "        <script>netpixi.call('XcvF66F6Dw7wSnTwLrumy7', '7v8o9kC3EyFfMVTkmx2sZN', 'changeGraph', 'eyJpZCI6ICJTdWNjZXNzIiwgInR5cGUiOiAidmVydGV4IiwgInByb3BzIjogeyJzaXplIjogMTcuOTQyNTgzNzMyMDU3NDE1fX0K');</script>\n",
       "    "
      ],
      "text/plain": [
       "<IPython.core.display.HTML object>"
      ]
     },
     "metadata": {},
     "output_type": "display_data"
    },
    {
     "data": {
      "text/html": [
       "\n",
       "        <div id=\"iAZwaDYPzxt3SiUDwmRDsP\"></div>\n",
       "        <script>netpixi.call('iAZwaDYPzxt3SiUDwmRDsP', '7v8o9kC3EyFfMVTkmx2sZN', 'changeGraph', 'eyJpZCI6ICJTTksiLCAidHlwZSI6ICJ2ZXJ0ZXgiLCAicHJvcHMiOiB7InNpemUiOiAxNS4yMTUzMTEwMDQ3ODQ2ODh9fQo=');</script>\n",
       "    "
      ],
      "text/plain": [
       "<IPython.core.display.HTML object>"
      ]
     },
     "metadata": {},
     "output_type": "display_data"
    },
    {
     "data": {
      "text/html": [
       "\n",
       "        <div id=\"g36Q9xvqc7r8HtJEbc5dkH\"></div>\n",
       "        <script>netpixi.call('g36Q9xvqc7r8HtJEbc5dkH', '7v8o9kC3EyFfMVTkmx2sZN', 'changeGraph', 'eyJpZCI6ICJBdmFsb24gSW50ZXJhY3RpdmUiLCAidHlwZSI6ICJ2ZXJ0ZXgiLCAicHJvcHMiOiB7InNpemUiOiAxNi44ODk5NTIxNTMxMTAwNX19Cg==');</script>\n",
       "    "
      ],
      "text/plain": [
       "<IPython.core.display.HTML object>"
      ]
     },
     "metadata": {},
     "output_type": "display_data"
    },
    {
     "data": {
      "text/html": [
       "\n",
       "        <div id=\"iXXZwiAvfGxrMmuRsKFu67\"></div>\n",
       "        <script>netpixi.call('iXXZwiAvfGxrMmuRsKFu67', '7v8o9kC3EyFfMVTkmx2sZN', 'changeGraph', 'eyJpZCI6ICJSZXZvbHV0aW9uIFNvZnR3YXJlIiwgInR5cGUiOiAidmVydGV4IiwgInByb3BzIjogeyJzaXplIjogMTIuNzI3MjcyNzI3MjcyNzI3fX0K');</script>\n",
       "    "
      ],
      "text/plain": [
       "<IPython.core.display.HTML object>"
      ]
     },
     "metadata": {},
     "output_type": "display_data"
    },
    {
     "data": {
      "text/html": [
       "\n",
       "        <div id=\"VB3TLKseVNgEjdbEQD6Yak\"></div>\n",
       "        <script>netpixi.call('VB3TLKseVNgEjdbEQD6Yak', '7v8o9kC3EyFfMVTkmx2sZN', 'changeGraph', 'eyJpZCI6ICJHYW1lY29jayIsICJ0eXBlIjogInZlcnRleCIsICJwcm9wcyI6IHsic2l6ZSI6IDE4LjAzODI3NzUxMTk2MTcyNH19Cg==');</script>\n",
       "    "
      ],
      "text/plain": [
       "<IPython.core.display.HTML object>"
      ]
     },
     "metadata": {},
     "output_type": "display_data"
    },
    {
     "data": {
      "text/html": [
       "\n",
       "        <div id=\"2szsN8fNtKU8y7UFR95LNH\"></div>\n",
       "        <script>netpixi.call('2szsN8fNtKU8y7UFR95LNH', '7v8o9kC3EyFfMVTkmx2sZN', 'changeGraph', 'eyJpZCI6ICJHcm9vdmUgR2FtZXMiLCAidHlwZSI6ICJ2ZXJ0ZXgiLCAicHJvcHMiOiB7InNpemUiOiAxMS45NjE3MjI0ODgwMzgyNzh9fQo=');</script>\n",
       "    "
      ],
      "text/plain": [
       "<IPython.core.display.HTML object>"
      ]
     },
     "metadata": {},
     "output_type": "display_data"
    },
    {
     "data": {
      "text/html": [
       "\n",
       "        <div id=\"DDUvUjhKnJrZutmkD4KJyn\"></div>\n",
       "        <script>netpixi.call('DDUvUjhKnJrZutmkD4KJyn', '7v8o9kC3EyFfMVTkmx2sZN', 'changeGraph', 'eyJpZCI6ICJIdWRzb24gRW50ZXJ0YWlubWVudCIsICJ0eXBlIjogInZlcnRleCIsICJwcm9wcyI6IHsic2l6ZSI6IDE0LjE2MjY3OTQyNTgzNzMyMn19Cg==');</script>\n",
       "    "
      ],
      "text/plain": [
       "<IPython.core.display.HTML object>"
      ]
     },
     "metadata": {},
     "output_type": "display_data"
    },
    {
     "data": {
      "text/html": [
       "\n",
       "        <div id=\"QafkWRx6GfpKxNFnLd3Edn\"></div>\n",
       "        <script>netpixi.call('QafkWRx6GfpKxNFnLd3Edn', '7v8o9kC3EyFfMVTkmx2sZN', 'changeGraph', 'eyJpZCI6ICJNZXJjdXJ5IEdhbWVzIiwgInR5cGUiOiAidmVydGV4IiwgInByb3BzIjogeyJzaXplIjogMTQuNDQ5NzYwNzY1NTUwMjR9fQo=');</script>\n",
       "    "
      ],
      "text/plain": [
       "<IPython.core.display.HTML object>"
      ]
     },
     "metadata": {},
     "output_type": "display_data"
    },
    {
     "data": {
      "text/html": [
       "\n",
       "        <div id=\"TcSJFrSbsgFvyjhJsx8ymq\"></div>\n",
       "        <script>netpixi.call('TcSJFrSbsgFvyjhJsx8ymq', '7v8o9kC3EyFfMVTkmx2sZN', 'changeGraph', 'eyJpZCI6ICJBc2Nhcm9uIEVudGVydGFpbm1lbnQgR21iSCIsICJ0eXBlIjogInZlcnRleCIsICJwcm9wcyI6IHsic2l6ZSI6IDExLjcyMjQ4ODAzODI3NzUxMX19Cg==');</script>\n",
       "    "
      ],
      "text/plain": [
       "<IPython.core.display.HTML object>"
      ]
     },
     "metadata": {},
     "output_type": "display_data"
    },
    {
     "data": {
      "text/html": [
       "\n",
       "        <div id=\"FDRdFZtHPJ2wZQng2A5GHk\"></div>\n",
       "        <script>netpixi.call('FDRdFZtHPJ2wZQng2A5GHk', '7v8o9kC3EyFfMVTkmx2sZN', 'changeGraph', 'eyJpZCI6ICJNYXN0aWZmIiwgInR5cGUiOiAidmVydGV4IiwgInByb3BzIjogeyJzaXplIjogMTguMjI5NjY1MDcxNzcwMzM0fX0K');</script>\n",
       "    "
      ],
      "text/plain": [
       "<IPython.core.display.HTML object>"
      ]
     },
     "metadata": {},
     "output_type": "display_data"
    },
    {
     "data": {
      "text/html": [
       "\n",
       "        <div id=\"Z9AmDdHkqLuSs7e84yx3aq\"></div>\n",
       "        <script>netpixi.call('Z9AmDdHkqLuSs7e84yx3aq', '7v8o9kC3EyFfMVTkmx2sZN', 'changeGraph', 'eyJpZCI6ICJEZXN0aW5hdGlvbiBTb2Z0d2FyZSwgSW5jIiwgInR5cGUiOiAidmVydGV4IiwgInByb3BzIjogeyJzaXplIjogMTMuODI3NzUxMTk2MTcyMjV9fQo=');</script>\n",
       "    "
      ],
      "text/plain": [
       "<IPython.core.display.HTML object>"
      ]
     },
     "metadata": {},
     "output_type": "display_data"
    },
    {
     "data": {
      "text/html": [
       "\n",
       "        <div id=\"iC6E6ZwaMU7dppjUEXTeiE\"></div>\n",
       "        <script>netpixi.call('iC6E6ZwaMU7dppjUEXTeiE', '7v8o9kC3EyFfMVTkmx2sZN', 'changeGraph', 'eyJpZCI6ICJHcmFmZml0aSIsICJ0eXBlIjogInZlcnRleCIsICJwcm9wcyI6IHsic2l6ZSI6IDEyLjI5NjY1MDcxNzcwMzM0OX19Cg==');</script>\n",
       "    "
      ],
      "text/plain": [
       "<IPython.core.display.HTML object>"
      ]
     },
     "metadata": {},
     "output_type": "display_data"
    },
    {
     "data": {
      "text/html": [
       "\n",
       "        <div id=\"QBYtERjLT3HRZLLGnuci2B\"></div>\n",
       "        <script>netpixi.call('QBYtERjLT3HRZLLGnuci2B', '7v8o9kC3EyFfMVTkmx2sZN', 'changeGraph', 'eyJpZCI6ICIxQyBDb21wYW55IiwgInR5cGUiOiAidmVydGV4IiwgInByb3BzIjogeyJzaXplIjogMTIuNzc1MTE5NjE3MjI0ODgxfX0K');</script>\n",
       "    "
      ],
      "text/plain": [
       "<IPython.core.display.HTML object>"
      ]
     },
     "metadata": {},
     "output_type": "display_data"
    },
    {
     "data": {
      "text/html": [
       "\n",
       "        <div id=\"gvUNXcGWx8ii4Fpozo2ksr\"></div>\n",
       "        <script>netpixi.call('gvUNXcGWx8ii4Fpozo2ksr', '7v8o9kC3EyFfMVTkmx2sZN', 'changeGraph', 'eyJpZCI6ICJQaGFudGFncmFtIiwgInR5cGUiOiAidmVydGV4IiwgInByb3BzIjogeyJzaXplIjogMTUuNTUwMjM5MjM0NDQ5NzZ9fQo=');</script>\n",
       "    "
      ],
      "text/plain": [
       "<IPython.core.display.HTML object>"
      ]
     },
     "metadata": {},
     "output_type": "display_data"
    },
    {
     "data": {
      "text/html": [
       "\n",
       "        <div id=\"JjewJwYkciu4qhy7amuBoV\"></div>\n",
       "        <script>netpixi.call('JjewJwYkciu4qhy7amuBoV', '7v8o9kC3EyFfMVTkmx2sZN', 'changeGraph', 'eyJpZCI6ICJEcmVhbUNhdGNoZXIgSW50ZXJhY3RpdmUiLCAidHlwZSI6ICJ2ZXJ0ZXgiLCAicHJvcHMiOiB7InNpemUiOiAxOC43MDgxMzM5NzEyOTE4NjV9fQo=');</script>\n",
       "    "
      ],
      "text/plain": [
       "<IPython.core.display.HTML object>"
      ]
     },
     "metadata": {},
     "output_type": "display_data"
    },
    {
     "data": {
      "text/html": [
       "\n",
       "        <div id=\"Uodms4nJsM5NvMn6GeUAPE\"></div>\n",
       "        <script>netpixi.call('Uodms4nJsM5NvMn6GeUAPE', '7v8o9kC3EyFfMVTkmx2sZN', 'changeGraph', 'eyJpZCI6ICJEdXNlbmJlcnJ5IE1hcnRpbiBSYWNpbmciLCAidHlwZSI6ICJ2ZXJ0ZXgiLCAicHJvcHMiOiB7InNpemUiOiAxNC42ODg5OTUyMTUzMTEwMDV9fQo=');</script>\n",
       "    "
      ],
      "text/plain": [
       "<IPython.core.display.HTML object>"
      ]
     },
     "metadata": {},
     "output_type": "display_data"
    },
    {
     "data": {
      "text/html": [
       "\n",
       "        <div id=\"SQzghJ8bmoeDEkSVdKpvqp\"></div>\n",
       "        <script>netpixi.call('SQzghJ8bmoeDEkSVdKpvqp', '7v8o9kC3EyFfMVTkmx2sZN', 'changeGraph', 'eyJpZCI6ICJOYXZhcnJlIENvcnAiLCAidHlwZSI6ICJ2ZXJ0ZXgiLCAicHJvcHMiOiB7InNpemUiOiAxNS40MDY2OTg1NjQ1OTMzfX0K');</script>\n",
       "    "
      ],
      "text/plain": [
       "<IPython.core.display.HTML object>"
      ]
     },
     "metadata": {},
     "output_type": "display_data"
    },
    {
     "data": {
      "text/html": [
       "\n",
       "        <div id=\"DmFBg4LF7LnU3QmH2rnzRx\"></div>\n",
       "        <script>netpixi.call('DmFBg4LF7LnU3QmH2rnzRx', '7v8o9kC3EyFfMVTkmx2sZN', 'changeGraph', 'eyJpZCI6ICJFU1AiLCAidHlwZSI6ICJ2ZXJ0ZXgiLCAicHJvcHMiOiB7InNpemUiOiAxMC42MjIwMDk1NjkzNzc5OX19Cg==');</script>\n",
       "    "
      ],
      "text/plain": [
       "<IPython.core.display.HTML object>"
      ]
     },
     "metadata": {},
     "output_type": "display_data"
    },
    {
     "data": {
      "text/html": [
       "\n",
       "        <div id=\"TdHmKLHmYBEdFMhMvcVFLP\"></div>\n",
       "        <script>netpixi.call('TdHmKLHmYBEdFMhMvcVFLP', '7v8o9kC3EyFfMVTkmx2sZN', 'changeGraph', 'eyJpZCI6ICJUZWFtMTcgU29mdHdhcmUiLCAidHlwZSI6ICJ2ZXJ0ZXgiLCAicHJvcHMiOiB7InNpemUiOiAxMy4yMDU3NDE2MjY3OTQyNTl9fQo=');</script>\n",
       "    "
      ],
      "text/plain": [
       "<IPython.core.display.HTML object>"
      ]
     },
     "metadata": {},
     "output_type": "display_data"
    },
    {
     "data": {
      "text/html": [
       "\n",
       "        <div id=\"fY2CWbjKBxifoP86u6k4xk\"></div>\n",
       "        <script>netpixi.call('fY2CWbjKBxifoP86u6k4xk', '7v8o9kC3EyFfMVTkmx2sZN', 'changeGraph', 'eyJpZCI6ICJNYXggRml2ZSIsICJ0eXBlIjogInZlcnRleCIsICJwcm9wcyI6IHsic2l6ZSI6IDEwLjcxNzcwMzM0OTI4MjI5Nn19Cg==');</script>\n",
       "    "
      ],
      "text/plain": [
       "<IPython.core.display.HTML object>"
      ]
     },
     "metadata": {},
     "output_type": "display_data"
    },
    {
     "data": {
      "text/html": [
       "\n",
       "        <div id=\"HXS6DkaHkzo4PpADHHRonu\"></div>\n",
       "        <script>netpixi.call('HXS6DkaHkzo4PpADHHRonu', '7v8o9kC3EyFfMVTkmx2sZN', 'changeGraph', 'eyJpZCI6ICJDb25zcGlyYWN5IEVudGVydGFpbm1lbnQiLCAidHlwZSI6ICJ2ZXJ0ZXgiLCAicHJvcHMiOiB7InNpemUiOiAxNy4xNzcwMzM0OTI4MjI5NjR9fQo=');</script>\n",
       "    "
      ],
      "text/plain": [
       "<IPython.core.display.HTML object>"
      ]
     },
     "metadata": {},
     "output_type": "display_data"
    },
    {
     "data": {
      "text/html": [
       "\n",
       "        <div id=\"ZgJtrVC6BkjrbHYax9ZnjD\"></div>\n",
       "        <script>netpixi.call('ZgJtrVC6BkjrbHYax9ZnjD', '7v8o9kC3EyFfMVTkmx2sZN', 'changeGraph', 'eyJpZCI6ICJNaWxlc3RvbmUgUy5yLmwiLCAidHlwZSI6ICJ2ZXJ0ZXgiLCAicHJvcHMiOiB7InNpemUiOiAxMy40NDQ5NzYwNzY1NTUwMjR9fQo=');</script>\n",
       "    "
      ],
      "text/plain": [
       "<IPython.core.display.HTML object>"
      ]
     },
     "metadata": {},
     "output_type": "display_data"
    },
    {
     "data": {
      "text/html": [
       "\n",
       "        <div id=\"UV3KfBQfbx5XCSZbFRXyXw\"></div>\n",
       "        <script>netpixi.call('UV3KfBQfbx5XCSZbFRXyXw', '7v8o9kC3EyFfMVTkmx2sZN', 'changeGraph', 'eyJpZCI6ICJSZWJlbGxpb24gRGV2ZWxvcG1lbnRzIiwgInR5cGUiOiAidmVydGV4IiwgInByb3BzIjogeyJzaXplIjogMTQuNTQ1NDU0NTQ1NDU0NTQ1fX0K');</script>\n",
       "    "
      ],
      "text/plain": [
       "<IPython.core.display.HTML object>"
      ]
     },
     "metadata": {},
     "output_type": "display_data"
    },
    {
     "data": {
      "text/html": [
       "\n",
       "        <div id=\"fsPoVvZA3QLAcMLBFgrzbZ\"></div>\n",
       "        <script>netpixi.call('fsPoVvZA3QLAcMLBFgrzbZ', '7v8o9kC3EyFfMVTkmx2sZN', 'changeGraph', 'eyJpZCI6ICJLb29sIEtpenoiLCAidHlwZSI6ICJ2ZXJ0ZXgiLCAicHJvcHMiOiB7InNpemUiOiAxNS43ODk0NzM2ODQyMTA1Mjd9fQo=');</script>\n",
       "    "
      ],
      "text/plain": [
       "<IPython.core.display.HTML object>"
      ]
     },
     "metadata": {},
     "output_type": "display_data"
    },
    {
     "data": {
      "text/html": [
       "\n",
       "        <div id=\"eJjnmNzotTxYyT5aE7sRvN\"></div>\n",
       "        <script>netpixi.call('eJjnmNzotTxYyT5aE7sRvN', '7v8o9kC3EyFfMVTkmx2sZN', 'changeGraph', 'eyJpZCI6ICJNb250ZSBDaHJpc3RvIE11bHRpbWVkaWEiLCAidHlwZSI6ICJ2ZXJ0ZXgiLCAicHJvcHMiOiB7InNpemUiOiAxMS42NzQ2NDExNDgzMjUzNTh9fQo=');</script>\n",
       "    "
      ],
      "text/plain": [
       "<IPython.core.display.HTML object>"
      ]
     },
     "metadata": {},
     "output_type": "display_data"
    },
    {
     "data": {
      "text/html": [
       "\n",
       "        <div id=\"VJFhQ7RcwKJMTriW4haRfd\"></div>\n",
       "        <script>netpixi.call('VJFhQ7RcwKJMTriW4haRfd', '7v8o9kC3EyFfMVTkmx2sZN', 'changeGraph', 'eyJpZCI6ICI1cGIiLCAidHlwZSI6ICJ2ZXJ0ZXgiLCAicHJvcHMiOiB7InNpemUiOiAxMS4yOTE4NjYwMjg3MDgxMzN9fQo=');</script>\n",
       "    "
      ],
      "text/plain": [
       "<IPython.core.display.HTML object>"
      ]
     },
     "metadata": {},
     "output_type": "display_data"
    },
    {
     "data": {
      "text/html": [
       "\n",
       "        <div id=\"HSRwe9uNARhdZGLE9WpSbF\"></div>\n",
       "        <script>netpixi.call('HSRwe9uNARhdZGLE9WpSbF', '7v8o9kC3EyFfMVTkmx2sZN', 'changeGraph', 'eyJpZCI6ICJDbG91ZCBJbXBlcml1bSBHYW1lcyBDb3Jwb3JhdGlvbiIsICJ0eXBlIjogInZlcnRleCIsICJwcm9wcyI6IHsic2l6ZSI6IDE3LjEyOTE4NjYwMjg3MDgxNH19Cg==');</script>\n",
       "    "
      ],
      "text/plain": [
       "<IPython.core.display.HTML object>"
      ]
     },
     "metadata": {},
     "output_type": "display_data"
    },
    {
     "data": {
      "text/html": [
       "\n",
       "        <div id=\"PiWrdfPSckH4jamgEbCPEY\"></div>\n",
       "        <script>netpixi.call('PiWrdfPSckH4jamgEbCPEY', '7v8o9kC3EyFfMVTkmx2sZN', 'changeGraph', 'eyJpZCI6ICJGbGFzaHBvaW50IEdhbWVzIiwgInR5cGUiOiAidmVydGV4IiwgInByb3BzIjogeyJzaXplIjogMTQuMjU4MzczMjA1NzQxNjI3fX0K');</script>\n",
       "    "
      ],
      "text/plain": [
       "<IPython.core.display.HTML object>"
      ]
     },
     "metadata": {},
     "output_type": "display_data"
    },
    {
     "data": {
      "text/html": [
       "\n",
       "        <div id=\"U7Yw4vm5qTpdzUk5k8Y74K\"></div>\n",
       "        <script>netpixi.call('U7Yw4vm5qTpdzUk5k8Y74K', '7v8o9kC3EyFfMVTkmx2sZN', 'changeGraph', 'eyJpZCI6ICJBbHRlcm5hdGl2ZSBTb2Z0d2FyZSIsICJ0eXBlIjogInZlcnRleCIsICJwcm9wcyI6IHsic2l6ZSI6IDExLjQ4MzI1MzU4ODUxNjc0Nn19Cg==');</script>\n",
       "    "
      ],
      "text/plain": [
       "<IPython.core.display.HTML object>"
      ]
     },
     "metadata": {},
     "output_type": "display_data"
    },
    {
     "data": {
      "text/html": [
       "\n",
       "        <div id=\"LkVSzsyXaAQiZ7QBxxBKMr\"></div>\n",
       "        <script>netpixi.call('LkVSzsyXaAQiZ7QBxxBKMr', '7v8o9kC3EyFfMVTkmx2sZN', 'changeGraph', 'eyJpZCI6ICJESE0gSW50ZXJhY3RpdmUiLCAidHlwZSI6ICJ2ZXJ0ZXgiLCAicHJvcHMiOiB7InNpemUiOiAxNC4wNjY5ODU2NDU5MzMwMTN9fQo=');</script>\n",
       "    "
      ],
      "text/plain": [
       "<IPython.core.display.HTML object>"
      ]
     },
     "metadata": {},
     "output_type": "display_data"
    },
    {
     "data": {
      "text/html": [
       "\n",
       "        <div id=\"QB3n7khYaCab5Vd9YdSpBc\"></div>\n",
       "        <script>netpixi.call('QB3n7khYaCab5Vd9YdSpBc', '7v8o9kC3EyFfMVTkmx2sZN', 'changeGraph', 'eyJpZCI6ICJJY2ViZXJnIEludGVyYWN0aXZlIiwgInR5cGUiOiAidmVydGV4IiwgInByb3BzIjogeyJzaXplIjogMTMuNzMyMDU3NDE2MjY3OTQyfX0K');</script>\n",
       "    "
      ],
      "text/plain": [
       "<IPython.core.display.HTML object>"
      ]
     },
     "metadata": {},
     "output_type": "display_data"
    },
    {
     "data": {
      "text/html": [
       "\n",
       "        <div id=\"H2Tb6uQ9J7SKYHSdiM5zid\"></div>\n",
       "        <script>netpixi.call('H2Tb6uQ9J7SKYHSdiM5zid', '7v8o9kC3EyFfMVTkmx2sZN', 'changeGraph', 'eyJpZCI6ICJNQzIgRW50ZXJ0YWlubWVudCIsICJ0eXBlIjogInZlcnRleCIsICJwcm9wcyI6IHsic2l6ZSI6IDE2LjEyNDQwMTkxMzg3NTU5OH19Cg==');</script>\n",
       "    "
      ],
      "text/plain": [
       "<IPython.core.display.HTML object>"
      ]
     },
     "metadata": {},
     "output_type": "display_data"
    },
    {
     "data": {
      "text/html": [
       "\n",
       "        <div id=\"X29nVKBmxiZXAF2pk2LweG\"></div>\n",
       "        <script>netpixi.call('X29nVKBmxiZXAF2pk2LweG', '7v8o9kC3EyFfMVTkmx2sZN', 'changeGraph', 'eyJpZCI6ICIyRCBCb3kiLCAidHlwZSI6ICJ2ZXJ0ZXgiLCAicHJvcHMiOiB7InNpemUiOiAxMS45MTM4NzU1OTgwODYxMjR9fQo=');</script>\n",
       "    "
      ],
      "text/plain": [
       "<IPython.core.display.HTML object>"
      ]
     },
     "metadata": {},
     "output_type": "display_data"
    },
    {
     "data": {
      "text/html": [
       "\n",
       "        <div id=\"ArMhADTE8eoV2PA9eKsMtn\"></div>\n",
       "        <script>netpixi.call('ArMhADTE8eoV2PA9eKsMtn', '7v8o9kC3EyFfMVTkmx2sZN', 'changeGraph', 'eyJpZCI6ICJHZWFyYm94IFNvZnR3YXJlIiwgInR5cGUiOiAidmVydGV4IiwgInByb3BzIjogeyJzaXplIjogMTEuMzM5NzEyOTE4NjYwMjg4fX0K');</script>\n",
       "    "
      ],
      "text/plain": [
       "<IPython.core.display.HTML object>"
      ]
     },
     "metadata": {},
     "output_type": "display_data"
    },
    {
     "data": {
      "text/html": [
       "\n",
       "        <div id=\"3dU9twPuRBjXvtnHs9w8oK\"></div>\n",
       "        <script>netpixi.call('3dU9twPuRBjXvtnHs9w8oK', '7v8o9kC3EyFfMVTkmx2sZN', 'changeGraph', 'eyJpZCI6ICJHbG9iYWwgQSBFbnRlcnRhaW5tZW50IiwgInR5cGUiOiAidmVydGV4IiwgInByb3BzIjogeyJzaXplIjogMTMuODc1NTk4MDg2MTI0NDAyfX0K');</script>\n",
       "    "
      ],
      "text/plain": [
       "<IPython.core.display.HTML object>"
      ]
     },
     "metadata": {},
     "output_type": "display_data"
    },
    {
     "data": {
      "text/html": [
       "\n",
       "        <div id=\"7wPMvRSNDqmW3ZFDDjPkX6\"></div>\n",
       "        <script>netpixi.call('7wPMvRSNDqmW3ZFDDjPkX6', '7v8o9kC3EyFfMVTkmx2sZN', 'changeGraph', 'eyJpZCI6ICJKdXN0IEZsaWdodCIsICJ0eXBlIjogInZlcnRleCIsICJwcm9wcyI6IHsic2l6ZSI6IDE1LjA3MTc3MDMzNDkyODIzfX0K');</script>\n",
       "    "
      ],
      "text/plain": [
       "<IPython.core.display.HTML object>"
      ]
     },
     "metadata": {},
     "output_type": "display_data"
    },
    {
     "data": {
      "text/html": [
       "\n",
       "        <div id=\"ZuJ33Axru2Gz9pQ3aVaxbr\"></div>\n",
       "        <script>netpixi.call('ZuJ33Axru2Gz9pQ3aVaxbr', '7v8o9kC3EyFfMVTkmx2sZN', 'changeGraph', 'eyJpZCI6ICJiaXRDb21wb3NlciBHYW1lcyIsICJ0eXBlIjogInZlcnRleCIsICJwcm9wcyI6IHsic2l6ZSI6IDEyLjM0NDQ5NzYwNzY1NTUwMn19Cg==');</script>\n",
       "    "
      ],
      "text/plain": [
       "<IPython.core.display.HTML object>"
      ]
     },
     "metadata": {},
     "output_type": "display_data"
    },
    {
     "data": {
      "text/html": [
       "\n",
       "        <div id=\"LYuYcxb5C5iA42tTBDXGnc\"></div>\n",
       "        <script>netpixi.call('LYuYcxb5C5iA42tTBDXGnc', '7v8o9kC3EyFfMVTkmx2sZN', 'changeGraph', 'eyJpZCI6ICJJbnRyb3ZlcnNpb24gU29mdHdhcmUiLCAidHlwZSI6ICJ2ZXJ0ZXgiLCAicHJvcHMiOiB7InNpemUiOiAxMS41MzExMDA0Nzg0Njg5fX0K');</script>\n",
       "    "
      ],
      "text/plain": [
       "<IPython.core.display.HTML object>"
      ]
     },
     "metadata": {},
     "output_type": "display_data"
    },
    {
     "data": {
      "text/html": [
       "\n",
       "        <div id=\"3Y3XEx7KT8ygFDnd24bSQG\"></div>\n",
       "        <script>netpixi.call('3Y3XEx7KT8ygFDnd24bSQG', '7v8o9kC3EyFfMVTkmx2sZN', 'changeGraph', 'eyJpZCI6ICJTb2xkIE91dCIsICJ0eXBlIjogInZlcnRleCIsICJwcm9wcyI6IHsic2l6ZSI6IDEzLjE1Nzg5NDczNjg0MjEwNn19Cg==');</script>\n",
       "    "
      ],
      "text/plain": [
       "<IPython.core.display.HTML object>"
      ]
     },
     "metadata": {},
     "output_type": "display_data"
    },
    {
     "data": {
      "text/html": [
       "\n",
       "        <div id=\"dJJiCWpmCu6cKBLGhLwsTt\"></div>\n",
       "        <script>netpixi.call('dJJiCWpmCu6cKBLGhLwsTt', '7v8o9kC3EyFfMVTkmx2sZN', 'changeGraph', 'eyJpZCI6ICJTdW5mbG93ZXJzIiwgInR5cGUiOiAidmVydGV4IiwgInByb3BzIjogeyJzaXplIjogMTAuMjM5MjM0NDQ5NzYwNzY1fX0K');</script>\n",
       "    "
      ],
      "text/plain": [
       "<IPython.core.display.HTML object>"
      ]
     },
     "metadata": {},
     "output_type": "display_data"
    },
    {
     "data": {
      "text/html": [
       "\n",
       "        <div id=\"VE8QcmEtF7kcEM2vZ6DfZ4\"></div>\n",
       "        <script>netpixi.call('VE8QcmEtF7kcEM2vZ6DfZ4', '7v8o9kC3EyFfMVTkmx2sZN', 'changeGraph', 'eyJpZCI6ICJNYXhpcyIsICJ0eXBlIjogInZlcnRleCIsICJwcm9wcyI6IHsic2l6ZSI6IDEwLjB9fQo=');</script>\n",
       "    "
      ],
      "text/plain": [
       "<IPython.core.display.HTML object>"
      ]
     },
     "metadata": {},
     "output_type": "display_data"
    },
    {
     "data": {
      "text/html": [
       "\n",
       "        <div id=\"Y43WYD5Xk3nUQJyB9KqNVZ\"></div>\n",
       "        <script>netpixi.call('Y43WYD5Xk3nUQJyB9KqNVZ', '7v8o9kC3EyFfMVTkmx2sZN', 'changeGraph', 'eyJpZCI6ICJQaW5uYWNsZSIsICJ0eXBlIjogInZlcnRleCIsICJwcm9wcyI6IHsic2l6ZSI6IDExLjYyNjc5NDI1ODM3MzIwNn19Cg==');</script>\n",
       "    "
      ],
      "text/plain": [
       "<IPython.core.display.HTML object>"
      ]
     },
     "metadata": {},
     "output_type": "display_data"
    },
    {
     "data": {
      "text/html": [
       "\n",
       "        <div id=\"763F8db7gWuG2ZGvQ8ftjh\"></div>\n",
       "        <script>netpixi.call('763F8db7gWuG2ZGvQ8ftjh', '7v8o9kC3EyFfMVTkmx2sZN', 'changeGraph', 'eyJpZCI6ICJYaWNhdCBJbnRlcmFjdGl2ZSIsICJ0eXBlIjogInZlcnRleCIsICJwcm9wcyI6IHsic2l6ZSI6IDE0Ljg4MDM4Mjc3NTExOTYxN319Cg==');</script>\n",
       "    "
      ],
      "text/plain": [
       "<IPython.core.display.HTML object>"
      ]
     },
     "metadata": {},
     "output_type": "display_data"
    },
    {
     "data": {
      "text/html": [
       "\n",
       "        <div id=\"fKrcGJGsYx6SGLH4QUb7XH\"></div>\n",
       "        <script>netpixi.call('fKrcGJGsYx6SGLH4QUb7XH', '7v8o9kC3EyFfMVTkmx2sZN', 'changeGraph', 'eyJpZCI6ICJEZXZvbHZlciBEaWdpdGFsIiwgInR5cGUiOiAidmVydGV4IiwgInByb3BzIjogeyJzaXplIjogMTEuODY2MDI4NzA4MTMzOTcxfX0K');</script>\n",
       "    "
      ],
      "text/plain": [
       "<IPython.core.display.HTML object>"
      ]
     },
     "metadata": {},
     "output_type": "display_data"
    },
    {
     "data": {
      "text/html": [
       "\n",
       "        <div id=\"4cbvFXPCoHDmKWt3VaUa9e\"></div>\n",
       "        <script>netpixi.call('4cbvFXPCoHDmKWt3VaUa9e', '7v8o9kC3EyFfMVTkmx2sZN', 'changeGraph', 'eyJpZCI6ICJOdW1iZXIgTm9uZSIsICJ0eXBlIjogInZlcnRleCIsICJwcm9wcyI6IHsic2l6ZSI6IDE1LjUwMjM5MjM0NDQ5NzYwOH19Cg==');</script>\n",
       "    "
      ],
      "text/plain": [
       "<IPython.core.display.HTML object>"
      ]
     },
     "metadata": {},
     "output_type": "display_data"
    },
    {
     "data": {
      "text/html": [
       "\n",
       "        <div id=\"MbAKVLcxynELVShbLAnpk5\"></div>\n",
       "        <script>netpixi.call('MbAKVLcxynELVShbLAnpk5', '7v8o9kC3EyFfMVTkmx2sZN', 'changeGraph', 'eyJpZCI6ICJTdHJhdGVneSBGaXJzdCIsICJ0eXBlIjogInZlcnRleCIsICJwcm9wcyI6IHsic2l6ZSI6IDEwLjI4NzA4MTMzOTcxMjkxOH19Cg==');</script>\n",
       "    "
      ],
      "text/plain": [
       "<IPython.core.display.HTML object>"
      ]
     },
     "metadata": {},
     "output_type": "display_data"
    },
    {
     "data": {
      "text/html": [
       "\n",
       "        <div id=\"Gn8uoSscVjyGF3iNZ23mAh\"></div>\n",
       "        <script>netpixi.call('Gn8uoSscVjyGF3iNZ23mAh', '7v8o9kC3EyFfMVTkmx2sZN', 'changeGraph', 'eyJpZCI6ICJMZXhpY29uIEVudGVydGFpbm1lbnQiLCAidHlwZSI6ICJ2ZXJ0ZXgiLCAicHJvcHMiOiB7InNpemUiOiAxNy4zMjA1NzQxNjI2Nzk0MjR9fQo=');</script>\n",
       "    "
      ],
      "text/plain": [
       "<IPython.core.display.HTML object>"
      ]
     },
     "metadata": {},
     "output_type": "display_data"
    },
    {
     "data": {
      "text/html": [
       "\n",
       "        <div id=\"j87vivnhPjoTAsjiEfmfwp\"></div>\n",
       "        <script>netpixi.call('j87vivnhPjoTAsjiEfmfwp', '7v8o9kC3EyFfMVTkmx2sZN', 'changeGraph', 'eyJpZCI6ICJHT0EiLCAidHlwZSI6ICJ2ZXJ0ZXgiLCAicHJvcHMiOiB7InNpemUiOiAxMC43NjU1NTAyMzkyMzQ0NX19Cg==');</script>\n",
       "    "
      ],
      "text/plain": [
       "<IPython.core.display.HTML object>"
      ]
     },
     "metadata": {},
     "output_type": "display_data"
    },
    {
     "data": {
      "text/html": [
       "\n",
       "        <div id=\"F6YbQS6TxiWGCnEEjtDG8k\"></div>\n",
       "        <script>netpixi.call('F6YbQS6TxiWGCnEEjtDG8k', '7v8o9kC3EyFfMVTkmx2sZN', 'changeGraph', 'eyJpZCI6ICJBdmFucXVlc3QiLCAidHlwZSI6ICJ2ZXJ0ZXgiLCAicHJvcHMiOiB7InNpemUiOiAxMi40NDAxOTEzODc1NTk4MDl9fQo=');</script>\n",
       "    "
      ],
      "text/plain": [
       "<IPython.core.display.HTML object>"
      ]
     },
     "metadata": {},
     "output_type": "display_data"
    },
    {
     "data": {
      "text/html": [
       "\n",
       "        <div id=\"VayFhTL4Ez3tWfkfRq7aTL\"></div>\n",
       "        <script>netpixi.call('VayFhTL4Ez3tWfkfRq7aTL', '7v8o9kC3EyFfMVTkmx2sZN', 'changeGraph', 'eyJpZCI6ICJHcmFwaHNpbSBFbnRlcnRhaW5tZW50IiwgInR5cGUiOiAidmVydGV4IiwgInByb3BzIjogeyJzaXplIjogMTEuMjQ0MDE5MTM4NzU1OTh9fQo=');</script>\n",
       "    "
      ],
      "text/plain": [
       "<IPython.core.display.HTML object>"
      ]
     },
     "metadata": {},
     "output_type": "display_data"
    },
    {
     "data": {
      "text/html": [
       "\n",
       "        <div id=\"YtU5XCAufjhFYS2fKiudDb\"></div>\n",
       "        <script>netpixi.call('YtU5XCAufjhFYS2fKiudDb', '7v8o9kC3EyFfMVTkmx2sZN', 'changeGraph', 'eyJpZCI6ICJDb2RlbWFzdGVycyBPbmxpbmUiLCAidHlwZSI6ICJ2ZXJ0ZXgiLCAicHJvcHMiOiB7InNpemUiOiAxMS41Nzg5NDczNjg0MjEwNTN9fQo=');</script>\n",
       "    "
      ],
      "text/plain": [
       "<IPython.core.display.HTML object>"
      ]
     },
     "metadata": {},
     "output_type": "display_data"
    },
    {
     "data": {
      "text/html": [
       "\n",
       "        <div id=\"hkx3Tgc5YtJBwH9GbQjoeS\"></div>\n",
       "        <script>netpixi.call('hkx3Tgc5YtJBwH9GbQjoeS', '7v8o9kC3EyFfMVTkmx2sZN', 'changeGraph', 'eyJpZCI6ICJTdGFpbmxlc3MgR2FtZXMiLCAidHlwZSI6ICJ2ZXJ0ZXgiLCAicHJvcHMiOiB7InNpemUiOiAxMi4wMDk1NjkzNzc5OTA0MzF9fQo=');</script>\n",
       "    "
      ],
      "text/plain": [
       "<IPython.core.display.HTML object>"
      ]
     },
     "metadata": {},
     "output_type": "display_data"
    },
    {
     "data": {
      "text/html": [
       "\n",
       "        <div id=\"UrvxaNzNbBzBYaLny4nzKt\"></div>\n",
       "        <script>netpixi.call('UrvxaNzNbBzBYaLny4nzKt', '7v8o9kC3EyFfMVTkmx2sZN', 'changeGraph', 'eyJpZCI6ICIxMFRBQ0xFIFN0dWRpb3MiLCAidHlwZSI6ICJ2ZXJ0ZXgiLCAicHJvcHMiOiB7InNpemUiOiAxNy43NTExOTYxNzIyNDg4MDR9fQo=');</script>\n",
       "    "
      ],
      "text/plain": [
       "<IPython.core.display.HTML object>"
      ]
     },
     "metadata": {},
     "output_type": "display_data"
    },
    {
     "data": {
      "text/html": [
       "\n",
       "        <div id=\"DRLn5gY2nGnzusrdt5NSDh\"></div>\n",
       "        <script>netpixi.call('DRLn5gY2nGnzusrdt5NSDh', '7v8o9kC3EyFfMVTkmx2sZN', 'changeGraph', 'eyJpZCI6ICJGdVJ5dSBDb3Jwb3JhdGlvbiIsICJ0eXBlIjogInZlcnRleCIsICJwcm9wcyI6IHsic2l6ZSI6IDE0LjMwNjIyMDA5NTY5Mzc4fX0K');</script>\n",
       "    "
      ],
      "text/plain": [
       "<IPython.core.display.HTML object>"
      ]
     },
     "metadata": {},
     "output_type": "display_data"
    },
    {
     "data": {
      "text/html": [
       "\n",
       "        <div id=\"eYLNhWrhDPPXwFBUH9qSof\"></div>\n",
       "        <script>netpixi.call('eYLNhWrhDPPXwFBUH9qSof', '7v8o9kC3EyFfMVTkmx2sZN', 'changeGraph', 'eyJpZCI6ICJWaXNjbyIsICJ0eXBlIjogInZlcnRleCIsICJwcm9wcyI6IHsic2l6ZSI6IDE0LjQwMTkxMzg3NTU5ODA4N319Cg==');</script>\n",
       "    "
      ],
      "text/plain": [
       "<IPython.core.display.HTML object>"
      ]
     },
     "metadata": {},
     "output_type": "display_data"
    },
    {
     "data": {
      "text/html": [
       "\n",
       "        <div id=\"nzRCf5Qyhf946rd9M8kUx3\"></div>\n",
       "        <script>netpixi.call('nzRCf5Qyhf946rd9M8kUx3', '7v8o9kC3EyFfMVTkmx2sZN', 'changeGraph', 'eyJpZCI6ICJDcmltc29uIENvdyIsICJ0eXBlIjogInZlcnRleCIsICJwcm9wcyI6IHsic2l6ZSI6IDEyLjIwMDk1NjkzNzc5OTA0M319Cg==');</script>\n",
       "    "
      ],
      "text/plain": [
       "<IPython.core.display.HTML object>"
      ]
     },
     "metadata": {},
     "output_type": "display_data"
    },
    {
     "data": {
      "text/html": [
       "\n",
       "        <div id=\"BKCgdTopcznXHLrxp5nSHJ\"></div>\n",
       "        <script>netpixi.call('BKCgdTopcznXHLrxp5nSHJ', '7v8o9kC3EyFfMVTkmx2sZN', 'changeGraph', 'eyJpZCI6ICJMaWdodGhvdXNlIEludGVyYWN0aXZlIiwgInR5cGUiOiAidmVydGV4IiwgInByb3BzIjogeyJzaXplIjogMTMuNTg4NTE2NzQ2NDExNDgyfX0K');</script>\n",
       "    "
      ],
      "text/plain": [
       "<IPython.core.display.HTML object>"
      ]
     },
     "metadata": {},
     "output_type": "display_data"
    },
    {
     "data": {
      "text/html": [
       "\n",
       "        <div id=\"2kfPtuu2rupKbxfn8y4oyN\"></div>\n",
       "        <script>netpixi.call('2kfPtuu2rupKbxfn8y4oyN', '7v8o9kC3EyFfMVTkmx2sZN', 'changeGraph', 'eyJpZCI6ICJDRFYgU29mdHdhcmUgRW50ZXJ0YWlubWVudCIsICJ0eXBlIjogInZlcnRleCIsICJwcm9wcyI6IHsic2l6ZSI6IDExLjEwMDQ3ODQ2ODg5OTUyfX0K');</script>\n",
       "    "
      ],
      "text/plain": [
       "<IPython.core.display.HTML object>"
      ]
     },
     "metadata": {},
     "output_type": "display_data"
    },
    {
     "data": {
      "text/html": [
       "\n",
       "        <div id=\"Q9t8Y6JjBXTFfeDBQTkznh\"></div>\n",
       "        <script>netpixi.call('Q9t8Y6JjBXTFfeDBQTkznh', '7v8o9kC3EyFfMVTkmx2sZN', 'changeGraph', 'eyJpZCI6ICJFbmNvcmUiLCAidHlwZSI6ICJ2ZXJ0ZXgiLCAicHJvcHMiOiB7InNpemUiOiAxNS42NDU5MzMwMTQzNTQwNjh9fQo=');</script>\n",
       "    "
      ],
      "text/plain": [
       "<IPython.core.display.HTML object>"
      ]
     },
     "metadata": {},
     "output_type": "display_data"
    },
    {
     "data": {
      "text/html": [
       "\n",
       "        <div id=\"mpuqkzkh426oGEGLVezCYs\"></div>\n",
       "        <script>netpixi.call('mpuqkzkh426oGEGLVezCYs', '7v8o9kC3EyFfMVTkmx2sZN', 'changeGraph', 'eyJpZCI6ICJCbHVlIEJ5dGUiLCAidHlwZSI6ICJ2ZXJ0ZXgiLCAicHJvcHMiOiB7InNpemUiOiAxMS43NzAzMzQ5MjgyMjk2NjZ9fQo=');</script>\n",
       "    "
      ],
      "text/plain": [
       "<IPython.core.display.HTML object>"
      ]
     },
     "metadata": {},
     "output_type": "display_data"
    },
    {
     "data": {
      "text/html": [
       "\n",
       "        <div id=\"exhgCuMCbPMQdsB8HwV8fM\"></div>\n",
       "        <script>netpixi.call('exhgCuMCbPMQdsB8HwV8fM', '7v8o9kC3EyFfMVTkmx2sZN', 'changeGraph', 'eyJpZCI6ICJOZXdLaWRDbyIsICJ0eXBlIjogInZlcnRleCIsICJwcm9wcyI6IHsic2l6ZSI6IDEzLjY4NDIxMDUyNjMxNTc5fX0K');</script>\n",
       "    "
      ],
      "text/plain": [
       "<IPython.core.display.HTML object>"
      ]
     },
     "metadata": {},
     "output_type": "display_data"
    }
   ],
   "source": [
    "matrix = spectral.adjacency(g)\n",
    "\n",
    "# Além de cpnet.Rombach, há outras\n",
    "# opções de algoritmos contínuos:\n",
    "# cpnet.MINRES\n",
    "# cpnet.Rossa\n",
    "\n",
    "algorithm = cpnet.Rombach()\n",
    "algorithm.detect(matrix)\n",
    "c = algorithm.get_coreness()\n",
    "\n",
    "# Depois do código acima, c é um dicionário\n",
    "# em que as chaves são índices de vértices e\n",
    "# valores são os atribuídos pelo algoritmo.\n",
    "\n",
    "g.add_vp('coreness')\n",
    "for i, coreness in c.items():\n",
    "    v = g.get_vertex_by_index(i)\n",
    "    v['coreness'] = float(coreness)\n",
    "\n",
    "# Vamos usar coreness como referência para\n",
    "# o tamanho dos vértices. Estabelecemos 10\n",
    "# como o menor tamanho possível e 40 como\n",
    "# o maior tamanho possível. Como o coreness\n",
    "# está entre 0 e 1, a conta é bem simples.\n",
    "\n",
    "for v in g.all_vertices():\n",
    "    r.vertex(v['id'], size=(10 + 40 * v['coreness']))\n",
    "\n",
    "# Quando a execução desta célula terminar,\n",
    "# veja como ficou a visualização acima."
   ]
  },
  {
   "cell_type": "code",
   "execution_count": 64,
   "id": "6d72c4d5",
   "metadata": {},
   "outputs": [
    {
     "data": {
      "text/html": [
       "\n",
       "        <div id=\"VhCHo6KQ5JueuPhtSJxb8G\"></div>\n",
       "        <script>netpixi.call('VhCHo6KQ5JueuPhtSJxb8G', '7v8o9kC3EyFfMVTkmx2sZN', 'setGraph', 'eyJ0eXBlIjogInZlcnRleCIsICJwcm9wcyI6IHsic3JjIjogIlB1Ymxpc2hlciIsICJkc3QiOiAiX2tleSJ9fQo=');</script>\n",
       "    "
      ],
      "text/plain": [
       "<IPython.core.display.HTML object>"
      ]
     },
     "metadata": {},
     "output_type": "display_data"
    }
   ],
   "source": [
    "r.vertex_set_key('Publisher')"
   ]
  },
  {
   "cell_type": "code",
   "execution_count": null,
   "id": "d2c146e4",
   "metadata": {},
   "outputs": [],
   "source": []
  }
 ],
 "metadata": {
  "kernelspec": {
   "display_name": "Python 3 (ipykernel)",
   "language": "python",
   "name": "python3"
  },
  "language_info": {
   "codemirror_mode": {
    "name": "ipython",
    "version": 3
   },
   "file_extension": ".py",
   "mimetype": "text/x-python",
   "name": "python",
   "nbconvert_exporter": "python",
   "pygments_lexer": "ipython3",
   "version": "3.10.6"
  }
 },
 "nbformat": 4,
 "nbformat_minor": 5
}
