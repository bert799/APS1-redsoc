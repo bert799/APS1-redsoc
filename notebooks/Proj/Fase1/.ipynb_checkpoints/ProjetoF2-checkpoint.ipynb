{
 "cells": [
  {
   "cell_type": "code",
   "execution_count": 51,
   "id": "f12d3317",
   "metadata": {},
   "outputs": [],
   "source": [
    "# Importando bibliotecas necessárias para a construção de grafos\n",
    "import netpixi\n",
    "from netpixi.integration.gt import *\n",
    "import pandas as pd\n",
    "import numpy as np\n",
    "import csv\n",
    "import ast\n",
    "import cpnet\n",
    "from graph_tool import spectral"
   ]
  },
  {
   "cell_type": "code",
   "execution_count": 2,
   "id": "58d8e8de",
   "metadata": {},
   "outputs": [
    {
     "name": "stderr",
     "output_type": "stream",
     "text": [
      "<frozen importlib._bootstrap>:914: ImportWarning: VendorImporter.find_spec() not found; falling back to find_module()\n"
     ]
    }
   ],
   "source": [
    "df = pd.read_csv('./Video_Games_Sales_as_at_22_Dec_2016.csv')\n",
    "df.dropna(subset=['Publisher'], inplace=True)\n",
    "df = df.loc[~df['Critic_Score'].isna() & ~df['User_Score'].isna() & ~df['Rating'].isna()]"
   ]
  },
  {
   "cell_type": "code",
   "execution_count": 3,
   "id": "48f6c78e",
   "metadata": {},
   "outputs": [
    {
     "name": "stdout",
     "output_type": "stream",
     "text": [
      "<class 'pandas.core.frame.DataFrame'>\n",
      "Int64Index: 6943 entries, 0 to 16706\n",
      "Data columns (total 16 columns):\n",
      " #   Column           Non-Null Count  Dtype  \n",
      "---  ------           --------------  -----  \n",
      " 0   Name             6943 non-null   object \n",
      " 1   Platform         6943 non-null   object \n",
      " 2   Year_of_Release  6825 non-null   float64\n",
      " 3   Genre            6943 non-null   object \n",
      " 4   Publisher        6943 non-null   object \n",
      " 5   NA_Sales         6943 non-null   float64\n",
      " 6   EU_Sales         6943 non-null   float64\n",
      " 7   JP_Sales         6943 non-null   float64\n",
      " 8   Other_Sales      6943 non-null   float64\n",
      " 9   Global_Sales     6943 non-null   float64\n",
      " 10  Critic_Score     6943 non-null   float64\n",
      " 11  Critic_Count     6943 non-null   float64\n",
      " 12  User_Score       6943 non-null   float64\n",
      " 13  User_Count       6943 non-null   float64\n",
      " 14  Developer        6943 non-null   object \n",
      " 15  Rating           6943 non-null   object \n",
      "dtypes: float64(10), object(6)\n",
      "memory usage: 922.1+ KB\n"
     ]
    }
   ],
   "source": [
    "df.info()"
   ]
  },
  {
   "cell_type": "code",
   "execution_count": 4,
   "id": "a96951eb",
   "metadata": {},
   "outputs": [
    {
     "data": {
      "text/plain": [
       "Genre\n",
       "Action          1663\n",
       "Sports           965\n",
       "Shooter          882\n",
       "Role-Playing     718\n",
       "Racing           591\n",
       "Platform         406\n",
       "Misc             394\n",
       "Fighting         381\n",
       "Simulation       301\n",
       "Strategy         272\n",
       "Adventure        249\n",
       "Puzzle           121\n",
       "Name: Name, dtype: int64"
      ]
     },
     "execution_count": 4,
     "metadata": {},
     "output_type": "execute_result"
    }
   ],
   "source": [
    "df.groupby('Genre')['Name'].count().sort_values(ascending=False)"
   ]
  },
  {
   "cell_type": "code",
   "execution_count": 5,
   "id": "ff422569",
   "metadata": {},
   "outputs": [
    {
     "data": {
      "text/html": [
       "<div>\n",
       "<style scoped>\n",
       "    .dataframe tbody tr th:only-of-type {\n",
       "        vertical-align: middle;\n",
       "    }\n",
       "\n",
       "    .dataframe tbody tr th {\n",
       "        vertical-align: top;\n",
       "    }\n",
       "\n",
       "    .dataframe thead th {\n",
       "        text-align: right;\n",
       "    }\n",
       "</style>\n",
       "<table border=\"1\" class=\"dataframe\">\n",
       "  <thead>\n",
       "    <tr style=\"text-align: right;\">\n",
       "      <th></th>\n",
       "      <th>Global_Sales</th>\n",
       "    </tr>\n",
       "    <tr>\n",
       "      <th>Genre</th>\n",
       "      <th></th>\n",
       "    </tr>\n",
       "  </thead>\n",
       "  <tbody>\n",
       "    <tr>\n",
       "      <th>Misc</th>\n",
       "      <td>1.077741</td>\n",
       "    </tr>\n",
       "    <tr>\n",
       "      <th>Shooter</th>\n",
       "      <td>0.934025</td>\n",
       "    </tr>\n",
       "    <tr>\n",
       "      <th>Platform</th>\n",
       "      <td>0.931429</td>\n",
       "    </tr>\n",
       "    <tr>\n",
       "      <th>Sports</th>\n",
       "      <td>0.881513</td>\n",
       "    </tr>\n",
       "    <tr>\n",
       "      <th>Racing</th>\n",
       "      <td>0.811844</td>\n",
       "    </tr>\n",
       "    <tr>\n",
       "      <th>Action</th>\n",
       "      <td>0.736091</td>\n",
       "    </tr>\n",
       "    <tr>\n",
       "      <th>Role-Playing</th>\n",
       "      <td>0.701100</td>\n",
       "    </tr>\n",
       "    <tr>\n",
       "      <th>Simulation</th>\n",
       "      <td>0.676146</td>\n",
       "    </tr>\n",
       "    <tr>\n",
       "      <th>Fighting</th>\n",
       "      <td>0.658110</td>\n",
       "    </tr>\n",
       "    <tr>\n",
       "      <th>Puzzle</th>\n",
       "      <td>0.655124</td>\n",
       "    </tr>\n",
       "    <tr>\n",
       "      <th>Adventure</th>\n",
       "      <td>0.324940</td>\n",
       "    </tr>\n",
       "    <tr>\n",
       "      <th>Strategy</th>\n",
       "      <td>0.260441</td>\n",
       "    </tr>\n",
       "  </tbody>\n",
       "</table>\n",
       "</div>"
      ],
      "text/plain": [
       "              Global_Sales\n",
       "Genre                     \n",
       "Misc              1.077741\n",
       "Shooter           0.934025\n",
       "Platform          0.931429\n",
       "Sports            0.881513\n",
       "Racing            0.811844\n",
       "Action            0.736091\n",
       "Role-Playing      0.701100\n",
       "Simulation        0.676146\n",
       "Fighting          0.658110\n",
       "Puzzle            0.655124\n",
       "Adventure         0.324940\n",
       "Strategy          0.260441"
      ]
     },
     "execution_count": 5,
     "metadata": {},
     "output_type": "execute_result"
    }
   ],
   "source": [
    "df_grouped_Genre = df.groupby(['Genre']).agg({'Global_Sales': np.mean})\n",
    "df_grouped_Genre.sort_values('Global_Sales', ascending=False)"
   ]
  },
  {
   "cell_type": "code",
   "execution_count": 6,
   "id": "1a199d0b",
   "metadata": {},
   "outputs": [],
   "source": [
    "sports_mean_sales = df_grouped_Genre.loc['Sports']['Global_Sales']\n",
    "action_mean_sales = df_grouped_Genre.loc['Action']['Global_Sales'] \n",
    "rpg_mean_sales = df_grouped_Genre.loc['Role-Playing']['Global_Sales'] "
   ]
  },
  {
   "cell_type": "code",
   "execution_count": 7,
   "id": "caf26855",
   "metadata": {},
   "outputs": [],
   "source": [
    "def segregate_genre_to_list(df, genre, df_list, threshold=None):\n",
    "    seg_df = df[df['Genre'] == genre]\n",
    "    if threshold:\n",
    "        seg_df = seg_df[seg_df['Global_Sales'] > threshold]\n",
    "    df_list.append(seg_df)"
   ]
  },
  {
   "cell_type": "code",
   "execution_count": 27,
   "id": "3d534ae1",
   "metadata": {},
   "outputs": [
    {
     "name": "stdout",
     "output_type": "stream",
     "text": [
      "[1985, 1986, 1987, 1988, 1989, 1990, 1991, 1992, 1993, 1994, 1995, 1996, 1997, 1998, 1999, 2000, 2001, 2002, 2003, 2004, 2005, 2006, 2007, 2008, 2009, 2010, 2011, 2012, 2013, 2014, 2015, 2016]\n"
     ]
    }
   ],
   "source": [
    "# sorted_years = df['Year_of_Release'].unique()\n",
    "# sorted_years.sort()\n",
    "sorted_years = list(range(1985, 2017))\n",
    "print(sorted_years)"
   ]
  },
  {
   "cell_type": "code",
   "execution_count": 28,
   "id": "976d15cb",
   "metadata": {},
   "outputs": [],
   "source": [
    "df_list = []\n",
    "sport_df_list = []\n",
    "action_df_list = []\n",
    "rpg_df_list = []\n",
    "margem = 4\n",
    "for i in range(0, len(sorted_years), margem):\n",
    "    df_list.append(df[df['Year_of_Release'].isin(sorted_years[i:i+margem])])\n"
   ]
  },
  {
   "cell_type": "code",
   "execution_count": 43,
   "id": "c11807b2",
   "metadata": {},
   "outputs": [
    {
     "data": {
      "text/html": [
       "<div>\n",
       "<style scoped>\n",
       "    .dataframe tbody tr th:only-of-type {\n",
       "        vertical-align: middle;\n",
       "    }\n",
       "\n",
       "    .dataframe tbody tr th {\n",
       "        vertical-align: top;\n",
       "    }\n",
       "\n",
       "    .dataframe thead th {\n",
       "        text-align: right;\n",
       "    }\n",
       "</style>\n",
       "<table border=\"1\" class=\"dataframe\">\n",
       "  <thead>\n",
       "    <tr style=\"text-align: right;\">\n",
       "      <th></th>\n",
       "      <th>Name</th>\n",
       "      <th>Platform</th>\n",
       "      <th>Year_of_Release</th>\n",
       "      <th>Genre</th>\n",
       "      <th>Publisher</th>\n",
       "      <th>NA_Sales</th>\n",
       "      <th>EU_Sales</th>\n",
       "      <th>JP_Sales</th>\n",
       "      <th>Other_Sales</th>\n",
       "      <th>Global_Sales</th>\n",
       "      <th>Critic_Score</th>\n",
       "      <th>Critic_Count</th>\n",
       "      <th>User_Score</th>\n",
       "      <th>User_Count</th>\n",
       "      <th>Developer</th>\n",
       "      <th>Rating</th>\n",
       "    </tr>\n",
       "  </thead>\n",
       "  <tbody>\n",
       "    <tr>\n",
       "      <th>153</th>\n",
       "      <td>Tekken 2</td>\n",
       "      <td>PS</td>\n",
       "      <td>1996.0</td>\n",
       "      <td>Fighting</td>\n",
       "      <td>Sony Computer Entertainment</td>\n",
       "      <td>2.26</td>\n",
       "      <td>1.89</td>\n",
       "      <td>1.36</td>\n",
       "      <td>0.23</td>\n",
       "      <td>5.74</td>\n",
       "      <td>89.0</td>\n",
       "      <td>8.0</td>\n",
       "      <td>8.9</td>\n",
       "      <td>102.0</td>\n",
       "      <td>Namco</td>\n",
       "      <td>T</td>\n",
       "    </tr>\n",
       "    <tr>\n",
       "      <th>203</th>\n",
       "      <td>Resident Evil</td>\n",
       "      <td>PS</td>\n",
       "      <td>1996.0</td>\n",
       "      <td>Action</td>\n",
       "      <td>Virgin Interactive</td>\n",
       "      <td>2.05</td>\n",
       "      <td>1.16</td>\n",
       "      <td>1.11</td>\n",
       "      <td>0.73</td>\n",
       "      <td>5.05</td>\n",
       "      <td>91.0</td>\n",
       "      <td>8.0</td>\n",
       "      <td>9.0</td>\n",
       "      <td>266.0</td>\n",
       "      <td>Capcom</td>\n",
       "      <td>M</td>\n",
       "    </tr>\n",
       "    <tr>\n",
       "      <th>229</th>\n",
       "      <td>Tomb Raider</td>\n",
       "      <td>PS</td>\n",
       "      <td>1996.0</td>\n",
       "      <td>Action</td>\n",
       "      <td>Eidos Interactive</td>\n",
       "      <td>2.29</td>\n",
       "      <td>1.97</td>\n",
       "      <td>0.13</td>\n",
       "      <td>0.24</td>\n",
       "      <td>4.63</td>\n",
       "      <td>91.0</td>\n",
       "      <td>13.0</td>\n",
       "      <td>8.6</td>\n",
       "      <td>147.0</td>\n",
       "      <td>Core Design Ltd.</td>\n",
       "      <td>T</td>\n",
       "    </tr>\n",
       "    <tr>\n",
       "      <th>903</th>\n",
       "      <td>PaRappa The Rapper</td>\n",
       "      <td>PS</td>\n",
       "      <td>1996.0</td>\n",
       "      <td>Misc</td>\n",
       "      <td>Sony Computer Entertainment</td>\n",
       "      <td>0.26</td>\n",
       "      <td>0.16</td>\n",
       "      <td>1.46</td>\n",
       "      <td>0.03</td>\n",
       "      <td>1.92</td>\n",
       "      <td>92.0</td>\n",
       "      <td>15.0</td>\n",
       "      <td>7.4</td>\n",
       "      <td>48.0</td>\n",
       "      <td>NanaOn-Sha</td>\n",
       "      <td>K-A</td>\n",
       "    </tr>\n",
       "    <tr>\n",
       "      <th>1160</th>\n",
       "      <td>Diablo</td>\n",
       "      <td>PC</td>\n",
       "      <td>1996.0</td>\n",
       "      <td>Role-Playing</td>\n",
       "      <td>Activision</td>\n",
       "      <td>0.01</td>\n",
       "      <td>1.58</td>\n",
       "      <td>0.00</td>\n",
       "      <td>0.00</td>\n",
       "      <td>1.59</td>\n",
       "      <td>94.0</td>\n",
       "      <td>12.0</td>\n",
       "      <td>8.7</td>\n",
       "      <td>850.0</td>\n",
       "      <td>Blizzard Entertainment</td>\n",
       "      <td>M</td>\n",
       "    </tr>\n",
       "    <tr>\n",
       "      <th>1567</th>\n",
       "      <td>Battle Arena Toshinden</td>\n",
       "      <td>PS</td>\n",
       "      <td>1994.0</td>\n",
       "      <td>Fighting</td>\n",
       "      <td>Sony Computer Entertainment</td>\n",
       "      <td>0.39</td>\n",
       "      <td>0.26</td>\n",
       "      <td>0.53</td>\n",
       "      <td>0.08</td>\n",
       "      <td>1.27</td>\n",
       "      <td>69.0</td>\n",
       "      <td>4.0</td>\n",
       "      <td>6.3</td>\n",
       "      <td>4.0</td>\n",
       "      <td>Tamsoft</td>\n",
       "      <td>T</td>\n",
       "    </tr>\n",
       "    <tr>\n",
       "      <th>2014</th>\n",
       "      <td>Tomb Raider</td>\n",
       "      <td>PC</td>\n",
       "      <td>1996.0</td>\n",
       "      <td>Action</td>\n",
       "      <td>Eidos Interactive</td>\n",
       "      <td>0.96</td>\n",
       "      <td>0.07</td>\n",
       "      <td>0.00</td>\n",
       "      <td>0.00</td>\n",
       "      <td>1.03</td>\n",
       "      <td>86.0</td>\n",
       "      <td>18.0</td>\n",
       "      <td>8.5</td>\n",
       "      <td>3552.0</td>\n",
       "      <td>Crystal Dynamics, Nixxes Software</td>\n",
       "      <td>M</td>\n",
       "    </tr>\n",
       "    <tr>\n",
       "      <th>9215</th>\n",
       "      <td>Super Puzzle Fighter II Turbo</td>\n",
       "      <td>PS</td>\n",
       "      <td>1996.0</td>\n",
       "      <td>Puzzle</td>\n",
       "      <td>Virgin Interactive</td>\n",
       "      <td>0.08</td>\n",
       "      <td>0.05</td>\n",
       "      <td>0.00</td>\n",
       "      <td>0.01</td>\n",
       "      <td>0.14</td>\n",
       "      <td>83.0</td>\n",
       "      <td>9.0</td>\n",
       "      <td>7.4</td>\n",
       "      <td>5.0</td>\n",
       "      <td>Capcom</td>\n",
       "      <td>E</td>\n",
       "    </tr>\n",
       "  </tbody>\n",
       "</table>\n",
       "</div>"
      ],
      "text/plain": [
       "                               Name Platform  Year_of_Release         Genre  \\\n",
       "153                        Tekken 2       PS           1996.0      Fighting   \n",
       "203                   Resident Evil       PS           1996.0        Action   \n",
       "229                     Tomb Raider       PS           1996.0        Action   \n",
       "903              PaRappa The Rapper       PS           1996.0          Misc   \n",
       "1160                         Diablo       PC           1996.0  Role-Playing   \n",
       "1567         Battle Arena Toshinden       PS           1994.0      Fighting   \n",
       "2014                    Tomb Raider       PC           1996.0        Action   \n",
       "9215  Super Puzzle Fighter II Turbo       PS           1996.0        Puzzle   \n",
       "\n",
       "                        Publisher  NA_Sales  EU_Sales  JP_Sales  Other_Sales  \\\n",
       "153   Sony Computer Entertainment      2.26      1.89      1.36         0.23   \n",
       "203            Virgin Interactive      2.05      1.16      1.11         0.73   \n",
       "229             Eidos Interactive      2.29      1.97      0.13         0.24   \n",
       "903   Sony Computer Entertainment      0.26      0.16      1.46         0.03   \n",
       "1160                   Activision      0.01      1.58      0.00         0.00   \n",
       "1567  Sony Computer Entertainment      0.39      0.26      0.53         0.08   \n",
       "2014            Eidos Interactive      0.96      0.07      0.00         0.00   \n",
       "9215           Virgin Interactive      0.08      0.05      0.00         0.01   \n",
       "\n",
       "      Global_Sales  Critic_Score  Critic_Count  User_Score  User_Count  \\\n",
       "153           5.74          89.0           8.0         8.9       102.0   \n",
       "203           5.05          91.0           8.0         9.0       266.0   \n",
       "229           4.63          91.0          13.0         8.6       147.0   \n",
       "903           1.92          92.0          15.0         7.4        48.0   \n",
       "1160          1.59          94.0          12.0         8.7       850.0   \n",
       "1567          1.27          69.0           4.0         6.3         4.0   \n",
       "2014          1.03          86.0          18.0         8.5      3552.0   \n",
       "9215          0.14          83.0           9.0         7.4         5.0   \n",
       "\n",
       "                              Developer Rating  \n",
       "153                               Namco      T  \n",
       "203                              Capcom      M  \n",
       "229                    Core Design Ltd.      T  \n",
       "903                          NanaOn-Sha    K-A  \n",
       "1160             Blizzard Entertainment      M  \n",
       "1567                            Tamsoft      T  \n",
       "2014  Crystal Dynamics, Nixxes Software      M  \n",
       "9215                             Capcom      E  "
      ]
     },
     "execution_count": 43,
     "metadata": {},
     "output_type": "execute_result"
    }
   ],
   "source": [
    "df_list[2]"
   ]
  },
  {
   "cell_type": "code",
   "execution_count": 30,
   "id": "2ebf2324",
   "metadata": {},
   "outputs": [
    {
     "data": {
      "text/plain": [
       "[{'PC': array(['Activision', 'Maxis'], dtype=object)},\n",
       " {'PC': array(['id Software'], dtype=object)},\n",
       " {'PC': array(['Activision', 'Eidos Interactive'], dtype=object),\n",
       "  'PS': array(['Sony Computer Entertainment', 'Virgin Interactive',\n",
       "         'Eidos Interactive'], dtype=object)},\n",
       " {'DC': array(['Sega', 'Namco Bandai Games', 'Virgin Interactive', 'Ubisoft'],\n",
       "        dtype=object),\n",
       "  'PC': array(['Vivendi Games', 'Electronic Arts', 'Havas Interactive',\n",
       "         'Microsoft Game Studios', 'Activision', 'Interplay',\n",
       "         'Empire Interactive', 'Eidos Interactive'], dtype=object),\n",
       "  'PS': array(['Sony Computer Entertainment', 'SquareSoft', 'GT Interactive',\n",
       "         'Konami Digital Entertainment', 'Virgin Interactive', 'Activision',\n",
       "         'Atari', 'Take-Two Interactive', 'Electronic Arts',\n",
       "         'Hasbro Interactive', 'Acclaim Entertainment', 'Codemasters',\n",
       "         'Crave Entertainment', 'Namco Bandai Games', 'Enix Corporation',\n",
       "         'Square EA', 'Capcom', 'Eidos Interactive', 'Kadokawa Shoten',\n",
       "         'ASCII Entertainment', 'Psygnosis', 'Atlus', 'Ubisoft', '3DO',\n",
       "         'THQ', 'Midway Games', 'Human Entertainment', 'Fox Interactive',\n",
       "         'Midas Interactive Entertainment', 'Titus', 'ESP', 'Tecmo Koei',\n",
       "         'Infogrames'], dtype=object),\n",
       "  'PS2': array(['Namco Bandai Games', 'Take-Two Interactive', 'Electronic Arts',\n",
       "         'Sony Computer Entertainment', 'Crave Entertainment',\n",
       "         'Virgin Interactive', 'THQ', 'Ubisoft', 'Infogrames',\n",
       "         'Empire Interactive', 'Eidos Interactive', 'Tecmo Koei',\n",
       "         'Activision', 'Midas Interactive Entertainment',\n",
       "         'Konami Digital Entertainment', '3DO', 'Acclaim Entertainment',\n",
       "         'Swing! Entertainment'], dtype=object),\n",
       "  'XB': array(['Microsoft Game Studios'], dtype=object)},\n",
       " {'DC': array(['Sega'], dtype=object),\n",
       "  'DS': array(['Nintendo', 'Ubisoft', 'Activision', 'Sega', 'Electronic Arts',\n",
       "         'Ignition Entertainment', 'Namco Bandai Games', 'THQ'],\n",
       "        dtype=object),\n",
       "  'GBA': array(['Nintendo', 'Namco Bandai Games', 'Atari', 'Sega', 'Vivendi Games',\n",
       "         'SquareSoft', 'Electronic Arts', 'Square Enix',\n",
       "         'Universal Interactive', 'Infogrames', 'THQ', 'TDK Mediactive',\n",
       "         'Activision', 'Unknown', 'Konami Digital Entertainment',\n",
       "         'Disney Interactive Studios', 'Majesco Entertainment', 'Ubisoft',\n",
       "         'Capcom', 'Zoo Digital Publishing', 'Rebellion', 'Interplay',\n",
       "         'Take-Two Interactive', 'Tomy Corporation', 'Media Rings',\n",
       "         'BAM! Entertainment', 'Hip Interactive', 'Acclaim Entertainment',\n",
       "         'Sting', 'Kemco', 'Telegames', 'Ignition Entertainment',\n",
       "         'Marvelous Interactive', 'Atlus', 'Sammy Corporation',\n",
       "         'Destination Software, Inc', 'Taito', 'Global Star', 'Banpresto',\n",
       "         'Midway Games', 'Tecmo Koei', 'Jaleco', 'NewKidCo'], dtype=object),\n",
       "  'GC': array(['Nintendo', 'Sega', 'Infogrames', 'LucasArts', 'Atari',\n",
       "         'Namco Bandai Games', 'Electronic Arts', 'Activision', 'THQ',\n",
       "         'Ubisoft', 'Universal Interactive', 'Tomy Corporation', 'Capcom',\n",
       "         'Acclaim Entertainment', 'Konami Digital Entertainment',\n",
       "         'Eidos Interactive', 'Midway Games', 'Vivendi Games',\n",
       "         'Marvelous Interactive', 'Mad Catz',\n",
       "         'Warner Bros. Interactive Entertainment', 'TDK Mediactive',\n",
       "         'Global Star', 'Titus', 'Virgin Interactive', 'NDA Productions',\n",
       "         'BAM! Entertainment', 'Kemco', 'O3 Entertainment', 'Tecmo Koei',\n",
       "         'Hudson Soft', 'Take-Two Interactive', 'Empire Interactive', 'SCi',\n",
       "         'Gotham Games', 'Codemasters', 'Jaleco'], dtype=object),\n",
       "  'PC': array(['Activision', 'Electronic Arts', 'Vivendi Games', 'Atari',\n",
       "         'LucasArts', 'CCP', 'Gathering of Developers',\n",
       "         'Microsoft Game Studios', 'THQ', 'Ubisoft', 'Take-Two Interactive',\n",
       "         'Eidos Interactive', 'Ascaron Entertainment GmbH', 'Sunflowers',\n",
       "         'Microids', 'Strategy First', 'JoWood Productions',\n",
       "         'DreamCatcher Interactive', 'Virgin Interactive',\n",
       "         'MC2 Entertainment', 'Codemasters', 'Blue Byte', 'Interplay'],\n",
       "        dtype=object),\n",
       "  'PS': array(['Electronic Arts', 'Activision', 'TalonSoft', 'Empire Interactive',\n",
       "         'Take-Two Interactive', 'Sony Computer Entertainment', 'Square',\n",
       "         'Capcom', 'Acclaim Entertainment', 'BAM! Entertainment',\n",
       "         'Eidos Interactive', 'Konami Digital Entertainment', 'Infogrames',\n",
       "         'Namco Bandai Games', 'Virgin Interactive', 'Max Five'],\n",
       "        dtype=object),\n",
       "  'PS2': array(['Take-Two Interactive', 'Sony Computer Entertainment',\n",
       "         'Electronic Arts', 'Konami Digital Entertainment',\n",
       "         'Universal Interactive', 'Square Enix', 'Activision', 'LucasArts',\n",
       "         'Namco Bandai Games', 'Atari',\n",
       "         'Sony Computer Entertainment Europe', 'Capcom', 'Sega',\n",
       "         'Eidos Interactive', 'Virgin Interactive', 'Ubisoft',\n",
       "         'Acclaim Entertainment', 'Midway Games', 'THQ', 'Tecmo Koei',\n",
       "         'Vivendi Games', 'Global Star', 'Gotham Games', 'Codemasters',\n",
       "         'TDK Mediactive', 'Sony Oznline Entertainment',\n",
       "         'Black Label Games', 'SouthPeak Games', 'Zoo Digital Publishing',\n",
       "         'Empire Interactive', 'Play It', 'Titus', 'Genki', 'Rage Software',\n",
       "         'Illusion Softworks', 'Interplay', 'Metro 3D', 'SCi',\n",
       "         'Midas Interactive Entertainment',\n",
       "         'Warner Bros. Interactive Entertainment', 'Infogrames',\n",
       "         'Ignition Entertainment', 'Wanadoo', 'BAM! Entertainment',\n",
       "         'Sony Online Entertainment', 'Ghostlight', 'Enix Corporation',\n",
       "         '3DO', 'Sammy Corporation', 'Disney Interactive Studios',\n",
       "         'Pacific Century Cyber Works', 'Indie Games', 'Kemco',\n",
       "         'Crave Entertainment', '505 Games', 'Agetec',\n",
       "         'Gathering of Developers', 'Jaleco', 'Enterbrain', 'Atlus',\n",
       "         'From Software', 'Natsume', 'Swing! Entertainment', 'Taito',\n",
       "         'Microids', 'Avalon Interactive', 'DreamCatcher Interactive',\n",
       "         'Jester Interactive'], dtype=object),\n",
       "  'PSP': array(['Sony Computer Entertainment', 'Tecmo Koei', 'Capcom',\n",
       "         'Namco Bandai Games'], dtype=object),\n",
       "  'XB': array(['Microsoft Game Studios', 'Ubisoft', 'Electronic Arts',\n",
       "         'Activision', 'Sega', 'Universal Interactive',\n",
       "         'Take-Two Interactive', 'Atari', 'Namco Bandai Games',\n",
       "         'Midway Games', 'Global Star', 'SCi', 'THQ', 'Eidos Interactive',\n",
       "         'Acclaim Entertainment', 'Konami Digital Entertainment',\n",
       "         'Tecmo Koei', 'Interplay', 'TDK Mediactive', 'Deep Silver',\n",
       "         'Vivendi Games', 'LucasArts', 'Capcom', 'Gathering of Developers',\n",
       "         'Infogrames', 'Activision Value', 'Bethesda Softworks',\n",
       "         'Virgin Interactive', 'Empire Interactive',\n",
       "         'Zoo Digital Publishing', 'Rage Software', 'Swing! Entertainment',\n",
       "         'BAM! Entertainment', 'Kemco', 'From Software',\n",
       "         'Ignition Entertainment', 'Microids', 'Codemasters', '3DO',\n",
       "         'Genki', 'Disney Interactive Studios', 'Avalon Interactive',\n",
       "         'Phantagram', 'Mindscape', 'Jaleco', 'Kool Kizz', 'Hudson Soft',\n",
       "         'XS Games', 'MC2 Entertainment', 'Xicat Interactive', 'Metro 3D',\n",
       "         'Atlus', 'Titus', 'Encore', 'Evolved Games'], dtype=object)},\n",
       " {'DS': array(['Nintendo', '505 Games', 'LucasArts', 'Electronic Arts',\n",
       "         'Activision', 'Sega', 'Warner Bros. Interactive Entertainment',\n",
       "         'Square Enix', 'Take-Two Interactive', 'Midway Games', 'Mindscape',\n",
       "         'THQ', 'Ubisoft', 'Atari', 'Capcom', 'Game Factory',\n",
       "         'Disney Interactive Studios', 'Rising Star Games', 'Deep Silver',\n",
       "         'Konami Digital Entertainment', 'Vivendi Games',\n",
       "         'Majesco Entertainment', 'D3Publisher', 'Takara Tomy',\n",
       "         'Namco Bandai Games', 'Atlus', 'Codemasters', 'Eidos Interactive',\n",
       "         'GungHo', 'AQ Interactive', 'Tecmo Koei', 'Ignition Entertainment',\n",
       "         'Unknown', 'Brash Entertainment', 'SouthPeak Games',\n",
       "         'White Park Bay Software', 'Zoo Digital Publishing', 'Touchstone',\n",
       "         'Banpresto', 'Natsume', 'Funsta', 'System 3 Arcade Software',\n",
       "         'Cave', 'Ghostlight', 'Empire Interactive', 'Nobilis',\n",
       "         'Playlogic Game Factory', 'DSI Games', 'Sting',\n",
       "         'Focus Home Interactive', 'Jaleco', 'Destineer', 'Gamecock',\n",
       "         'Arc System Works', 'Success', 'Nippon Ichi Software',\n",
       "         'From Software', 'Lexicon Entertainment', 'Crave Entertainment',\n",
       "         'Midas Interactive Entertainment', 'JoWood Productions'],\n",
       "        dtype=object),\n",
       "  'GBA': array(['THQ', 'Nintendo', 'Ubisoft', 'Electronic Arts',\n",
       "         'Disney Interactive Studios', 'Activision', 'Global Star', 'Atari',\n",
       "         'Capcom', 'Konami Digital Entertainment', 'LucasArts', 'Sega',\n",
       "         'Eidos Interactive'], dtype=object),\n",
       "  'GC': array(['Capcom', 'Nintendo', 'Sega', 'LucasArts', 'THQ',\n",
       "         'Electronic Arts', 'Activision', 'Midway Games', 'Ubisoft',\n",
       "         'Atari', 'Vivendi Games', 'Global Star', 'Eidos Interactive',\n",
       "         'Unknown', 'Namco Bandai Games', 'Empire Interactive',\n",
       "         'Konami Digital Entertainment'], dtype=object),\n",
       "  'PC': array(['Activision', 'Electronic Arts', 'Sega', 'Russel',\n",
       "         'Bethesda Softworks', 'Take-Two Interactive', 'City Interactive',\n",
       "         'Ubisoft', 'Microsoft Game Studios', 'Atari', 'Deep Silver',\n",
       "         'LucasArts', 'Eidos Interactive',\n",
       "         'Warner Bros. Interactive Entertainment', 'Midway Games',\n",
       "         'Ascaron Entertainment GmbH', 'THQ', 'JoWood Productions',\n",
       "         'PopCap Games', 'Monte Christo Multimedia',\n",
       "         'DreamCatcher Interactive', 'Capcom', 'Vivendi Games', '2D Boy',\n",
       "         'Paradox Interactive', 'NCSoft', 'Pinnacle', 'Kalypso Media',\n",
       "         'GOA', 'Gamecock', 'Codemasters', 'Graphsim Entertainment',\n",
       "         'DTP Entertainment', 'Codemasters Online', 'Aspyr',\n",
       "         'Empire Interactive', 'Koch Media', 'Crimson Cow',\n",
       "         'MC2 Entertainment', 'Touchstone', 'Lighthouse Interactive',\n",
       "         'CDV Software Entertainment'], dtype=object),\n",
       "  'PS2': array(['Square Enix', 'RedOctane', 'Activision', 'Electronic Arts',\n",
       "         'Sony Computer Entertainment', 'Konami Digital Entertainment',\n",
       "         'Namco Bandai Games', 'Capcom', 'LucasArts',\n",
       "         'Take-Two Interactive', 'Atari', 'THQ', 'Ubisoft', 'Vivendi Games',\n",
       "         'Tecmo Koei', 'Warner Bros. Interactive Entertainment', 'Sega',\n",
       "         'Midway Games', 'Unknown', 'Atlus', 'Disney Interactive Studios',\n",
       "         'Sony Online Entertainment', 'Eidos Interactive', 'NovaLogic',\n",
       "         'Spike', 'Jester Interactive', 'Global Star',\n",
       "         'Ignition Entertainment', 'Codemasters', 'Empire Interactive',\n",
       "         '505 Games', 'Rising Star Games', 'Xplosiv', 'Gust',\n",
       "         'AQ Interactive', 'Ghostlight', 'Banpresto', 'D3Publisher',\n",
       "         'Playlogic Game Factory', 'Sting', 'SCi', 'Valcon Games',\n",
       "         'Majesco Entertainment', 'SouthPeak Games', 'Brash Entertainment',\n",
       "         'Myelin Media', 'SNK', 'Nippon Ichi Software', 'Mastiff',\n",
       "         'JoWood Productions', 'Crave Entertainment', 'Hip Interactive',\n",
       "         'Idea Factory', 'Success', 'Mastertronic', 'Natsume',\n",
       "         '10TACLE Studios'], dtype=object),\n",
       "  'PS3': array(['Take-Two Interactive', 'Activision',\n",
       "         'Konami Digital Entertainment', 'Sony Computer Entertainment',\n",
       "         'Ubisoft', 'Bethesda Softworks', 'Electronic Arts', 'LucasArts',\n",
       "         'Midway Games', 'THQ', 'Capcom', 'MTV Games', 'Namco Bandai Games',\n",
       "         'Warner Bros. Interactive Entertainment', 'Sega',\n",
       "         'Eidos Interactive', 'Codemasters', 'Disney Interactive Studios',\n",
       "         'Atari', 'Tecmo Koei', 'Touchstone', 'Vivendi Games',\n",
       "         'Square Enix', 'Gamebridge', 'D3Publisher', 'Black Bean Games',\n",
       "         'Spike', 'Nippon Ichi Software', 'Unknown', '505 Games',\n",
       "         'Activision Value', 'Ghostlight', 'Ignition Entertainment',\n",
       "         'Gamecock', 'System 3 Arcade Software'], dtype=object),\n",
       "  'PSP': array(['Take-Two Interactive', 'Capcom', 'Sony Computer Entertainment',\n",
       "         'Square Enix', 'Electronic Arts', 'Activision', 'LucasArts',\n",
       "         'Sega', 'THQ', 'Konami Digital Entertainment',\n",
       "         'Namco Bandai Games', 'Midway Games', 'Ubisoft', 'D3Publisher',\n",
       "         'SouthPeak Games', 'Eidos Interactive', 'Ignition Entertainment',\n",
       "         'Atari', 'Disney Interactive Studios',\n",
       "         'Warner Bros. Interactive Entertainment', 'Empire Interactive',\n",
       "         'Tecmo Koei', 'Spike', 'Vivendi Games', 'Rising Star Games',\n",
       "         'Play It', 'Majesco Entertainment', 'Sony Online Entertainment',\n",
       "         'Acquire', '505 Games', 'Sting', 'Nippon Ichi Software',\n",
       "         'Deep Silver', 'Irem Software Engineering', 'Oxygen Interactive',\n",
       "         'Hudson Entertainment', 'Mercury Games',\n",
       "         'Midas Interactive Entertainment', 'Idea Factory',\n",
       "         'Crave Entertainment', 'Global A Entertainment', 'Codemasters'],\n",
       "        dtype=object),\n",
       "  'Wii': array(['Nintendo', 'LucasArts', 'Activision', 'Take-Two Interactive',\n",
       "         '505 Games', 'Sega', 'Konami Digital Entertainment',\n",
       "         'Midway Games', 'Ubisoft', 'Electronic Arts', 'Namco Bandai Games',\n",
       "         'THQ', 'Atari', 'Capcom', 'Deep Silver', 'RTL', 'D3Publisher',\n",
       "         'Warner Bros. Interactive Entertainment', 'MTV Games',\n",
       "         'Tomy Corporation', 'Eidos Interactive', 'Rising Star Games',\n",
       "         'Koch Media', 'Square Enix', 'Vivendi Games',\n",
       "         'Disney Interactive Studios', 'Xplosiv',\n",
       "         'System 3 Arcade Software', 'Zoo Digital Publishing', 'Destineer',\n",
       "         'Oxygen Interactive', 'SouthPeak Games', 'Ignition Entertainment',\n",
       "         'Scholastic Inc.', 'Tecmo Koei', 'Sting', 'Playlogic Game Factory',\n",
       "         'Bethesda Softworks', 'Hudson Soft', 'Codemasters', 'Game Factory',\n",
       "         'The Adventure Company', 'Popcorn Arcade', 'Metro 3D', 'Taito',\n",
       "         'Majesco Entertainment', 'PQube', 'Zoo Games'], dtype=object),\n",
       "  'X360': array(['Microsoft Game Studios', 'Take-Two Interactive', 'Activision',\n",
       "         'Ubisoft', 'Bethesda Softworks', 'Electronic Arts',\n",
       "         'Warner Bros. Interactive Entertainment', 'THQ', 'Sega',\n",
       "         'LucasArts', 'Disney Interactive Studios', 'Capcom',\n",
       "         'Midway Games', 'Eidos Interactive',\n",
       "         'Konami Digital Entertainment', 'Atari', 'Tecmo Koei',\n",
       "         'Codemasters', 'Touchstone', 'Spike', 'SouthPeak Games',\n",
       "         'Square Enix', 'D3Publisher', 'Vivendi Games',\n",
       "         'Namco Bandai Games', '505 Games', 'MTV Games', 'Black Bean Games',\n",
       "         'Compile Heart', 'Activision Value', 'Moss', 'Deep Silver',\n",
       "         'Brash Entertainment', 'Empire Interactive', 'Takara Tomy',\n",
       "         'Idea Factory', 'Valcon Games', 'Majesco Entertainment', 'Success',\n",
       "         'Gamecock', 'Navarre Corp'], dtype=object),\n",
       "  'XB': array(['Take-Two Interactive', 'Electronic Arts', 'Activision', 'Ubisoft',\n",
       "         'Microsoft Game Studios', 'Vivendi Games', 'THQ',\n",
       "         'Konami Digital Entertainment', 'LucasArts', 'NovaLogic', 'Atari',\n",
       "         'Midway Games', 'Disney Interactive Studios', 'Sega',\n",
       "         'Eidos Interactive', 'Deep Silver', 'Capcom', 'Codemasters',\n",
       "         'Global Star', 'Hip Interactive', 'SCi', 'Microids',\n",
       "         'Empire Interactive', 'Zoo Digital Publishing', 'Groove Games',\n",
       "         'Tecmo Koei', 'Majesco Entertainment', 'Crave Entertainment',\n",
       "         'DreamCatcher Interactive', 'Kemco', 'Mastiff', 'Wanadoo'],\n",
       "        dtype=object)},\n",
       " {'3DS': array(['Nintendo', 'Square Enix', 'Capcom', 'LucasArts', 'Sega',\n",
       "         'Marvelous Entertainment', 'Namco Bandai Games', 'Level 5',\n",
       "         'Electronic Arts', 'Warner Bros. Interactive Entertainment',\n",
       "         'Ubisoft', 'Activision', 'Disney Interactive Studios', '505 Games',\n",
       "         'Xseed Games', 'Ubisoft Annecy', 'Tetris Online', 'Tecmo Koei',\n",
       "         'Ghostlight', 'Konami Digital Entertainment', 'THQ',\n",
       "         'Agatsuma Entertainment', 'Codemasters', 'Nippon Ichi Software',\n",
       "         'Rising Star Games', 'Funbox Media', 'PQube',\n",
       "         'Crave Entertainment', 'Deep Silver', 'Sunsoft',\n",
       "         'Majesco Entertainment', 'FuRyu'], dtype=object),\n",
       "  'DS': array(['Nintendo', 'Warner Bros. Interactive Entertainment',\n",
       "         'Square Enix', 'Disney Interactive Studios', 'Sega', 'Activision',\n",
       "         '505 Games', 'Take-Two Interactive', 'Mastertronic', 'Capcom',\n",
       "         'Electronic Arts', 'THQ', 'Natsume', 'LucasArts',\n",
       "         'Rising Star Games', 'Atari', 'Focus Home Interactive',\n",
       "         'Namco Bandai Games', 'Eidos Interactive', 'Atlus', 'Ghostlight',\n",
       "         'Ubisoft', 'D3Publisher', 'Zoo Digital Publishing', 'Gust',\n",
       "         'PopCap Games', 'Nippon Ichi Software', 'SouthPeak Games',\n",
       "         'Konami Digital Entertainment', 'JoWood Productions', 'Aspyr',\n",
       "         'MTV Games', 'Codemasters', 'Tecmo Koei', 'Majesco Entertainment',\n",
       "         'Graffiti', 'Playlogic Game Factory', 'Mastiff',\n",
       "         'DreamCatcher Interactive'], dtype=object),\n",
       "  'PC': array(['Electronic Arts', 'Activision', 'Bethesda Softworks', 'NCSoft',\n",
       "         'Take-Two Interactive', 'Sega', 'Ubisoft',\n",
       "         'Focus Home Interactive', 'Namco Bandai Games', 'Valve Software',\n",
       "         'Unknown', 'Square Enix', 'Warner Bros. Interactive Entertainment',\n",
       "         'THQ', 'Eidos Interactive', 'Microsoft Game Studios',\n",
       "         'Wargaming.net', 'Kalypso Media', 'LucasArts',\n",
       "         'Sony Online Entertainment', 'Deep Silver', 'Codemasters',\n",
       "         'JoWood Productions', 'Funcom', 'City Interactive', 'Nordic Games',\n",
       "         '505 Games', 'Capcom', 'Tripwire Interactive', 'Square Enix ',\n",
       "         'HMH Interactive', 'DTP Entertainment', 'PopCap Games',\n",
       "         'Konami Digital Entertainment', 'Paradox Interactive',\n",
       "         'Disney Interactive Studios', '1C Company', 'Mastertronic',\n",
       "         'Team17 Software', 'Iceberg Interactive', 'SouthPeak Games',\n",
       "         'Just Flight', 'bitComposer Games', 'Atari', 'Number None',\n",
       "         'Playlogic Game Factory', 'Rondomedia', 'Evolved Games', 'Visco',\n",
       "         'Vivendi Games', 'Nobilis', 'Destineer'], dtype=object),\n",
       "  'PS2': array(['Activision', 'Sony Computer Entertainment',\n",
       "         'Konami Digital Entertainment', 'Atari', 'Electronic Arts',\n",
       "         'D3Publisher'], dtype=object),\n",
       "  'PS3': array(['Activision', 'Sony Computer Entertainment', 'Electronic Arts',\n",
       "         'Take-Two Interactive', 'Ubisoft', 'Bethesda Softworks',\n",
       "         'Warner Bros. Interactive Entertainment', 'Square Enix', 'Capcom',\n",
       "         'Eidos Interactive', 'Namco Bandai Games', 'THQ',\n",
       "         'Konami Digital Entertainment', 'Deep Silver', 'Sega', 'Valve',\n",
       "         'LucasArts', 'Codemasters', 'MTV Games', '505 Games',\n",
       "         'Disney Interactive Studios', 'Tecmo Koei', 'Ubisoft Annecy',\n",
       "         'City Interactive', 'Atlus', 'PQube', 'Nippon Ichi Software',\n",
       "         'SouthPeak Games', 'Sony Online Entertainment', 'Unknown',\n",
       "         'Black Bean Games', 'Rising Star Games', 'Ignition Entertainment',\n",
       "         'Vivendi Games', 'Focus Home Interactive', 'Marvelous Interactive',\n",
       "         'Crave Entertainment', 'Sony Computer Entertainment Europe',\n",
       "         'D3Publisher', 'Atari', 'PopCap Games', 'Spike',\n",
       "         'Playlogic Game Factory', 'DTP Entertainment', 'Compile Heart',\n",
       "         'EA Games', 'O-Games', 'Aqua Plus'], dtype=object),\n",
       "  'PSP': array(['Sony Computer Entertainment', 'Konami Digital Entertainment',\n",
       "         'Square Enix', 'Ubisoft', 'Electronic Arts',\n",
       "         'Take-Two Interactive', 'Sega', 'LucasArts', 'Namco Bandai Games',\n",
       "         'Ghostlight', 'Codemasters', 'MTV Games', 'Ubisoft Annecy',\n",
       "         'Marvelous Interactive', 'Activision', 'Nippon Ichi Software',\n",
       "         'GungHo', 'Falcom Corporation', 'Atlus', 'THQ', 'Atari',\n",
       "         'Rising Star Games', 'Unknown', 'Takara Tomy', 'PQube',\n",
       "         'Deep Silver', 'Disney Interactive Studios', 'PM Studios',\n",
       "         'Idea Factory', 'Playlogic Game Factory', 'From Software', 'FuRyu',\n",
       "         'SouthPeak Games', '5pb', 'DHM Interactive'], dtype=object),\n",
       "  'PSV': array(['Sony Computer Entertainment', 'Activision', 'Ubisoft', 'Atlus',\n",
       "         'Warner Bros. Interactive Entertainment', 'Electronic Arts',\n",
       "         'GungHo', 'Capcom', 'Nihon Falcom Corporation', 'Tecmo Koei',\n",
       "         'Sega', 'Konami Digital Entertainment', 'Namco Bandai Games',\n",
       "         'Codemasters', 'PQube', 'Square Enix', 'D3Publisher'], dtype=object),\n",
       "  'Wii': array(['Nintendo', 'Ubisoft', 'Electronic Arts',\n",
       "         'Disney Interactive Studios', 'Activision',\n",
       "         'Warner Bros. Interactive Entertainment', 'LucasArts', 'MTV Games',\n",
       "         'Sega', 'Namco Bandai Games', 'Zoo Games', 'Capcom', 'Codemasters',\n",
       "         'Atari', 'THQ', 'Rondomedia', 'Rising Star Games',\n",
       "         'Konami Digital Entertainment', 'D3Publisher', 'Square Enix',\n",
       "         'Eidos Interactive', 'Take-Two Interactive',\n",
       "         'Focus Home Interactive', 'Deep Silver', 'Majesco Entertainment',\n",
       "         'Marvelous Interactive', '505 Games', 'Nippon Ichi Software',\n",
       "         'Ackkstudios', 'Reef Entertainment', 'Bethesda Softworks',\n",
       "         'Telltale Games', 'Playlogic Game Factory', 'Flashpoint Games',\n",
       "         'PQube'], dtype=object),\n",
       "  'WiiU': array(['Nintendo', 'Ubisoft', 'Electronic Arts', 'Activision',\n",
       "         'Warner Bros. Interactive Entertainment',\n",
       "         'Disney Interactive Studios', 'THQ', 'Take-Two Interactive',\n",
       "         'Tecmo Koei'], dtype=object),\n",
       "  'X360': array(['Microsoft Game Studios', 'Activision', 'Bethesda Softworks',\n",
       "         'Electronic Arts', 'Take-Two Interactive', 'Ubisoft',\n",
       "         'Warner Bros. Interactive Entertainment', 'Capcom',\n",
       "         'Eidos Interactive', 'MTV Games', 'THQ', 'Deep Silver',\n",
       "         '505 Games', 'Square Enix', 'Valve Software', 'LucasArts', 'Sega',\n",
       "         'Namco Bandai Games', 'City Interactive',\n",
       "         'Disney Interactive Studios', 'Codemasters', 'Square Enix ',\n",
       "         'Konami Digital Entertainment', 'Atari', 'Spike', 'Unknown',\n",
       "         'PQube', 'Rising Star Games', 'Hudson Soft', 'Ubisoft Annecy',\n",
       "         'Home Entertainment Suppliers', 'Banpresto', 'SouthPeak Games',\n",
       "         'PopCap Games', 'Focus Home Interactive', 'Tecmo Koei',\n",
       "         'DTP Entertainment', 'D3Publisher', 'Kalypso Media', 'XS Games',\n",
       "         'Gamebridge', 'Zushi Games', 'Black Bean Games',\n",
       "         'Playlogic Game Factory', 'Ignition Entertainment', 'Atlus',\n",
       "         'Crave Entertainment', 'Majesco Entertainment', 'Phantom EFX',\n",
       "         'Evolved Games', 'JoWood Productions', 'Mad Catz',\n",
       "         'Conspiracy Entertainment', 'Cloud Imperium Games Corporation'],\n",
       "        dtype=object)},\n",
       " {'3DS': array(['Nintendo', 'Warner Bros. Interactive Entertainment',\n",
       "         'Nippon Ichi Software', 'Atlus', 'Square Enix', 'Sega',\n",
       "         'Rising Star Games', 'Screenlife', 'Namco Bandai Games', 'Unknown',\n",
       "         'FuRyu', 'Activision', 'Marvelous Entertainment', 'Capcom',\n",
       "         'Yacht Club Games', '505 Games', 'Little Orbit', 'Tecmo Koei',\n",
       "         'Aksys Games', 'Ubisoft', 'Agatsuma Entertainment'], dtype=object),\n",
       "  'PC': array(['Electronic Arts', 'Activision', 'Bethesda Softworks',\n",
       "         'Take-Two Interactive', 'Sega', 'Namco Bandai Games',\n",
       "         'Focus Home Interactive', 'Ubisoft', 'Activision Blizzard',\n",
       "         'Warner Bros. Interactive Entertainment', 'THQ', 'Trion Worlds',\n",
       "         'Deep Silver', 'NCSoft', 'Square Enix', 'Paradox Interactive',\n",
       "         'Slightly Mad Studios', 'Kalypso Media', 'Bohemia Interactive',\n",
       "         'inXile Entertainment', 'Konami Digital Entertainment',\n",
       "         'Codemasters', 'City Interactive', 'Koch Media', 'Capcom',\n",
       "         '505 Games', 'Insomniac Games', 'Milestone S.r.l.', 'Atari',\n",
       "         'Microsoft Game Studios', 'Bigben Interactive', 'Milestone S.r.l'],\n",
       "        dtype=object),\n",
       "  'PS3': array(['Take-Two Interactive', 'Activision', 'Electronic Arts',\n",
       "         'Sony Computer Entertainment Europe', 'Ubisoft',\n",
       "         'Sony Computer Entertainment',\n",
       "         'Warner Bros. Interactive Entertainment',\n",
       "         'Konami Digital Entertainment', 'Namco Bandai Games',\n",
       "         'Square Enix', 'Deep Silver', 'Disney Interactive Studios',\n",
       "         'Capcom', 'Sega', 'Tecmo Koei', 'Codemasters',\n",
       "         'Nippon Ichi Software', 'Sony Computer Entertainment America',\n",
       "         '505 Games', 'D3Publisher', 'Trion Worlds', 'City Interactive',\n",
       "         'Arc System Works', 'Focus Home Interactive', 'Atlus',\n",
       "         'From Software', 'Aksys Games', 'Nordic Games',\n",
       "         'Tru Blu Entertainment'], dtype=object),\n",
       "  'PS4': array(['Take-Two Interactive', 'Electronic Arts', 'Activision',\n",
       "         'Bethesda Softworks', 'Sony Computer Entertainment', 'Ubisoft',\n",
       "         'Namco Bandai Games', 'Warner Bros. Interactive Entertainment',\n",
       "         'Konami Digital Entertainment', 'Square Enix',\n",
       "         'Sony Computer Entertainment Europe', 'Hello Games', 'Sega',\n",
       "         'Slightly Mad Studios', 'Capcom',\n",
       "         'Sony Computer Entertainment America', '505 Games', 'Codemasters',\n",
       "         'Focus Home Interactive', 'Harmonix Music Systems', 'Deep Silver',\n",
       "         'Kalypso Media', 'Nippon Ichi Software', 'Tecmo Koei',\n",
       "         'Milestone S.r.l.', 'Telltale Games', 'Marvelous Interactive',\n",
       "         'System 3', 'PQube', 'Tru Blu Entertainment', 'Bigben Interactive',\n",
       "         'CCP', 'Unknown', 'Yacht Club Games', 'Insomniac Games',\n",
       "         'Idea Factory International', 'Revolution Software', 'Xseed Games',\n",
       "         'Nordic Games', 'Tripwire Interactive', 'Dusenberry Martin Racing',\n",
       "         'Milestone S.r.l', 'Rebellion Developments',\n",
       "         'Alternative Software', 'Aksys Games', 'Gearbox Software',\n",
       "         'Introversion Software', 'Sold Out', 'Devolver Digital',\n",
       "         'Microids', 'Compile Heart', 'Avanquest', 'FuRyu Corporation',\n",
       "         'Stainless Games'], dtype=object),\n",
       "  'PSP': array(['Namco Bandai Games'], dtype=object),\n",
       "  'PSV': array(['Sony Computer Entertainment Europe', 'Square Enix',\n",
       "         'Sony Computer Entertainment', 'Take-Two Interactive',\n",
       "         'Warner Bros. Interactive Entertainment', 'Namco Bandai Games',\n",
       "         'Nippon Ichi Software', 'Tecmo Koei', 'Sega',\n",
       "         'Marvelous Interactive', 'Xseed Games', 'Screenlife', 'Ubisoft',\n",
       "         'Idea Factory', 'Idea Factory International', 'PQube',\n",
       "         'Sony Computer Entertainment America', 'GungHo', 'Capcom',\n",
       "         'Aksys Games', 'Rising Star Games', 'Arc System Works'],\n",
       "        dtype=object),\n",
       "  'WiiU': array(['Nintendo', 'Namco Bandai Games',\n",
       "         'Warner Bros. Interactive Entertainment', 'Ubisoft', 'Activision',\n",
       "         'Disney Interactive Studios', 'Sega', 'Capcom',\n",
       "         'Nippon Ichi Software', 'Yacht Club Games', 'Little Orbit',\n",
       "         'Deep Silver', '505 Games', 'Tecmo Koei', 'Nordic Games'],\n",
       "        dtype=object),\n",
       "  'X360': array(['Take-Two Interactive', 'Activision', 'Electronic Arts', 'Ubisoft',\n",
       "         'Warner Bros. Interactive Entertainment', 'Deep Silver',\n",
       "         'Microsoft Game Studios', 'Disney Interactive Studios', 'Sega',\n",
       "         'Namco Bandai Games', '505 Games', 'Trion Worlds',\n",
       "         'Konami Digital Entertainment', 'Capcom', 'Focus Home Interactive',\n",
       "         'Codemasters', 'Square Enix', 'City Interactive', 'Tecmo Koei',\n",
       "         'D3Publisher', 'Atlus', 'Nordic Games', 'Little Orbit',\n",
       "         'Kalypso Media'], dtype=object),\n",
       "  'XOne': array(['Take-Two Interactive', 'Activision', 'Microsoft Game Studios',\n",
       "         'Bethesda Softworks', 'Ubisoft', 'Electronic Arts',\n",
       "         'Warner Bros. Interactive Entertainment', 'Square Enix',\n",
       "         'Namco Bandai Games', 'Konami Digital Entertainment', 'Sega',\n",
       "         'Harmonix Music Systems', '505 Games', 'Slightly Mad Studios',\n",
       "         'Codemasters', 'Majesco Entertainment',\n",
       "         'Disney Interactive Studios', 'Deep Silver', 'Milestone S.r.l.',\n",
       "         'Capcom', 'Bigben Interactive', 'Tecmo Koei', 'Insomniac Games',\n",
       "         'Telltale Games', 'Unknown', 'Focus Home Interactive',\n",
       "         'Stainless Games', 'Revolution Software', 'Nordic Games',\n",
       "         'Sold Out', 'Koch Media', 'Milestone S.r.l'], dtype=object)}]"
      ]
     },
     "execution_count": 30,
     "metadata": {},
     "output_type": "execute_result"
    }
   ],
   "source": [
    "publisher_platforms = []\n",
    "for db in df_list:\n",
    "    publisher_platforms.append(db.groupby('Platform')['Publisher'].unique().to_dict())"
   ]
  },
  {
   "cell_type": "code",
   "execution_count": 31,
   "id": "b75a40bb",
   "metadata": {},
   "outputs": [
    {
     "data": {
      "text/plain": [
       "array(['Nintendo', 'Microsoft Game Studios', 'Take-Two Interactive',\n",
       "       'Sony Computer Entertainment', 'Activision', 'Ubisoft',\n",
       "       'Bethesda Softworks', 'Electronic Arts', 'SquareSoft',\n",
       "       'GT Interactive', 'Konami Digital Entertainment', 'Square Enix',\n",
       "       'Sony Computer Entertainment Europe', 'Virgin Interactive',\n",
       "       'LucasArts', '505 Games', 'Capcom',\n",
       "       'Warner Bros. Interactive Entertainment', 'Universal Interactive',\n",
       "       'RedOctane', 'Atari', 'Eidos Interactive', 'Namco Bandai Games',\n",
       "       'Vivendi Games', 'MTV Games', 'Sega', 'THQ',\n",
       "       'Disney Interactive Studios', 'Acclaim Entertainment',\n",
       "       'Midway Games', 'Deep Silver', 'NCSoft', 'Tecmo Koei',\n",
       "       'Valve Software', 'Infogrames', 'Mindscape', 'Valve',\n",
       "       'Hello Games', 'Global Star', 'Gotham Games',\n",
       "       'Crave Entertainment', 'Hasbro Interactive', 'Codemasters',\n",
       "       'TDK Mediactive', 'Zoo Games', 'Sony Oznline Entertainment', 'RTL',\n",
       "       'D3Publisher', 'Unknown', 'Black Label Games', 'SouthPeak Games',\n",
       "       'Zoo Digital Publishing', 'City Interactive', 'Empire Interactive',\n",
       "       'Russel', 'Atlus', 'Mastertronic', 'Slightly Mad Studios',\n",
       "       'Play It', 'Tomy Corporation', 'Focus Home Interactive',\n",
       "       'Game Factory', 'Titus', 'Marvelous Entertainment', 'Genki',\n",
       "       'TalonSoft', 'Square Enix ', 'SCi', 'Rage Software',\n",
       "       'Ubisoft Annecy', 'Rising Star Games', 'Enix Corporation',\n",
       "       'Level 5', 'Koch Media', 'Square EA', 'Touchstone', 'Spike',\n",
       "       'Nippon Ichi Software', 'Sony Computer Entertainment America',\n",
       "       'Illusion Softworks', 'Interplay', 'Metro 3D',\n",
       "       'Sony Online Entertainment', 'Rondomedia', 'Ghostlight',\n",
       "       'Majesco Entertainment', 'PQube', 'Trion Worlds', 'Xseed Games',\n",
       "       'Ignition Entertainment', 'Kadokawa Shoten', 'Natsume', 'Square',\n",
       "       'Gamebridge', 'Midas Interactive Entertainment',\n",
       "       'ASCII Entertainment', 'Rebellion', 'Harmonix Music Systems',\n",
       "       'Activision Blizzard', 'Xplosiv', 'System 3 Arcade Software',\n",
       "       'Wanadoo', 'NovaLogic', 'BAM! Entertainment', 'Tetris Online',\n",
       "       'Psygnosis', 'Screenlife', 'GungHo', 'Jester Interactive',\n",
       "       'Black Bean Games', '3DO', 'Takara Tomy', 'Sammy Corporation',\n",
       "       'Kalypso Media', 'Hudson Soft', 'Marvelous Interactive',\n",
       "       'Home Entertainment Suppliers', 'Arc System Works', 'Banpresto',\n",
       "       'Wargaming.net', 'Destineer', 'Pacific Century Cyber Works',\n",
       "       'PopCap Games', 'Indie Games', 'FuRyu', 'Nihon Falcom Corporation',\n",
       "       'Gathering of Developers', 'Oxygen Interactive',\n",
       "       'DTP Entertainment', 'Falcom Corporation', 'Kemco',\n",
       "       'Milestone S.r.l.', 'AQ Interactive', 'Agetec', 'XS Games',\n",
       "       'Activision Value', 'Telltale Games', 'Zushi Games', 'CCP',\n",
       "       'Agatsuma Entertainment', 'Compile Heart', 'Mad Catz', 'Gust',\n",
       "       'Media Rings', 'JoWood Productions', 'Brash Entertainment',\n",
       "       'Funcom', 'Jaleco', 'Playlogic Game Factory',\n",
       "       'Human Entertainment', 'Fox Interactive', 'Scholastic Inc.',\n",
       "       'System 3', 'Nordic Games', 'White Park Bay Software', 'EA Games',\n",
       "       'Acquire', 'Paradox Interactive', 'Yacht Club Games',\n",
       "       'Swing! Entertainment', 'Hip Interactive', 'Tripwire Interactive',\n",
       "       'Enterbrain', 'Havas Interactive', 'Sting', 'Idea Factory',\n",
       "       'Funsta', 'Tru Blu Entertainment', 'Moss', 'From Software',\n",
       "       'NDA Productions', 'Bigben Interactive',\n",
       "       'Idea Factory International', 'O-Games', 'Funbox Media',\n",
       "       'Valcon Games', 'PM Studios', 'Bohemia Interactive', 'Aqua Plus',\n",
       "       'Ackkstudios', 'HMH Interactive', 'inXile Entertainment', 'Cave',\n",
       "       'Microids', 'Phantom EFX', 'Evolved Games', 'O3 Entertainment',\n",
       "       'Aspyr', 'Nobilis', 'Sunsoft', 'DSI Games', 'Little Orbit',\n",
       "       'Telegames', 'The Adventure Company', 'Popcorn Arcade',\n",
       "       'Insomniac Games', 'Aksys Games', 'Taito', 'Reef Entertainment',\n",
       "       'Irem Software Engineering', 'Myelin Media', 'Success', 'SNK',\n",
       "       'Avalon Interactive', 'Revolution Software', 'Gamecock',\n",
       "       'Groove Games', 'Hudson Entertainment', 'Mercury Games',\n",
       "       'Ascaron Entertainment GmbH', 'Mastiff',\n",
       "       'Destination Software, Inc', 'Graffiti', '1C Company',\n",
       "       'Phantagram', 'DreamCatcher Interactive',\n",
       "       'Dusenberry Martin Racing', 'Navarre Corp', 'ESP',\n",
       "       'Team17 Software', 'Max Five', 'Conspiracy Entertainment',\n",
       "       'Milestone S.r.l', 'Rebellion Developments', 'Kool Kizz',\n",
       "       'Monte Christo Multimedia', '5pb',\n",
       "       'Cloud Imperium Games Corporation', 'Flashpoint Games',\n",
       "       'Alternative Software', 'DHM Interactive', 'Iceberg Interactive',\n",
       "       'MC2 Entertainment', '2D Boy', 'Gearbox Software',\n",
       "       'Global A Entertainment', 'Just Flight', 'bitComposer Games',\n",
       "       'Introversion Software', 'Sold Out', 'Sunflowers', 'id Software',\n",
       "       'Maxis', 'Pinnacle', 'Xicat Interactive', 'Devolver Digital',\n",
       "       'Number None', 'TopWare Interactive', 'Strategy First',\n",
       "       'Lexicon Entertainment', 'GOA', 'Avanquest',\n",
       "       'Graphsim Entertainment', 'Codemasters Online', 'Stainless Games',\n",
       "       '10TACLE Studios', 'FuRyu Corporation', 'Visco', 'Crimson Cow',\n",
       "       'Lighthouse Interactive', 'CDV Software Entertainment', 'Encore',\n",
       "       'Blue Byte', 'NewKidCo'], dtype=object)"
      ]
     },
     "execution_count": 31,
     "metadata": {},
     "output_type": "execute_result"
    }
   ],
   "source": [
    "publishers = df[\"Publisher\"].unique()"
   ]
  },
  {
   "cell_type": "code",
   "execution_count": 33,
   "id": "4d486c79",
   "metadata": {},
   "outputs": [
    {
     "data": {
      "text/plain": [
       "290"
      ]
     },
     "execution_count": 33,
     "metadata": {},
     "output_type": "execute_result"
    }
   ],
   "source": [
    "df['Name'].loc[df[\"Publisher\"] == 'Nintendo'].nunique() "
   ]
  },
  {
   "cell_type": "code",
   "execution_count": 34,
   "id": "b1ded30d",
   "metadata": {},
   "outputs": [],
   "source": [
    "action_graph = Graph(directed=False) # não-dirigido\n",
    "action_graph.add_vp('Publisher')\n",
    "action_graph.add_vp('Games_released')\n",
    "action_graph.add_ep('strength')\n",
    "\n",
    "for pub in publishers:\n",
    "    action_graph.add_vertex(pub)\n",
    "    action_graph.get_vertex(pub)['Publisher'] = pub\n",
    "    num_games = df['Name'].loc[df[\"Publisher\"] == pub].nunique() \n",
    "    action_graph.get_vertex(pub)['Games_released'] = num_games\n",
    "\n",
    "# for df in df_list:\n",
    "#     for pub in publishers:\n",
    "#         for pub2 in publishers:\n",
    "#             if pub != pub2 and not action_graph.has_edge(pub, pub2):\n",
    "#                 action_graph.add_edge(pub, pub2)"
   ]
  },
  {
   "cell_type": "code",
   "execution_count": 35,
   "id": "127ba2c2",
   "metadata": {},
   "outputs": [],
   "source": [
    "for platform_dict in publisher_platforms:\n",
    "    for platform, publishers in platform_dict.items():\n",
    "        for i in range(len(publishers)):\n",
    "            if i != len(publishers)-1:\n",
    "                next_vertex = i+1\n",
    "                while(next_vertex < len(publishers)):\n",
    "                    if(publishers[i] != publishers[next_vertex] and not action_graph.has_edge(publishers[i], publishers[next_vertex])):\n",
    "                        action_graph.add_edge(publishers[i], publishers[next_vertex])\n",
    "                        action_graph.get_edge(publishers[i], publishers[next_vertex])['strength'] = 1\n",
    "                        next_vertex += 1\n",
    "                    else:\n",
    "                        action_graph.get_edge(publishers[i], publishers[next_vertex])['strength'] += 1\n",
    "                        next_vertex += 1"
   ]
  },
  {
   "cell_type": "code",
   "execution_count": 36,
   "id": "3a0ef57d",
   "metadata": {},
   "outputs": [
    {
     "name": "stdout",
     "output_type": "stream",
     "text": [
      "número de vértices de g: 264\n"
     ]
    }
   ],
   "source": [
    "print('número de vértices de g:', action_graph.num_vertices())"
   ]
  },
  {
   "cell_type": "code",
   "execution_count": 37,
   "id": "0064d19a",
   "metadata": {},
   "outputs": [
    {
     "name": "stdout",
     "output_type": "stream",
     "text": [
      "número de arestaas de g: 10970\n"
     ]
    }
   ],
   "source": [
    "print('número de arestaas de g:', action_graph.num_edges())"
   ]
  },
  {
   "cell_type": "code",
   "execution_count": 38,
   "id": "c311f468",
   "metadata": {},
   "outputs": [],
   "source": [
    "gt_save(action_graph, 'action_graph.net.gz')"
   ]
  },
  {
   "cell_type": "code",
   "execution_count": 39,
   "id": "64c4bee4",
   "metadata": {},
   "outputs": [],
   "source": [
    "g = gt_load('action_graph.net.gz')\n",
    "g = gt_clean(g)\n",
    "m = gt_draw.sfdp_layout(g)\n",
    "gt_move(g, m)\n",
    "gt_save(g, 'action_sfdp.net.gz')"
   ]
  },
  {
   "cell_type": "code",
   "execution_count": 40,
   "id": "4d625fd4",
   "metadata": {},
   "outputs": [
    {
     "data": {
      "text/html": [
       "\n",
       "        <div id=\"2TkmSgp8b7XvWXqgqo4sQf\"></div>\n",
       "        <script>netpixi.render('2TkmSgp8b7XvWXqgqo4sQf', 'action_sfdp.net.gz', 1.7777777777777777, true, true, false);</script>\n",
       "    "
      ],
      "text/plain": [
       "<IPython.core.display.HTML object>"
      ]
     },
     "metadata": {},
     "output_type": "display_data"
    }
   ],
   "source": [
    "r = netpixi.render('action_sfdp.net.gz', infinite=True);"
   ]
  },
  {
   "cell_type": "code",
   "execution_count": 41,
   "id": "f15b7df2",
   "metadata": {},
   "outputs": [
    {
     "data": {
      "text/html": [
       "\n",
       "        <div id=\"eV3TkkddRxhMF5FXMzdAXB\"></div>\n",
       "        <script>netpixi.call('eV3TkkddRxhMF5FXMzdAXB', '2TkmSgp8b7XvWXqgqo4sQf', 'normalizeGraph', 'eyJ0eXBlIjogInZlcnRleCIsICJwcm9wcyI6IHsic3JjIjogIkdhbWVzX3JlbGVhc2VkIiwgIm1pbiI6IDIwLCAibWF4IjogNTB9fQo=');</script>\n",
       "    "
      ],
      "text/plain": [
       "<IPython.core.display.HTML object>"
      ]
     },
     "metadata": {},
     "output_type": "display_data"
    },
    {
     "data": {
      "text/html": [
       "\n",
       "        <div id=\"kDb3HSSfNZ3eb3KRBsrQgT\"></div>\n",
       "        <script>netpixi.call('kDb3HSSfNZ3eb3KRBsrQgT', '2TkmSgp8b7XvWXqgqo4sQf', 'normalizeGraph', 'eyJ0eXBlIjogImVkZ2UiLCAicHJvcHMiOiB7InNyYyI6ICJzdHJlbmd0aCIsICJtaW4iOiAwLjMsICJtYXgiOiA0fX0K');</script>\n",
       "    "
      ],
      "text/plain": [
       "<IPython.core.display.HTML object>"
      ]
     },
     "metadata": {},
     "output_type": "display_data"
    },
    {
     "data": {
      "text/html": [
       "\n",
       "        <div id=\"KnzkGnwdy6vYYnrmB5uYi9\"></div>\n",
       "        <script>netpixi.call('KnzkGnwdy6vYYnrmB5uYi9', '2TkmSgp8b7XvWXqgqo4sQf', 'changeGraph', 'eyJ0eXBlIjogInNldHRpbmdzIiwgInByb3BzIjogeyJ2ZXJ0ZXgiOiB7ImNvbG9yIjogMTY3NDYxMDAsICJrc2NhbGUiOiA0LCAiYndpZHRoIjogMywgImJjb2xvciI6IDB9fX0K');</script>\n",
       "    "
      ],
      "text/plain": [
       "<IPython.core.display.HTML object>"
      ]
     },
     "metadata": {},
     "output_type": "display_data"
    },
    {
     "data": {
      "text/html": [
       "\n",
       "        <div id=\"Ww4gVcF8b2kzBvQ26aXzYU\"></div>\n",
       "        <script>netpixi.call('Ww4gVcF8b2kzBvQ26aXzYU', '2TkmSgp8b7XvWXqgqo4sQf', 'changeGraph', 'eyJ0eXBlIjogInNldHRpbmdzIiwgInByb3BzIjogeyJlZGdlIjogeyJjdXJ2ZTEiOiAxLCAiY3VydmUyIjogMX19fQo=');</script>\n",
       "    "
      ],
      "text/plain": [
       "<IPython.core.display.HTML object>"
      ]
     },
     "metadata": {},
     "output_type": "display_data"
    },
    {
     "data": {
      "text/html": [
       "\n",
       "        <div id=\"de4vgr4v5bzGvB9EG5bwy4\"></div>\n",
       "        <script>netpixi.call('de4vgr4v5bzGvB9EG5bwy4', '2TkmSgp8b7XvWXqgqo4sQf', 'setGraph', 'eyJ0eXBlIjogInZlcnRleCIsICJwcm9wcyI6IHsic3JjIjogIlB1Ymxpc2hlciIsICJkc3QiOiAiX2tleSJ9fQo=');</script>\n",
       "    "
      ],
      "text/plain": [
       "<IPython.core.display.HTML object>"
      ]
     },
     "metadata": {},
     "output_type": "display_data"
    }
   ],
   "source": [
    "r.vertex_scale('Games_released', 20, 50)\n",
    "r.edge_scale('strength', 0.3, 4)\n",
    "r.vertex_default(color=0xff8674, kscale = 4, bwidth=3, bcolor=0x000000)\n",
    "r.edge_default(curve1=1, curve2=1)\n",
    "r.vertex_set_key('Publisher')"
   ]
  },
  {
   "cell_type": "markdown",
   "id": "02c5496f",
   "metadata": {},
   "source": [
    "# Densidade"
   ]
  },
  {
   "cell_type": "code",
   "execution_count": 45,
   "id": "e9e502db",
   "metadata": {},
   "outputs": [
    {
     "name": "stdout",
     "output_type": "stream",
     "text": [
      "Densidade do grafo: 0.3159926258785574\n"
     ]
    }
   ],
   "source": [
    "num_vertices = action_graph.num_vertices()\n",
    "num_edges = action_graph.num_edges()\n",
    "\n",
    "# Como sabemos que nosso grafo não é dirigido, podemos a fórmula a seguir\n",
    "max_edges = num_vertices * (num_vertices - 1) // 2\n",
    "density = num_edges / max_edges\n",
    "print('Densidade do grafo:', density)"
   ]
  },
  {
   "cell_type": "markdown",
   "id": "fb16c81d",
   "metadata": {},
   "source": [
    "# Centralidade Closeness"
   ]
  },
  {
   "cell_type": "code",
   "execution_count": 46,
   "id": "b999de3f",
   "metadata": {},
   "outputs": [],
   "source": [
    "from graph_tool import centrality\n",
    "g = gt_load(\"action_sfdp.net.gz\")\n",
    "\n",
    "cc = centrality.closeness(g)"
   ]
  },
  {
   "cell_type": "code",
   "execution_count": 47,
   "id": "96a93f71",
   "metadata": {},
   "outputs": [],
   "source": [
    "g.add_vp('closeness', cc)"
   ]
  },
  {
   "cell_type": "code",
   "execution_count": 48,
   "id": "51e2013b",
   "metadata": {},
   "outputs": [],
   "source": [
    "gt_save(g, 'graph_closeness_component.net.gz')"
   ]
  },
  {
   "cell_type": "code",
   "execution_count": 49,
   "id": "a486e40b",
   "metadata": {},
   "outputs": [],
   "source": [
    "g = gt_load('graph_closeness_component.net.gz')"
   ]
  },
  {
   "cell_type": "code",
   "execution_count": 52,
   "id": "559187a5",
   "metadata": {},
   "outputs": [
    {
     "ename": "NameError",
     "evalue": "name 'gt_data' is not defined",
     "output_type": "error",
     "traceback": [
      "\u001b[0;31m---------------------------------------------------------------------------\u001b[0m",
      "\u001b[0;31mNameError\u001b[0m                                 Traceback (most recent call last)",
      "Cell \u001b[0;32mIn [52], line 1\u001b[0m\n\u001b[0;32m----> 1\u001b[0m data \u001b[38;5;241m=\u001b[39m \u001b[43mgt_data\u001b[49m(g)\u001b[38;5;241m.\u001b[39msort_values(by\u001b[38;5;241m=\u001b[39m\u001b[38;5;124m\"\u001b[39m\u001b[38;5;124mcloseness\u001b[39m\u001b[38;5;124m\"\u001b[39m, ascending\u001b[38;5;241m=\u001b[39m\u001b[38;5;28;01mFalse\u001b[39;00m)\n\u001b[1;32m      2\u001b[0m data\n",
      "\u001b[0;31mNameError\u001b[0m: name 'gt_data' is not defined"
     ]
    }
   ],
   "source": [
    "data = gt_data(g).sort_values(by=\"closeness\", ascending=False)\n",
    "data"
   ]
  },
  {
   "cell_type": "code",
   "execution_count": 53,
   "id": "a7cb2f59",
   "metadata": {},
   "outputs": [
    {
     "data": {
      "text/html": [
       "\n",
       "        <div id=\"TtxuNrtCbeyNnmZDyjLyZ5\"></div>\n",
       "        <script>netpixi.render('TtxuNrtCbeyNnmZDyjLyZ5', 'graph_closeness_component.net.gz', 1.7777777777777777, true, true, false);</script>\n",
       "    "
      ],
      "text/plain": [
       "<IPython.core.display.HTML object>"
      ]
     },
     "metadata": {},
     "output_type": "display_data"
    }
   ],
   "source": [
    "r = netpixi.render('graph_closeness_component.net.gz', infinite=True)"
   ]
  },
  {
   "cell_type": "code",
   "execution_count": 56,
   "id": "e61d10c7",
   "metadata": {},
   "outputs": [
    {
     "data": {
      "text/html": [
       "\n",
       "        <div id=\"JsGk4ZXFPguWGdyJ8mo8ig\"></div>\n",
       "        <script>netpixi.call('JsGk4ZXFPguWGdyJ8mo8ig', 'TtxuNrtCbeyNnmZDyjLyZ5', 'normalizeGraph', 'eyJ0eXBlIjogInZlcnRleCIsICJwcm9wcyI6IHsic3JjIjogImNsb3NlbmVzcyIsICJtaW4iOiAxMCwgIm1heCI6IDUwfX0K');</script>\n",
       "    "
      ],
      "text/plain": [
       "<IPython.core.display.HTML object>"
      ]
     },
     "metadata": {},
     "output_type": "display_data"
    },
    {
     "data": {
      "text/html": [
       "\n",
       "        <div id=\"TAos89nxZ3GquKQQMNBrue\"></div>\n",
       "        <script>netpixi.call('TAos89nxZ3GquKQQMNBrue', 'TtxuNrtCbeyNnmZDyjLyZ5', 'setGraph', 'eyJ0eXBlIjogInZlcnRleCIsICJwcm9wcyI6IHsic3JjIjogIlB1Ymxpc2hlciIsICJkc3QiOiAiX2tleSJ9fQo=');</script>\n",
       "    "
      ],
      "text/plain": [
       "<IPython.core.display.HTML object>"
      ]
     },
     "metadata": {},
     "output_type": "display_data"
    }
   ],
   "source": [
    "r.vertex_scale('closeness', 10, 50)\n",
    "r.vertex_set_key('Publisher')"
   ]
  },
  {
   "cell_type": "code",
   "execution_count": null,
   "id": "0cbd5001",
   "metadata": {},
   "outputs": [],
   "source": []
  }
 ],
 "metadata": {
  "kernelspec": {
   "display_name": "Python 3 (ipykernel)",
   "language": "python",
   "name": "python3"
  },
  "language_info": {
   "codemirror_mode": {
    "name": "ipython",
    "version": 3
   },
   "file_extension": ".py",
   "mimetype": "text/x-python",
   "name": "python",
   "nbconvert_exporter": "python",
   "pygments_lexer": "ipython3",
   "version": "3.10.6"
  }
 },
 "nbformat": 4,
 "nbformat_minor": 5
}
