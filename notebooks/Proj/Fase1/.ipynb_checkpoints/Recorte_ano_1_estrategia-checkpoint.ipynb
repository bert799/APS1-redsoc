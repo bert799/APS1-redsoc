{
 "cells": [
  {
   "cell_type": "markdown",
   "id": "2382f740-c37b-42c3-9594-6b6f97627d89",
   "metadata": {},
   "source": [
    "# Recorte 1985 - 2002 -> Estratégia"
   ]
  },
  {
   "cell_type": "code",
   "execution_count": 2,
   "id": "439060c5-0ee8-4cfd-8368-dd33656984a3",
   "metadata": {},
   "outputs": [
    {
     "data": {
      "text/html": [
       "\n",
       "    <script src=\"/files/netpixi.min.js\"></script>\n"
      ],
      "text/plain": [
       "<IPython.core.display.HTML object>"
      ]
     },
     "metadata": {},
     "output_type": "display_data"
    },
    {
     "name": "stderr",
     "output_type": "stream",
     "text": [
      "<frozen importlib._bootstrap>:914: ImportWarning: VendorImporter.find_spec() not found; falling back to find_module()\n",
      "/usr/local/lib/python3.10/site-packages/seaborn/rcmod.py:82: DeprecationWarning: distutils Version classes are deprecated. Use packaging.version instead.\n",
      "  if LooseVersion(mpl.__version__) >= \"3.0\":\n",
      "/usr/local/lib/python3.10/site-packages/setuptools/_distutils/version.py:346: DeprecationWarning: distutils Version classes are deprecated. Use packaging.version instead.\n",
      "  other = LooseVersion(other)\n",
      "<frozen importlib._bootstrap>:914: ImportWarning: VendorImporter.find_spec() not found; falling back to find_module()\n",
      "/usr/local/lib/python3.10/site-packages/seaborn/cm.py:1582: PendingDeprecationWarning: The register_cmap function will be deprecated in a future version. Use ``matplotlib.colormaps.register(name)`` instead.\n",
      "  mpl_cm.register_cmap(_name, _cmap)\n",
      "/usr/local/lib/python3.10/site-packages/seaborn/cm.py:1583: PendingDeprecationWarning: The register_cmap function will be deprecated in a future version. Use ``matplotlib.colormaps.register(name)`` instead.\n",
      "  mpl_cm.register_cmap(_name + \"_r\", _cmap_r)\n",
      "<frozen importlib._bootstrap>:914: ImportWarning: VendorImporter.find_spec() not found; falling back to find_module()\n",
      "/usr/local/lib/python3.10/site-packages/seaborn/rcmod.py:400: DeprecationWarning: distutils Version classes are deprecated. Use packaging.version instead.\n",
      "  if LooseVersion(mpl.__version__) >= \"3.0\":\n",
      "/usr/local/lib/python3.10/site-packages/setuptools/_distutils/version.py:346: DeprecationWarning: distutils Version classes are deprecated. Use packaging.version instead.\n",
      "  other = LooseVersion(other)\n"
     ]
    }
   ],
   "source": [
    "# Importando bibliotecas necessárias para a construção de grafos\n",
    "import netpixi\n",
    "from netpixi.integration.gt import *\n",
    "from regression.integration.gt import *\n",
    "import pandas as pd\n",
    "import numpy as np\n",
    "import csv\n",
    "import ast\n",
    "import cpnet\n",
    "from graph_tool import spectral\n",
    "import seaborn as sns\n",
    "import regression as reg\n",
    "import cpnet\n",
    "\n",
    "from scipy import stats\n",
    "from matplotlib import pyplot as plt\n",
    "from graph_tool import centrality\n",
    "from graph_tool import spectral"
   ]
  },
  {
   "cell_type": "code",
   "execution_count": 51,
   "id": "53418d7d-5912-4706-8c88-db73c035180c",
   "metadata": {},
   "outputs": [],
   "source": [
    "df = pd.read_csv('./Video_Games_Sales_as_at_22_Dec_2016.csv')\n",
    "df.dropna(subset=['Publisher'], inplace=True)\n",
    "#df = df.loc[~df['Critic_Score'].isna() & ~df['User_Score'].isna() & ~df['Rating'].isna()]"
   ]
  },
  {
   "cell_type": "code",
   "execution_count": 52,
   "id": "c1b50c7f-3457-431e-b884-bc966843eb81",
   "metadata": {},
   "outputs": [
    {
     "data": {
      "text/html": [
       "<div>\n",
       "<style scoped>\n",
       "    .dataframe tbody tr th:only-of-type {\n",
       "        vertical-align: middle;\n",
       "    }\n",
       "\n",
       "    .dataframe tbody tr th {\n",
       "        vertical-align: top;\n",
       "    }\n",
       "\n",
       "    .dataframe thead th {\n",
       "        text-align: right;\n",
       "    }\n",
       "</style>\n",
       "<table border=\"1\" class=\"dataframe\">\n",
       "  <thead>\n",
       "    <tr style=\"text-align: right;\">\n",
       "      <th></th>\n",
       "      <th>Name</th>\n",
       "      <th>Platform</th>\n",
       "      <th>Year_of_Release</th>\n",
       "      <th>Genre</th>\n",
       "      <th>Publisher</th>\n",
       "      <th>NA_Sales</th>\n",
       "      <th>EU_Sales</th>\n",
       "      <th>JP_Sales</th>\n",
       "      <th>Other_Sales</th>\n",
       "      <th>Global_Sales</th>\n",
       "      <th>Critic_Score</th>\n",
       "      <th>Critic_Count</th>\n",
       "      <th>User_Score</th>\n",
       "      <th>User_Count</th>\n",
       "      <th>Developer</th>\n",
       "      <th>Rating</th>\n",
       "    </tr>\n",
       "  </thead>\n",
       "  <tbody>\n",
       "    <tr>\n",
       "      <th>0</th>\n",
       "      <td>Wii Sports</td>\n",
       "      <td>Wii</td>\n",
       "      <td>2006.0</td>\n",
       "      <td>Sports</td>\n",
       "      <td>Nintendo</td>\n",
       "      <td>41.36</td>\n",
       "      <td>28.96</td>\n",
       "      <td>3.77</td>\n",
       "      <td>8.45</td>\n",
       "      <td>82.53</td>\n",
       "      <td>76.0</td>\n",
       "      <td>51.0</td>\n",
       "      <td>8.0</td>\n",
       "      <td>322.0</td>\n",
       "      <td>Nintendo</td>\n",
       "      <td>E</td>\n",
       "    </tr>\n",
       "    <tr>\n",
       "      <th>1</th>\n",
       "      <td>Super Mario Bros.</td>\n",
       "      <td>NES</td>\n",
       "      <td>1985.0</td>\n",
       "      <td>Platform</td>\n",
       "      <td>Nintendo</td>\n",
       "      <td>29.08</td>\n",
       "      <td>3.58</td>\n",
       "      <td>6.81</td>\n",
       "      <td>0.77</td>\n",
       "      <td>40.24</td>\n",
       "      <td>NaN</td>\n",
       "      <td>NaN</td>\n",
       "      <td>NaN</td>\n",
       "      <td>NaN</td>\n",
       "      <td>NaN</td>\n",
       "      <td>NaN</td>\n",
       "    </tr>\n",
       "    <tr>\n",
       "      <th>2</th>\n",
       "      <td>Mario Kart Wii</td>\n",
       "      <td>Wii</td>\n",
       "      <td>2008.0</td>\n",
       "      <td>Racing</td>\n",
       "      <td>Nintendo</td>\n",
       "      <td>15.68</td>\n",
       "      <td>12.76</td>\n",
       "      <td>3.79</td>\n",
       "      <td>3.29</td>\n",
       "      <td>35.52</td>\n",
       "      <td>82.0</td>\n",
       "      <td>73.0</td>\n",
       "      <td>8.3</td>\n",
       "      <td>709.0</td>\n",
       "      <td>Nintendo</td>\n",
       "      <td>E</td>\n",
       "    </tr>\n",
       "    <tr>\n",
       "      <th>3</th>\n",
       "      <td>Wii Sports Resort</td>\n",
       "      <td>Wii</td>\n",
       "      <td>2009.0</td>\n",
       "      <td>Sports</td>\n",
       "      <td>Nintendo</td>\n",
       "      <td>15.61</td>\n",
       "      <td>10.93</td>\n",
       "      <td>3.28</td>\n",
       "      <td>2.95</td>\n",
       "      <td>32.77</td>\n",
       "      <td>80.0</td>\n",
       "      <td>73.0</td>\n",
       "      <td>8.0</td>\n",
       "      <td>192.0</td>\n",
       "      <td>Nintendo</td>\n",
       "      <td>E</td>\n",
       "    </tr>\n",
       "    <tr>\n",
       "      <th>4</th>\n",
       "      <td>Pokemon Red/Pokemon Blue</td>\n",
       "      <td>GB</td>\n",
       "      <td>1996.0</td>\n",
       "      <td>Role-Playing</td>\n",
       "      <td>Nintendo</td>\n",
       "      <td>11.27</td>\n",
       "      <td>8.89</td>\n",
       "      <td>10.22</td>\n",
       "      <td>1.00</td>\n",
       "      <td>31.37</td>\n",
       "      <td>NaN</td>\n",
       "      <td>NaN</td>\n",
       "      <td>NaN</td>\n",
       "      <td>NaN</td>\n",
       "      <td>NaN</td>\n",
       "      <td>NaN</td>\n",
       "    </tr>\n",
       "  </tbody>\n",
       "</table>\n",
       "</div>"
      ],
      "text/plain": [
       "                       Name Platform  Year_of_Release         Genre Publisher  \\\n",
       "0                Wii Sports      Wii           2006.0        Sports  Nintendo   \n",
       "1         Super Mario Bros.      NES           1985.0      Platform  Nintendo   \n",
       "2            Mario Kart Wii      Wii           2008.0        Racing  Nintendo   \n",
       "3         Wii Sports Resort      Wii           2009.0        Sports  Nintendo   \n",
       "4  Pokemon Red/Pokemon Blue       GB           1996.0  Role-Playing  Nintendo   \n",
       "\n",
       "   NA_Sales  EU_Sales  JP_Sales  Other_Sales  Global_Sales  Critic_Score  \\\n",
       "0     41.36     28.96      3.77         8.45         82.53          76.0   \n",
       "1     29.08      3.58      6.81         0.77         40.24           NaN   \n",
       "2     15.68     12.76      3.79         3.29         35.52          82.0   \n",
       "3     15.61     10.93      3.28         2.95         32.77          80.0   \n",
       "4     11.27      8.89     10.22         1.00         31.37           NaN   \n",
       "\n",
       "   Critic_Count  User_Score  User_Count Developer Rating  \n",
       "0          51.0         8.0       322.0  Nintendo      E  \n",
       "1           NaN         NaN         NaN       NaN    NaN  \n",
       "2          73.0         8.3       709.0  Nintendo      E  \n",
       "3          73.0         8.0       192.0  Nintendo      E  \n",
       "4           NaN         NaN         NaN       NaN    NaN  "
      ]
     },
     "execution_count": 52,
     "metadata": {},
     "output_type": "execute_result"
    }
   ],
   "source": [
    "df.head()"
   ]
  },
  {
   "cell_type": "code",
   "execution_count": 53,
   "id": "be8379db-25de-42da-88a9-81f4f555f222",
   "metadata": {},
   "outputs": [],
   "source": [
    "df_recortado = df.loc[(df['Year_of_Release'] >= 1985) & (df['Year_of_Release'] <= 2002) & (df['Genre'] == 'Strategy')] "
   ]
  },
  {
   "cell_type": "code",
   "execution_count": 54,
   "id": "c6e198bd-c628-45fd-9903-384fe69373d3",
   "metadata": {},
   "outputs": [
    {
     "data": {
      "text/html": [
       "<div>\n",
       "<style scoped>\n",
       "    .dataframe tbody tr th:only-of-type {\n",
       "        vertical-align: middle;\n",
       "    }\n",
       "\n",
       "    .dataframe tbody tr th {\n",
       "        vertical-align: top;\n",
       "    }\n",
       "\n",
       "    .dataframe thead th {\n",
       "        text-align: right;\n",
       "    }\n",
       "</style>\n",
       "<table border=\"1\" class=\"dataframe\">\n",
       "  <thead>\n",
       "    <tr style=\"text-align: right;\">\n",
       "      <th></th>\n",
       "      <th>Name</th>\n",
       "      <th>Platform</th>\n",
       "      <th>Year_of_Release</th>\n",
       "      <th>Genre</th>\n",
       "      <th>Publisher</th>\n",
       "      <th>NA_Sales</th>\n",
       "      <th>EU_Sales</th>\n",
       "      <th>JP_Sales</th>\n",
       "      <th>Other_Sales</th>\n",
       "      <th>Global_Sales</th>\n",
       "      <th>Critic_Score</th>\n",
       "      <th>Critic_Count</th>\n",
       "      <th>User_Score</th>\n",
       "      <th>User_Count</th>\n",
       "      <th>Developer</th>\n",
       "      <th>Rating</th>\n",
       "    </tr>\n",
       "  </thead>\n",
       "  <tbody>\n",
       "    <tr>\n",
       "      <th>168</th>\n",
       "      <td>Pokemon Stadium</td>\n",
       "      <td>N64</td>\n",
       "      <td>1999.0</td>\n",
       "      <td>Strategy</td>\n",
       "      <td>Nintendo</td>\n",
       "      <td>3.18</td>\n",
       "      <td>1.24</td>\n",
       "      <td>0.94</td>\n",
       "      <td>0.09</td>\n",
       "      <td>5.45</td>\n",
       "      <td>NaN</td>\n",
       "      <td>NaN</td>\n",
       "      <td>NaN</td>\n",
       "      <td>NaN</td>\n",
       "      <td>NaN</td>\n",
       "      <td>NaN</td>\n",
       "    </tr>\n",
       "    <tr>\n",
       "      <th>206</th>\n",
       "      <td>Warzone 2100</td>\n",
       "      <td>PS</td>\n",
       "      <td>1999.0</td>\n",
       "      <td>Strategy</td>\n",
       "      <td>Eidos Interactive</td>\n",
       "      <td>2.79</td>\n",
       "      <td>1.89</td>\n",
       "      <td>0.00</td>\n",
       "      <td>0.33</td>\n",
       "      <td>5.01</td>\n",
       "      <td>NaN</td>\n",
       "      <td>NaN</td>\n",
       "      <td>NaN</td>\n",
       "      <td>NaN</td>\n",
       "      <td>NaN</td>\n",
       "      <td>NaN</td>\n",
       "    </tr>\n",
       "    <tr>\n",
       "      <th>273</th>\n",
       "      <td>Warcraft II: Tides of Darkness</td>\n",
       "      <td>PC</td>\n",
       "      <td>1995.0</td>\n",
       "      <td>Strategy</td>\n",
       "      <td>Activision</td>\n",
       "      <td>1.70</td>\n",
       "      <td>2.27</td>\n",
       "      <td>0.00</td>\n",
       "      <td>0.23</td>\n",
       "      <td>4.21</td>\n",
       "      <td>NaN</td>\n",
       "      <td>NaN</td>\n",
       "      <td>NaN</td>\n",
       "      <td>NaN</td>\n",
       "      <td>NaN</td>\n",
       "      <td>NaN</td>\n",
       "    </tr>\n",
       "    <tr>\n",
       "      <th>339</th>\n",
       "      <td>Pokémon Trading Card Game</td>\n",
       "      <td>GB</td>\n",
       "      <td>1998.0</td>\n",
       "      <td>Strategy</td>\n",
       "      <td>Nintendo</td>\n",
       "      <td>1.49</td>\n",
       "      <td>0.73</td>\n",
       "      <td>1.38</td>\n",
       "      <td>0.10</td>\n",
       "      <td>3.70</td>\n",
       "      <td>NaN</td>\n",
       "      <td>NaN</td>\n",
       "      <td>NaN</td>\n",
       "      <td>NaN</td>\n",
       "      <td>NaN</td>\n",
       "      <td>NaN</td>\n",
       "    </tr>\n",
       "    <tr>\n",
       "      <th>510</th>\n",
       "      <td>Command &amp; Conquer: Red Alert</td>\n",
       "      <td>PC</td>\n",
       "      <td>1996.0</td>\n",
       "      <td>Strategy</td>\n",
       "      <td>Virgin Interactive</td>\n",
       "      <td>1.37</td>\n",
       "      <td>1.34</td>\n",
       "      <td>0.00</td>\n",
       "      <td>0.14</td>\n",
       "      <td>2.85</td>\n",
       "      <td>NaN</td>\n",
       "      <td>NaN</td>\n",
       "      <td>NaN</td>\n",
       "      <td>NaN</td>\n",
       "      <td>NaN</td>\n",
       "      <td>NaN</td>\n",
       "    </tr>\n",
       "  </tbody>\n",
       "</table>\n",
       "</div>"
      ],
      "text/plain": [
       "                               Name Platform  Year_of_Release     Genre  \\\n",
       "168                 Pokemon Stadium      N64           1999.0  Strategy   \n",
       "206                    Warzone 2100       PS           1999.0  Strategy   \n",
       "273  Warcraft II: Tides of Darkness       PC           1995.0  Strategy   \n",
       "339       Pokémon Trading Card Game       GB           1998.0  Strategy   \n",
       "510    Command & Conquer: Red Alert       PC           1996.0  Strategy   \n",
       "\n",
       "              Publisher  NA_Sales  EU_Sales  JP_Sales  Other_Sales  \\\n",
       "168            Nintendo      3.18      1.24      0.94         0.09   \n",
       "206   Eidos Interactive      2.79      1.89      0.00         0.33   \n",
       "273          Activision      1.70      2.27      0.00         0.23   \n",
       "339            Nintendo      1.49      0.73      1.38         0.10   \n",
       "510  Virgin Interactive      1.37      1.34      0.00         0.14   \n",
       "\n",
       "     Global_Sales  Critic_Score  Critic_Count  User_Score  User_Count  \\\n",
       "168          5.45           NaN           NaN         NaN         NaN   \n",
       "206          5.01           NaN           NaN         NaN         NaN   \n",
       "273          4.21           NaN           NaN         NaN         NaN   \n",
       "339          3.70           NaN           NaN         NaN         NaN   \n",
       "510          2.85           NaN           NaN         NaN         NaN   \n",
       "\n",
       "    Developer Rating  \n",
       "168       NaN    NaN  \n",
       "206       NaN    NaN  \n",
       "273       NaN    NaN  \n",
       "339       NaN    NaN  \n",
       "510       NaN    NaN  "
      ]
     },
     "execution_count": 54,
     "metadata": {},
     "output_type": "execute_result"
    }
   ],
   "source": [
    "df_recortado.head()"
   ]
  },
  {
   "cell_type": "code",
   "execution_count": 55,
   "id": "9ba726fb-198f-4df2-b62d-2a06dda1af0c",
   "metadata": {},
   "outputs": [
    {
     "name": "stdout",
     "output_type": "stream",
     "text": [
      "<class 'pandas.core.frame.DataFrame'>\n",
      "Int64Index: 182 entries, 168 to 16685\n",
      "Data columns (total 16 columns):\n",
      " #   Column           Non-Null Count  Dtype  \n",
      "---  ------           --------------  -----  \n",
      " 0   Name             182 non-null    object \n",
      " 1   Platform         182 non-null    object \n",
      " 2   Year_of_Release  182 non-null    float64\n",
      " 3   Genre            182 non-null    object \n",
      " 4   Publisher        182 non-null    object \n",
      " 5   NA_Sales         182 non-null    float64\n",
      " 6   EU_Sales         182 non-null    float64\n",
      " 7   JP_Sales         182 non-null    float64\n",
      " 8   Other_Sales      182 non-null    float64\n",
      " 9   Global_Sales     182 non-null    float64\n",
      " 10  Critic_Score     35 non-null     float64\n",
      " 11  Critic_Count     35 non-null     float64\n",
      " 12  User_Score       37 non-null     float64\n",
      " 13  User_Count       37 non-null     float64\n",
      " 14  Developer        42 non-null     object \n",
      " 15  Rating           42 non-null     object \n",
      "dtypes: float64(10), object(6)\n",
      "memory usage: 24.2+ KB\n"
     ]
    }
   ],
   "source": [
    "df_recortado.info()"
   ]
  },
  {
   "cell_type": "code",
   "execution_count": 56,
   "id": "5b419b5d-c70e-43f5-baa0-f71a45e8c201",
   "metadata": {},
   "outputs": [
    {
     "data": {
      "text/plain": [
       "1998.0    35\n",
       "1999.0    26\n",
       "2002.0    22\n",
       "1997.0    21\n",
       "2001.0    20\n",
       "2000.0    17\n",
       "1995.0    14\n",
       "1996.0    12\n",
       "1994.0     6\n",
       "1991.0     4\n",
       "1992.0     3\n",
       "1993.0     2\n",
       "Name: Year_of_Release, dtype: int64"
      ]
     },
     "execution_count": 56,
     "metadata": {},
     "output_type": "execute_result"
    }
   ],
   "source": [
    "df_recortado.Year_of_Release.value_counts()"
   ]
  },
  {
   "cell_type": "code",
   "execution_count": 57,
   "id": "efc53a2b-86f4-499c-bb0b-71ce04703687",
   "metadata": {},
   "outputs": [],
   "source": [
    "publishers = df_recortado[\"Publisher\"].unique()"
   ]
  },
  {
   "cell_type": "code",
   "execution_count": 58,
   "id": "3f089c55",
   "metadata": {},
   "outputs": [],
   "source": [
    "sixth_console_generation_strategy_graph = Graph(directed=False) # não-dirigido\n",
    "sixth_console_generation_strategy_graph.add_vp('Publisher')\n",
    "sixth_console_generation_strategy_graph.add_vp('Games_released')\n",
    "sixth_console_generation_strategy_graph.add_ep('strength')\n",
    "\n",
    "for pub in publishers:\n",
    "    sixth_console_generation_strategy_graph.add_vertex(pub)\n",
    "    sixth_console_generation_strategy_graph.get_vertex(pub)['Publisher'] = pub\n",
    "    num_games = df_recortado['Name'].loc[df_recortado[\"Publisher\"] == pub].nunique() \n",
    "    sixth_console_generation_strategy_graph.get_vertex(pub)['Games_released'] = num_games"
   ]
  },
  {
   "cell_type": "code",
   "execution_count": 59,
   "id": "3ca50808",
   "metadata": {},
   "outputs": [
    {
     "name": "stdout",
     "output_type": "stream",
     "text": [
      "[1985, 1986, 1987, 1988, 1989, 1990, 1991, 1992, 1993, 1994, 1995, 1996, 1997, 1998, 1999, 2000, 2001, 2002]\n"
     ]
    }
   ],
   "source": [
    "sorted_years = list(range(1985, 2003))\n",
    "print(sorted_years)"
   ]
  },
  {
   "cell_type": "code",
   "execution_count": 60,
   "id": "26d39394",
   "metadata": {},
   "outputs": [],
   "source": [
    "df_list = []\n",
    "\n",
    "margem = 4\n",
    "for i in range(0, len(sorted_years), margem):\n",
    "    df_list.append(df_recortado[df_recortado['Year_of_Release'].isin(sorted_years[i:i+margem])])"
   ]
  },
  {
   "cell_type": "code",
   "execution_count": 61,
   "id": "1f867e97",
   "metadata": {},
   "outputs": [],
   "source": [
    "publisher_platforms = []\n",
    "for db in df_list:\n",
    "    publisher_platforms.append(db.groupby('Platform')['Publisher'].unique().to_dict())"
   ]
  },
  {
   "cell_type": "code",
   "execution_count": 62,
   "id": "02df32bf",
   "metadata": {},
   "outputs": [],
   "source": [
    "for platform_dict in publisher_platforms:\n",
    "    for platform, publishers in platform_dict.items():\n",
    "        for i in range(len(publishers)):\n",
    "            if i != len(publishers)-1:\n",
    "                next_vertex = i+1\n",
    "                while(next_vertex < len(publishers)):\n",
    "                    if(publishers[i] != publishers[next_vertex] and not sixth_console_generation_strategy_graph.has_edge(publishers[i], publishers[next_vertex])):\n",
    "                        sixth_console_generation_strategy_graph.add_edge(publishers[i], publishers[next_vertex])\n",
    "                        sixth_console_generation_strategy_graph.get_edge(publishers[i], publishers[next_vertex])['strength'] = 1\n",
    "                        next_vertex += 1\n",
    "                    else:\n",
    "                        sixth_console_generation_strategy_graph.get_edge(publishers[i], publishers[next_vertex])['strength'] += 1\n",
    "                        next_vertex += 1"
   ]
  },
  {
   "cell_type": "code",
   "execution_count": 63,
   "id": "b5f2ec67",
   "metadata": {},
   "outputs": [
    {
     "name": "stdout",
     "output_type": "stream",
     "text": [
      "número de vértices de g: 53\n"
     ]
    }
   ],
   "source": [
    "print('número de vértices de g:', sixth_console_generation_strategy_graph.num_vertices())"
   ]
  },
  {
   "cell_type": "code",
   "execution_count": 64,
   "id": "533e9649",
   "metadata": {},
   "outputs": [
    {
     "name": "stdout",
     "output_type": "stream",
     "text": [
      "número de arestaas de g: 487\n"
     ]
    }
   ],
   "source": [
    "print('número de arestaas de g:', sixth_console_generation_strategy_graph.num_edges())"
   ]
  },
  {
   "cell_type": "code",
   "execution_count": 65,
   "id": "84da6cd3",
   "metadata": {},
   "outputs": [],
   "source": [
    "gt_save(sixth_console_generation_strategy_graph, 'sixth_console_generation_strategy_graph.net.gz')"
   ]
  },
  {
   "cell_type": "code",
   "execution_count": 66,
   "id": "2edf2fb2",
   "metadata": {},
   "outputs": [],
   "source": [
    "g = gt_load('sixth_console_generation_strategy_graph.net.gz')\n",
    "g = gt_clean(g)\n",
    "cc = centrality.closeness(g)\n",
    "g.add_vp('closeness', cc)\n",
    "m = gt_draw.sfdp_layout(g)\n",
    "gt_move(g, m)\n",
    "gt_save(g, 'sixth_console_generation_strategy_sfdp.net.gz')"
   ]
  },
  {
   "cell_type": "markdown",
   "id": "ecf51b76",
   "metadata": {},
   "source": [
    "# Análise"
   ]
  },
  {
   "cell_type": "markdown",
   "id": "51500731",
   "metadata": {},
   "source": [
    "# Proximidade X Sucesso"
   ]
  },
  {
   "cell_type": "code",
   "execution_count": 67,
   "id": "cc020294",
   "metadata": {},
   "outputs": [],
   "source": [
    "df_pro_suc = df_recortado.copy()"
   ]
  },
  {
   "cell_type": "code",
   "execution_count": 68,
   "id": "df639a35",
   "metadata": {},
   "outputs": [],
   "source": [
    "g = gt_load(\"sixth_console_generation_strategy_sfdp.net.gz\")"
   ]
  },
  {
   "cell_type": "code",
   "execution_count": 69,
   "id": "8c1670eb",
   "metadata": {},
   "outputs": [
    {
     "data": {
      "text/html": [
       "<div>\n",
       "<style scoped>\n",
       "    .dataframe tbody tr th:only-of-type {\n",
       "        vertical-align: middle;\n",
       "    }\n",
       "\n",
       "    .dataframe tbody tr th {\n",
       "        vertical-align: top;\n",
       "    }\n",
       "\n",
       "    .dataframe thead th {\n",
       "        text-align: right;\n",
       "    }\n",
       "</style>\n",
       "<table border=\"1\" class=\"dataframe\">\n",
       "  <thead>\n",
       "    <tr style=\"text-align: right;\">\n",
       "      <th></th>\n",
       "      <th>Publisher</th>\n",
       "      <th>closeness</th>\n",
       "    </tr>\n",
       "    <tr>\n",
       "      <th>id</th>\n",
       "      <th></th>\n",
       "      <th></th>\n",
       "    </tr>\n",
       "  </thead>\n",
       "  <tbody>\n",
       "    <tr>\n",
       "      <th>Nintendo</th>\n",
       "      <td>Nintendo</td>\n",
       "      <td>0.559140</td>\n",
       "    </tr>\n",
       "    <tr>\n",
       "      <th>Eidos Interactive</th>\n",
       "      <td>Eidos Interactive</td>\n",
       "      <td>0.702703</td>\n",
       "    </tr>\n",
       "    <tr>\n",
       "      <th>Activision</th>\n",
       "      <td>Activision</td>\n",
       "      <td>0.693333</td>\n",
       "    </tr>\n",
       "    <tr>\n",
       "      <th>Virgin Interactive</th>\n",
       "      <td>Virgin Interactive</td>\n",
       "      <td>0.753623</td>\n",
       "    </tr>\n",
       "    <tr>\n",
       "      <th>Electronic Arts</th>\n",
       "      <td>Electronic Arts</td>\n",
       "      <td>0.753623</td>\n",
       "    </tr>\n",
       "  </tbody>\n",
       "</table>\n",
       "</div>"
      ],
      "text/plain": [
       "                             Publisher  closeness\n",
       "id                                               \n",
       "Nintendo                      Nintendo   0.559140\n",
       "Eidos Interactive    Eidos Interactive   0.702703\n",
       "Activision                  Activision   0.693333\n",
       "Virgin Interactive  Virgin Interactive   0.753623\n",
       "Electronic Arts        Electronic Arts   0.753623"
      ]
     },
     "execution_count": 69,
     "metadata": {},
     "output_type": "execute_result"
    }
   ],
   "source": [
    "data = gt_data(g)\n",
    "data.drop('Games_released', axis=1, inplace=True)\n",
    "data.head()"
   ]
  },
  {
   "cell_type": "code",
   "execution_count": 70,
   "id": "c417f186",
   "metadata": {},
   "outputs": [
    {
     "name": "stdout",
     "output_type": "stream",
     "text": [
      "<class 'pandas.core.frame.DataFrame'>\n",
      "Int64Index: 182 entries, 0 to 181\n",
      "Data columns (total 17 columns):\n",
      " #   Column           Non-Null Count  Dtype  \n",
      "---  ------           --------------  -----  \n",
      " 0   Name             182 non-null    object \n",
      " 1   Platform         182 non-null    object \n",
      " 2   Year_of_Release  182 non-null    float64\n",
      " 3   Genre            182 non-null    object \n",
      " 4   Publisher        182 non-null    object \n",
      " 5   NA_Sales         182 non-null    float64\n",
      " 6   EU_Sales         182 non-null    float64\n",
      " 7   JP_Sales         182 non-null    float64\n",
      " 8   Other_Sales      182 non-null    float64\n",
      " 9   Global_Sales     182 non-null    float64\n",
      " 10  Critic_Score     35 non-null     float64\n",
      " 11  Critic_Count     35 non-null     float64\n",
      " 12  User_Score       37 non-null     float64\n",
      " 13  User_Count       37 non-null     float64\n",
      " 14  Developer        42 non-null     object \n",
      " 15  Rating           42 non-null     object \n",
      " 16  closeness        182 non-null    float64\n",
      "dtypes: float64(11), object(6)\n",
      "memory usage: 25.6+ KB\n"
     ]
    }
   ],
   "source": [
    "df_pro_suc = pd.merge(df_pro_suc, data, on = \"Publisher\", how = \"inner\")\n",
    "df_pro_suc.info()"
   ]
  },
  {
   "cell_type": "code",
   "execution_count": 71,
   "id": "2a4cfab3",
   "metadata": {},
   "outputs": [
    {
     "data": {
      "image/png": "[encoded data removed]",
      "text/plain": [
       "<Figure size 640x480 with 1 Axes>"
      ]
     },
     "metadata": {},
     "output_type": "display_data"
    }
   ],
   "source": [
    "sns.regplot(x=df_pro_suc['closeness'], y=np.log(df_pro_suc['Global_Sales']), scatter_kws={\"color\": \"black\"}, line_kws={\"color\": \"red\"});"
   ]
  },
  {
   "cell_type": "code",
   "execution_count": 72,
   "id": "29dfc901",
   "metadata": {},
   "outputs": [],
   "source": [
    "result = reg.linear(data=df_pro_suc, formula='np.log(Global_Sales) ~ closeness')"
   ]
  },
  {
   "cell_type": "code",
   "execution_count": 73,
   "id": "6a20a0e0",
   "metadata": {},
   "outputs": [
    {
     "data": {
      "text/html": [
       "<style type=\"text/css\">\n",
       "#T_49215_row0_col0 {\n",
       "  font-family: monospace;\n",
       "  text-align: left;\n",
       "}\n",
       "</style>\n",
       "<table id=\"T_49215\">\n",
       "  <thead>\n",
       "  </thead>\n",
       "  <tbody>\n",
       "    <tr>\n",
       "      <td id=\"T_49215_row0_col0\" class=\"data row0 col0\" >+2.839 (0.856) ***</td>\n",
       "    </tr>\n",
       "  </tbody>\n",
       "</table>\n"
      ],
      "text/plain": [
       "<pandas.io.formats.style.Styler at 0x7f022ab86590>"
      ]
     },
     "execution_count": 73,
     "metadata": {},
     "output_type": "execute_result"
    }
   ],
   "source": [
    "result.nano_summary()"
   ]
  },
  {
   "cell_type": "code",
   "execution_count": 74,
   "id": "294f8393",
   "metadata": {
    "scrolled": false
   },
   "outputs": [
    {
     "data": {
      "image/png": "[encoded data removed]",
      "text/plain": [
       "<Figure size 1280x480 with 2 Axes>"
      ]
     },
     "metadata": {},
     "output_type": "display_data"
    }
   ],
   "source": [
    "result.plot_residuals()"
   ]
  }
 ],
 "metadata": {
  "kernelspec": {
   "display_name": "Python 3 (ipykernel)",
   "language": "python",
   "name": "python3"
  },
  "language_info": {
   "codemirror_mode": {
    "name": "ipython",
    "version": 3
   },
   "file_extension": ".py",
   "mimetype": "text/x-python",
   "name": "python",
   "nbconvert_exporter": "python",
   "pygments_lexer": "ipython3",
   "version": "3.10.6"
  }
 },
 "nbformat": 4,
 "nbformat_minor": 5
}
