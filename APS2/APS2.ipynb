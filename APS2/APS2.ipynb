{
 "cells": [
  {
   "cell_type": "markdown",
   "id": "ecc54b70",
   "metadata": {},
   "source": [
    "<h1>Redes Sociais: APS 2</h1>\n",
    "\n",
    "<h3>Professor: Marcelo Hashimoto</h3>\n",
    "\n",
    "<h3>Alunos: Bernardo Capoferri, Nicolas Queiroga e Raphael Lahiry<h3>"
   ]
  },
  {
   "cell_type": "markdown",
   "id": "b01624c0",
   "metadata": {},
   "source": [
    "<h1>Carregando o Grafo</h1>"
   ]
  },
  {
   "cell_type": "code",
   "execution_count": 1,
   "id": "18158bc0",
   "metadata": {},
   "outputs": [
    {
     "data": {
      "text/html": [
       "\n",
       "    <script src=\"/files/netpixi.min.js\"></script>\n"
      ],
      "text/plain": [
       "<IPython.core.display.HTML object>"
      ]
     },
     "metadata": {},
     "output_type": "display_data"
    },
    {
     "name": "stderr",
     "output_type": "stream",
     "text": [
      "/usr/local/lib/python3.10/site-packages/seaborn/rcmod.py:4: DeprecationWarning: The distutils package is deprecated and slated for removal in Python 3.12. Use setuptools or check PEP 632 for potential alternatives\n",
      "  from distutils.version import LooseVersion\n",
      "<frozen importlib._bootstrap>:914: ImportWarning: VendorImporter.find_spec() not found; falling back to find_module()\n",
      "<frozen importlib._bootstrap>:914: ImportWarning: VendorImporter.find_spec() not found; falling back to find_module()\n",
      "<frozen importlib._bootstrap>:914: ImportWarning: VendorImporter.find_spec() not found; falling back to find_module()\n"
     ]
    }
   ],
   "source": [
    "# Importando bibliotecas necessárias para a construção de grafos\n",
    "import netpixi\n",
    "import graph_tool.topology\n",
    "from netpixi.integration.gt import *\n",
    "from regression.integration.gt import *"
   ]
  },
  {
   "cell_type": "markdown",
   "id": "2d159727",
   "metadata": {},
   "source": [
    "<h1>Reduzindo o Grafo a uma Componente e posicionando os vértices baseado em force-directed graph drawing</h1>"
   ]
  },
  {
   "cell_type": "markdown",
   "id": "7ba0c58e",
   "metadata": {},
   "source": [
    "## Criando Grafo da maior componente"
   ]
  },
  {
   "cell_type": "code",
   "execution_count": null,
   "id": "76f92e43",
   "metadata": {},
   "outputs": [],
   "source": [
    "g = gt_load('graph_us_roads.net.gz');"
   ]
  },
  {
   "cell_type": "code",
   "execution_count": null,
   "id": "79474776",
   "metadata": {},
   "outputs": [],
   "source": [
    "g = gt_clean(g)\n",
    "\n",
    "m = gt_draw.sfdp_layout(g)\n",
    "gt_move(g, m)\n",
    "gt_save(g, 'graph_us_roads_component.net.gz')\n",
    "r = netpixi.render('graph_us_roads_component.net.gz')"
   ]
  },
  {
   "cell_type": "markdown",
   "id": "70270bef",
   "metadata": {},
   "source": [
    "## Criando segunda maior componente\n",
    "\n",
    "Devido a limitações de renderização foi necessário escolher uma componente menor para poder visualizar os dados calculados."
   ]
  },
  {
   "cell_type": "markdown",
   "id": "4e69a395",
   "metadata": {},
   "source": [
    "### Criando uma lista que classifica a qual componente cada vértice pertence"
   ]
  },
  {
   "cell_type": "code",
   "execution_count": 3,
   "id": "d04f4b95",
   "metadata": {},
   "outputs": [],
   "source": [
    "comp, hist = graph_tool.topology.label_components(g, directed=False)"
   ]
  },
  {
   "cell_type": "markdown",
   "id": "e6442c18",
   "metadata": {},
   "source": [
    "### Selecionando segundo maior componente do grafo para visualização e salvando-o para um arquivo .net.gz"
   ]
  },
  {
   "cell_type": "code",
   "execution_count": 4,
   "id": "7923ad2c",
   "metadata": {},
   "outputs": [],
   "source": [
    "sum_dic = {}\n",
    "for node in comp.a:\n",
    "    if node not in sum_dic:\n",
    "        sum_dic[node] = 1\n",
    "    else:\n",
    "        sum_dic[node] += 1\n",
    "\n",
    "componente = sorted(sum_dic, key=sum_dic.get)[-2]"
   ]
  },
  {
   "cell_type": "code",
   "execution_count": 5,
   "id": "f6f9fe2a",
   "metadata": {},
   "outputs": [
    {
     "name": "stdout",
     "output_type": "stream",
     "text": [
      "Número de vértices do grafo: 1923\n",
      "Número de arestas do grafo: 2279\n"
     ]
    }
   ],
   "source": [
    "# Leitura e do arquivo e construção do grafo\n",
    "\n",
    "graph_us_roads_component_menor = Graph(directed=False) # grafo não-dirigido\n",
    "\n",
    "with open('./road-usroads.mtx') as file:\n",
    "    \n",
    "    # Pula primeiras 14 linhas para chegar nas linhas com os dados do grafo\n",
    "    for i in range(14):\n",
    "        next(file)\n",
    "        \n",
    "    graph_data = file.readline().split()\n",
    "    n_nodes = int(graph_data[1])\n",
    "    n_edges = int(graph_data[2])\n",
    "    \n",
    "    \n",
    "    # Adicionando vétices ao grafo\n",
    "    for i in range(n_nodes):\n",
    "        if comp.a[i] == componente:\n",
    "            graph_us_roads_component_menor.add_vertex(i+1)\n",
    "    \n",
    "    # Adicionando arestas ao grafo\n",
    "    for edges in file:\n",
    "        edge_data = edges.split()\n",
    "        if comp.a[int(edge_data[0])-1] == componente and comp.a[int(edge_data[1])-1] == componente:\n",
    "            graph_us_roads_component_menor.add_edge(int(edge_data[0]), int(edge_data[1]))\n",
    "\n",
    "print('Número de vértices do grafo:', graph_us_roads_component_menor.num_vertices())\n",
    "print('Número de arestas do grafo:', graph_us_roads_component_menor.num_edges())"
   ]
  },
  {
   "cell_type": "code",
   "execution_count": 6,
   "id": "6dda275c",
   "metadata": {},
   "outputs": [],
   "source": [
    "m = gt_draw.sfdp_layout(graph_us_roads_component_menor)\n",
    "gt_move(graph_us_roads_component_menor, m)\n",
    "gt_save(graph_us_roads_component_menor, 'graph_us_roads_component_menor.net.gz')"
   ]
  },
  {
   "cell_type": "code",
   "execution_count": 6,
   "id": "80427e45",
   "metadata": {},
   "outputs": [],
   "source": [
    "g = gt_load(\"graph_us_roads_component.net.gz\")\n",
    "g_menor = gt_load(\"graph_us_roads_component_menor.net.gz\")"
   ]
  },
  {
   "cell_type": "code",
   "execution_count": 9,
   "id": "dcdeaf12",
   "metadata": {},
   "outputs": [
    {
     "name": "stdout",
     "output_type": "stream",
     "text": [
      "Número de vértices do grafo: 126146\n",
      "Número de arestas do grafo: 161950\n"
     ]
    }
   ],
   "source": [
    "print('Número de vértices do grafo:', g.num_vertices())\n",
    "print('Número de arestas do grafo:', g.num_edges())"
   ]
  },
  {
   "cell_type": "markdown",
   "id": "3bdd98f7",
   "metadata": {},
   "source": [
    "<h1>Questões</h1>"
   ]
  },
  {
   "cell_type": "markdown",
   "id": "104871d2",
   "metadata": {},
   "source": [
    "<h2>a. O que os vértices da rede representam?</h2>"
   ]
  },
  {
   "cell_type": "markdown",
   "id": "1c76c1dd",
   "metadata": {},
   "source": [
    "<h1>Carregando o Grafo</h1>"
   ]
  },
  {
   "cell_type": "markdown",
   "id": "463a9099",
   "metadata": {},
   "source": [
    "Os vértices da rede representam ruas dos Estados Unidos."
   ]
  },
  {
   "cell_type": "markdown",
   "id": "34886662",
   "metadata": {},
   "source": [
    "<h2>b. O que as arestas da rede representam?</h2>"
   ]
  },
  {
   "cell_type": "markdown",
   "id": "d6faa5a1",
   "metadata": {},
   "source": [
    "As arestas da rede indicam conexões entre ruas dos Estados Unidos."
   ]
  },
  {
   "cell_type": "markdown",
   "id": "5ecb9c20",
   "metadata": {},
   "source": [
    "<h2>c. O que os grupos formados pela tarefa 4 representam?</h2>"
   ]
  },
  {
   "cell_type": "markdown",
   "id": "c04d0327",
   "metadata": {},
   "source": [
    "Os grupos formados pela tarefa 4 representam uma grande densidade de ruas que se conectam, muito possivelmente configurando um região urbana."
   ]
  },
  {
   "cell_type": "markdown",
   "id": "f1bf5abe",
   "metadata": {},
   "source": [
    "<h1>Métricas</h1>"
   ]
  },
  {
   "cell_type": "markdown",
   "id": "51994fd2",
   "metadata": {},
   "source": [
    "<h2>Centralidade Degree</h2>"
   ]
  },
  {
   "cell_type": "markdown",
   "id": "f21c7fa8",
   "metadata": {},
   "source": [
    "<h3>a. Calculando a Métrica</h3>"
   ]
  },
  {
   "cell_type": "code",
   "execution_count": 10,
   "id": "ecac5cd0",
   "metadata": {},
   "outputs": [],
   "source": [
    "dc = gt_total_degree(g)\n",
    "dc_menor = gt_total_degree(g_menor)"
   ]
  },
  {
   "cell_type": "code",
   "execution_count": 11,
   "id": "878158db",
   "metadata": {},
   "outputs": [],
   "source": [
    "g.add_vp('degree', dc)\n",
    "g_menor.add_vp('degree', dc_menor)"
   ]
  },
  {
   "cell_type": "code",
   "execution_count": 12,
   "id": "dc01d32c",
   "metadata": {},
   "outputs": [],
   "source": [
    "gt_save(g_menor, 'graph_degree_component_menor.net.gz')\n",
    "gt_save(g, 'graph_degree_component.net.gz')"
   ]
  },
  {
   "cell_type": "code",
   "execution_count": null,
   "id": "9a24ad38",
   "metadata": {},
   "outputs": [],
   "source": [
    "g = gt_load('graph_degree_component.net.gz')"
   ]
  },
  {
   "cell_type": "code",
   "execution_count": 19,
   "id": "ef28a944",
   "metadata": {},
   "outputs": [
    {
     "data": {
      "text/html": [
       "<div>\n",
       "<style scoped>\n",
       "    .dataframe tbody tr th:only-of-type {\n",
       "        vertical-align: middle;\n",
       "    }\n",
       "\n",
       "    .dataframe tbody tr th {\n",
       "        vertical-align: top;\n",
       "    }\n",
       "\n",
       "    .dataframe thead th {\n",
       "        text-align: right;\n",
       "    }\n",
       "</style>\n",
       "<table border=\"1\" class=\"dataframe\">\n",
       "  <thead>\n",
       "    <tr style=\"text-align: right;\">\n",
       "      <th></th>\n",
       "      <th>label</th>\n",
       "      <th>degree</th>\n",
       "    </tr>\n",
       "    <tr>\n",
       "      <th>id</th>\n",
       "      <th></th>\n",
       "      <th></th>\n",
       "    </tr>\n",
       "  </thead>\n",
       "  <tbody>\n",
       "    <tr>\n",
       "      <th>532</th>\n",
       "      <td>532</td>\n",
       "      <td>0.000008</td>\n",
       "    </tr>\n",
       "    <tr>\n",
       "      <th>42681</th>\n",
       "      <td>42681</td>\n",
       "      <td>0.000008</td>\n",
       "    </tr>\n",
       "    <tr>\n",
       "      <th>42750</th>\n",
       "      <td>42750</td>\n",
       "      <td>0.000008</td>\n",
       "    </tr>\n",
       "    <tr>\n",
       "      <th>42776</th>\n",
       "      <td>42776</td>\n",
       "      <td>0.000008</td>\n",
       "    </tr>\n",
       "    <tr>\n",
       "      <th>42802</th>\n",
       "      <td>42802</td>\n",
       "      <td>0.000008</td>\n",
       "    </tr>\n",
       "    <tr>\n",
       "      <th>...</th>\n",
       "      <td>...</td>\n",
       "      <td>...</td>\n",
       "    </tr>\n",
       "    <tr>\n",
       "      <th>111891</th>\n",
       "      <td>111891</td>\n",
       "      <td>0.000048</td>\n",
       "    </tr>\n",
       "    <tr>\n",
       "      <th>102661</th>\n",
       "      <td>102661</td>\n",
       "      <td>0.000048</td>\n",
       "    </tr>\n",
       "    <tr>\n",
       "      <th>42386</th>\n",
       "      <td>42386</td>\n",
       "      <td>0.000048</td>\n",
       "    </tr>\n",
       "    <tr>\n",
       "      <th>46202</th>\n",
       "      <td>46202</td>\n",
       "      <td>0.000048</td>\n",
       "    </tr>\n",
       "    <tr>\n",
       "      <th>58611</th>\n",
       "      <td>58611</td>\n",
       "      <td>0.000055</td>\n",
       "    </tr>\n",
       "  </tbody>\n",
       "</table>\n",
       "<p>126146 rows × 2 columns</p>\n",
       "</div>"
      ],
      "text/plain": [
       "         label    degree\n",
       "id                      \n",
       "532        532  0.000008\n",
       "42681    42681  0.000008\n",
       "42750    42750  0.000008\n",
       "42776    42776  0.000008\n",
       "42802    42802  0.000008\n",
       "...        ...       ...\n",
       "111891  111891  0.000048\n",
       "102661  102661  0.000048\n",
       "42386    42386  0.000048\n",
       "46202    46202  0.000048\n",
       "58611    58611  0.000055\n",
       "\n",
       "[126146 rows x 2 columns]"
      ]
     },
     "execution_count": 19,
     "metadata": {},
     "output_type": "execute_result"
    }
   ],
   "source": [
    "data = gt_data(g).sort_values(by=\"degree\", ascending=True)\n",
    "data"
   ]
  },
  {
   "cell_type": "markdown",
   "id": "4a287c6d",
   "metadata": {},
   "source": [
    "<h3>b. Chamando o método vertex_scale da netpixi para usar a métrica como referência para os tamanhos dos vértices</h3>"
   ]
  },
  {
   "cell_type": "code",
   "execution_count": 34,
   "id": "940d64ee",
   "metadata": {},
   "outputs": [
    {
     "data": {
      "text/html": [
       "\n",
       "        <div id=\"GGJaEcLmDMdXTLUYUSuafj\"></div>\n",
       "        <script>netpixi.render('GGJaEcLmDMdXTLUYUSuafj', 'graph_degree_component_menor.net.gz', 1.7777777777777777, true, true, false);</script>\n",
       "    "
      ],
      "text/plain": [
       "<IPython.core.display.HTML object>"
      ]
     },
     "metadata": {},
     "output_type": "display_data"
    }
   ],
   "source": [
    "r = netpixi.render('graph_degree_component_menor.net.gz', infinite=True)"
   ]
  },
  {
   "cell_type": "code",
   "execution_count": 36,
   "id": "b153ea35",
   "metadata": {},
   "outputs": [
    {
     "data": {
      "text/html": [
       "\n",
       "        <div id=\"azqri56GFe4KoYxipvN6hb\"></div>\n",
       "        <script>netpixi.call('azqri56GFe4KoYxipvN6hb', 'GGJaEcLmDMdXTLUYUSuafj', 'normalizeGraph', 'eyJ0eXBlIjogInZlcnRleCIsICJwcm9wcyI6IHsic3JjIjogImRlZ3JlZSIsICJtaW4iOiAxMCwgIm1heCI6IDUwfX0K');</script>\n",
       "    "
      ],
      "text/plain": [
       "<IPython.core.display.HTML object>"
      ]
     },
     "metadata": {},
     "output_type": "display_data"
    }
   ],
   "source": [
    "r.vertex_scale('degree', 10, 50)"
   ]
  },
  {
   "cell_type": "markdown",
   "id": "b4217e89",
   "metadata": {},
   "source": [
    "<h3>c. Salvando uma imagem que mostre com clareza essas diferenças de tamanho</h3>"
   ]
  },
  {
   "cell_type": "markdown",
   "id": "48f3b780",
   "metadata": {},
   "source": [
    "<h3>d.1. A métrica representa algum conceito? Se sim, qual?</h3>"
   ]
  },
  {
   "cell_type": "markdown",
   "id": "420e5f3f",
   "metadata": {},
   "source": [
    "A métrica degree nos fala quantas arestas estão conectadas à um vértice. No nosso caso, o degree de um vértice representaria a quantidade de ruas ligadas a ele."
   ]
  },
  {
   "cell_type": "markdown",
   "id": "5bbc2f92",
   "metadata": {},
   "source": [
    "<h3>d.2. Os maiores vértices (considerando a tarefa 6b) parecem estar em posições interessantes? Quais?</h3>"
   ]
  },
  {
   "cell_type": "markdown",
   "id": "4d69ce74",
   "metadata": {},
   "source": [
    "Sim. Representando as ruas com maiores conexões, os maiores vértices parecem estar localizados ou em clusters de vértices, ou seja, agrupamentos mais densos de ruas, ou em regiões de conexão entre outros clusters."
   ]
  },
  {
   "cell_type": "markdown",
   "id": "b75eb375",
   "metadata": {},
   "source": [
    "<h2>Centralidade Betweenness</h2>"
   ]
  },
  {
   "cell_type": "markdown",
   "id": "5000c921",
   "metadata": {},
   "source": [
    "<h3>a. Calculando a Métrica</h3>"
   ]
  },
  {
   "cell_type": "code",
   "execution_count": null,
   "id": "001152a2",
   "metadata": {},
   "outputs": [],
   "source": [
    "from graph_tool import centrality\n",
    "g = gt_load(\"graph_us_roads_component.net.gz\")\n",
    "g_menor = gt_load(\"graph_us_roads_component_menor.net.gz\")\n",
    "\n",
    "bc, _ = centrality.betweenness(g)\n",
    "bc_menor, _ = centrality.betweenness(g_menor)"
   ]
  },
  {
   "cell_type": "code",
   "execution_count": 23,
   "id": "3b47723b",
   "metadata": {},
   "outputs": [],
   "source": [
    "g.add_vp('betweenness', bc)\n",
    "g_menor.add_vp('betweenness', bc_menor)"
   ]
  },
  {
   "cell_type": "code",
   "execution_count": 24,
   "id": "76755840",
   "metadata": {},
   "outputs": [],
   "source": [
    "gt_save(g_menor, 'graph_betweeness_component_menor.net.gz')\n",
    "gt_save(g, 'graph_betweeness_component.net.gz')"
   ]
  },
  {
   "cell_type": "code",
   "execution_count": 3,
   "id": "36c83120",
   "metadata": {},
   "outputs": [],
   "source": [
    "g = gt_load('graph_betweeness_component.net.gz')"
   ]
  },
  {
   "cell_type": "code",
   "execution_count": 4,
   "id": "ad8a05a1",
   "metadata": {},
   "outputs": [
    {
     "data": {
      "text/html": [
       "<div>\n",
       "<style scoped>\n",
       "    .dataframe tbody tr th:only-of-type {\n",
       "        vertical-align: middle;\n",
       "    }\n",
       "\n",
       "    .dataframe tbody tr th {\n",
       "        vertical-align: top;\n",
       "    }\n",
       "\n",
       "    .dataframe thead th {\n",
       "        text-align: right;\n",
       "    }\n",
       "</style>\n",
       "<table border=\"1\" class=\"dataframe\">\n",
       "  <thead>\n",
       "    <tr style=\"text-align: right;\">\n",
       "      <th></th>\n",
       "      <th>label</th>\n",
       "      <th>betweenness</th>\n",
       "    </tr>\n",
       "    <tr>\n",
       "      <th>id</th>\n",
       "      <th></th>\n",
       "      <th></th>\n",
       "    </tr>\n",
       "  </thead>\n",
       "  <tbody>\n",
       "    <tr>\n",
       "      <th>77580</th>\n",
       "      <td>77580</td>\n",
       "      <td>0.213117</td>\n",
       "    </tr>\n",
       "    <tr>\n",
       "      <th>78746</th>\n",
       "      <td>78746</td>\n",
       "      <td>0.211596</td>\n",
       "    </tr>\n",
       "    <tr>\n",
       "      <th>78261</th>\n",
       "      <td>78261</td>\n",
       "      <td>0.206446</td>\n",
       "    </tr>\n",
       "    <tr>\n",
       "      <th>77901</th>\n",
       "      <td>77901</td>\n",
       "      <td>0.206056</td>\n",
       "    </tr>\n",
       "    <tr>\n",
       "      <th>78026</th>\n",
       "      <td>78026</td>\n",
       "      <td>0.205337</td>\n",
       "    </tr>\n",
       "    <tr>\n",
       "      <th>...</th>\n",
       "      <td>...</td>\n",
       "      <td>...</td>\n",
       "    </tr>\n",
       "    <tr>\n",
       "      <th>79419</th>\n",
       "      <td>79419</td>\n",
       "      <td>0.000000</td>\n",
       "    </tr>\n",
       "    <tr>\n",
       "      <th>79456</th>\n",
       "      <td>79456</td>\n",
       "      <td>0.000000</td>\n",
       "    </tr>\n",
       "    <tr>\n",
       "      <th>79763</th>\n",
       "      <td>79763</td>\n",
       "      <td>0.000000</td>\n",
       "    </tr>\n",
       "    <tr>\n",
       "      <th>79919</th>\n",
       "      <td>79919</td>\n",
       "      <td>0.000000</td>\n",
       "    </tr>\n",
       "    <tr>\n",
       "      <th>126677</th>\n",
       "      <td>126677</td>\n",
       "      <td>0.000000</td>\n",
       "    </tr>\n",
       "  </tbody>\n",
       "</table>\n",
       "<p>126146 rows × 2 columns</p>\n",
       "</div>"
      ],
      "text/plain": [
       "         label  betweenness\n",
       "id                         \n",
       "77580    77580     0.213117\n",
       "78746    78746     0.211596\n",
       "78261    78261     0.206446\n",
       "77901    77901     0.206056\n",
       "78026    78026     0.205337\n",
       "...        ...          ...\n",
       "79419    79419     0.000000\n",
       "79456    79456     0.000000\n",
       "79763    79763     0.000000\n",
       "79919    79919     0.000000\n",
       "126677  126677     0.000000\n",
       "\n",
       "[126146 rows x 2 columns]"
      ]
     },
     "execution_count": 4,
     "metadata": {},
     "output_type": "execute_result"
    }
   ],
   "source": [
    "data = gt_data(g).sort_values(by=\"betweenness\", ascending=False)\n",
    "data"
   ]
  },
  {
   "cell_type": "markdown",
   "id": "6af34c9d",
   "metadata": {},
   "source": [
    "<h3>b. Chamando o método vertex_scale da netpixi para usar a métrica como referência para os tamanhos dos vértices</h3>"
   ]
  },
  {
   "cell_type": "code",
   "execution_count": 7,
   "id": "acb94cb8",
   "metadata": {},
   "outputs": [
    {
     "data": {
      "text/html": [
       "\n",
       "        <div id=\"APrP928fs2LCu6v6HbaYBD\"></div>\n",
       "        <script>netpixi.render('APrP928fs2LCu6v6HbaYBD', 'graph_betweeness_component_menor.net.gz', 1.7777777777777777, true, true, false);</script>\n",
       "    "
      ],
      "text/plain": [
       "<IPython.core.display.HTML object>"
      ]
     },
     "metadata": {},
     "output_type": "display_data"
    }
   ],
   "source": [
    "r = netpixi.render('graph_betweeness_component_menor.net.gz', infinite=True)"
   ]
  },
  {
   "cell_type": "code",
   "execution_count": 8,
   "id": "5f2c19c6",
   "metadata": {},
   "outputs": [
    {
     "data": {
      "text/html": [
       "\n",
       "        <div id=\"5bTzEGHdFei8mxsuGESTLm\"></div>\n",
       "        <script>netpixi.call('5bTzEGHdFei8mxsuGESTLm', 'APrP928fs2LCu6v6HbaYBD', 'normalizeGraph', 'eyJ0eXBlIjogInZlcnRleCIsICJwcm9wcyI6IHsic3JjIjogImJldHdlZW5uZXNzIiwgIm1pbiI6IDEwLCAibWF4IjogNTB9fQo=');</script>\n",
       "    "
      ],
      "text/plain": [
       "<IPython.core.display.HTML object>"
      ]
     },
     "metadata": {},
     "output_type": "display_data"
    }
   ],
   "source": [
    "r.vertex_scale('betweenness', 10, 50)"
   ]
  },
  {
   "cell_type": "markdown",
   "id": "615cb4b0",
   "metadata": {},
   "source": [
    "<h3>c. Salvando uma imagem que mostre com clareza essas diferenças de tamanho</h3>"
   ]
  },
  {
   "cell_type": "markdown",
   "id": "dd54075b",
   "metadata": {},
   "source": [
    "<h3>d.1. A métrica representa algum conceito? Se sim, qual?</h3>"
   ]
  },
  {
   "cell_type": "markdown",
   "id": "5e97f082",
   "metadata": {},
   "source": [
    "A métrica representa a soma das proporções de geodésicas que passam pelo nosso vértice. Uma geodésica de um vértice X para um vértice Y é o caminho de menor comprimento possível. No caso da nossa rede, um vértice com um betweenness alto representa uma rua de posição central na infraestrutura como avenidas, já que, pela sua centralidade ela fica relativamente próxima de todas as outras ruas, sendo necessário que passem por elas."
   ]
  },
  {
   "cell_type": "markdown",
   "id": "e71f2056",
   "metadata": {},
   "source": [
    "<h3>d.2. Os maiores vértices (considerando a tarefa 6b) parecem estar em posições interessantes? Quais?</h3>"
   ]
  },
  {
   "cell_type": "markdown",
   "id": "4c3c8b82",
   "metadata": {},
   "source": [
    "Os maiores vértices da visualização do grafo encontram-se nas fronteiras laterais e percorrendo canais centrais no grafo, assemelhando-se às veias do corpo humano se ramificando à outras veias/vasos."
   ]
  },
  {
   "cell_type": "markdown",
   "id": "fa59c6dd",
   "metadata": {},
   "source": [
    "<h2>Centralidade Closeness</h2>"
   ]
  },
  {
   "cell_type": "markdown",
   "id": "d98ca9d3",
   "metadata": {},
   "source": [
    "<h3>a. Calculando a Métrica</h3>"
   ]
  },
  {
   "cell_type": "code",
   "execution_count": 10,
   "id": "7ab6fb35",
   "metadata": {},
   "outputs": [],
   "source": [
    "from graph_tool import centrality\n",
    "g = gt_load(\"graph_us_roads_component.net.gz\")\n",
    "g_menor = gt_load(\"graph_us_roads_component_menor.net.gz\")\n",
    "\n",
    "cc = centrality.closeness(g)\n",
    "cc_menor = centrality.closeness(g_menor)"
   ]
  },
  {
   "cell_type": "code",
   "execution_count": 11,
   "id": "28d509f1",
   "metadata": {},
   "outputs": [],
   "source": [
    "hcc = centrality.closeness(g, harmonic=True)"
   ]
  },
  {
   "cell_type": "code",
   "execution_count": 39,
   "id": "98056a13",
   "metadata": {},
   "outputs": [],
   "source": [
    "g.add_vp('closeness', cc)\n",
    "g_menor.add_vp('closeness', cc_menor)"
   ]
  },
  {
   "cell_type": "code",
   "execution_count": 40,
   "id": "0f952abf",
   "metadata": {},
   "outputs": [],
   "source": [
    "gt_save(g_menor, 'graph_closeness_component_menor.net.gz')\n",
    "gt_save(g, 'graph_closeness_component.net.gz')"
   ]
  },
  {
   "cell_type": "code",
   "execution_count": 12,
   "id": "63a2ba2b",
   "metadata": {},
   "outputs": [],
   "source": [
    "g = gt_load('graph_closeness_component.net.gz')"
   ]
  },
  {
   "cell_type": "code",
   "execution_count": 13,
   "id": "bc361adf",
   "metadata": {},
   "outputs": [
    {
     "data": {
      "text/html": [
       "<div>\n",
       "<style scoped>\n",
       "    .dataframe tbody tr th:only-of-type {\n",
       "        vertical-align: middle;\n",
       "    }\n",
       "\n",
       "    .dataframe tbody tr th {\n",
       "        vertical-align: top;\n",
       "    }\n",
       "\n",
       "    .dataframe thead th {\n",
       "        text-align: right;\n",
       "    }\n",
       "</style>\n",
       "<table border=\"1\" class=\"dataframe\">\n",
       "  <thead>\n",
       "    <tr style=\"text-align: right;\">\n",
       "      <th></th>\n",
       "      <th>label</th>\n",
       "      <th>closeness</th>\n",
       "    </tr>\n",
       "    <tr>\n",
       "      <th>id</th>\n",
       "      <th></th>\n",
       "      <th></th>\n",
       "    </tr>\n",
       "  </thead>\n",
       "  <tbody>\n",
       "    <tr>\n",
       "      <th>78122</th>\n",
       "      <td>78122</td>\n",
       "      <td>0.006371</td>\n",
       "    </tr>\n",
       "    <tr>\n",
       "      <th>78088</th>\n",
       "      <td>78088</td>\n",
       "      <td>0.006367</td>\n",
       "    </tr>\n",
       "    <tr>\n",
       "      <th>78108</th>\n",
       "      <td>78108</td>\n",
       "      <td>0.006365</td>\n",
       "    </tr>\n",
       "    <tr>\n",
       "      <th>78155</th>\n",
       "      <td>78155</td>\n",
       "      <td>0.006364</td>\n",
       "    </tr>\n",
       "    <tr>\n",
       "      <th>77470</th>\n",
       "      <td>77470</td>\n",
       "      <td>0.006362</td>\n",
       "    </tr>\n",
       "    <tr>\n",
       "      <th>...</th>\n",
       "      <td>...</td>\n",
       "      <td>...</td>\n",
       "    </tr>\n",
       "    <tr>\n",
       "      <th>36458</th>\n",
       "      <td>36458</td>\n",
       "      <td>0.002923</td>\n",
       "    </tr>\n",
       "    <tr>\n",
       "      <th>29963</th>\n",
       "      <td>29963</td>\n",
       "      <td>0.002920</td>\n",
       "    </tr>\n",
       "    <tr>\n",
       "      <th>35589</th>\n",
       "      <td>35589</td>\n",
       "      <td>0.002915</td>\n",
       "    </tr>\n",
       "    <tr>\n",
       "      <th>36468</th>\n",
       "      <td>36468</td>\n",
       "      <td>0.002915</td>\n",
       "    </tr>\n",
       "    <tr>\n",
       "      <th>37172</th>\n",
       "      <td>37172</td>\n",
       "      <td>0.002915</td>\n",
       "    </tr>\n",
       "  </tbody>\n",
       "</table>\n",
       "<p>126146 rows × 2 columns</p>\n",
       "</div>"
      ],
      "text/plain": [
       "       label  closeness\n",
       "id                     \n",
       "78122  78122   0.006371\n",
       "78088  78088   0.006367\n",
       "78108  78108   0.006365\n",
       "78155  78155   0.006364\n",
       "77470  77470   0.006362\n",
       "...      ...        ...\n",
       "36458  36458   0.002923\n",
       "29963  29963   0.002920\n",
       "35589  35589   0.002915\n",
       "36468  36468   0.002915\n",
       "37172  37172   0.002915\n",
       "\n",
       "[126146 rows x 2 columns]"
      ]
     },
     "execution_count": 13,
     "metadata": {},
     "output_type": "execute_result"
    }
   ],
   "source": [
    "data = gt_data(g).sort_values(by=\"closeness\", ascending=False)\n",
    "data"
   ]
  },
  {
   "cell_type": "markdown",
   "id": "71c5426b",
   "metadata": {},
   "source": [
    "<h3>b. Chamando o método vertex_scale da netpixi para usar a métrica como referência para os tamanhos dos vértices</h3>"
   ]
  },
  {
   "cell_type": "code",
   "execution_count": 14,
   "id": "b8d3239f",
   "metadata": {},
   "outputs": [
    {
     "data": {
      "text/html": [
       "\n",
       "        <div id=\"knf27mCYGMQZh8huZ6JzcR\"></div>\n",
       "        <script>netpixi.render('knf27mCYGMQZh8huZ6JzcR', 'graph_closeness_component_menor.net.gz', 1.7777777777777777, true, true, false);</script>\n",
       "    "
      ],
      "text/plain": [
       "<IPython.core.display.HTML object>"
      ]
     },
     "metadata": {},
     "output_type": "display_data"
    }
   ],
   "source": [
    "r = netpixi.render('graph_closeness_component_menor.net.gz', infinite=True)"
   ]
  },
  {
   "cell_type": "code",
   "execution_count": 15,
   "id": "b291ea26",
   "metadata": {},
   "outputs": [
    {
     "data": {
      "text/html": [
       "\n",
       "        <div id=\"f8uNEiZHPj4JzzgDU4U5aZ\"></div>\n",
       "        <script>netpixi.call('f8uNEiZHPj4JzzgDU4U5aZ', 'knf27mCYGMQZh8huZ6JzcR', 'normalizeGraph', 'eyJ0eXBlIjogInZlcnRleCIsICJwcm9wcyI6IHsic3JjIjogImNsb3NlbmVzcyIsICJtaW4iOiAxMCwgIm1heCI6IDUwfX0K');</script>\n",
       "    "
      ],
      "text/plain": [
       "<IPython.core.display.HTML object>"
      ]
     },
     "metadata": {},
     "output_type": "display_data"
    }
   ],
   "source": [
    "r.vertex_scale('closeness', 10, 50)"
   ]
  },
  {
   "cell_type": "markdown",
   "id": "d796edc1",
   "metadata": {},
   "source": [
    "<h3>c. Salvando uma imagem que mostre com clareza essas diferenças de tamanho</h3>"
   ]
  },
  {
   "cell_type": "markdown",
   "id": "e2ac963f",
   "metadata": {},
   "source": [
    "<h3>d.1. A métrica representa algum conceito? Se sim, qual?</h3>"
   ]
  },
  {
   "cell_type": "markdown",
   "id": "b07a2b43",
   "metadata": {},
   "source": [
    "A métrica closeness representa a proximidade de um vértice a todos os outros, lembrando que no grafo proxímidade entre vértices não representam necessáriamente distâncias físicas, apenas quantos vértices são necessários ser percorridos. No caso do grafo das ruas estadunidenses ele representa a quantidade de ruas que é necessário atravessar para acessar todas as outras."
   ]
  },
  {
   "cell_type": "markdown",
   "id": "4268c07d",
   "metadata": {},
   "source": [
    "<h3>d.2. Os maiores vértices (considerando a tarefa 6b) parecem estar em posições interessantes? Quais?</h3>"
   ]
  },
  {
   "cell_type": "markdown",
   "id": "fede279e",
   "metadata": {},
   "source": [
    "Não, devido a a os valores altos serem muito prominentes e muito similares não é possível distinguir posições interessantes. Embora os vértices menores parecem se encontrar em posições mais remotas em apêndices do grafo, possívelemente representando ruas mais isoladas."
   ]
  },
  {
   "cell_type": "markdown",
   "id": "acd41af8",
   "metadata": {},
   "source": [
    "<h2>Clustering Coefficient</h2>"
   ]
  },
  {
   "cell_type": "markdown",
   "id": "e54d3aa2",
   "metadata": {},
   "source": [
    "<h3>a. Calculando a Métrica</h3>"
   ]
  },
  {
   "cell_type": "code",
   "execution_count": 43,
   "id": "04f44e64",
   "metadata": {},
   "outputs": [],
   "source": [
    "from graph_tool import clustering\n",
    "g = gt_load(\"graph_us_roads_component.net.gz\")\n",
    "g_menor = gt_load(\"graph_us_roads_component_menor.net.gz\")\n",
    "\n",
    "lc = clustering.local_clustering(g)\n",
    "lc_menor = clustering.local_clustering(g_menor)"
   ]
  },
  {
   "cell_type": "code",
   "execution_count": 44,
   "id": "f6d4cd7a",
   "metadata": {},
   "outputs": [],
   "source": [
    "g.add_vp('clustering', lc)\n",
    "g_menor.add_vp('clustering', lc_menor)"
   ]
  },
  {
   "cell_type": "code",
   "execution_count": 45,
   "id": "c807d47d",
   "metadata": {},
   "outputs": [],
   "source": [
    "gt_save(g_menor, 'graph_clustering_component_menor.net.gz')\n",
    "gt_save(g, 'graph_clustering_component.net.gz')"
   ]
  },
  {
   "cell_type": "code",
   "execution_count": null,
   "id": "6ad182d0",
   "metadata": {},
   "outputs": [],
   "source": [
    "g = gt_load('graph_clustering_component.net.gz')"
   ]
  },
  {
   "cell_type": "code",
   "execution_count": null,
   "id": "f3921791",
   "metadata": {},
   "outputs": [],
   "source": [
    "data = gt_data(g).sort_values(by=\"clustering\", ascending=False)\n",
    "data"
   ]
  },
  {
   "cell_type": "markdown",
   "id": "27a4c8fe",
   "metadata": {},
   "source": [
    "<h3>b. Chamando o método vertex_scale da netpixi para usar a métrica como referência para os tamanhos dos vértices</h3>"
   ]
  },
  {
   "cell_type": "code",
   "execution_count": 16,
   "id": "99687588",
   "metadata": {},
   "outputs": [
    {
     "data": {
      "text/html": [
       "\n",
       "        <div id=\"ThZe2tYct5ubXGYNsKvmKo\"></div>\n",
       "        <script>netpixi.render('ThZe2tYct5ubXGYNsKvmKo', 'graph_clustering_component_menor.net.gz', 1.7777777777777777, true, true, false);</script>\n",
       "    "
      ],
      "text/plain": [
       "<IPython.core.display.HTML object>"
      ]
     },
     "metadata": {},
     "output_type": "display_data"
    }
   ],
   "source": [
    "r = netpixi.render('graph_clustering_component_menor.net.gz', infinite=True)"
   ]
  },
  {
   "cell_type": "code",
   "execution_count": 17,
   "id": "da974778",
   "metadata": {},
   "outputs": [
    {
     "data": {
      "text/html": [
       "\n",
       "        <div id=\"dZUxtUaLWXahyPwhoxzZj8\"></div>\n",
       "        <script>netpixi.call('dZUxtUaLWXahyPwhoxzZj8', 'ThZe2tYct5ubXGYNsKvmKo', 'normalizeGraph', 'eyJ0eXBlIjogInZlcnRleCIsICJwcm9wcyI6IHsic3JjIjogImNsdXN0ZXJpbmciLCAibWluIjogMTAsICJtYXgiOiAzMH19Cg==');</script>\n",
       "    "
      ],
      "text/plain": [
       "<IPython.core.display.HTML object>"
      ]
     },
     "metadata": {},
     "output_type": "display_data"
    }
   ],
   "source": [
    "r.vertex_scale('clustering', 10, 30)"
   ]
  },
  {
   "cell_type": "markdown",
   "id": "9efc1d60",
   "metadata": {},
   "source": [
    "<h3>c. Salvando uma imagem que mostre com clareza essas diferenças de tamanho</h3>"
   ]
  },
  {
   "cell_type": "markdown",
   "id": "f42ca642",
   "metadata": {},
   "source": [
    "<h3>d.1. A métrica representa algum conceito? Se sim, qual?</h3>"
   ]
  },
  {
   "cell_type": "markdown",
   "id": "6d306285",
   "metadata": {},
   "source": [
    "Sim, o conceito de redundância parece se encaixar bem com o clustering coeficient do nosso grafo, já que ele pode representar quantos caminhos diferentes existem para chegar em um mesmo lugar dentro de um conjunto de ruas vizinhas."
   ]
  },
  {
   "cell_type": "markdown",
   "id": "410a1ae9",
   "metadata": {},
   "source": [
    "<h3>d.2. Os maiores vértices (considerando a tarefa 6b) parecem estar em posições interessantes? Quais?</h3>"
   ]
  },
  {
   "cell_type": "markdown",
   "id": "bc95e7a4",
   "metadata": {},
   "source": [
    "Não parecem estar em posições interessantes já que não estão em nenhum centro de aglomeração entre ruas."
   ]
  },
  {
   "cell_type": "markdown",
   "id": "e6793445",
   "metadata": {},
   "source": [
    "<h2>Lacuas Estruturais</h2>"
   ]
  },
  {
   "cell_type": "markdown",
   "id": "f65f5bf5",
   "metadata": {},
   "source": [
    "<h3>a. Calculando a Métrica</h3>"
   ]
  },
  {
   "cell_type": "code",
   "execution_count": 48,
   "id": "edb1c9c1",
   "metadata": {},
   "outputs": [],
   "source": [
    "g = gt_load(\"graph_us_roads_component.net.gz\")\n",
    "g_menor = gt_load(\"graph_us_roads_component_menor.net.gz\")\n",
    "\n",
    "es = gt_effective_size(g)\n",
    "es_menor = gt_effective_size(g_menor)"
   ]
  },
  {
   "cell_type": "code",
   "execution_count": 49,
   "id": "d8cb451e",
   "metadata": {},
   "outputs": [],
   "source": [
    "g.add_vp('effsize', es)\n",
    "g_menor.add_vp('effsize', es_menor)"
   ]
  },
  {
   "cell_type": "code",
   "execution_count": 50,
   "id": "1aecd94b",
   "metadata": {},
   "outputs": [],
   "source": [
    "gt_save(g_menor, 'graph_effective_size_component_menor.net.gz')\n",
    "gt_save(g, 'graph_effective_size_component.net.gz')"
   ]
  },
  {
   "cell_type": "code",
   "execution_count": null,
   "id": "bafad098",
   "metadata": {},
   "outputs": [],
   "source": [
    "gt_loadt_load('graph_effective_size_component.net.gz')"
   ]
  },
  {
   "cell_type": "code",
   "execution_count": null,
   "id": "c0e300e9",
   "metadata": {},
   "outputs": [],
   "source": [
    "data = gt_data(g).sort_values(by=\"effsize\", ascending=False)\n",
    "data"
   ]
  },
  {
   "cell_type": "markdown",
   "id": "d09bbb62",
   "metadata": {},
   "source": [
    "<h3>b. Chamando o método vertex_scale da netpixi para usar a métrica como referência para os tamanhos dos vértices</h3>"
   ]
  },
  {
   "cell_type": "code",
   "execution_count": 18,
   "id": "ed72449d",
   "metadata": {},
   "outputs": [
    {
     "data": {
      "text/html": [
       "\n",
       "        <div id=\"L9e7DKRDqupQnztcMGGa4y\"></div>\n",
       "        <script>netpixi.render('L9e7DKRDqupQnztcMGGa4y', 'graph_effective_size_component_menor.net.gz', 1.7777777777777777, true, true, false);</script>\n",
       "    "
      ],
      "text/plain": [
       "<IPython.core.display.HTML object>"
      ]
     },
     "metadata": {},
     "output_type": "display_data"
    }
   ],
   "source": [
    "r = netpixi.render('graph_effective_size_component_menor.net.gz', infinite=True)"
   ]
  },
  {
   "cell_type": "code",
   "execution_count": 19,
   "id": "ca0fc38a",
   "metadata": {},
   "outputs": [
    {
     "data": {
      "text/html": [
       "\n",
       "        <div id=\"fEF73BtTPYsANRqE6VNL5Z\"></div>\n",
       "        <script>netpixi.call('fEF73BtTPYsANRqE6VNL5Z', 'L9e7DKRDqupQnztcMGGa4y', 'normalizeGraph', 'eyJ0eXBlIjogInZlcnRleCIsICJwcm9wcyI6IHsic3JjIjogImVmZnNpemUiLCAibWluIjogMTAsICJtYXgiOiAzMH19Cg==');</script>\n",
       "    "
      ],
      "text/plain": [
       "<IPython.core.display.HTML object>"
      ]
     },
     "metadata": {},
     "output_type": "display_data"
    }
   ],
   "source": [
    "r.vertex_scale('effsize', 10, 30)"
   ]
  },
  {
   "cell_type": "markdown",
   "id": "051201aa",
   "metadata": {},
   "source": [
    "<h3>c. Salvando uma imagem que mostre com clareza essas diferenças de tamanho</h3>"
   ]
  },
  {
   "cell_type": "markdown",
   "id": "6bfd0a38",
   "metadata": {},
   "source": [
    "<h3>d.1. A métrica representa algum conceito? Se sim, qual?</h3>"
   ]
  },
  {
   "cell_type": "markdown",
   "id": "b838e2c5",
   "metadata": {},
   "source": [
    "Sim, parecem representar o inverso da redundância, ou seja, quanto mais eficiente é o caminho entre dois vértices, maior a lacuna estrutural. Para o nosso caso, quanto maior a lacuna estrutural de uma rua, menos caminhos existem para acessar esta rua a partir de um vértice vizinho."
   ]
  },
  {
   "cell_type": "markdown",
   "id": "7e971817",
   "metadata": {},
   "source": [
    "<h3>d.2. Os maiores vértices (considerando a tarefa 6b) parecem estar em posições interessantes? Quais?</h3>"
   ]
  },
  {
   "cell_type": "markdown",
   "id": "9da0356d",
   "metadata": {},
   "source": [
    "Não parecem estar em posições interessantes, já que não observamos nenhum tipo de padrão que nos chamou a atenção."
   ]
  },
  {
   "cell_type": "markdown",
   "id": "1c0289ec",
   "metadata": {},
   "source": [
    "<h3>Referências e reconhecimento<h3>"
   ]
  },
  {
   "cell_type": "markdown",
   "id": "2f09bd2c",
   "metadata": {},
   "source": [
    "@inproceedings{nr,\n",
    "     title={The Network Data Repository with Interactive Graph Analytics and Visualization},\n",
    "     author={Ryan A. Rossi and Nesreen K. Ahmed},\n",
    "     booktitle={AAAI},\n",
    "     url={https://networkrepository.com},\n",
    "     year={2015}\n",
    "}\n",
    "\n",
    "Link: https://networkrepository.com/road-usroads.php"
   ]
  },
  {
   "cell_type": "code",
   "execution_count": null,
   "id": "b6ef408b",
   "metadata": {},
   "outputs": [],
   "source": []
  }
 ],
 "metadata": {
  "kernelspec": {
   "display_name": "Python 3.10.6 64-bit",
   "language": "python",
   "name": "python3"
  },
  "language_info": {
   "codemirror_mode": {
    "name": "ipython",
    "version": 3
   },
   "file_extension": ".py",
   "mimetype": "text/x-python",
   "name": "python",
   "nbconvert_exporter": "python",
   "pygments_lexer": "ipython3",
   "version": "3.10.6"
  },
  "vscode": {
   "interpreter": {
    "hash": "b0fa6594d8f4cbf19f97940f81e996739fb7646882a419484c72d19e05852a7e"
   }
  }
 },
 "nbformat": 4,
 "nbformat_minor": 5
}
