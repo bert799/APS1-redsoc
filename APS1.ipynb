{
 "cells": [
  {
   "cell_type": "code",
   "execution_count": 70,
   "id": "fcb582ea",
   "metadata": {},
   "outputs": [],
   "source": [
    "#Importando bibliotecas para análise de grafos\n",
    "\n",
    "import netpixi\n",
    "import seaborn\n",
    "from netpixi.integration.gt import *\n",
    "from regression.integration.gt import *\n",
    "\n",
    "graph_usRoads = Graph(directed=False) # não-dirigido"
   ]
  },
  {
   "cell_type": "markdown",
   "id": "5c61398f",
   "metadata": {},
   "source": [
    "Leitura do arquivo para a geração do grafo"
   ]
  },
  {
   "cell_type": "code",
   "execution_count": 71,
   "id": "ab255a7c",
   "metadata": {},
   "outputs": [
    {
     "name": "stdout",
     "output_type": "stream",
     "text": [
      "número de vértices de graph_usRoads: 129164\n",
      "número de arestas de graph_usRoads: 165435\n"
     ]
    }
   ],
   "source": [
    "with open('./road-usroads.mtx') as file:\n",
    "    #Pula primeiras 14 linhas para chegar nas linhas com os dados do grafo\n",
    "    for _ in range(14):\n",
    "        next(file)\n",
    "    graph_data = file.readline().split()\n",
    "    n_nodes = int(graph_data[0])\n",
    "    n_edges = int(graph_data[2])\n",
    "    for i in range(n_nodes):\n",
    "        graph_usRoads.add_vertex(i+1)\n",
    "    print('número de vértices de graph_usRoads:', graph_usRoads.num_vertices())\n",
    "    for edges in file:\n",
    "        edge_data = edges.split()\n",
    "        graph_usRoads.add_edge(int(edge_data[0]), int(edge_data[1]))\n",
    "    print('número de arestas de graph_usRoads:', graph_usRoads.num_edges())"
   ]
  },
  {
   "cell_type": "code",
   "execution_count": 72,
   "id": "58a13aa3",
   "metadata": {},
   "outputs": [
    {
     "name": "stdout",
     "output_type": "stream",
     "text": [
      "A densidade do grafo é: 1.9832514564949666e-05\n"
     ]
    }
   ],
   "source": [
    "n = graph_usRoads.num_vertices()\n",
    "m = graph_usRoads.num_edges()\n",
    "\n",
    "#Como sabemos que nosso grafo não é dirigido, podemos usar esta fórmula\n",
    "max_edges = n * (n - 1) // 2\n",
    "d = m / max_edges\n",
    "print('A densidade do grafo é:', d)"
   ]
  },
  {
   "cell_type": "code",
   "execution_count": 73,
   "id": "7ec566e5",
   "metadata": {},
   "outputs": [],
   "source": [
    "data = gt_data(graph_usRoads)"
   ]
  },
  {
   "cell_type": "code",
   "execution_count": 74,
   "id": "76227ab5",
   "metadata": {},
   "outputs": [
    {
     "data": {
      "text/html": [
       "<div>\n",
       "<style scoped>\n",
       "    .dataframe tbody tr th:only-of-type {\n",
       "        vertical-align: middle;\n",
       "    }\n",
       "\n",
       "    .dataframe tbody tr th {\n",
       "        vertical-align: top;\n",
       "    }\n",
       "\n",
       "    .dataframe thead th {\n",
       "        text-align: right;\n",
       "    }\n",
       "</style>\n",
       "<table border=\"1\" class=\"dataframe\">\n",
       "  <thead>\n",
       "    <tr style=\"text-align: right;\">\n",
       "      <th></th>\n",
       "      <th>in_degree</th>\n",
       "      <th>out_degree</th>\n",
       "      <th>degree</th>\n",
       "    </tr>\n",
       "    <tr>\n",
       "      <th>id</th>\n",
       "      <th></th>\n",
       "      <th></th>\n",
       "      <th></th>\n",
       "    </tr>\n",
       "  </thead>\n",
       "  <tbody>\n",
       "    <tr>\n",
       "      <th>1</th>\n",
       "      <td>0</td>\n",
       "      <td>1</td>\n",
       "      <td>1</td>\n",
       "    </tr>\n",
       "    <tr>\n",
       "      <th>2</th>\n",
       "      <td>0</td>\n",
       "      <td>3</td>\n",
       "      <td>3</td>\n",
       "    </tr>\n",
       "    <tr>\n",
       "      <th>3</th>\n",
       "      <td>0</td>\n",
       "      <td>1</td>\n",
       "      <td>1</td>\n",
       "    </tr>\n",
       "    <tr>\n",
       "      <th>4</th>\n",
       "      <td>0</td>\n",
       "      <td>3</td>\n",
       "      <td>3</td>\n",
       "    </tr>\n",
       "    <tr>\n",
       "      <th>5</th>\n",
       "      <td>0</td>\n",
       "      <td>1</td>\n",
       "      <td>1</td>\n",
       "    </tr>\n",
       "    <tr>\n",
       "      <th>...</th>\n",
       "      <td>...</td>\n",
       "      <td>...</td>\n",
       "      <td>...</td>\n",
       "    </tr>\n",
       "    <tr>\n",
       "      <th>129160</th>\n",
       "      <td>0</td>\n",
       "      <td>3</td>\n",
       "      <td>3</td>\n",
       "    </tr>\n",
       "    <tr>\n",
       "      <th>129161</th>\n",
       "      <td>0</td>\n",
       "      <td>2</td>\n",
       "      <td>2</td>\n",
       "    </tr>\n",
       "    <tr>\n",
       "      <th>129162</th>\n",
       "      <td>0</td>\n",
       "      <td>2</td>\n",
       "      <td>2</td>\n",
       "    </tr>\n",
       "    <tr>\n",
       "      <th>129163</th>\n",
       "      <td>0</td>\n",
       "      <td>1</td>\n",
       "      <td>1</td>\n",
       "    </tr>\n",
       "    <tr>\n",
       "      <th>129164</th>\n",
       "      <td>0</td>\n",
       "      <td>1</td>\n",
       "      <td>1</td>\n",
       "    </tr>\n",
       "  </tbody>\n",
       "</table>\n",
       "<p>129164 rows × 3 columns</p>\n",
       "</div>"
      ],
      "text/plain": [
       "        in_degree  out_degree  degree\n",
       "id                                   \n",
       "1               0           1       1\n",
       "2               0           3       3\n",
       "3               0           1       1\n",
       "4               0           3       3\n",
       "5               0           1       1\n",
       "...           ...         ...     ...\n",
       "129160          0           3       3\n",
       "129161          0           2       2\n",
       "129162          0           2       2\n",
       "129163          0           1       1\n",
       "129164          0           1       1\n",
       "\n",
       "[129164 rows x 3 columns]"
      ]
     },
     "execution_count": 74,
     "metadata": {},
     "output_type": "execute_result"
    }
   ],
   "source": [
    "in_degrees = []\n",
    "for v in graph_usRoads.all_vertices():\n",
    "    in_degrees.append(v.in_degree())\n",
    "\n",
    "out_degrees = []\n",
    "for v in graph_usRoads.all_vertices():\n",
    "    out_degrees.append(v.out_degree())\n",
    "\n",
    "degrees = []\n",
    "for v in graph_usRoads.all_vertices():\n",
    "    degrees.append(v.total_degree())\n",
    "    \n",
    "data['in_degree'] = in_degrees\n",
    "data['out_degree'] = out_degrees\n",
    "data['degree'] = degrees\n",
    "data"
   ]
  },
  {
   "cell_type": "code",
   "execution_count": 75,
   "id": "30200969",
   "metadata": {},
   "outputs": [
    {
     "data": {
      "text/plain": [
       "count    129164.0\n",
       "mean          0.0\n",
       "std           0.0\n",
       "min           0.0\n",
       "25%           0.0\n",
       "50%           0.0\n",
       "75%           0.0\n",
       "max           0.0\n",
       "Name: in_degree, dtype: float64"
      ]
     },
     "execution_count": 75,
     "metadata": {},
     "output_type": "execute_result"
    },
    {
     "data": {
      "image/png": "[encoded data removed]",
      "text/plain": [
       "<Figure size 640x480 with 1 Axes>"
      ]
     },
     "metadata": {},
     "output_type": "display_data"
    }
   ],
   "source": [
    "data['in_degree'].hist(bins=range(5))\n",
    "data['in_degree'].describe()"
   ]
  },
  {
   "cell_type": "code",
   "execution_count": 76,
   "id": "df6ccfcf",
   "metadata": {},
   "outputs": [
    {
     "data": {
      "text/plain": [
       "count    129164.000000\n",
       "mean          2.561627\n",
       "std           0.784018\n",
       "min           1.000000\n",
       "25%           2.000000\n",
       "50%           2.000000\n",
       "75%           3.000000\n",
       "max           7.000000\n",
       "Name: out_degree, dtype: float64"
      ]
     },
     "execution_count": 76,
     "metadata": {},
     "output_type": "execute_result"
    },
    {
     "data": {
      "image/png": "[encoded data removed]",
      "text/plain": [
       "<Figure size 640x480 with 1 Axes>"
      ]
     },
     "metadata": {},
     "output_type": "display_data"
    }
   ],
   "source": [
    "data['out_degree'].hist(bins=range(10))\n",
    "data['out_degree'].describe()"
   ]
  },
  {
   "cell_type": "code",
   "execution_count": 77,
   "id": "ea0708c6",
   "metadata": {},
   "outputs": [
    {
     "data": {
      "text/plain": [
       "count    129164.000000\n",
       "mean          2.561627\n",
       "std           0.784018\n",
       "min           1.000000\n",
       "25%           2.000000\n",
       "50%           2.000000\n",
       "75%           3.000000\n",
       "max           7.000000\n",
       "Name: degree, dtype: float64"
      ]
     },
     "execution_count": 77,
     "metadata": {},
     "output_type": "execute_result"
    },
    {
     "data": {
      "image/png": "[encoded data removed]",
      "text/plain": [
       "<Figure size 640x480 with 1 Axes>"
      ]
     },
     "metadata": {},
     "output_type": "display_data"
    }
   ],
   "source": [
    "data['degree'].hist(bins=range(10))\n",
    "data['degree'].describe()"
   ]
  },
  {
   "cell_type": "code",
   "execution_count": 79,
   "id": "68ed53a1",
   "metadata": {},
   "outputs": [
    {
     "name": "stdout",
     "output_type": "stream",
     "text": [
      "número de vértices de graph_usRoads: 129164\n",
      "número de arestas de graph_usRoads: 165435\n"
     ]
    }
   ],
   "source": [
    "print('número de vértices de graph_usRoads:', graph_usRoads.num_vertices())\n",
    "print('número de arestas de graph_usRoads:', graph_usRoads.num_edges())"
   ]
  },
  {
   "cell_type": "code",
   "execution_count": 80,
   "id": "3e58dc79",
   "metadata": {},
   "outputs": [],
   "source": [
    "gt_save(graph_usRoads, 'graphUsRoads.net.gz')"
   ]
  },
  {
   "cell_type": "code",
   "execution_count": 81,
   "id": "01a1cf46",
   "metadata": {},
   "outputs": [
    {
     "data": {
      "text/html": [
       "\n",
       "        <div id=\"UhLdq4Sfbj8Vvpx9eK7ueY\"></div>\n",
       "        <script>netpixi.render('UhLdq4Sfbj8Vvpx9eK7ueY', 'exemplo.net.gz', 1.7777777777777777, true, false, false);</script>\n",
       "    "
      ],
      "text/plain": [
       "<IPython.core.display.HTML object>"
      ]
     },
     "metadata": {},
     "output_type": "display_data"
    }
   ],
   "source": [
    "g = gt_load('./graphUsRoads.net.gz')\n",
    "m = gt_draw.sfdp_layout(g)\n",
    "gt_move(g, m)\n",
    "gt_save(g, 'sfdp.net.gz')\n",
    "netpixi.render('sfdp.net.gz');"
   ]
  },
  {
   "cell_type": "code",
   "execution_count": null,
   "id": "a22baabc",
   "metadata": {},
   "outputs": [],
   "source": [
    "g = gt_load('./graphUsRoads.net.gz')\n",
    "m = gt_draw.fruchterman_reingold_layout(g)\n",
    "gt_move(g, m)\n",
    "gt_save(g, 'fruchterman_reingold_layout.net.gz')\n",
    "netpixi.render('fruchterman_reingold_layout.net.gz');"
   ]
  },
  {
   "cell_type": "code",
   "execution_count": null,
   "id": "13103b73",
   "metadata": {},
   "outputs": [],
   "source": [
    "g = gt_load('./graphUsRoads.net.gz')\n",
    "m = gt_draw.arf_layout(g)\n",
    "gt_move(g, m)\n",
    "gt_save(g, 'arf_layout.net.gz')\n",
    "netpixi.render('arf_layout.net.gz');"
   ]
  },
  {
   "cell_type": "code",
   "execution_count": null,
   "id": "b9d7b87a",
   "metadata": {},
   "outputs": [],
   "source": [
    "g = gt_load('./graphUsRoads.net.gz')\n",
    "m = gt_draw.radial_tree_layout(g)\n",
    "gt_move(g, m)\n",
    "gt_save(g, 'radial_tree.net.gz')\n",
    "netpixi.render('radial_tree.net.gz');"
   ]
  },
  {
   "cell_type": "code",
   "execution_count": null,
   "id": "a6d025b1",
   "metadata": {},
   "outputs": [],
   "source": []
  }
 ],
 "metadata": {
  "kernelspec": {
   "display_name": "Python 3 (ipykernel)",
   "language": "python",
   "name": "python3"
  },
  "language_info": {
   "codemirror_mode": {
    "name": "ipython",
    "version": 3
   },
   "file_extension": ".py",
   "mimetype": "text/x-python",
   "name": "python",
   "nbconvert_exporter": "python",
   "pygments_lexer": "ipython3",
   "version": "3.10.6"
  }
 },
 "nbformat": 4,
 "nbformat_minor": 5
}
